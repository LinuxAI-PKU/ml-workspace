{
 "cells": [
  {
   "cell_type": "markdown",
   "metadata": {},
   "source": [
    "## LSTM Auto-Encoder-Decoder for Anomaly Detection\n",
    "From (https://gist.github.com/philipperemy/b8a7b7be344e447e7ee6625fe2fdd765)"
   ]
  },
  {
   "cell_type": "code",
   "execution_count": 165,
   "metadata": {},
   "outputs": [],
   "source": [
    "import os\n",
    "\n",
    "import numpy as np\n",
    "from keras.layers import RepeatVector\n",
    "from keras.layers.core import Dropout\n",
    "from keras.layers.recurrent import LSTM\n",
    "from keras.models import Sequential\n",
    "\n",
    "import matplotlib.pyplot as plt\n",
    "%matplotlib inline"
   ]
  },
  {
   "cell_type": "code",
   "execution_count": 166,
   "metadata": {
    "collapsed": true
   },
   "outputs": [],
   "source": [
    "np.random.seed(23)"
   ]
  },
  {
   "cell_type": "code",
   "execution_count": 167,
   "metadata": {
    "collapsed": true
   },
   "outputs": [],
   "source": [
    "window_length = 10\n",
    "sample_size = 100"
   ]
  },
  {
   "cell_type": "code",
   "execution_count": 168,
   "metadata": {
    "collapsed": true
   },
   "outputs": [],
   "source": [
    "signal_train = np.random.normal(loc=0, scale=1, size=(sample_size, 1))"
   ]
  },
  {
   "cell_type": "code",
   "execution_count": 169,
   "metadata": {},
   "outputs": [
    {
     "data": {
      "text/plain": [
       "(100, 1)"
      ]
     },
     "execution_count": 169,
     "metadata": {},
     "output_type": "execute_result"
    }
   ],
   "source": [
    "signal_train.shape"
   ]
  },
  {
   "cell_type": "code",
   "execution_count": 170,
   "metadata": {},
   "outputs": [
    {
     "data": {
      "text/plain": [
       "array([[ 0.66698806],\n",
       "       [ 0.02581308],\n",
       "       [-0.77761941],\n",
       "       [ 0.94863382],\n",
       "       [ 0.70167179],\n",
       "       [-1.05108156],\n",
       "       [-0.36754812],\n",
       "       [-1.13745969],\n",
       "       [-1.32214752],\n",
       "       [ 1.77225828]])"
      ]
     },
     "execution_count": 170,
     "metadata": {},
     "output_type": "execute_result"
    }
   ],
   "source": [
    "signal_train[:10]"
   ]
  },
  {
   "cell_type": "code",
   "execution_count": 171,
   "metadata": {},
   "outputs": [
    {
     "data": {
      "image/png": "[encoded data removed]",
      "text/plain": [
       "<matplotlib.figure.Figure at 0x11bc05c50>"
      ]
     },
     "metadata": {},
     "output_type": "display_data"
    }
   ],
   "source": [
    "plt.hist(signal_train, bins=10, edgecolor='white');"
   ]
  },
  {
   "cell_type": "code",
   "execution_count": 172,
   "metadata": {
    "collapsed": true
   },
   "outputs": [],
   "source": [
    "#signal_train = np.expand_dims(signal_train, axis=1)"
   ]
  },
  {
   "cell_type": "code",
   "execution_count": 173,
   "metadata": {},
   "outputs": [],
   "source": [
    "#signal_train.shape"
   ]
  },
  {
   "cell_type": "markdown",
   "metadata": {},
   "source": [
    "**Generate training data, no outliers:**"
   ]
  },
  {
   "cell_type": "code",
   "execution_count": 174,
   "metadata": {
    "collapsed": true
   },
   "outputs": [],
   "source": [
    "full_train_sequence = signal_train.flatten()"
   ]
  },
  {
   "cell_type": "code",
   "execution_count": 175,
   "metadata": {},
   "outputs": [
    {
     "data": {
      "text/plain": [
       "array([ 0.66698806,  0.02581308, -0.77761941,  0.94863382,  0.70167179,\n",
       "       -1.05108156, -0.36754812, -1.13745969, -1.32214752,  1.77225828,\n",
       "       -0.34745899,  0.67014016,  0.32227152,  0.06034293, -1.04345   ,\n",
       "       -1.00994188,  0.44173637,  1.12887685, -1.83806777, -0.93876863,\n",
       "       -0.20184052,  1.04537128,  0.53816197,  0.81211867,  0.2411063 ,\n",
       "       -0.95250953, -0.13626676,  1.26724821,  0.17363364, -1.22325477,\n",
       "        1.41531998,  0.45771098,  0.72887584,  1.96843473, -0.54778801,\n",
       "       -0.67941827, -2.50623032,  0.14696049,  0.60619549, -0.02253889,\n",
       "        0.01342226,  0.93594489,  0.42062266,  0.41161964, -0.07132392,\n",
       "       -0.04543758,  1.04088597, -0.09403473, -0.42084395, -0.55198856,\n",
       "       -0.12109755,  0.19014136,  0.51213739,  0.13153847, -0.33161712,\n",
       "       -1.63238628,  0.61911407, -0.99257378, -0.16134639,  1.19240433,\n",
       "        0.25073655, -0.81361625,  0.70362363, -0.26814214, -0.48255948,\n",
       "        1.24461048,  0.67686012,  3.18750269, -1.08056475,  0.0102293 ,\n",
       "        0.43782968,  1.32778762, -0.25114503,  1.59311063,  0.17081771,\n",
       "       -0.7092539 , -0.13302459, -0.01735694, -0.10109291, -0.56403963,\n",
       "       -0.1790356 ,  1.01105883,  0.92099584,  1.93308983, -0.79536322,\n",
       "       -1.0115352 ,  2.15077995,  0.42514008,  0.44115151, -0.81743933,\n",
       "        0.43789248,  0.09972328,  0.06540607,  1.22443067, -0.76959905,\n",
       "        0.19211968, -1.72325306,  0.4612592 , -1.08536678,  1.82337823])"
      ]
     },
     "execution_count": 175,
     "metadata": {},
     "output_type": "execute_result"
    }
   ],
   "source": [
    "full_train_sequence"
   ]
  },
  {
   "cell_type": "markdown",
   "metadata": {},
   "source": [
    "**Prepare Sequences: Create windows of 10 data points each**"
   ]
  },
  {
   "cell_type": "code",
   "execution_count": 176,
   "metadata": {
    "collapsed": true
   },
   "outputs": [],
   "source": [
    "train_windows = []"
   ]
  },
  {
   "cell_type": "code",
   "execution_count": 177,
   "metadata": {
    "scrolled": false
   },
   "outputs": [],
   "source": [
    "for window_start in range(0, len(full_train_sequence) - window_length + 1):\n",
    "    window_end = window_start + window_length\n",
    "    window_range = range(window_start, window_end)\n",
    "    window = list(full_train_sequence[window_range])\n",
    "    train_windows.append(window)"
   ]
  },
  {
   "cell_type": "code",
   "execution_count": 178,
   "metadata": {},
   "outputs": [
    {
     "data": {
      "text/plain": [
       "91"
      ]
     },
     "execution_count": 178,
     "metadata": {},
     "output_type": "execute_result"
    }
   ],
   "source": [
    "len(train_windows)"
   ]
  },
  {
   "cell_type": "code",
   "execution_count": 179,
   "metadata": {
    "scrolled": false
   },
   "outputs": [
    {
     "name": "stdout",
     "output_type": "stream",
     "text": [
      "[0.66698805635346836, 0.025813081066273821, -0.77761941319181782, 0.9486338224949431, 0.70167179464751295, -1.0510815639071178, -0.36754811611716609, -1.1374596907250272, -1.3221475225908594, 1.7722582783074305]\n"
     ]
    }
   ],
   "source": [
    "print(train_windows[0])"
   ]
  },
  {
   "cell_type": "code",
   "execution_count": 180,
   "metadata": {},
   "outputs": [
    {
     "name": "stdout",
     "output_type": "stream",
     "text": [
      "[-1.1374596907250272, -1.3221475225908594, 1.7722582783074305, -0.34745899102186334, 0.67014016289715139, 0.32227152034930512, 0.060342934170488124, -1.0434500017467254, -1.0099418765878465, 0.44173637238220625]\n"
     ]
    }
   ],
   "source": [
    "print(train_windows[7])"
   ]
  },
  {
   "cell_type": "code",
   "execution_count": 181,
   "metadata": {},
   "outputs": [
    {
     "data": {
      "text/plain": [
       "(91, 10)"
      ]
     },
     "execution_count": 181,
     "metadata": {},
     "output_type": "execute_result"
    }
   ],
   "source": [
    "np.array(train_windows).shape"
   ]
  },
  {
   "cell_type": "code",
   "execution_count": 182,
   "metadata": {},
   "outputs": [
    {
     "data": {
      "image/png": "[encoded data removed]",
      "text/plain": [
       "<matplotlib.figure.Figure at 0x119791e10>"
      ]
     },
     "metadata": {},
     "output_type": "display_data"
    }
   ],
   "source": [
    "for window in train_windows[0:5]:\n",
    "    plt.plot(window);"
   ]
  },
  {
   "cell_type": "markdown",
   "metadata": {},
   "source": [
    "**Need to expand dimensions [samples, sequence_length, features]**\n",
    "\n",
    "91 samples of 10 sequence_length each and since each point is univariate so feature size = 1"
   ]
  },
  {
   "cell_type": "code",
   "execution_count": 183,
   "metadata": {},
   "outputs": [
    {
     "data": {
      "text/plain": [
       "(91, 10, 1)"
      ]
     },
     "execution_count": 183,
     "metadata": {},
     "output_type": "execute_result"
    }
   ],
   "source": [
    "x_train = np.expand_dims(np.array(train_windows), axis=2)\n",
    "x_train.shape"
   ]
  },
  {
   "cell_type": "code",
   "execution_count": 184,
   "metadata": {
    "scrolled": false
   },
   "outputs": [
    {
     "data": {
      "text/plain": [
       "array([[[ 0.02581308],\n",
       "        [-0.77761941],\n",
       "        [ 0.94863382],\n",
       "        [ 0.70167179],\n",
       "        [-1.05108156],\n",
       "        [-0.36754812],\n",
       "        [-1.13745969],\n",
       "        [-1.32214752],\n",
       "        [ 1.77225828],\n",
       "        [-0.34745899]]])"
      ]
     },
     "execution_count": 184,
     "metadata": {},
     "output_type": "execute_result"
    }
   ],
   "source": [
    "x_train[1:2]"
   ]
  },
  {
   "cell_type": "code",
   "execution_count": 185,
   "metadata": {},
   "outputs": [
    {
     "data": {
      "image/png": "[encoded data removed]",
      "text/plain": [
       "<matplotlib.figure.Figure at 0x11c5ac550>"
      ]
     },
     "metadata": {},
     "output_type": "display_data"
    }
   ],
   "source": [
    "plt.plot(train_windows[0]);"
   ]
  },
  {
   "cell_type": "code",
   "execution_count": 186,
   "metadata": {},
   "outputs": [
    {
     "data": {
      "image/png": "[encoded data removed]",
      "text/plain": [
       "<matplotlib.figure.Figure at 0x11babee80>"
      ]
     },
     "metadata": {},
     "output_type": "display_data"
    }
   ],
   "source": [
    "plt.plot(x_train[0].flatten());"
   ]
  },
  {
   "cell_type": "markdown",
   "metadata": {},
   "source": [
    "**Generate testing data, with outliers:**"
   ]
  },
  {
   "cell_type": "code",
   "execution_count": 187,
   "metadata": {
    "collapsed": true
   },
   "outputs": [],
   "source": [
    "signal_test = np.random.normal(loc=0, scale=1, size=(sample_size, 1))"
   ]
  },
  {
   "cell_type": "code",
   "execution_count": 188,
   "metadata": {},
   "outputs": [
    {
     "data": {
      "text/plain": [
       "(100, 1)"
      ]
     },
     "execution_count": 188,
     "metadata": {},
     "output_type": "execute_result"
    }
   ],
   "source": [
    "signal_test.shape"
   ]
  },
  {
   "cell_type": "code",
   "execution_count": 189,
   "metadata": {
    "collapsed": true
   },
   "outputs": [],
   "source": [
    "outliers_size=0.01"
   ]
  },
  {
   "cell_type": "code",
   "execution_count": 190,
   "metadata": {
    "collapsed": true
   },
   "outputs": [],
   "source": [
    "random_indices = []\n",
    "if outliers_size < 1:  # percentage.\n",
    "    outliers_size = int(sample_size * outliers_size)\n",
    "random_indices = np.random.choice(range(sample_size), size=outliers_size, replace=False)"
   ]
  },
  {
   "cell_type": "code",
   "execution_count": 191,
   "metadata": {},
   "outputs": [
    {
     "data": {
      "text/plain": [
       "array([27])"
      ]
     },
     "execution_count": 191,
     "metadata": {},
     "output_type": "execute_result"
    }
   ],
   "source": [
    "random_indices"
   ]
  },
  {
   "cell_type": "code",
   "execution_count": 192,
   "metadata": {},
   "outputs": [
    {
     "data": {
      "text/plain": [
       "array([[-0.50145597]])"
      ]
     },
     "execution_count": 192,
     "metadata": {},
     "output_type": "execute_result"
    }
   ],
   "source": [
    "signal_test[random_indices]"
   ]
  },
  {
   "cell_type": "code",
   "execution_count": 193,
   "metadata": {
    "collapsed": true
   },
   "outputs": [],
   "source": [
    "signal_test[random_indices] = np.random.randint(6, 9, 1)[0]"
   ]
  },
  {
   "cell_type": "code",
   "execution_count": 194,
   "metadata": {},
   "outputs": [
    {
     "data": {
      "text/plain": [
       "array([[ 6.]])"
      ]
     },
     "execution_count": 194,
     "metadata": {},
     "output_type": "execute_result"
    }
   ],
   "source": [
    "signal_test[random_indices]"
   ]
  },
  {
   "cell_type": "code",
   "execution_count": 195,
   "metadata": {
    "collapsed": true
   },
   "outputs": [],
   "source": [
    "full_test_sequence = signal_test.flatten()"
   ]
  },
  {
   "cell_type": "code",
   "execution_count": 196,
   "metadata": {},
   "outputs": [
    {
     "data": {
      "text/plain": [
       "array([ -1.33286349e+00,   1.63739122e+00,  -8.22938678e-01,\n",
       "        -1.59810911e+00,   2.26511740e-01,   2.33897991e-01,\n",
       "        -9.47222447e-01,  -1.26157621e+00,  -2.38986578e+00,\n",
       "        -3.33273986e-01,   3.43516763e-01,  -2.02786082e+00,\n",
       "         1.31416305e-01,   1.60323411e+00,  -1.76431364e+00,\n",
       "         5.66503925e-01,   5.48788074e-01,  -6.15134980e-01,\n",
       "         3.23545639e-01,  -1.10319346e+00,   4.50595963e-01,\n",
       "         1.61745203e+00,  -3.42364941e-01,  -6.23486382e-01,\n",
       "        -2.01480815e+00,   1.87089397e+00,   1.87319810e+00,\n",
       "         6.00000000e+00,   9.00939436e-02,  -9.39445812e-02,\n",
       "         1.36048482e+00,  -1.56984254e+00,   6.76403155e-01,\n",
       "        -2.25588661e+00,   6.53615988e-01,  -7.45812797e-01,\n",
       "         1.30678324e+00,   5.49310083e-01,  -6.12180617e-01,\n",
       "        -7.36842113e-01,  -1.19535974e+00,   1.68204548e+00,\n",
       "         1.06542280e+00,  -6.05563604e-01,  -1.33355413e+00,\n",
       "         4.96057738e-01,   1.31938143e-02,  -4.85210052e-01,\n",
       "         1.15830877e-01,   6.65095216e-01,  -2.65562952e-02,\n",
       "         6.23219276e-01,  -3.74141989e-03,   2.71969265e-01,\n",
       "        -5.41638778e-01,   7.93793764e-01,   1.56012873e-01,\n",
       "        -3.04597585e-01,   1.89855691e-01,  -2.32065769e-01,\n",
       "        -1.90358237e-01,   5.25384040e-01,   8.73058739e-01,\n",
       "        -1.63096187e+00,  -1.90053118e-01,   8.12903417e-02,\n",
       "        -1.11984219e+00,   4.37357542e-01,  -2.38923287e-01,\n",
       "        -5.37399475e-01,  -1.76885535e+00,  -1.44383133e+00,\n",
       "         9.34502522e-02,   1.79300305e+00,  -4.17046202e-01,\n",
       "        -2.09724637e+00,   1.23891913e+00,   1.72917061e-01,\n",
       "         1.17179610e+00,  -6.28580789e-01,   8.63740078e-01,\n",
       "         3.49666522e-01,  -1.24850361e+00,  -3.53192615e-01,\n",
       "         1.23741425e-01,  -8.77640206e-01,   1.19458124e+00,\n",
       "        -4.00346890e-01,   8.86384291e-01,  -2.40379773e-01,\n",
       "         6.51994839e-01,   5.68860218e-01,  -1.90351511e+00,\n",
       "        -2.43622830e-01,   7.35966237e-01,  -3.34932288e-01,\n",
       "         1.52239047e+00,   1.30881770e+00,  -7.68765984e-01,\n",
       "         1.89150956e-01])"
      ]
     },
     "execution_count": 196,
     "metadata": {},
     "output_type": "execute_result"
    }
   ],
   "source": [
    "full_test_sequence"
   ]
  },
  {
   "cell_type": "code",
   "execution_count": 197,
   "metadata": {},
   "outputs": [
    {
     "data": {
      "image/png": "[encoded data removed]",
      "text/plain": [
       "<matplotlib.figure.Figure at 0x11bad6908>"
      ]
     },
     "metadata": {},
     "output_type": "display_data"
    }
   ],
   "source": [
    "plt.hist(signal_test, bins=10, edgecolor='white');"
   ]
  },
  {
   "cell_type": "code",
   "execution_count": 198,
   "metadata": {
    "collapsed": true
   },
   "outputs": [],
   "source": [
    "test_windows = []\n",
    "contain_outliers= []"
   ]
  },
  {
   "cell_type": "code",
   "execution_count": 199,
   "metadata": {
    "collapsed": true
   },
   "outputs": [],
   "source": [
    "for window_start in range(0, len(full_test_sequence) - window_length + 1):\n",
    "    window_end = window_start + window_length\n",
    "    window_range = range(window_start, window_end)\n",
    "    window = list(full_test_sequence[window_range])\n",
    "    is_outlier = len(set(window_range).intersection(set(random_indices))) > 0\n",
    "    contain_outliers.append(is_outlier)\n",
    "    test_windows.append(window)"
   ]
  },
  {
   "cell_type": "code",
   "execution_count": 200,
   "metadata": {
    "collapsed": true
   },
   "outputs": [],
   "source": [
    "outlier_indices = np.where(contain_outliers)[0]"
   ]
  },
  {
   "cell_type": "code",
   "execution_count": 201,
   "metadata": {},
   "outputs": [
    {
     "data": {
      "text/plain": [
       "array([18, 19, 20, 21, 22, 23, 24, 25, 26, 27])"
      ]
     },
     "execution_count": 201,
     "metadata": {},
     "output_type": "execute_result"
    }
   ],
   "source": [
    "outlier_indices"
   ]
  },
  {
   "cell_type": "code",
   "execution_count": 202,
   "metadata": {},
   "outputs": [
    {
     "data": {
      "text/plain": [
       "[-1.1031934647068076,\n",
       " 0.45059596269268182,\n",
       " 1.617452028507262,\n",
       " -0.34236494139442131,\n",
       " -0.62348638233698972,\n",
       " -2.0148081466551688,\n",
       " 1.8708939744844337,\n",
       " 1.8731980955047973,\n",
       " 6.0,\n",
       " 0.090093943601705515]"
      ]
     },
     "execution_count": 202,
     "metadata": {},
     "output_type": "execute_result"
    }
   ],
   "source": [
    "test_windows[outlier_indices[1]]"
   ]
  },
  {
   "cell_type": "code",
   "execution_count": 203,
   "metadata": {},
   "outputs": [
    {
     "data": {
      "text/plain": [
       "(91, 10)"
      ]
     },
     "execution_count": 203,
     "metadata": {},
     "output_type": "execute_result"
    }
   ],
   "source": [
    "np.array(test_windows).shape"
   ]
  },
  {
   "cell_type": "code",
   "execution_count": 204,
   "metadata": {},
   "outputs": [
    {
     "data": {
      "image/png": "[encoded data removed]",
      "text/plain": [
       "<matplotlib.figure.Figure at 0x11bbbd470>"
      ]
     },
     "metadata": {},
     "output_type": "display_data"
    }
   ],
   "source": [
    "for window in test_windows[0:5]:\n",
    "    plt.plot(window);"
   ]
  },
  {
   "cell_type": "markdown",
   "metadata": {},
   "source": [
    "**Plot normal and anomalous sequences**"
   ]
  },
  {
   "cell_type": "code",
   "execution_count": 205,
   "metadata": {},
   "outputs": [
    {
     "data": {
      "image/png": "[encoded data removed]",
      "text/plain": [
       "<matplotlib.figure.Figure at 0x11bd75f28>"
      ]
     },
     "metadata": {},
     "output_type": "display_data"
    }
   ],
   "source": [
    "plt.plot(test_windows[0])\n",
    "plt.plot(test_windows[1])\n",
    "plt.plot(test_windows[outlier_indices[1]])\n",
    "plt.plot(test_windows[outlier_indices[3]])\n",
    "plt.plot(test_windows[20]);"
   ]
  },
  {
   "cell_type": "markdown",
   "metadata": {},
   "source": [
    "**Need to expand dimensions [samples, sequence_length, features]**\n",
    "\n",
    "91 samples of 10 sequence_length each and since each point is univariate so feature size = 1"
   ]
  },
  {
   "cell_type": "code",
   "execution_count": 206,
   "metadata": {},
   "outputs": [
    {
     "data": {
      "text/plain": [
       "(91, 10, 1)"
      ]
     },
     "execution_count": 206,
     "metadata": {},
     "output_type": "execute_result"
    }
   ],
   "source": [
    "x_test = np.expand_dims(np.array(test_windows), axis=2)\n",
    "x_test.shape"
   ]
  },
  {
   "cell_type": "code",
   "execution_count": 207,
   "metadata": {
    "collapsed": true
   },
   "outputs": [],
   "source": [
    "hidden_dim = 16"
   ]
  },
  {
   "cell_type": "code",
   "execution_count": 208,
   "metadata": {},
   "outputs": [],
   "source": [
    "m = Sequential()\n",
    "m.add(LSTM(units=hidden_dim, input_shape=(window_length, 1), return_sequences=True))\n",
    "m.add(Dropout(rate=0.1))\n",
    "m.add(LSTM(1, return_sequences=True, activation='linear'))\n",
    "m.compile(loss='mse', optimizer='adam')"
   ]
  },
  {
   "cell_type": "code",
   "execution_count": 209,
   "metadata": {},
   "outputs": [
    {
     "name": "stdout",
     "output_type": "stream",
     "text": [
      "_________________________________________________________________\n",
      "Layer (type)                 Output Shape              Param #   \n",
      "=================================================================\n",
      "lstm_3 (LSTM)                (None, 10, 16)            1152      \n",
      "_________________________________________________________________\n",
      "dropout_2 (Dropout)          (None, 10, 16)            0         \n",
      "_________________________________________________________________\n",
      "lstm_4 (LSTM)                (None, 10, 1)             72        \n",
      "=================================================================\n",
      "Total params: 1,224\n",
      "Trainable params: 1,224\n",
      "Non-trainable params: 0\n",
      "_________________________________________________________________\n"
     ]
    }
   ],
   "source": [
    "m.summary()"
   ]
  },
  {
   "cell_type": "code",
   "execution_count": 210,
   "metadata": {},
   "outputs": [
    {
     "name": "stdout",
     "output_type": "stream",
     "text": [
      "Train on 91 samples, validate on 91 samples\n",
      "Epoch 1/5\n",
      "91/91 [==============================] - 1s - loss: 0.8615 - val_loss: 1.3632\n",
      "Epoch 2/5\n",
      "91/91 [==============================] - 0s - loss: 0.8603 - val_loss: 1.3610\n",
      "Epoch 3/5\n",
      "91/91 [==============================] - 0s - loss: 0.8564 - val_loss: 1.3586\n",
      "Epoch 4/5\n",
      "91/91 [==============================] - 0s - loss: 0.8552 - val_loss: 1.3562\n",
      "Epoch 5/5\n",
      "91/91 [==============================] - 0s - loss: 0.8534 - val_loss: 1.3537\n"
     ]
    }
   ],
   "source": [
    "history = m.fit(x_train, x_train, batch_size=64, epochs=5, validation_data=(x_test, x_test)).history"
   ]
  },
  {
   "cell_type": "code",
   "execution_count": 211,
   "metadata": {
    "collapsed": true
   },
   "outputs": [],
   "source": [
    "pred_x_test = m.predict(x_test)"
   ]
  },
  {
   "cell_type": "code",
   "execution_count": 212,
   "metadata": {
    "scrolled": false
   },
   "outputs": [
    {
     "data": {
      "text/plain": [
       "(91, 10, 1)"
      ]
     },
     "execution_count": 212,
     "metadata": {},
     "output_type": "execute_result"
    }
   ],
   "source": [
    "pred_x_test.shape"
   ]
  },
  {
   "cell_type": "code",
   "execution_count": 213,
   "metadata": {},
   "outputs": [
    {
     "data": {
      "text/plain": [
       "array([  5.1028349 ,   5.11486843,   5.08296809,   5.09987257,\n",
       "         5.17169728,   5.14352006,   5.10636055,   5.2216274 ,\n",
       "         5.41067502,   3.93045798,   3.96070158,   3.89167585,\n",
       "         3.19786251,   3.16737146,   2.94458409,   3.93642329,\n",
       "         3.92711022,   3.91456741,  33.82172514,  33.83901131,\n",
       "        33.79168164,  33.84339947,  34.01202606,  33.98883065,\n",
       "        33.88948234,  33.34036149,  34.03821472,  34.74077468,\n",
       "         4.93248661,   4.91808406,   4.91591631,   4.75059307,\n",
       "         4.95207556,   4.81896948,   2.77842156,   2.79602807,\n",
       "         2.77642435,   2.84014684,   2.87909277,   2.84084707,\n",
       "         2.77638994,   2.65231071,   1.73839487,   1.63515309,\n",
       "         1.6825844 ,   0.39356049,   0.54264831,   0.54377166,\n",
       "         0.54131438,   0.54458824,   0.55806842,   0.56052168,\n",
       "         0.58394645,   0.65545283,   2.72452144,   2.72801376,\n",
       "         2.71283639,   2.70556172,   2.71080526,   2.69493438,\n",
       "         2.70254906,   2.87843515,   2.87383007,   2.86486459,\n",
       "         3.26875527,   3.27004367,   4.21165249,   4.21471782,\n",
       "         4.20810738,   4.20778054,   4.21682951,   4.29375769,\n",
       "         4.40430152,   4.3791365 ,   4.11654738,   4.16322535,\n",
       "         1.69520693,   1.6496456 ,   1.63667083,   1.56705224,\n",
       "         1.60334127,   1.5185391 ,   1.47514898,   3.72004976,\n",
       "         3.72192458,   3.71572393,   3.73983154,   3.67913539,\n",
       "         3.69649576,   3.61235663,   3.6262217 ])"
      ]
     },
     "execution_count": 213,
     "metadata": {},
     "output_type": "execute_result"
    }
   ],
   "source": [
    "mae_of_predictions = np.squeeze(np.max(np.square(pred_x_test - x_test), axis=1))\n",
    "mae_of_predictions"
   ]
  },
  {
   "cell_type": "code",
   "execution_count": 214,
   "metadata": {},
   "outputs": [
    {
     "data": {
      "text/plain": [
       "(91,)"
      ]
     },
     "execution_count": 214,
     "metadata": {},
     "output_type": "execute_result"
    }
   ],
   "source": [
    "mae_of_predictions.shape"
   ]
  },
  {
   "cell_type": "code",
   "execution_count": 215,
   "metadata": {},
   "outputs": [
    {
     "data": {
      "text/plain": [
       "16.271854852102955"
      ]
     },
     "execution_count": 215,
     "metadata": {},
     "output_type": "execute_result"
    }
   ],
   "source": [
    "mae_threshold = np.mean(mae_of_predictions) + np.std(mae_of_predictions)  # can use a running mean instead.\n",
    "mae_threshold"
   ]
  },
  {
   "cell_type": "code",
   "execution_count": 216,
   "metadata": {},
   "outputs": [
    {
     "data": {
      "text/plain": [
       "array([18, 19, 20, 21, 22, 23, 24, 25, 26, 27])"
      ]
     },
     "execution_count": 216,
     "metadata": {},
     "output_type": "execute_result"
    }
   ],
   "source": [
    "pred_outlier_indices = np.where(mae_of_predictions > mae_threshold)[0]\n",
    "pred_outlier_indices"
   ]
  },
  {
   "cell_type": "markdown",
   "metadata": {},
   "source": [
    "**Metrics**"
   ]
  },
  {
   "cell_type": "code",
   "execution_count": 217,
   "metadata": {},
   "outputs": [],
   "source": [
    "tp = len(set(outlier_indices).intersection(set(pred_outlier_indices)))"
   ]
  },
  {
   "cell_type": "code",
   "execution_count": 218,
   "metadata": {
    "collapsed": true
   },
   "outputs": [],
   "source": [
    "fn = len(set(outlier_indices) - set(pred_outlier_indices))"
   ]
  },
  {
   "cell_type": "code",
   "execution_count": 219,
   "metadata": {
    "collapsed": true
   },
   "outputs": [],
   "source": [
    "fp = len(set(pred_outlier_indices) - set(outlier_indices))"
   ]
  },
  {
   "cell_type": "code",
   "execution_count": 220,
   "metadata": {},
   "outputs": [],
   "source": [
    "all_indices = set(range(len(x_test))) \n",
    "tn = len((all_indices - set(outlier_indices)).intersection(all_indices - set(pred_outlier_indices)))"
   ]
  },
  {
   "cell_type": "code",
   "execution_count": 221,
   "metadata": {
    "collapsed": true
   },
   "outputs": [],
   "source": [
    "precision = float(tp) / (tp + fp)"
   ]
  },
  {
   "cell_type": "code",
   "execution_count": 222,
   "metadata": {},
   "outputs": [],
   "source": [
    "hit_rate = float(tp) / (tp + fn)"
   ]
  },
  {
   "cell_type": "code",
   "execution_count": 223,
   "metadata": {
    "collapsed": true
   },
   "outputs": [],
   "source": [
    "accuracy = float(tp + tn) / (tp + tn + fp + fn)"
   ]
  },
  {
   "cell_type": "code",
   "execution_count": 224,
   "metadata": {},
   "outputs": [
    {
     "name": "stdout",
     "output_type": "stream",
     "text": [
      "precision = 1.0, hit_rate = 1.0, accuracy = 1.0\n"
     ]
    }
   ],
   "source": [
    "print('precision = {}, hit_rate = {}, accuracy = {}'.format(precision, hit_rate, accuracy))"
   ]
  },
  {
   "cell_type": "code",
   "execution_count": null,
   "metadata": {
    "collapsed": true
   },
   "outputs": [],
   "source": []
  }
 ],
 "metadata": {
  "kernelspec": {
   "display_name": "Python 3",
   "language": "python",
   "name": "python3"
  },
  "language_info": {
   "codemirror_mode": {
    "name": "ipython",
    "version": 3
   },
   "file_extension": ".py",
   "mimetype": "text/x-python",
   "name": "python",
   "nbconvert_exporter": "python",
   "pygments_lexer": "ipython3",
   "version": "3.6.1"
  },
  "toc": {
   "colors": {
    "hover_highlight": "#DAA520",
    "navigate_num": "#000000",
    "navigate_text": "#333333",
    "running_highlight": "#FF0000",
    "selected_highlight": "#FFD700",
    "sidebar_border": "#EEEEEE",
    "wrapper_background": "#FFFFFF"
   },
   "moveMenuLeft": true,
   "nav_menu": {
    "height": "12px",
    "width": "252px"
   },
   "navigate_menu": true,
   "number_sections": true,
   "sideBar": true,
   "threshold": 4,
   "toc_cell": false,
   "toc_section_display": "block",
   "toc_window_display": false,
   "widenNotebook": false
  }
 },
 "nbformat": 4,
 "nbformat_minor": 2
}
