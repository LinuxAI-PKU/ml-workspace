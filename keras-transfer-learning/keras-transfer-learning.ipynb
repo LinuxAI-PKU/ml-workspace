{
 "cells": [
  {
   "cell_type": "markdown",
   "metadata": {},
   "source": [
    "## Learning from Scratch"
   ]
  },
  {
   "cell_type": "code",
   "execution_count": 1,
   "metadata": {
    "collapsed": true
   },
   "outputs": [],
   "source": [
    "import numpy as np\n",
    "import pandas as pd\n",
    "\n",
    "# Visualization\n",
    "import seaborn as sns\n",
    "\n",
    "# this allows plots to appear directly in the notebook\n",
    "import matplotlib.pyplot as plt"
   ]
  },
  {
   "cell_type": "code",
   "execution_count": 2,
   "metadata": {},
   "outputs": [
    {
     "name": "stderr",
     "output_type": "stream",
     "text": [
      "Using TensorFlow backend.\n"
     ]
    }
   ],
   "source": [
    "from keras.models import Sequential\n",
    "from keras.layers import Conv2D, MaxPooling2D\n",
    "from keras.layers import Activation, Dropout, Flatten, Dense\n",
    "\n",
    "from keras import backend as K\n",
    "\n",
    "from keras.preprocessing.image import ImageDataGenerator"
   ]
  },
  {
   "cell_type": "code",
   "execution_count": 3,
   "metadata": {},
   "outputs": [
    {
     "data": {
      "text/plain": [
       "'/device:GPU:0'"
      ]
     },
     "execution_count": 3,
     "metadata": {},
     "output_type": "execute_result"
    }
   ],
   "source": [
    "import tensorflow as tf\n",
    "tf.test.gpu_device_name()"
   ]
  },
  {
   "cell_type": "code",
   "execution_count": 4,
   "metadata": {
    "collapsed": true
   },
   "outputs": [],
   "source": [
    "%matplotlib inline\n",
    "%config InlineBackend.figure_format = 'retina'"
   ]
  },
  {
   "cell_type": "code",
   "execution_count": 5,
   "metadata": {
    "collapsed": true
   },
   "outputs": [],
   "source": [
    "# dimensions of our images.\n",
    "img_width, img_height = 150, 150"
   ]
  },
  {
   "cell_type": "code",
   "execution_count": 6,
   "metadata": {
    "collapsed": true
   },
   "outputs": [],
   "source": [
    "if K.image_data_format() == 'channels_first':\n",
    "    input_shape = (3, img_width, img_height)\n",
    "else:\n",
    "    input_shape = (img_width, img_height, 3)"
   ]
  },
  {
   "cell_type": "markdown",
   "metadata": {},
   "source": [
    "### Creating the Model"
   ]
  },
  {
   "cell_type": "code",
   "execution_count": 7,
   "metadata": {
    "collapsed": true
   },
   "outputs": [],
   "source": [
    "model = Sequential()\n",
    "model.add(Conv2D(32, (3, 3), input_shape=input_shape))\n",
    "model.add(Activation('relu'))\n",
    "model.add(MaxPooling2D(pool_size=(2, 2)))\n",
    "\n",
    "model.add(Conv2D(32, (3, 3)))\n",
    "model.add(Activation('relu'))\n",
    "model.add(MaxPooling2D(pool_size=(2, 2)))\n",
    "\n",
    "model.add(Conv2D(64, (3, 3)))\n",
    "model.add(Activation('relu'))\n",
    "model.add(MaxPooling2D(pool_size=(2, 2)))\n",
    "# the model so far outputs 3D feature maps (width, height, features)\n",
    "\n",
    "model.add(Flatten())\n",
    "model.add(Dense(64))\n",
    "model.add(Activation('relu'))\n",
    "model.add(Dropout(0.5))\n",
    "\n",
    "# the final layer is a fully-connected layers with a single unit and a sigmoid activation, which is perfect for a binary classification. \n",
    "model.add(Dense(1))\n",
    "model.add(Activation('sigmoid'))"
   ]
  },
  {
   "cell_type": "code",
   "execution_count": 8,
   "metadata": {},
   "outputs": [
    {
     "name": "stdout",
     "output_type": "stream",
     "text": [
      "_________________________________________________________________\n",
      "Layer (type)                 Output Shape              Param #   \n",
      "=================================================================\n",
      "conv2d_1 (Conv2D)            (None, 148, 148, 32)      896       \n",
      "_________________________________________________________________\n",
      "activation_1 (Activation)    (None, 148, 148, 32)      0         \n",
      "_________________________________________________________________\n",
      "max_pooling2d_1 (MaxPooling2 (None, 74, 74, 32)        0         \n",
      "_________________________________________________________________\n",
      "conv2d_2 (Conv2D)            (None, 72, 72, 32)        9248      \n",
      "_________________________________________________________________\n",
      "activation_2 (Activation)    (None, 72, 72, 32)        0         \n",
      "_________________________________________________________________\n",
      "max_pooling2d_2 (MaxPooling2 (None, 36, 36, 32)        0         \n",
      "_________________________________________________________________\n",
      "conv2d_3 (Conv2D)            (None, 34, 34, 64)        18496     \n",
      "_________________________________________________________________\n",
      "activation_3 (Activation)    (None, 34, 34, 64)        0         \n",
      "_________________________________________________________________\n",
      "max_pooling2d_3 (MaxPooling2 (None, 17, 17, 64)        0         \n",
      "_________________________________________________________________\n",
      "flatten_1 (Flatten)          (None, 18496)             0         \n",
      "_________________________________________________________________\n",
      "dense_1 (Dense)              (None, 64)                1183808   \n",
      "_________________________________________________________________\n",
      "activation_4 (Activation)    (None, 64)                0         \n",
      "_________________________________________________________________\n",
      "dropout_1 (Dropout)          (None, 64)                0         \n",
      "_________________________________________________________________\n",
      "dense_2 (Dense)              (None, 1)                 65        \n",
      "_________________________________________________________________\n",
      "activation_5 (Activation)    (None, 1)                 0         \n",
      "=================================================================\n",
      "Total params: 1,212,513\n",
      "Trainable params: 1,212,513\n",
      "Non-trainable params: 0\n",
      "_________________________________________________________________\n",
      "None\n"
     ]
    }
   ],
   "source": [
    "print(model.summary())"
   ]
  },
  {
   "cell_type": "code",
   "execution_count": 9,
   "metadata": {
    "collapsed": true
   },
   "outputs": [],
   "source": [
    "# To go with 1 unit FC layer we will also use the binary_crossentropy loss to train our model.\n",
    "model.compile(loss='binary_crossentropy',\n",
    "              optimizer='rmsprop',\n",
    "              metrics=['accuracy'])"
   ]
  },
  {
   "cell_type": "markdown",
   "metadata": {},
   "source": [
    "Let's prepare our data. We will use .flow_from_directory() to generate batches of image data (and their labels) directly from our jpgs in their respective folders."
   ]
  },
  {
   "cell_type": "markdown",
   "metadata": {},
   "source": [
    "### Preparing the Dataset"
   ]
  },
  {
   "cell_type": "code",
   "execution_count": 10,
   "metadata": {
    "collapsed": true
   },
   "outputs": [],
   "source": [
    "nb_train_samples = 1000\n",
    "nb_validation_samples = 800\n",
    "\n",
    "epochs = 50\n",
    "batch_size = 16"
   ]
  },
  {
   "cell_type": "code",
   "execution_count": 11,
   "metadata": {
    "collapsed": true
   },
   "outputs": [],
   "source": [
    "# this is the augmentation configuration we will use for training:\n",
    "train_datagen = ImageDataGenerator(\n",
    "    rescale=1./ 255,\n",
    "    shear_range=0.2,\n",
    "    zoom_range=0.2,\n",
    "    horizontal_flip=True)"
   ]
  },
  {
   "cell_type": "code",
   "execution_count": 12,
   "metadata": {
    "collapsed": true
   },
   "outputs": [],
   "source": [
    "# this is the augmentation configuration we will use for testing: only rescaling\n",
    "test_datagen = ImageDataGenerator(rescale=1./ 255)"
   ]
  },
  {
   "cell_type": "code",
   "execution_count": 13,
   "metadata": {},
   "outputs": [
    {
     "name": "stdout",
     "output_type": "stream",
     "text": [
      "Found 2000 images belonging to 2 classes.\n",
      "Found 800 images belonging to 2 classes.\n"
     ]
    }
   ],
   "source": [
    "train_data_dir = 'data/cats-vs-dogs/sample/train'\n",
    "validation_data_dir = 'data/cats-vs-dogs/sample/valid'\n",
    "\n",
    "# this is a generator that will read pictures found in\n",
    "# subfolers of 'data/cats-vs-dogs/sample/train', and indefinitely generate\n",
    "# batches of augmented image data\n",
    "train_generator = train_datagen.flow_from_directory(\n",
    "    train_data_dir, # this is the target directory\n",
    "    target_size=(img_width, img_height), # all images will be resized to 150x150\n",
    "    batch_size=batch_size,\n",
    "    class_mode='binary') # since we use binary_crossentropy loss, we need binary labels\n",
    "\n",
    "# this is a similar generator, for validation data\n",
    "validation_generator = test_datagen.flow_from_directory(\n",
    "    validation_data_dir,\n",
    "    target_size=(img_width, img_height), \n",
    "    batch_size=batch_size,\n",
    "    class_mode='binary')"
   ]
  },
  {
   "cell_type": "markdown",
   "metadata": {},
   "source": [
    "We can now use these generators to train our model. "
   ]
  },
  {
   "cell_type": "markdown",
   "metadata": {},
   "source": [
    "### Training the Model"
   ]
  },
  {
   "cell_type": "code",
   "execution_count": 14,
   "metadata": {
    "scrolled": false
   },
   "outputs": [
    {
     "name": "stdout",
     "output_type": "stream",
     "text": [
      "Epoch 1/50\n",
      "125/62 [============================================================] - 16s 127ms/step - loss: 0.7045 - acc: 0.5259 - val_loss: 0.6833 - val_acc: 0.5250\n",
      "Epoch 2/50\n",
      "125/62 [============================================================] - 14s 112ms/step - loss: 0.6671 - acc: 0.6039 - val_loss: 0.6452 - val_acc: 0.6338\n",
      "Epoch 3/50\n",
      "125/62 [============================================================] - 13s 108ms/step - loss: 0.6411 - acc: 0.6377 - val_loss: 0.6091 - val_acc: 0.6763\n",
      "Epoch 4/50\n",
      "125/62 [============================================================] - 14s 112ms/step - loss: 0.6351 - acc: 0.6701 - val_loss: 0.6050 - val_acc: 0.6875\n",
      "Epoch 5/50\n",
      "125/62 [============================================================] - 14s 109ms/step - loss: 0.6329 - acc: 0.6660 - val_loss: 0.6080 - val_acc: 0.7013\n",
      "Epoch 6/50\n",
      "125/62 [============================================================] - 14s 110ms/step - loss: 0.5952 - acc: 0.6920 - val_loss: 0.5640 - val_acc: 0.7238\n",
      "Epoch 7/50\n",
      "125/62 [============================================================] - 13s 108ms/step - loss: 0.5729 - acc: 0.7284 - val_loss: 0.5717 - val_acc: 0.7037\n",
      "Epoch 8/50\n",
      "125/62 [============================================================] - 14s 110ms/step - loss: 0.5461 - acc: 0.7229 - val_loss: 0.5539 - val_acc: 0.7350\n",
      "Epoch 9/50\n",
      "125/62 [============================================================] - 14s 109ms/step - loss: 0.5354 - acc: 0.7401 - val_loss: 0.5695 - val_acc: 0.6937\n",
      "Epoch 10/50\n",
      "125/62 [============================================================] - 14s 109ms/step - loss: 0.5209 - acc: 0.7554 - val_loss: 0.5249 - val_acc: 0.7475\n",
      "Epoch 11/50\n",
      "125/62 [============================================================] - 14s 110ms/step - loss: 0.5293 - acc: 0.7495 - val_loss: 0.5068 - val_acc: 0.7562\n",
      "Epoch 12/50\n",
      "125/62 [============================================================] - 13s 108ms/step - loss: 0.4919 - acc: 0.7656 - val_loss: 0.5458 - val_acc: 0.7425\n",
      "Epoch 13/50\n",
      "125/62 [============================================================] - 14s 112ms/step - loss: 0.4687 - acc: 0.7704 - val_loss: 0.5246 - val_acc: 0.7425\n",
      "Epoch 14/50\n",
      "125/62 [============================================================] - 13s 108ms/step - loss: 0.4751 - acc: 0.7908 - val_loss: 0.4977 - val_acc: 0.7688\n",
      "Epoch 15/50\n",
      "125/62 [============================================================] - 14s 109ms/step - loss: 0.4399 - acc: 0.7944 - val_loss: 0.5502 - val_acc: 0.7488\n",
      "Epoch 16/50\n",
      "125/62 [============================================================] - 14s 111ms/step - loss: 0.4572 - acc: 0.7955 - val_loss: 0.5034 - val_acc: 0.7412\n",
      "Epoch 17/50\n",
      "125/62 [============================================================] - 14s 108ms/step - loss: 0.4692 - acc: 0.8074 - val_loss: 0.4935 - val_acc: 0.7675\n",
      "Epoch 18/50\n",
      "125/62 [============================================================] - 14s 113ms/step - loss: 0.4482 - acc: 0.7891 - val_loss: 0.4808 - val_acc: 0.7712\n",
      "Epoch 19/50\n",
      "125/62 [============================================================] - 14s 109ms/step - loss: 0.4418 - acc: 0.7886 - val_loss: 0.4771 - val_acc: 0.7775\n",
      "Epoch 20/50\n",
      "125/62 [============================================================] - 13s 108ms/step - loss: 0.4617 - acc: 0.8084 - val_loss: 0.4712 - val_acc: 0.7937\n",
      "Epoch 21/50\n",
      "125/62 [============================================================] - 14s 109ms/step - loss: 0.4446 - acc: 0.7951 - val_loss: 0.4581 - val_acc: 0.7987\n",
      "Epoch 22/50\n",
      "125/62 [============================================================] - 14s 113ms/step - loss: 0.4354 - acc: 0.8076 - val_loss: 0.4554 - val_acc: 0.7837\n",
      "Epoch 23/50\n",
      "125/62 [============================================================] - 14s 113ms/step - loss: 0.4034 - acc: 0.8231 - val_loss: 0.6770 - val_acc: 0.7538\n",
      "Epoch 24/50\n",
      "125/62 [============================================================] - 14s 108ms/step - loss: 0.4559 - acc: 0.7995 - val_loss: 0.4425 - val_acc: 0.7788\n",
      "Epoch 25/50\n",
      "125/62 [============================================================] - 14s 108ms/step - loss: 0.4419 - acc: 0.8088 - val_loss: 0.5356 - val_acc: 0.7588\n",
      "Epoch 26/50\n",
      "125/62 [============================================================] - 14s 110ms/step - loss: 0.4459 - acc: 0.8173 - val_loss: 0.4264 - val_acc: 0.8075\n",
      "Epoch 27/50\n",
      "125/62 [============================================================] - 14s 108ms/step - loss: 0.4559 - acc: 0.7985 - val_loss: 0.5512 - val_acc: 0.7775\n",
      "Epoch 28/50\n",
      "125/62 [============================================================] - 13s 108ms/step - loss: 0.4265 - acc: 0.8173 - val_loss: 0.4823 - val_acc: 0.7750\n",
      "Epoch 29/50\n",
      "125/62 [============================================================] - 14s 111ms/step - loss: 0.4237 - acc: 0.8182 - val_loss: 0.5179 - val_acc: 0.7863\n",
      "Epoch 30/50\n",
      "125/62 [============================================================] - 14s 109ms/step - loss: 0.4094 - acc: 0.8301 - val_loss: 0.5020 - val_acc: 0.7762\n",
      "Epoch 31/50\n",
      "125/62 [============================================================] - 14s 109ms/step - loss: 0.4717 - acc: 0.8117 - val_loss: 0.5101 - val_acc: 0.7863\n",
      "Epoch 32/50\n",
      "125/62 [============================================================] - 14s 111ms/step - loss: 0.4050 - acc: 0.8119 - val_loss: 0.4918 - val_acc: 0.8025\n",
      "Epoch 33/50\n",
      "125/62 [============================================================] - 13s 108ms/step - loss: 0.3960 - acc: 0.8397 - val_loss: 0.5113 - val_acc: 0.7863\n",
      "Epoch 34/50\n",
      "125/62 [============================================================] - 13s 108ms/step - loss: 0.4581 - acc: 0.7978 - val_loss: 0.5068 - val_acc: 0.8000\n",
      "Epoch 35/50\n",
      "125/62 [============================================================] - 14s 108ms/step - loss: 0.4529 - acc: 0.8195 - val_loss: 0.4898 - val_acc: 0.7712\n",
      "Epoch 36/50\n",
      "125/62 [============================================================] - 14s 110ms/step - loss: 0.4127 - acc: 0.8239 - val_loss: 0.4639 - val_acc: 0.7863\n",
      "Epoch 37/50\n",
      "125/62 [============================================================] - 14s 108ms/step - loss: 0.4272 - acc: 0.8299 - val_loss: 0.6038 - val_acc: 0.7788\n",
      "Epoch 38/50\n",
      "125/62 [============================================================] - 13s 108ms/step - loss: 0.4135 - acc: 0.8381 - val_loss: 0.5645 - val_acc: 0.7750\n",
      "Epoch 39/50\n",
      "125/62 [============================================================] - 13s 107ms/step - loss: 0.4044 - acc: 0.8301 - val_loss: 0.4601 - val_acc: 0.8213\n",
      "Epoch 40/50\n",
      "125/62 [============================================================] - 13s 108ms/step - loss: 0.3996 - acc: 0.8382 - val_loss: 0.4879 - val_acc: 0.7887\n",
      "Epoch 41/50\n",
      "125/62 [============================================================] - 13s 107ms/step - loss: 0.4003 - acc: 0.8272 - val_loss: 0.5421 - val_acc: 0.7975\n",
      "Epoch 42/50\n",
      "125/62 [============================================================] - 14s 109ms/step - loss: 0.4028 - acc: 0.8382 - val_loss: 0.5351 - val_acc: 0.7875\n",
      "Epoch 43/50\n",
      "125/62 [============================================================] - 14s 110ms/step - loss: 0.4059 - acc: 0.8447 - val_loss: 0.4613 - val_acc: 0.7950\n",
      "Epoch 44/50\n",
      "125/62 [============================================================] - 14s 109ms/step - loss: 0.4079 - acc: 0.8324 - val_loss: 0.4947 - val_acc: 0.7825\n",
      "Epoch 45/50\n",
      "125/62 [============================================================] - 14s 108ms/step - loss: 0.3793 - acc: 0.8437 - val_loss: 0.4676 - val_acc: 0.7925\n",
      "Epoch 46/50\n",
      "125/62 [============================================================] - 14s 110ms/step - loss: 0.4190 - acc: 0.8391 - val_loss: 0.4669 - val_acc: 0.7987\n",
      "Epoch 47/50\n",
      "125/62 [============================================================] - 14s 112ms/step - loss: 0.3817 - acc: 0.8453 - val_loss: 0.4912 - val_acc: 0.7837\n",
      "Epoch 48/50\n",
      "125/62 [============================================================] - 14s 109ms/step - loss: 0.4034 - acc: 0.8339 - val_loss: 0.4670 - val_acc: 0.7887\n",
      "Epoch 49/50\n",
      "125/62 [============================================================] - 14s 109ms/step - loss: 0.3821 - acc: 0.8468 - val_loss: 0.5096 - val_acc: 0.7638\n",
      "Epoch 50/50\n",
      "125/62 [============================================================] - 14s 110ms/step - loss: 0.4082 - acc: 0.8293 - val_loss: 0.6848 - val_acc: 0.7312\n"
     ]
    }
   ],
   "source": [
    "history = model.fit_generator(\n",
    "    train_generator,\n",
    "    steps_per_epoch=nb_train_samples // batch_size,\n",
    "    epochs=epochs,\n",
    "    validation_data=validation_generator,\n",
    "    validation_steps=nb_validation_samples // batch_size).history"
   ]
  },
  {
   "cell_type": "markdown",
   "metadata": {},
   "source": [
    "This approach gets us to a validation accuracy of 0.79-0.81 after 50 epochs (a number that was picked arbitrarily --because the model is small and uses aggressive dropout, it does not seem to be overfitting too much by that point)."
   ]
  },
  {
   "cell_type": "code",
   "execution_count": 15,
   "metadata": {
    "collapsed": true
   },
   "outputs": [],
   "source": [
    "model.save_weights('model_weights/learning_from_scratch.h5')"
   ]
  },
  {
   "cell_type": "markdown",
   "metadata": {},
   "source": [
    "**Plotting Train vs Validation Loss:**"
   ]
  },
  {
   "cell_type": "code",
   "execution_count": 16,
   "metadata": {},
   "outputs": [
    {
     "data": {
      "image/png": "[encoded data removed]",
      "text/plain": [
       "<matplotlib.figure.Figure at 0x7f0953022b70>"
      ]
     },
     "metadata": {
      "image/png": {
       "height": 263,
       "width": 840
      }
     },
     "output_type": "display_data"
    }
   ],
   "source": [
    "fig, ax = plt.subplots(nrows=1, ncols=2, figsize=(14, 4))\n",
    "ax[0].plot(range(1, epochs + 1), history['loss'])\n",
    "ax[0].plot(range(1, epochs + 1), history['val_loss'])\n",
    "_ = ax[0].set(xlabel='Epochs', ylabel='Losses')\n",
    "ax[1].plot(range(1, epochs + 1), history['acc'])\n",
    "ax[1].plot(range(1, epochs + 1), history['val_acc'])\n",
    "_ = ax[1].set(xlabel='Epochs', ylabel='Accuracy')"
   ]
  },
  {
   "cell_type": "markdown",
   "metadata": {},
   "source": [
    "## Using the bottleneck features of a pre-trained network: 90% accuracy in a minute"
   ]
  },
  {
   "cell_type": "code",
   "execution_count": 1,
   "metadata": {
    "collapsed": true
   },
   "outputs": [],
   "source": [
    "import numpy as np\n",
    "import pandas as pd\n",
    "\n",
    "# Visualization\n",
    "import seaborn as sns\n",
    "\n",
    "# this allows plots to appear directly in the notebook\n",
    "import matplotlib.pyplot as plt"
   ]
  },
  {
   "cell_type": "code",
   "execution_count": 2,
   "metadata": {},
   "outputs": [
    {
     "data": {
      "text/plain": [
       "'/device:GPU:0'"
      ]
     },
     "execution_count": 2,
     "metadata": {},
     "output_type": "execute_result"
    }
   ],
   "source": [
    "import tensorflow as tf\n",
    "tf.test.gpu_device_name()"
   ]
  },
  {
   "cell_type": "code",
   "execution_count": 3,
   "metadata": {
    "collapsed": true
   },
   "outputs": [],
   "source": [
    "%matplotlib inline\n",
    "%config InlineBackend.figure_format = 'retina'"
   ]
  },
  {
   "cell_type": "code",
   "execution_count": 4,
   "metadata": {},
   "outputs": [
    {
     "name": "stderr",
     "output_type": "stream",
     "text": [
      "Using TensorFlow backend.\n"
     ]
    }
   ],
   "source": [
    "from keras.models import Sequential\n",
    "from keras.layers import Conv2D, MaxPooling2D\n",
    "from keras.layers import Activation, Dropout, Flatten, Dense\n",
    "\n",
    "from keras import applications\n",
    "\n",
    "from keras import backend as K\n",
    "\n",
    "from keras.preprocessing.image import ImageDataGenerator"
   ]
  },
  {
   "cell_type": "code",
   "execution_count": 5,
   "metadata": {
    "collapsed": true
   },
   "outputs": [],
   "source": [
    "# dimensions of our images.\n",
    "img_width, img_height = 150, 150"
   ]
  },
  {
   "cell_type": "code",
   "execution_count": 6,
   "metadata": {
    "collapsed": true
   },
   "outputs": [],
   "source": [
    "if K.image_data_format() == 'channels_first':\n",
    "    input_shape = (3, img_width, img_height)\n",
    "else:\n",
    "    input_shape = (img_width, img_height, 3)"
   ]
  },
  {
   "cell_type": "code",
   "execution_count": 7,
   "metadata": {
    "collapsed": true
   },
   "outputs": [],
   "source": [
    "train_data_dir = 'data/cats-vs-dogs/sample/train'\n",
    "validation_data_dir = 'data/cats-vs-dogs/sample/valid'"
   ]
  },
  {
   "cell_type": "code",
   "execution_count": 8,
   "metadata": {
    "collapsed": true
   },
   "outputs": [],
   "source": [
    "nb_train_samples = 2000\n",
    "nb_validation_samples = 800\n",
    "\n",
    "epochs = 50\n",
    "batch_size = 16"
   ]
  },
  {
   "cell_type": "code",
   "execution_count": 46,
   "metadata": {
    "collapsed": true
   },
   "outputs": [],
   "source": [
    "def save_bottlebeck_features():\n",
    "    datagen = ImageDataGenerator(rescale=1. / 255)\n",
    "\n",
    "    # build the VGG16 network\n",
    "    model = applications.VGG16(include_top=False, weights='imagenet', input_shape=input_shape)\n",
    "\n",
    "    generator = datagen.flow_from_directory(\n",
    "        train_data_dir,\n",
    "        target_size=(img_width, img_height),\n",
    "        batch_size=batch_size,\n",
    "        class_mode=None, # this means our generator will only yield batches of data, no labels\n",
    "        shuffle=False) # our data will be in order, so all first 1000 images will be cats, then 1000 dogs\n",
    "    \n",
    "    # the predict_generator method returns the output of a model, given\n",
    "    # a generator that yields batches of numpy data\n",
    "    bottleneck_features_train = model.predict_generator(\n",
    "        generator, nb_train_samples // batch_size)\n",
    "    \n",
    "    # save the output as a Numpy array\n",
    "    np.save(open('model_features/bottleneck_features_train.npy', 'wb'),\n",
    "            bottleneck_features_train)\n",
    "\n",
    "    generator = datagen.flow_from_directory(\n",
    "        validation_data_dir,\n",
    "        target_size=(img_width, img_height),\n",
    "        batch_size=batch_size,\n",
    "        class_mode=None,\n",
    "        shuffle=False)\n",
    "    \n",
    "    bottleneck_features_validation = model.predict_generator(\n",
    "        generator, nb_validation_samples // batch_size)\n",
    "    \n",
    "    np.save(open('model_features/bottleneck_features_validation.npy', 'wb'),\n",
    "            bottleneck_features_validation)"
   ]
  },
  {
   "cell_type": "code",
   "execution_count": 52,
   "metadata": {
    "collapsed": true
   },
   "outputs": [],
   "source": [
    "def train_top_model():\n",
    "    train_data = np.load(open('model_features/bottleneck_features_train.npy', 'rb'))\n",
    "    # the features were saved in order, so recreating the labels is easy\n",
    "    train_labels = np.array(\n",
    "        [0] * int((nb_train_samples / 2)) + [1] * int((nb_train_samples / 2)))\n",
    "\n",
    "    validation_data = np.load(open('model_features/bottleneck_features_validation.npy', 'rb'))\n",
    "    validation_labels = np.array(\n",
    "        [0] * int((nb_validation_samples / 2)) + [1] * int((nb_validation_samples / 2)))\n",
    "\n",
    "    model = Sequential()\n",
    "    model.add(Flatten(input_shape=train_data.shape[1:]))\n",
    "    model.add(Dense(256, activation='relu'))\n",
    "    model.add(Dropout(0.5))\n",
    "    model.add(Dense(1, activation='sigmoid'))\n",
    "\n",
    "    model.compile(optimizer='rmsprop',\n",
    "                  loss='binary_crossentropy', metrics=['accuracy'])\n",
    "\n",
    "    model.fit(train_data, train_labels,\n",
    "              epochs=epochs,\n",
    "              batch_size=batch_size,\n",
    "              validation_data=(validation_data, validation_labels))\n",
    "    \n",
    "    model.save_weights('model_weights/bottleneck_fc_model.h5')"
   ]
  },
  {
   "cell_type": "code",
   "execution_count": 48,
   "metadata": {},
   "outputs": [
    {
     "name": "stdout",
     "output_type": "stream",
     "text": [
      "Found 2000 images belonging to 2 classes.\n",
      "Found 800 images belonging to 2 classes.\n"
     ]
    }
   ],
   "source": [
    "save_bottlebeck_features()"
   ]
  },
  {
   "cell_type": "code",
   "execution_count": 53,
   "metadata": {
    "scrolled": false
   },
   "outputs": [
    {
     "name": "stdout",
     "output_type": "stream",
     "text": [
      "Train on 2000 samples, validate on 800 samples\n",
      "Epoch 1/50\n",
      "2000/2000 [==============================] - 1s 615us/step - loss: 0.7667 - acc: 0.7510 - val_loss: 0.3415 - val_acc: 0.8413\n",
      "Epoch 2/50\n",
      "2000/2000 [==============================] - 1s 424us/step - loss: 0.3860 - acc: 0.8315 - val_loss: 0.2971 - val_acc: 0.8612\n",
      "Epoch 3/50\n",
      "2000/2000 [==============================] - 1s 417us/step - loss: 0.3283 - acc: 0.8665 - val_loss: 0.9397 - val_acc: 0.7037\n",
      "Epoch 4/50\n",
      "2000/2000 [==============================] - 1s 417us/step - loss: 0.2904 - acc: 0.8835 - val_loss: 0.2595 - val_acc: 0.8900\n",
      "Epoch 5/50\n",
      "2000/2000 [==============================] - 1s 414us/step - loss: 0.2440 - acc: 0.9025 - val_loss: 0.2622 - val_acc: 0.9000\n",
      "Epoch 6/50\n",
      "2000/2000 [==============================] - 1s 412us/step - loss: 0.1949 - acc: 0.9180 - val_loss: 0.2721 - val_acc: 0.9038\n",
      "Epoch 7/50\n",
      "2000/2000 [==============================] - 1s 413us/step - loss: 0.2133 - acc: 0.9220 - val_loss: 0.2995 - val_acc: 0.8975\n",
      "Epoch 8/50\n",
      "2000/2000 [==============================] - 1s 412us/step - loss: 0.1524 - acc: 0.9365 - val_loss: 0.4423 - val_acc: 0.8738\n",
      "Epoch 9/50\n",
      "2000/2000 [==============================] - 1s 415us/step - loss: 0.1355 - acc: 0.9465 - val_loss: 0.8707 - val_acc: 0.8113\n",
      "Epoch 10/50\n",
      "2000/2000 [==============================] - 1s 412us/step - loss: 0.1315 - acc: 0.9475 - val_loss: 0.3186 - val_acc: 0.9012\n",
      "Epoch 11/50\n",
      "2000/2000 [==============================] - 1s 414us/step - loss: 0.1163 - acc: 0.9520 - val_loss: 0.5300 - val_acc: 0.8725\n",
      "Epoch 12/50\n",
      "2000/2000 [==============================] - 1s 416us/step - loss: 0.0978 - acc: 0.9620 - val_loss: 0.3621 - val_acc: 0.9000\n",
      "Epoch 13/50\n",
      "2000/2000 [==============================] - 1s 411us/step - loss: 0.1010 - acc: 0.9640 - val_loss: 0.5580 - val_acc: 0.8612\n",
      "Epoch 14/50\n",
      "2000/2000 [==============================] - 1s 409us/step - loss: 0.1023 - acc: 0.9615 - val_loss: 0.5033 - val_acc: 0.8812\n",
      "Epoch 15/50\n",
      "2000/2000 [==============================] - 1s 411us/step - loss: 0.0774 - acc: 0.9720 - val_loss: 0.4462 - val_acc: 0.8912\n",
      "Epoch 16/50\n",
      "2000/2000 [==============================] - 1s 411us/step - loss: 0.0953 - acc: 0.9670 - val_loss: 0.4728 - val_acc: 0.8975\n",
      "Epoch 17/50\n",
      "2000/2000 [==============================] - 1s 408us/step - loss: 0.0747 - acc: 0.9685 - val_loss: 0.5137 - val_acc: 0.8912\n",
      "Epoch 18/50\n",
      "2000/2000 [==============================] - 1s 410us/step - loss: 0.0557 - acc: 0.9770 - val_loss: 0.6303 - val_acc: 0.8788\n",
      "Epoch 19/50\n",
      "2000/2000 [==============================] - 1s 411us/step - loss: 0.0500 - acc: 0.9835 - val_loss: 0.5255 - val_acc: 0.8925\n",
      "Epoch 20/50\n",
      "2000/2000 [==============================] - 1s 409us/step - loss: 0.0444 - acc: 0.9820 - val_loss: 0.5506 - val_acc: 0.8862\n",
      "Epoch 21/50\n",
      "2000/2000 [==============================] - 1s 411us/step - loss: 0.0504 - acc: 0.9815 - val_loss: 0.6185 - val_acc: 0.8875\n",
      "Epoch 22/50\n",
      "2000/2000 [==============================] - 1s 407us/step - loss: 0.0458 - acc: 0.9825 - val_loss: 0.5780 - val_acc: 0.8925\n",
      "Epoch 23/50\n",
      "2000/2000 [==============================] - 1s 408us/step - loss: 0.0401 - acc: 0.9855 - val_loss: 0.7217 - val_acc: 0.8838\n",
      "Epoch 24/50\n",
      "2000/2000 [==============================] - 1s 409us/step - loss: 0.0505 - acc: 0.9850 - val_loss: 0.6164 - val_acc: 0.9025\n",
      "Epoch 25/50\n",
      "2000/2000 [==============================] - 1s 410us/step - loss: 0.0416 - acc: 0.9855 - val_loss: 0.8558 - val_acc: 0.8825\n",
      "Epoch 26/50\n",
      "2000/2000 [==============================] - 1s 409us/step - loss: 0.0305 - acc: 0.9880 - val_loss: 0.6759 - val_acc: 0.8912\n",
      "Epoch 27/50\n",
      "2000/2000 [==============================] - 1s 410us/step - loss: 0.0461 - acc: 0.9810 - val_loss: 0.6542 - val_acc: 0.8888\n",
      "Epoch 28/50\n",
      "2000/2000 [==============================] - 1s 408us/step - loss: 0.0320 - acc: 0.9870 - val_loss: 0.6570 - val_acc: 0.8938\n",
      "Epoch 29/50\n",
      "2000/2000 [==============================] - 1s 404us/step - loss: 0.0351 - acc: 0.9880 - val_loss: 0.7702 - val_acc: 0.8875\n",
      "Epoch 30/50\n",
      "2000/2000 [==============================] - 1s 406us/step - loss: 0.0351 - acc: 0.9905 - val_loss: 0.6986 - val_acc: 0.8962\n",
      "Epoch 31/50\n",
      "2000/2000 [==============================] - 1s 404us/step - loss: 0.0192 - acc: 0.9925 - val_loss: 0.6966 - val_acc: 0.8962\n",
      "Epoch 32/50\n",
      "2000/2000 [==============================] - 1s 405us/step - loss: 0.0217 - acc: 0.9915 - val_loss: 0.8420 - val_acc: 0.8888\n",
      "Epoch 33/50\n",
      "2000/2000 [==============================] - 1s 404us/step - loss: 0.0334 - acc: 0.9905 - val_loss: 0.8017 - val_acc: 0.8900\n",
      "Epoch 34/50\n",
      "2000/2000 [==============================] - 1s 405us/step - loss: 0.0329 - acc: 0.9920 - val_loss: 0.7938 - val_acc: 0.8938\n",
      "Epoch 35/50\n",
      "2000/2000 [==============================] - 1s 404us/step - loss: 0.0311 - acc: 0.9920 - val_loss: 0.8133 - val_acc: 0.8975\n",
      "Epoch 36/50\n",
      "2000/2000 [==============================] - 1s 405us/step - loss: 0.0192 - acc: 0.9935 - val_loss: 0.8418 - val_acc: 0.8912\n",
      "Epoch 37/50\n",
      "2000/2000 [==============================] - 1s 405us/step - loss: 0.0301 - acc: 0.9905 - val_loss: 0.8417 - val_acc: 0.8875\n",
      "Epoch 38/50\n",
      "2000/2000 [==============================] - 1s 408us/step - loss: 0.0076 - acc: 0.9975 - val_loss: 0.7823 - val_acc: 0.8938\n",
      "Epoch 39/50\n",
      "2000/2000 [==============================] - 1s 405us/step - loss: 0.0291 - acc: 0.9930 - val_loss: 0.9705 - val_acc: 0.8838\n",
      "Epoch 40/50\n",
      "2000/2000 [==============================] - 1s 406us/step - loss: 0.0193 - acc: 0.9940 - val_loss: 0.8726 - val_acc: 0.8925\n",
      "Epoch 41/50\n",
      "2000/2000 [==============================] - 1s 405us/step - loss: 0.0160 - acc: 0.9960 - val_loss: 0.9687 - val_acc: 0.8912\n",
      "Epoch 42/50\n",
      "2000/2000 [==============================] - 1s 402us/step - loss: 0.0303 - acc: 0.9905 - val_loss: 0.8618 - val_acc: 0.8888\n",
      "Epoch 43/50\n",
      "2000/2000 [==============================] - 1s 405us/step - loss: 0.0195 - acc: 0.9960 - val_loss: 0.8794 - val_acc: 0.8850\n",
      "Epoch 44/50\n",
      "2000/2000 [==============================] - 1s 404us/step - loss: 0.0160 - acc: 0.9965 - val_loss: 0.9032 - val_acc: 0.8875\n",
      "Epoch 45/50\n",
      "2000/2000 [==============================] - 1s 400us/step - loss: 0.0173 - acc: 0.9945 - val_loss: 0.9033 - val_acc: 0.8938\n",
      "Epoch 46/50\n",
      "2000/2000 [==============================] - 1s 402us/step - loss: 0.0194 - acc: 0.9940 - val_loss: 0.9217 - val_acc: 0.8862\n",
      "Epoch 47/50\n",
      "2000/2000 [==============================] - 1s 402us/step - loss: 0.0381 - acc: 0.9900 - val_loss: 0.8937 - val_acc: 0.8938\n",
      "Epoch 48/50\n",
      "2000/2000 [==============================] - 1s 402us/step - loss: 0.0048 - acc: 0.9980 - val_loss: 0.9375 - val_acc: 0.8938\n",
      "Epoch 49/50\n",
      "2000/2000 [==============================] - 1s 403us/step - loss: 0.0203 - acc: 0.9935 - val_loss: 0.8941 - val_acc: 0.8900\n",
      "Epoch 50/50\n",
      "2000/2000 [==============================] - 1s 401us/step - loss: 0.0105 - acc: 0.9965 - val_loss: 0.9793 - val_acc: 0.8900\n"
     ]
    }
   ],
   "source": [
    "train_top_model()"
   ]
  },
  {
   "cell_type": "markdown",
   "metadata": {},
   "source": [
    "## Fine-tuning the top layers of a a pre-trained network"
   ]
  },
  {
   "cell_type": "code",
   "execution_count": 9,
   "metadata": {
    "collapsed": true
   },
   "outputs": [],
   "source": [
    "from keras.models import Sequential\n",
    "from keras.models import Model\n",
    "from keras.layers import Conv2D, MaxPooling2D\n",
    "from keras.layers import Activation, Dropout, Flatten, Dense\n",
    "\n",
    "from keras import backend as K\n",
    "\n",
    "from keras import applications\n",
    "from keras import optimizers\n",
    "\n",
    "from keras.preprocessing.image import ImageDataGenerator"
   ]
  },
  {
   "cell_type": "code",
   "execution_count": 10,
   "metadata": {
    "collapsed": true
   },
   "outputs": [],
   "source": [
    "# dimensions of our images.\n",
    "img_width, img_height = 150, 150"
   ]
  },
  {
   "cell_type": "code",
   "execution_count": 11,
   "metadata": {
    "collapsed": true
   },
   "outputs": [],
   "source": [
    "if K.image_data_format() == 'channels_first':\n",
    "    input_shape = (3, img_width, img_height)\n",
    "else:\n",
    "    input_shape = (img_width, img_height, 3)"
   ]
  },
  {
   "cell_type": "code",
   "execution_count": 12,
   "metadata": {
    "collapsed": true
   },
   "outputs": [],
   "source": [
    "train_data_dir = 'data/cats-vs-dogs/sample/train'\n",
    "validation_data_dir = 'data/cats-vs-dogs/sample/valid'"
   ]
  },
  {
   "cell_type": "code",
   "execution_count": 13,
   "metadata": {
    "collapsed": true
   },
   "outputs": [],
   "source": [
    "nb_train_samples = 2000\n",
    "nb_validation_samples = 800\n",
    "\n",
    "epochs = 50\n",
    "batch_size = 16"
   ]
  },
  {
   "cell_type": "code",
   "execution_count": 14,
   "metadata": {
    "collapsed": true
   },
   "outputs": [],
   "source": [
    "top_model_weights_path = 'model_weights/bottleneck_fc_model.h5'"
   ]
  },
  {
   "cell_type": "code",
   "execution_count": 15,
   "metadata": {
    "collapsed": true
   },
   "outputs": [],
   "source": [
    "base_model = applications.VGG16(weights='imagenet', include_top=False, input_shape=input_shape)"
   ]
  },
  {
   "cell_type": "code",
   "execution_count": 25,
   "metadata": {
    "scrolled": false
   },
   "outputs": [
    {
     "name": "stdout",
     "output_type": "stream",
     "text": [
      "Found 2000 images belonging to 2 classes.\n",
      "Found 800 images belonging to 2 classes.\n",
      "_________________________________________________________________\n",
      "Layer (type)                 Output Shape              Param #   \n",
      "=================================================================\n",
      "input_6 (InputLayer)         (None, 150, 150, 3)       0         \n",
      "_________________________________________________________________\n",
      "block1_conv1 (Conv2D)        (None, 150, 150, 64)      1792      \n",
      "_________________________________________________________________\n",
      "block1_conv2 (Conv2D)        (None, 150, 150, 64)      36928     \n",
      "_________________________________________________________________\n",
      "block1_pool (MaxPooling2D)   (None, 75, 75, 64)        0         \n",
      "_________________________________________________________________\n",
      "block2_conv1 (Conv2D)        (None, 75, 75, 128)       73856     \n",
      "_________________________________________________________________\n",
      "block2_conv2 (Conv2D)        (None, 75, 75, 128)       147584    \n",
      "_________________________________________________________________\n",
      "block2_pool (MaxPooling2D)   (None, 37, 37, 128)       0         \n",
      "_________________________________________________________________\n",
      "block3_conv1 (Conv2D)        (None, 37, 37, 256)       295168    \n",
      "_________________________________________________________________\n",
      "block3_conv2 (Conv2D)        (None, 37, 37, 256)       590080    \n",
      "_________________________________________________________________\n",
      "block3_conv3 (Conv2D)        (None, 37, 37, 256)       590080    \n",
      "_________________________________________________________________\n",
      "block3_pool (MaxPooling2D)   (None, 18, 18, 256)       0         \n",
      "_________________________________________________________________\n",
      "block4_conv1 (Conv2D)        (None, 18, 18, 512)       1180160   \n",
      "_________________________________________________________________\n",
      "block4_conv2 (Conv2D)        (None, 18, 18, 512)       2359808   \n",
      "_________________________________________________________________\n",
      "block4_conv3 (Conv2D)        (None, 18, 18, 512)       2359808   \n",
      "_________________________________________________________________\n",
      "block4_pool (MaxPooling2D)   (None, 9, 9, 512)         0         \n",
      "_________________________________________________________________\n",
      "block5_conv1 (Conv2D)        (None, 9, 9, 512)         2359808   \n",
      "_________________________________________________________________\n",
      "block5_conv2 (Conv2D)        (None, 9, 9, 512)         2359808   \n",
      "_________________________________________________________________\n",
      "block5_conv3 (Conv2D)        (None, 9, 9, 512)         2359808   \n",
      "_________________________________________________________________\n",
      "block5_pool (MaxPooling2D)   (None, 4, 4, 512)         0         \n",
      "_________________________________________________________________\n",
      "sequential_5 (Sequential)    (None, 1)                 2097665   \n",
      "=================================================================\n",
      "Total params: 16,812,353\n",
      "Trainable params: 9,177,089\n",
      "Non-trainable params: 7,635,264\n",
      "_________________________________________________________________\n",
      "Epoch 1/50\n",
      " - 21s - loss: 0.5714 - acc: 0.8055 - val_loss: 0.2842 - val_acc: 0.8825\n",
      "Epoch 2/50\n",
      " - 21s - loss: 0.3108 - acc: 0.8775 - val_loss: 0.2951 - val_acc: 0.8912\n",
      "Epoch 3/50\n",
      " - 21s - loss: 0.2468 - acc: 0.8985 - val_loss: 0.2713 - val_acc: 0.9062\n",
      "Epoch 4/50\n",
      " - 21s - loss: 0.1708 - acc: 0.9350 - val_loss: 0.3004 - val_acc: 0.9237\n",
      "Epoch 5/50\n",
      " - 20s - loss: 0.1712 - acc: 0.9435 - val_loss: 0.2678 - val_acc: 0.9125\n",
      "Epoch 6/50\n",
      " - 21s - loss: 0.1272 - acc: 0.9520 - val_loss: 0.2652 - val_acc: 0.9150\n",
      "Epoch 7/50\n",
      " - 21s - loss: 0.1169 - acc: 0.9580 - val_loss: 0.2431 - val_acc: 0.9250\n",
      "Epoch 8/50\n",
      " - 21s - loss: 0.0969 - acc: 0.9625 - val_loss: 0.2650 - val_acc: 0.9213\n",
      "Epoch 9/50\n",
      " - 21s - loss: 0.0840 - acc: 0.9695 - val_loss: 0.2846 - val_acc: 0.9100\n",
      "Epoch 10/50\n",
      " - 21s - loss: 0.0865 - acc: 0.9695 - val_loss: 0.3841 - val_acc: 0.9163\n",
      "Epoch 11/50\n",
      " - 20s - loss: 0.0883 - acc: 0.9690 - val_loss: 0.2959 - val_acc: 0.9137\n",
      "Epoch 12/50\n",
      " - 21s - loss: 0.0761 - acc: 0.9710 - val_loss: 0.4007 - val_acc: 0.9175\n",
      "Epoch 13/50\n",
      " - 21s - loss: 0.0993 - acc: 0.9700 - val_loss: 0.3130 - val_acc: 0.9150\n",
      "Epoch 14/50\n",
      " - 21s - loss: 0.0461 - acc: 0.9845 - val_loss: 0.3410 - val_acc: 0.9137\n",
      "Epoch 15/50\n",
      " - 21s - loss: 0.0384 - acc: 0.9885 - val_loss: 0.4559 - val_acc: 0.9100\n",
      "Epoch 16/50\n",
      " - 21s - loss: 0.0491 - acc: 0.9835 - val_loss: 0.3043 - val_acc: 0.9200\n",
      "Epoch 17/50\n",
      " - 21s - loss: 0.0394 - acc: 0.9880 - val_loss: 0.2957 - val_acc: 0.9337\n",
      "Epoch 18/50\n",
      " - 20s - loss: 0.0334 - acc: 0.9890 - val_loss: 0.3468 - val_acc: 0.9287\n",
      "Epoch 19/50\n",
      " - 21s - loss: 0.0312 - acc: 0.9895 - val_loss: 0.3495 - val_acc: 0.9325\n",
      "Epoch 20/50\n",
      " - 21s - loss: 0.0299 - acc: 0.9890 - val_loss: 0.3401 - val_acc: 0.9263\n",
      "Epoch 21/50\n",
      " - 21s - loss: 0.0387 - acc: 0.9870 - val_loss: 0.3450 - val_acc: 0.9187\n",
      "Epoch 22/50\n",
      " - 21s - loss: 0.0395 - acc: 0.9870 - val_loss: 0.4106 - val_acc: 0.9250\n",
      "Epoch 23/50\n",
      " - 20s - loss: 0.0290 - acc: 0.9885 - val_loss: 0.3347 - val_acc: 0.9325\n",
      "Epoch 24/50\n",
      " - 20s - loss: 0.0348 - acc: 0.9875 - val_loss: 0.3260 - val_acc: 0.9263\n",
      "Epoch 25/50\n",
      " - 21s - loss: 0.0189 - acc: 0.9940 - val_loss: 0.3338 - val_acc: 0.9313\n",
      "Epoch 26/50\n",
      " - 21s - loss: 0.0204 - acc: 0.9935 - val_loss: 0.3656 - val_acc: 0.9275\n",
      "Epoch 27/50\n",
      " - 21s - loss: 0.0185 - acc: 0.9920 - val_loss: 0.4361 - val_acc: 0.9225\n",
      "Epoch 28/50\n",
      " - 21s - loss: 0.0099 - acc: 0.9970 - val_loss: 0.4151 - val_acc: 0.9263\n",
      "Epoch 29/50\n",
      " - 21s - loss: 0.0209 - acc: 0.9920 - val_loss: 0.3684 - val_acc: 0.9275\n",
      "Epoch 30/50\n",
      " - 21s - loss: 0.0229 - acc: 0.9910 - val_loss: 0.3346 - val_acc: 0.9325\n",
      "Epoch 31/50\n",
      " - 21s - loss: 0.0199 - acc: 0.9910 - val_loss: 0.3879 - val_acc: 0.9263\n",
      "Epoch 32/50\n",
      " - 20s - loss: 0.0225 - acc: 0.9920 - val_loss: 0.4040 - val_acc: 0.9275\n",
      "Epoch 33/50\n",
      " - 21s - loss: 0.0169 - acc: 0.9925 - val_loss: 0.5196 - val_acc: 0.8850\n",
      "Epoch 34/50\n",
      " - 21s - loss: 0.0167 - acc: 0.9940 - val_loss: 0.4316 - val_acc: 0.9237\n",
      "Epoch 35/50\n",
      " - 21s - loss: 0.0262 - acc: 0.9920 - val_loss: 0.3403 - val_acc: 0.9275\n",
      "Epoch 36/50\n",
      " - 21s - loss: 0.0226 - acc: 0.9920 - val_loss: 0.3666 - val_acc: 0.9337\n",
      "Epoch 37/50\n",
      " - 21s - loss: 0.0109 - acc: 0.9965 - val_loss: 0.3815 - val_acc: 0.9325\n",
      "Epoch 38/50\n",
      " - 21s - loss: 0.0072 - acc: 0.9970 - val_loss: 0.4125 - val_acc: 0.9300\n",
      "Epoch 39/50\n",
      " - 20s - loss: 0.0083 - acc: 0.9975 - val_loss: 0.4400 - val_acc: 0.9313\n",
      "Epoch 40/50\n",
      " - 21s - loss: 0.0131 - acc: 0.9960 - val_loss: 0.4547 - val_acc: 0.9287\n",
      "Epoch 41/50\n",
      " - 21s - loss: 0.0107 - acc: 0.9970 - val_loss: 0.3943 - val_acc: 0.9275\n",
      "Epoch 42/50\n",
      " - 21s - loss: 0.0126 - acc: 0.9970 - val_loss: 0.4241 - val_acc: 0.9275\n",
      "Epoch 43/50\n",
      " - 21s - loss: 0.0077 - acc: 0.9980 - val_loss: 0.4199 - val_acc: 0.9337\n",
      "Epoch 44/50\n",
      " - 21s - loss: 0.0109 - acc: 0.9960 - val_loss: 0.4668 - val_acc: 0.9137\n",
      "Epoch 45/50\n",
      " - 21s - loss: 0.0130 - acc: 0.9960 - val_loss: 0.4124 - val_acc: 0.9163\n",
      "Epoch 46/50\n",
      " - 20s - loss: 0.0187 - acc: 0.9925 - val_loss: 0.3794 - val_acc: 0.9300\n",
      "Epoch 47/50\n",
      " - 21s - loss: 0.0184 - acc: 0.9950 - val_loss: 0.3705 - val_acc: 0.9200\n",
      "Epoch 48/50\n",
      " - 20s - loss: 0.0091 - acc: 0.9970 - val_loss: 0.4619 - val_acc: 0.9350\n",
      "Epoch 49/50\n",
      " - 21s - loss: 0.0212 - acc: 0.9940 - val_loss: 0.3939 - val_acc: 0.9263\n",
      "Epoch 50/50\n",
      " - 21s - loss: 0.0058 - acc: 0.9985 - val_loss: 0.4306 - val_acc: 0.9325\n"
     ]
    },
    {
     "data": {
      "text/plain": [
       "<keras.callbacks.History at 0x7fe68b5f2978>"
      ]
     },
     "execution_count": 25,
     "metadata": {},
     "output_type": "execute_result"
    }
   ],
   "source": [
    "# build the VGG16 network\n",
    "base_model = applications.VGG16(weights='imagenet', include_top=False, input_shape=input_shape)\n",
    "#model = applications.VGG16(weights='imagenet', include_top=False, input_shape=input_shape)\n",
    "\n",
    "# build a classifier model to put on top of the convolutional model\n",
    "top_model = Sequential()\n",
    "top_model.add(Flatten(input_shape=base_model.output_shape[1:]))\n",
    "top_model.add(Dense(256, activation='relu'))\n",
    "top_model.add(Dropout(0.5))\n",
    "top_model.add(Dense(1, activation='sigmoid'))\n",
    "\n",
    "# note that it is necessary to start with a fully-trained\n",
    "# classifier, including the top classifier,\n",
    "# in order to successfully do fine-tuning\n",
    "top_model.load_weights(top_model_weights_path)\n",
    "\n",
    "# add the model on top of the convolutional base\n",
    "#model.add(top_model)\n",
    "model = Model(inputs=base_model.input, outputs=top_model(base_model.output))\n",
    "\n",
    "# set the first 25 layers (up to the last conv block)\n",
    "# to non-trainable (weights will not be updated)\n",
    "for layer in model.layers[:15]:\n",
    "    layer.trainable = False\n",
    "\n",
    "# compile the model with a SGD/momentum optimizer\n",
    "# and a very slow learning rate.\n",
    "model.compile(loss='binary_crossentropy',\n",
    "              optimizer=optimizers.SGD(lr=1e-4, momentum=0.9),\n",
    "              metrics=['accuracy'])\n",
    "\n",
    "# prepare data augmentation configuration\n",
    "train_datagen = ImageDataGenerator(\n",
    "    rescale=1. / 255,\n",
    "    shear_range=0.2,\n",
    "    zoom_range=0.2,\n",
    "    horizontal_flip=True)\n",
    "\n",
    "test_datagen = ImageDataGenerator(rescale=1. / 255)\n",
    "\n",
    "train_generator = train_datagen.flow_from_directory(\n",
    "    train_data_dir,\n",
    "    target_size=(img_height, img_width),\n",
    "    batch_size=batch_size,\n",
    "    class_mode='binary')\n",
    "\n",
    "validation_generator = test_datagen.flow_from_directory(\n",
    "    validation_data_dir,\n",
    "    target_size=(img_height, img_width),\n",
    "    batch_size=batch_size,\n",
    "    class_mode='binary')\n",
    "\n",
    "model.summary()\n",
    "\n",
    "# fine-tune the model\n",
    "model.fit_generator(\n",
    "    train_generator,\n",
    "    steps_per_epoch=nb_train_samples // batch_size,\n",
    "    epochs=epochs,\n",
    "    validation_data=validation_generator,\n",
    "    validation_steps=nb_validation_samples // batch_size,\n",
    "    verbose=2)"
   ]
  },
  {
   "cell_type": "code",
   "execution_count": null,
   "metadata": {
    "collapsed": true
   },
   "outputs": [],
   "source": []
  },
  {
   "cell_type": "code",
   "execution_count": null,
   "metadata": {
    "collapsed": true
   },
   "outputs": [],
   "source": []
  }
 ],
 "metadata": {
  "kernelspec": {
   "display_name": "Python 3",
   "language": "python",
   "name": "python3"
  },
  "language_info": {
   "codemirror_mode": {
    "name": "ipython",
    "version": 3
   },
   "file_extension": ".py",
   "mimetype": "text/x-python",
   "name": "python",
   "nbconvert_exporter": "python",
   "pygments_lexer": "ipython3",
   "version": "3.5.3"
  }
 },
 "nbformat": 4,
 "nbformat_minor": 2
}
