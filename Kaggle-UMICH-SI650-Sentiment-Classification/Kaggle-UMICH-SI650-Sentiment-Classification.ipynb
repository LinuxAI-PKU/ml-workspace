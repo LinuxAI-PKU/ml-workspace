{
 "cells": [
  {
   "cell_type": "code",
   "execution_count": 1,
   "metadata": {},
   "outputs": [
    {
     "name": "stderr",
     "output_type": "stream",
     "text": [
      "Using TensorFlow backend.\n"
     ]
    }
   ],
   "source": [
    "import numpy as np\n",
    "import pandas as pd\n",
    "\n",
    "import collections\n",
    "\n",
    "import re, nltk\n",
    "\n",
    "from keras.layers.core import Dense, Dropout, SpatialDropout1D\n",
    "from keras.layers.convolutional import Conv1D\n",
    "from keras.layers.embeddings import Embedding\n",
    "from keras.layers.pooling import GlobalMaxPooling1D\n",
    "from keras.models import Sequential\n",
    "from keras.preprocessing.sequence import pad_sequences\n",
    "from keras.utils import np_utils\n",
    "\n",
    "from sklearn.model_selection import train_test_split\n",
    "\n",
    "# Visualization\n",
    "import seaborn as sns\n",
    "\n",
    "# this allows plots to appear directly in the notebook\n",
    "import matplotlib.pyplot as plt"
   ]
  },
  {
   "cell_type": "code",
   "execution_count": 2,
   "metadata": {
    "collapsed": true
   },
   "outputs": [],
   "source": [
    "%matplotlib inline\n",
    "%config InlineBackend.figure_format = 'retina'"
   ]
  },
  {
   "cell_type": "code",
   "execution_count": 3,
   "metadata": {
    "collapsed": true
   },
   "outputs": [],
   "source": [
    "pd.set_option(\"display.max_colwidth\", 500)"
   ]
  },
  {
   "cell_type": "code",
   "execution_count": 4,
   "metadata": {
    "collapsed": true
   },
   "outputs": [],
   "source": [
    "np.random.seed(42)\n",
    "random_state = 42"
   ]
  },
  {
   "cell_type": "code",
   "execution_count": 5,
   "metadata": {
    "collapsed": true
   },
   "outputs": [],
   "source": [
    "train_data_df  = pd.read_table('data/UMICH_SI650_train_data.txt', names=['sentiment', 'comment'], header=None, delimiter=\"\\t\", quoting=3)\n",
    "test_data_df  = pd.read_table('data/UMICH_SI650_test_data.txt', names=['comment'], header=None, delimiter=\"\\t\", quoting=3)"
   ]
  },
  {
   "cell_type": "code",
   "execution_count": 6,
   "metadata": {},
   "outputs": [
    {
     "data": {
      "text/html": [
       "<div>\n",
       "<style>\n",
       "    .dataframe thead tr:only-child th {\n",
       "        text-align: right;\n",
       "    }\n",
       "\n",
       "    .dataframe thead th {\n",
       "        text-align: left;\n",
       "    }\n",
       "\n",
       "    .dataframe tbody tr th {\n",
       "        vertical-align: top;\n",
       "    }\n",
       "</style>\n",
       "<table border=\"1\" class=\"dataframe\">\n",
       "  <thead>\n",
       "    <tr style=\"text-align: right;\">\n",
       "      <th></th>\n",
       "      <th>sentiment</th>\n",
       "      <th>comment</th>\n",
       "    </tr>\n",
       "  </thead>\n",
       "  <tbody>\n",
       "    <tr>\n",
       "      <th>0</th>\n",
       "      <td>1</td>\n",
       "      <td>The Da Vinci Code book is just awesome.</td>\n",
       "    </tr>\n",
       "    <tr>\n",
       "      <th>1</th>\n",
       "      <td>1</td>\n",
       "      <td>this was the first clive cussler i've ever read, but even books like Relic, and Da Vinci code were more plausible than this.</td>\n",
       "    </tr>\n",
       "    <tr>\n",
       "      <th>2</th>\n",
       "      <td>1</td>\n",
       "      <td>i liked the Da Vinci Code a lot.</td>\n",
       "    </tr>\n",
       "    <tr>\n",
       "      <th>3</th>\n",
       "      <td>1</td>\n",
       "      <td>i liked the Da Vinci Code a lot.</td>\n",
       "    </tr>\n",
       "    <tr>\n",
       "      <th>4</th>\n",
       "      <td>1</td>\n",
       "      <td>I liked the Da Vinci Code but it ultimatly didn't seem to hold it's own.</td>\n",
       "    </tr>\n",
       "  </tbody>\n",
       "</table>\n",
       "</div>"
      ],
      "text/plain": [
       "   sentiment  \\\n",
       "0          1   \n",
       "1          1   \n",
       "2          1   \n",
       "3          1   \n",
       "4          1   \n",
       "\n",
       "                                                                                                                        comment  \n",
       "0                                                                                       The Da Vinci Code book is just awesome.  \n",
       "1  this was the first clive cussler i've ever read, but even books like Relic, and Da Vinci code were more plausible than this.  \n",
       "2                                                                                              i liked the Da Vinci Code a lot.  \n",
       "3                                                                                              i liked the Da Vinci Code a lot.  \n",
       "4                                                      I liked the Da Vinci Code but it ultimatly didn't seem to hold it's own.  "
      ]
     },
     "execution_count": 6,
     "metadata": {},
     "output_type": "execute_result"
    }
   ],
   "source": [
    "train_data_df.head(5)"
   ]
  },
  {
   "cell_type": "code",
   "execution_count": 7,
   "metadata": {},
   "outputs": [
    {
     "data": {
      "text/html": [
       "<div>\n",
       "<style>\n",
       "    .dataframe thead tr:only-child th {\n",
       "        text-align: right;\n",
       "    }\n",
       "\n",
       "    .dataframe thead th {\n",
       "        text-align: left;\n",
       "    }\n",
       "\n",
       "    .dataframe tbody tr th {\n",
       "        vertical-align: top;\n",
       "    }\n",
       "</style>\n",
       "<table border=\"1\" class=\"dataframe\">\n",
       "  <thead>\n",
       "    <tr style=\"text-align: right;\">\n",
       "      <th></th>\n",
       "      <th>comment</th>\n",
       "    </tr>\n",
       "  </thead>\n",
       "  <tbody>\n",
       "    <tr>\n",
       "      <th>0</th>\n",
       "      <td>\" I don't care what anyone says, I like Hillary Clinton.</td>\n",
       "    </tr>\n",
       "    <tr>\n",
       "      <th>1</th>\n",
       "      <td>have an awesome time at purdue!..</td>\n",
       "    </tr>\n",
       "    <tr>\n",
       "      <th>2</th>\n",
       "      <td>Yep, I'm still in London, which is pretty awesome: P Remind me to post the million and one pictures that I took when I get back to Markham!...</td>\n",
       "    </tr>\n",
       "    <tr>\n",
       "      <th>3</th>\n",
       "      <td>Have to say, I hate Paris Hilton's behavior but I do think she's kinda cute..</td>\n",
       "    </tr>\n",
       "    <tr>\n",
       "      <th>4</th>\n",
       "      <td>i will love the lakers.</td>\n",
       "    </tr>\n",
       "  </tbody>\n",
       "</table>\n",
       "</div>"
      ],
      "text/plain": [
       "                                                                                                                                          comment\n",
       "0                                                                                        \" I don't care what anyone says, I like Hillary Clinton.\n",
       "1                                                                                                               have an awesome time at purdue!..\n",
       "2  Yep, I'm still in London, which is pretty awesome: P Remind me to post the million and one pictures that I took when I get back to Markham!...\n",
       "3                                                                   Have to say, I hate Paris Hilton's behavior but I do think she's kinda cute..\n",
       "4                                                                                                                         i will love the lakers."
      ]
     },
     "execution_count": 7,
     "metadata": {},
     "output_type": "execute_result"
    }
   ],
   "source": [
    "test_data_df.head(5)"
   ]
  },
  {
   "cell_type": "code",
   "execution_count": 8,
   "metadata": {},
   "outputs": [
    {
     "data": {
      "text/plain": [
       "1    3995\n",
       "0    3091\n",
       "Name: sentiment, dtype: int64"
      ]
     },
     "execution_count": 8,
     "metadata": {},
     "output_type": "execute_result"
    }
   ],
   "source": [
    "# Inspect how many are positive sentiment and how many are negative\n",
    "train_data_df.sentiment.value_counts()"
   ]
  },
  {
   "cell_type": "code",
   "execution_count": 9,
   "metadata": {},
   "outputs": [
    {
     "data": {
      "image/png": "[encoded data removed]",
      "text/plain": [
       "<matplotlib.figure.Figure at 0x185504ef128>"
      ]
     },
     "metadata": {
      "image/png": {
       "height": 262,
       "width": 375
      }
     },
     "output_type": "display_data"
    }
   ],
   "source": [
    "sns.countplot(y='sentiment', data=train_data_df);"
   ]
  },
  {
   "cell_type": "code",
   "execution_count": 10,
   "metadata": {
    "collapsed": true
   },
   "outputs": [],
   "source": [
    "INPUT_FILE = \"../data/umich-sentiment-train.txt\"\n",
    "VOCAB_SIZE = 5000\n",
    "EMBED_SIZE = 100\n",
    "NUM_FILTERS = 256\n",
    "NUM_WORDS = 3\n",
    "BATCH_SIZE = 64\n",
    "NUM_EPOCHS = 20"
   ]
  },
  {
   "cell_type": "code",
   "execution_count": 11,
   "metadata": {},
   "outputs": [],
   "source": [
    "counter = collections.Counter()\n",
    "with open(file='data/UMICH_SI650_train_data.txt', mode='r', encoding='utf-8') as fin:\n",
    "    maxlen = 0\n",
    "    for line in fin:\n",
    "        label, sentence = line.strip().split('\\t')\n",
    "        sentence = re.sub(\"[^a-zA-Z]\", \" \", sentence)\n",
    "        stop_words = set(nltk.corpus.stopwords.words('english'))\n",
    "        words = [token.lower() for token in nltk.word_tokenize(sentence) if not token in stop_words]\n",
    "        if len(words) > maxlen:\n",
    "            maxlen = len(words)\n",
    "        for word in words:\n",
    "            counter[word] += 1"
   ]
  },
  {
   "cell_type": "code",
   "execution_count": 12,
   "metadata": {},
   "outputs": [],
   "source": [
    "word2index = collections.defaultdict(int)\n",
    "for wid, word in enumerate(counter.most_common(VOCAB_SIZE)):\n",
    "    word2index[word[0]] = wid + 1\n",
    "vocab_size = len(word2index) + 1\n",
    "index2word = {k:v for k, v in word2index.items()}"
   ]
  },
  {
   "cell_type": "markdown",
   "metadata": {},
   "source": [
    "We pad each of our sentences to predetermined length maxlen (in this case the number of words in the longest sentence in the training set). We also convert our labels to categorical format using a Keras utility function. The last two steps are a standard workflow for handling text input that we will see again and again:"
   ]
  },
  {
   "cell_type": "code",
   "execution_count": 13,
   "metadata": {
    "collapsed": true
   },
   "outputs": [],
   "source": [
    "xs, ys = [], []\n",
    "with open(file='data/UMICH_SI650_train_data.txt', mode='r', encoding='utf-8') as fin:\n",
    "    for line in fin:\n",
    "        label, sentence = line.strip().split('\\t')\n",
    "        sentence = re.sub(\"[^a-zA-Z]\", \" \", sentence)\n",
    "        ys.append(int(label))\n",
    "        stop_words = set(nltk.corpus.stopwords.words('english'))\n",
    "        words = [token.lower() for token in nltk.word_tokenize(sentence) if not token in stop_words]\n",
    "        wids = [word2index[word] for word in words]\n",
    "        xs.append(wids)"
   ]
  },
  {
   "cell_type": "code",
   "execution_count": 14,
   "metadata": {
    "collapsed": true
   },
   "outputs": [],
   "source": [
    "X = pad_sequences(xs, maxlen=maxlen)\n",
    "y = np_utils.to_categorical(ys)"
   ]
  },
  {
   "cell_type": "code",
   "execution_count": 15,
   "metadata": {},
   "outputs": [],
   "source": [
    "X_train, X_test, y_train, y_test = train_test_split(X, y, test_size=0.3, random_state=random_state)"
   ]
  },
  {
   "cell_type": "code",
   "execution_count": 16,
   "metadata": {},
   "outputs": [],
   "source": [
    "model = Sequential()\n",
    "model.add(Embedding(input_dim=vocab_size, output_dim=EMBED_SIZE, input_length=maxlen))\n",
    "model.add(SpatialDropout1D(0.2))\n",
    "model.add(Conv1D(filters=NUM_FILTERS, kernel_size=NUM_WORDS, activation='relu'))\n",
    "model.add(GlobalMaxPooling1D())\n",
    "model.add(Dense(2, activation='softmax'))"
   ]
  },
  {
   "cell_type": "code",
   "execution_count": 17,
   "metadata": {
    "collapsed": true
   },
   "outputs": [],
   "source": [
    "model.compile(loss='categorical_crossentropy', optimizer='adam', metrics=['accuracy'])"
   ]
  },
  {
   "cell_type": "code",
   "execution_count": 18,
   "metadata": {},
   "outputs": [
    {
     "name": "stdout",
     "output_type": "stream",
     "text": [
      "Train on 4960 samples, validate on 2126 samples\n",
      "Epoch 1/20\n",
      "4960/4960 [==============================] - 3s - loss: 0.2671 - acc: 0.9016 - val_loss: 0.0336 - val_acc: 0.9878\n",
      "Epoch 2/20\n",
      "4960/4960 [==============================] - 0s - loss: 0.0139 - acc: 0.9966 - val_loss: 0.0175 - val_acc: 0.9929\n",
      "Epoch 3/20\n",
      "4960/4960 [==============================] - 0s - loss: 0.0041 - acc: 0.9996 - val_loss: 0.0152 - val_acc: 0.9934\n",
      "Epoch 4/20\n",
      "4960/4960 [==============================] - 0s - loss: 0.0024 - acc: 0.9994 - val_loss: 0.0150 - val_acc: 0.9944\n",
      "Epoch 5/20\n",
      "4960/4960 [==============================] - 0s - loss: 0.0012 - acc: 0.9996 - val_loss: 0.0137 - val_acc: 0.9929\n",
      "Epoch 6/20\n",
      "4960/4960 [==============================] - 0s - loss: 0.0014 - acc: 0.9998 - val_loss: 0.0134 - val_acc: 0.9939\n",
      "Epoch 7/20\n",
      "4960/4960 [==============================] - 0s - loss: 0.0011 - acc: 0.9998 - val_loss: 0.0138 - val_acc: 0.9948\n",
      "Epoch 8/20\n",
      "4960/4960 [==============================] - 0s - loss: 0.0014 - acc: 0.9996 - val_loss: 0.0137 - val_acc: 0.9948\n",
      "Epoch 9/20\n",
      "4960/4960 [==============================] - 0s - loss: 0.0014 - acc: 0.9996 - val_loss: 0.0131 - val_acc: 0.9944\n",
      "Epoch 10/20\n",
      "4960/4960 [==============================] - 0s - loss: 7.2479e-04 - acc: 0.9998 - val_loss: 0.0131 - val_acc: 0.9944\n",
      "Epoch 11/20\n",
      "4960/4960 [==============================] - 0s - loss: 8.0882e-04 - acc: 0.9998 - val_loss: 0.0141 - val_acc: 0.9944\n",
      "Epoch 12/20\n",
      "4960/4960 [==============================] - 0s - loss: 8.2620e-04 - acc: 0.9998 - val_loss: 0.0127 - val_acc: 0.9944\n",
      "Epoch 13/20\n",
      "4960/4960 [==============================] - 0s - loss: 8.5376e-04 - acc: 0.9996 - val_loss: 0.0126 - val_acc: 0.9944\n",
      "Epoch 14/20\n",
      "4960/4960 [==============================] - 0s - loss: 0.0010 - acc: 0.9996 - val_loss: 0.0131 - val_acc: 0.9944\n",
      "Epoch 15/20\n",
      "4960/4960 [==============================] - 0s - loss: 7.0550e-04 - acc: 0.9998 - val_loss: 0.0137 - val_acc: 0.9948\n",
      "Epoch 16/20\n",
      "4960/4960 [==============================] - 0s - loss: 9.8366e-04 - acc: 0.9996 - val_loss: 0.0139 - val_acc: 0.9944\n",
      "Epoch 17/20\n",
      "4960/4960 [==============================] - 0s - loss: 8.8637e-04 - acc: 0.9998 - val_loss: 0.0127 - val_acc: 0.9939\n",
      "Epoch 18/20\n",
      "4960/4960 [==============================] - 0s - loss: 6.7791e-04 - acc: 0.9998 - val_loss: 0.0133 - val_acc: 0.9948\n",
      "Epoch 19/20\n",
      "4960/4960 [==============================] - 0s - loss: 6.0722e-04 - acc: 0.9998 - val_loss: 0.0125 - val_acc: 0.9939\n",
      "Epoch 20/20\n",
      "4960/4960 [==============================] - 0s - loss: 8.6234e-04 - acc: 0.9998 - val_loss: 0.0139 - val_acc: 0.9953\n"
     ]
    }
   ],
   "source": [
    "history = model.fit(X_train, y_train, \n",
    "                    batch_size=BATCH_SIZE, \n",
    "                    epochs=NUM_EPOCHS, \n",
    "                    validation_data=(X_test, y_test), \n",
    "                    shuffle=True)"
   ]
  },
  {
   "cell_type": "code",
   "execution_count": 19,
   "metadata": {},
   "outputs": [
    {
     "data": {
      "image/png": "[encoded data removed]",
      "text/plain": [
       "<matplotlib.figure.Figure at 0x185e0473eb8>"
      ]
     },
     "metadata": {
      "image/png": {
       "height": 282,
       "width": 424
      }
     },
     "output_type": "display_data"
    }
   ],
   "source": [
    "# plot loss function\n",
    "plt.subplot(211)\n",
    "plt.title(\"accuracy\")\n",
    "plt.plot(history.history[\"acc\"], color=\"r\", label=\"train\")\n",
    "plt.plot(history.history[\"val_acc\"], color=\"b\", label=\"validation\")\n",
    "plt.legend(loc=\"best\")\n",
    "\n",
    "plt.subplot(212)\n",
    "plt.title(\"loss\")\n",
    "plt.plot(history.history[\"loss\"], color=\"r\", label=\"train\")\n",
    "plt.plot(history.history[\"val_loss\"], color=\"b\", label=\"validation\")\n",
    "plt.legend(loc=\"best\")\n",
    "\n",
    "plt.tight_layout()\n",
    "#plt.show()"
   ]
  },
  {
   "cell_type": "code",
   "execution_count": 20,
   "metadata": {},
   "outputs": [
    {
     "name": "stdout",
     "output_type": "stream",
     "text": [
      "Test score: 0.014, accuracy: 0.995\n"
     ]
    }
   ],
   "source": [
    "# evaluate model\n",
    "score = model.evaluate(X_test, y_test, verbose=0)\n",
    "print(\"Test score: {:.3f}, accuracy: {:.3f}\".format(score[0], score[1]))"
   ]
  },
  {
   "cell_type": "markdown",
   "metadata": {},
   "source": [
    "## Fine-tuning learned embeddings from word2vec\n",
    "\n",
    "In this example, we will use the same network as the one we used to learn our embeddings from scratch. In terms of code, the only major difference is an extra block of code to load the word2vec model and build up the weight matrix for the embedding layer.\n",
    "\n",
    "As always, we start with the imports and set up a random seed for repeatability. In addition to the imports we have seen previously, there is an additional one to import the word2vec model from gensim:"
   ]
  },
  {
   "cell_type": "code",
   "execution_count": 33,
   "metadata": {},
   "outputs": [],
   "source": [
    "import numpy as np\n",
    "import pandas as pd\n",
    "\n",
    "import collections\n",
    "\n",
    "import re, nltk\n",
    "\n",
    "from keras.layers.core import Dense, Dropout, SpatialDropout1D\n",
    "from keras.layers.convolutional import Conv1D\n",
    "from keras.layers.embeddings import Embedding\n",
    "from keras.layers.pooling import GlobalMaxPooling1D\n",
    "from keras.models import Sequential\n",
    "from keras.preprocessing.sequence import pad_sequences\n",
    "from keras.utils import np_utils\n",
    "\n",
    "from gensim.models import KeyedVectors\n",
    "\n",
    "from sklearn.model_selection import train_test_split\n",
    "\n",
    "# Visualization\n",
    "import seaborn as sns\n",
    "\n",
    "# this allows plots to appear directly in the notebook\n",
    "import matplotlib.pyplot as plt"
   ]
  },
  {
   "cell_type": "code",
   "execution_count": 34,
   "metadata": {
    "collapsed": true
   },
   "outputs": [],
   "source": [
    "INPUT_FILE = \"data/UMICH_SI650_train_data.txt\"\n",
    "WORD2VEC_MODEL = \"data/GoogleNews-vectors-negative300.bin.gz\"\n",
    "VOCAB_SIZE = 5000\n",
    "EMBED_SIZE = 300\n",
    "NUM_FILTERS = 256\n",
    "NUM_WORDS = 3\n",
    "BATCH_SIZE = 64\n",
    "NUM_EPOCHS = 10"
   ]
  },
  {
   "cell_type": "code",
   "execution_count": 35,
   "metadata": {
    "collapsed": true
   },
   "outputs": [],
   "source": [
    "counter = collections.Counter()\n",
    "with open(file=INPUT_FILE, mode='r', encoding='utf-8') as fin:\n",
    "    maxlen = 0\n",
    "    for line in fin:\n",
    "        label, sentence = line.strip().split('\\t')\n",
    "        sentence = re.sub(\"[^a-zA-Z]\", \" \", sentence)\n",
    "        stop_words = set(nltk.corpus.stopwords.words('english'))\n",
    "        words = [token.lower() for token in nltk.word_tokenize(sentence) if not token in stop_words]\n",
    "        if len(words) > maxlen:\n",
    "            maxlen = len(words)\n",
    "        for word in words:\n",
    "            counter[word] += 1"
   ]
  },
  {
   "cell_type": "code",
   "execution_count": 36,
   "metadata": {
    "collapsed": true
   },
   "outputs": [],
   "source": [
    "word2index = collections.defaultdict(int)\n",
    "for wid, word in enumerate(counter.most_common(VOCAB_SIZE)):\n",
    "    word2index[word[0]] = wid + 1\n",
    "vocab_size = len(word2index) + 1\n",
    "index2word = {k:v for k, v in word2index.items()}"
   ]
  },
  {
   "cell_type": "code",
   "execution_count": 37,
   "metadata": {
    "collapsed": true
   },
   "outputs": [],
   "source": [
    "xs, ys = [], []\n",
    "with open(file='data/UMICH_SI650_train_data.txt', mode='r', encoding='utf-8') as fin:\n",
    "    for line in fin:\n",
    "        label, sentence = line.strip().split('\\t')\n",
    "        sentence = re.sub(\"[^a-zA-Z]\", \" \", sentence)\n",
    "        ys.append(int(label))\n",
    "        stop_words = set(nltk.corpus.stopwords.words('english'))\n",
    "        words = [token.lower() for token in nltk.word_tokenize(sentence) if not token in stop_words]\n",
    "        wids = [word2index[word] for word in words]\n",
    "        xs.append(wids)"
   ]
  },
  {
   "cell_type": "code",
   "execution_count": 38,
   "metadata": {
    "collapsed": true
   },
   "outputs": [],
   "source": [
    "X = pad_sequences(xs, maxlen=maxlen)\n",
    "y = np_utils.to_categorical(ys)"
   ]
  },
  {
   "cell_type": "code",
   "execution_count": 39,
   "metadata": {
    "collapsed": true
   },
   "outputs": [],
   "source": [
    "X_train, X_test, y_train, y_test = train_test_split(X, y, test_size=0.3, random_state=random_state)"
   ]
  },
  {
   "cell_type": "code",
   "execution_count": 42,
   "metadata": {},
   "outputs": [],
   "source": [
    "# load word2vec model\n",
    "word2vec = KeyedVectors.load_word2vec_format(WORD2VEC_MODEL, binary=True)\n",
    "embedding_weights = np.zeros((vocab_size, EMBED_SIZE))\n",
    "for word, index in word2index.items():\n",
    "    try:\n",
    "        embedding_weights[index, :] = word2vec[word]\n",
    "    except KeyError:\n",
    "        pass"
   ]
  },
  {
   "cell_type": "code",
   "execution_count": 43,
   "metadata": {
    "collapsed": true
   },
   "outputs": [],
   "source": [
    "model = Sequential()\n",
    "model.add(Embedding(input_dim=vocab_size, \n",
    "                    output_dim=EMBED_SIZE, \n",
    "                    input_length=maxlen, \n",
    "                    weights=[embedding_weights],\n",
    "                    trainable=True))\n",
    "model.add(SpatialDropout1D(0.2))\n",
    "model.add(Conv1D(filters=NUM_FILTERS, kernel_size=NUM_WORDS, activation='relu'))\n",
    "model.add(GlobalMaxPooling1D())\n",
    "model.add(Dense(2, activation='softmax'))"
   ]
  },
  {
   "cell_type": "code",
   "execution_count": 44,
   "metadata": {
    "collapsed": true
   },
   "outputs": [],
   "source": [
    "model.compile(loss='categorical_crossentropy', optimizer='adam', metrics=['accuracy'])"
   ]
  },
  {
   "cell_type": "code",
   "execution_count": 45,
   "metadata": {},
   "outputs": [
    {
     "name": "stdout",
     "output_type": "stream",
     "text": [
      "Train on 4960 samples, validate on 2126 samples\n",
      "Epoch 1/10\n",
      "4960/4960 [==============================] - 1s - loss: 0.1027 - acc: 0.9645 - val_loss: 0.0175 - val_acc: 0.9944\n",
      "Epoch 2/10\n",
      "4960/4960 [==============================] - 1s - loss: 0.0061 - acc: 0.9988 - val_loss: 0.0126 - val_acc: 0.9962\n",
      "Epoch 3/10\n",
      "4960/4960 [==============================] - 1s - loss: 0.0031 - acc: 0.9996 - val_loss: 0.0131 - val_acc: 0.9962\n",
      "Epoch 4/10\n",
      "4960/4960 [==============================] - 1s - loss: 0.0017 - acc: 0.9998 - val_loss: 0.0131 - val_acc: 0.9967\n",
      "Epoch 5/10\n",
      "4960/4960 [==============================] - 1s - loss: 0.0015 - acc: 0.9998 - val_loss: 0.0111 - val_acc: 0.9962\n",
      "Epoch 6/10\n",
      "4960/4960 [==============================] - 1s - loss: 0.0016 - acc: 0.9998 - val_loss: 0.0125 - val_acc: 0.9962\n",
      "Epoch 7/10\n",
      "4960/4960 [==============================] - 1s - loss: 0.0011 - acc: 0.9998 - val_loss: 0.0131 - val_acc: 0.9962\n",
      "Epoch 8/10\n",
      "4960/4960 [==============================] - 1s - loss: 0.0029 - acc: 0.9996 - val_loss: 0.0159 - val_acc: 0.9967\n",
      "Epoch 9/10\n",
      "4960/4960 [==============================] - 1s - loss: 0.0019 - acc: 0.9998 - val_loss: 0.0111 - val_acc: 0.9962\n",
      "Epoch 10/10\n",
      "4960/4960 [==============================] - 1s - loss: 0.0018 - acc: 0.9998 - val_loss: 0.0184 - val_acc: 0.9967\n"
     ]
    }
   ],
   "source": [
    "history = model.fit(X_train, y_train, \n",
    "                    batch_size=BATCH_SIZE, \n",
    "                    epochs=NUM_EPOCHS, \n",
    "                    validation_data=(X_test, y_test), \n",
    "                    shuffle=True)"
   ]
  },
  {
   "cell_type": "code",
   "execution_count": 46,
   "metadata": {},
   "outputs": [
    {
     "data": {
      "image/png": "[encoded data removed]",
      "text/plain": [
       "<matplotlib.figure.Figure at 0x1872ad955f8>"
      ]
     },
     "metadata": {
      "image/png": {
       "height": 282,
       "width": 424
      }
     },
     "output_type": "display_data"
    }
   ],
   "source": [
    "# plot loss function\n",
    "plt.subplot(211)\n",
    "plt.title(\"accuracy\")\n",
    "plt.plot(history.history[\"acc\"], color=\"r\", label=\"train\")\n",
    "plt.plot(history.history[\"val_acc\"], color=\"b\", label=\"validation\")\n",
    "plt.legend(loc=\"best\")\n",
    "\n",
    "plt.subplot(212)\n",
    "plt.title(\"loss\")\n",
    "plt.plot(history.history[\"loss\"], color=\"r\", label=\"train\")\n",
    "plt.plot(history.history[\"val_loss\"], color=\"b\", label=\"validation\")\n",
    "plt.legend(loc=\"best\")\n",
    "\n",
    "plt.tight_layout()\n",
    "#plt.show()"
   ]
  },
  {
   "cell_type": "code",
   "execution_count": 47,
   "metadata": {},
   "outputs": [
    {
     "name": "stdout",
     "output_type": "stream",
     "text": [
      "Test score: 0.018, accuracy: 0.997\n"
     ]
    }
   ],
   "source": [
    "# evaluate model\n",
    "score = model.evaluate(X_test, y_test, verbose=0)\n",
    "print(\"Test score: {:.3f}, accuracy: {:.3f}\".format(score[0], score[1]))"
   ]
  },
  {
   "cell_type": "markdown",
   "metadata": {},
   "source": [
    "## Fine-tuning learned embeddings from GloVe\n",
    "\n",
    "In this example, we will use the same network as the one we used to learn our embeddings from scratch. In terms of code, the only major difference is an extra block of code to load the word2vec model and build up the weight matrix for the embedding layer.\n",
    "\n",
    "As always, we start with the imports and set up a random seed for repeatability. In addition to the imports we have seen previously, there is an additional one to import the word2vec model from gensim:"
   ]
  },
  {
   "cell_type": "code",
   "execution_count": 66,
   "metadata": {},
   "outputs": [],
   "source": [
    "import numpy as np\n",
    "import pandas as pd\n",
    "\n",
    "import collections\n",
    "\n",
    "import re, nltk\n",
    "\n",
    "import keras\n",
    "from keras.layers.core import Dense, Dropout, SpatialDropout1D\n",
    "from keras.layers.convolutional import Conv1D\n",
    "from keras.layers.embeddings import Embedding\n",
    "from keras.layers.pooling import GlobalMaxPooling1D\n",
    "from keras.models import Sequential\n",
    "from keras.preprocessing.sequence import pad_sequences\n",
    "from keras.utils import np_utils\n",
    "\n",
    "from sklearn.model_selection import train_test_split\n",
    "\n",
    "# Visualization\n",
    "import seaborn as sns\n",
    "\n",
    "# this allows plots to appear directly in the notebook\n",
    "import matplotlib.pyplot as plt"
   ]
  },
  {
   "cell_type": "code",
   "execution_count": 67,
   "metadata": {
    "collapsed": true
   },
   "outputs": [],
   "source": [
    "INPUT_FILE = \"data/UMICH_SI650_train_data.txt\"\n",
    "GLOVE_MODEL = \"data/glove.6B/glove.6B.300d.txt\"\n",
    "VOCAB_SIZE = 5000\n",
    "EMBED_SIZE = 300\n",
    "NUM_FILTERS = 256\n",
    "NUM_WORDS = 3\n",
    "BATCH_SIZE = 64\n",
    "NUM_EPOCHS = 10"
   ]
  },
  {
   "cell_type": "code",
   "execution_count": 68,
   "metadata": {
    "collapsed": true
   },
   "outputs": [],
   "source": [
    "counter = collections.Counter()\n",
    "with open(file=INPUT_FILE, mode='r', encoding='utf-8') as fin:\n",
    "    maxlen = 0\n",
    "    for line in fin:\n",
    "        label, sentence = line.strip().split('\\t')\n",
    "        #sentence = re.sub(\"[^a-zA-Z]\", \" \", sentence)\n",
    "        ys.append(int(label))\n",
    "        #stop_words = set(nltk.corpus.stopwords.words('english'))\n",
    "        #words = [token.lower() for token in nltk.word_tokenize(sentence) if not token in stop_words]\n",
    "        words = [token.lower() for token in nltk.word_tokenize(sentence)]\n",
    "        if len(words) > maxlen:\n",
    "            maxlen = len(words)\n",
    "        for word in words:\n",
    "            counter[word] += 1"
   ]
  },
  {
   "cell_type": "code",
   "execution_count": 69,
   "metadata": {
    "collapsed": true
   },
   "outputs": [],
   "source": [
    "word2index = collections.defaultdict(int)\n",
    "for wid, word in enumerate(counter.most_common(VOCAB_SIZE)):\n",
    "    word2index[word[0]] = wid + 1\n",
    "vocab_size = len(word2index) + 1\n",
    "index2word = {k:v for k, v in word2index.items()}"
   ]
  },
  {
   "cell_type": "code",
   "execution_count": 70,
   "metadata": {
    "collapsed": true
   },
   "outputs": [],
   "source": [
    "xs, ys = [], []\n",
    "with open(file=INPUT_FILE, mode='r', encoding='utf-8') as fin:\n",
    "    for line in fin:\n",
    "        label, sentence = line.strip().split('\\t')\n",
    "        #sentence = re.sub(\"[^a-zA-Z]\", \" \", sentence)\n",
    "        ys.append(int(label))\n",
    "        #stop_words = set(nltk.corpus.stopwords.words('english'))\n",
    "        #words = [token.lower() for token in nltk.word_tokenize(sentence) if not token in stop_words]\n",
    "        words = [token.lower() for token in nltk.word_tokenize(sentence)]\n",
    "        wids = [word2index[word] for word in words]\n",
    "        xs.append(wids)"
   ]
  },
  {
   "cell_type": "code",
   "execution_count": 71,
   "metadata": {
    "collapsed": true
   },
   "outputs": [],
   "source": [
    "X = keras.preprocessing.sequence.pad_sequences(xs, maxlen=maxlen)\n",
    "y = keras.utils.np_utils.to_categorical(ys)"
   ]
  },
  {
   "cell_type": "code",
   "execution_count": 72,
   "metadata": {
    "collapsed": true
   },
   "outputs": [],
   "source": [
    "X_train, X_test, y_train, y_test = train_test_split(X, y, test_size=0.3, random_state=random_state)"
   ]
  },
  {
   "cell_type": "code",
   "execution_count": 73,
   "metadata": {
    "collapsed": true
   },
   "outputs": [],
   "source": [
    "# load GloVe vectors\n",
    "word2emb = {}\n",
    "with open(GLOVE_MODEL, \"rb\") as fglove:\n",
    "    for line in fglove:\n",
    "        cols = line.strip().split()\n",
    "        word = cols[0]\n",
    "        embedding = np.array(cols[1:], dtype=\"float32\")\n",
    "        word2emb[word] = embedding"
   ]
  },
  {
   "cell_type": "code",
   "execution_count": 74,
   "metadata": {},
   "outputs": [],
   "source": [
    "embedding_weights = np.zeros((vocab_size, EMBED_SIZE))\n",
    "for word, index in word2index.items():\n",
    "    try:\n",
    "        embedding_weights[index, :] = word2emb[word]\n",
    "    except KeyError:\n",
    "        pass"
   ]
  },
  {
   "cell_type": "code",
   "execution_count": 75,
   "metadata": {
    "collapsed": true
   },
   "outputs": [],
   "source": [
    "model = Sequential()\n",
    "model.add(Embedding(input_dim=vocab_size, \n",
    "                    output_dim=EMBED_SIZE, \n",
    "                    input_length=maxlen, \n",
    "                    weights=[embedding_weights],\n",
    "                    trainable=True))\n",
    "model.add(SpatialDropout1D(0.2))\n",
    "model.add(Conv1D(filters=NUM_FILTERS, kernel_size=NUM_WORDS, activation='relu'))\n",
    "model.add(GlobalMaxPooling1D())\n",
    "model.add(Dense(2, activation='softmax'))"
   ]
  },
  {
   "cell_type": "code",
   "execution_count": 76,
   "metadata": {
    "collapsed": true
   },
   "outputs": [],
   "source": [
    "model.compile(loss='categorical_crossentropy', optimizer='adam', metrics=['accuracy'])"
   ]
  },
  {
   "cell_type": "code",
   "execution_count": 77,
   "metadata": {},
   "outputs": [
    {
     "name": "stdout",
     "output_type": "stream",
     "text": [
      "Train on 4960 samples, validate on 2126 samples\n",
      "Epoch 1/10\n",
      "4960/4960 [==============================] - 3s - loss: 0.6905 - acc: 0.5587 - val_loss: 0.6873 - val_acc: 0.5701\n",
      "Epoch 2/10\n",
      "4960/4960 [==============================] - 1s - loss: 0.6873 - acc: 0.5611 - val_loss: 0.6851 - val_acc: 0.5701\n",
      "Epoch 3/10\n",
      "4960/4960 [==============================] - 1s - loss: 0.6862 - acc: 0.5611 - val_loss: 0.6841 - val_acc: 0.5701\n",
      "Epoch 4/10\n",
      "4960/4960 [==============================] - 1s - loss: 0.6859 - acc: 0.5611 - val_loss: 0.6838 - val_acc: 0.5701\n",
      "Epoch 5/10\n",
      "4960/4960 [==============================] - 1s - loss: 0.6858 - acc: 0.5611 - val_loss: 0.6836 - val_acc: 0.5701\n",
      "Epoch 6/10\n",
      "4960/4960 [==============================] - 1s - loss: 0.6857 - acc: 0.5611 - val_loss: 0.6836 - val_acc: 0.5701\n",
      "Epoch 7/10\n",
      "4960/4960 [==============================] - 1s - loss: 0.6857 - acc: 0.5611 - val_loss: 0.6835 - val_acc: 0.5701\n",
      "Epoch 8/10\n",
      "4960/4960 [==============================] - 1s - loss: 0.6857 - acc: 0.5611 - val_loss: 0.6835 - val_acc: 0.5701\n",
      "Epoch 9/10\n",
      "4960/4960 [==============================] - 1s - loss: 0.6857 - acc: 0.5611 - val_loss: 0.6834 - val_acc: 0.5701\n",
      "Epoch 10/10\n",
      "4960/4960 [==============================] - 1s - loss: 0.6857 - acc: 0.5611 - val_loss: 0.6835 - val_acc: 0.5701\n"
     ]
    }
   ],
   "source": [
    "history = model.fit(X_train, y_train, \n",
    "                    batch_size=BATCH_SIZE, \n",
    "                    epochs=NUM_EPOCHS, \n",
    "                    validation_data=(X_test, y_test), \n",
    "                    shuffle=True)"
   ]
  },
  {
   "cell_type": "code",
   "execution_count": 78,
   "metadata": {},
   "outputs": [
    {
     "data": {
      "image/png": "[encoded data removed]",
      "text/plain": [
       "<matplotlib.figure.Figure at 0x1860a392550>"
      ]
     },
     "metadata": {
      "image/png": {
       "height": 282,
       "width": 424
      }
     },
     "output_type": "display_data"
    }
   ],
   "source": [
    "# plot loss function\n",
    "plt.subplot(211)\n",
    "plt.title(\"accuracy\")\n",
    "plt.plot(history.history[\"acc\"], color=\"r\", label=\"train\")\n",
    "plt.plot(history.history[\"val_acc\"], color=\"b\", label=\"validation\")\n",
    "plt.legend(loc=\"best\")\n",
    "\n",
    "plt.subplot(212)\n",
    "plt.title(\"loss\")\n",
    "plt.plot(history.history[\"loss\"], color=\"r\", label=\"train\")\n",
    "plt.plot(history.history[\"val_loss\"], color=\"b\", label=\"validation\")\n",
    "plt.legend(loc=\"best\")\n",
    "\n",
    "plt.tight_layout()\n",
    "#plt.show()"
   ]
  },
  {
   "cell_type": "code",
   "execution_count": 79,
   "metadata": {},
   "outputs": [
    {
     "name": "stdout",
     "output_type": "stream",
     "text": [
      "Test score: 0.683, accuracy: 0.570\n"
     ]
    }
   ],
   "source": [
    "# evaluate model\n",
    "score = model.evaluate(X_test, y_test, verbose=0)\n",
    "print(\"Test score: {:.3f}, accuracy: {:.3f}\".format(score[0], score[1]))"
   ]
  },
  {
   "cell_type": "code",
   "execution_count": null,
   "metadata": {
    "collapsed": true
   },
   "outputs": [],
   "source": []
  },
  {
   "cell_type": "code",
   "execution_count": null,
   "metadata": {
    "collapsed": true
   },
   "outputs": [],
   "source": []
  }
 ],
 "metadata": {
  "kernelspec": {
   "display_name": "Python 3",
   "language": "python",
   "name": "python3"
  },
  "language_info": {
   "codemirror_mode": {
    "name": "ipython",
    "version": 3
   },
   "file_extension": ".py",
   "mimetype": "text/x-python",
   "name": "python",
   "nbconvert_exporter": "python",
   "pygments_lexer": "ipython3",
   "version": "3.5.3"
  }
 },
 "nbformat": 4,
 "nbformat_minor": 2
}
