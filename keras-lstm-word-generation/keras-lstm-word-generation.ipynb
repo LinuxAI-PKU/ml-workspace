{
 "cells": [
  {
   "cell_type": "markdown",
   "metadata": {},
   "source": [
    "## Implementing a LSTM based Word generator from Simpsons Movie Scripts.\n",
    "The strategy is suggested by Kaushal Shetty here https://github.com/keras-team/keras/issues/2009"
   ]
  },
  {
   "cell_type": "code",
   "execution_count": 1,
   "metadata": {},
   "outputs": [
    {
     "name": "stderr",
     "output_type": "stream",
     "text": [
      "Using TensorFlow backend.\n"
     ]
    }
   ],
   "source": [
    "import numpy as np\n",
    "import pandas as pd\n",
    "\n",
    "import collections\n",
    "\n",
    "import re, nltk\n",
    "\n",
    "from keras.models import Sequential\n",
    "from keras.layers import LSTM, Dense, Dropout, Activation\n",
    "\n",
    "from keras.layers.embeddings import Embedding\n",
    "\n",
    "# Visualization\n",
    "import seaborn as sns\n",
    "\n",
    "# this allows plots to appear directly in the notebook\n",
    "import matplotlib.pyplot as plt"
   ]
  },
  {
   "cell_type": "code",
   "execution_count": 2,
   "metadata": {
    "collapsed": true
   },
   "outputs": [],
   "source": [
    "INPUT_FILE = \"data/moes_tavern_lines.txt\""
   ]
  },
  {
   "cell_type": "code",
   "execution_count": 3,
   "metadata": {
    "collapsed": true
   },
   "outputs": [],
   "source": [
    "content = open(INPUT_FILE).read()"
   ]
  },
  {
   "cell_type": "code",
   "execution_count": 4,
   "metadata": {},
   "outputs": [
    {
     "data": {
      "text/plain": [
       "\"[YEAR DATE 1989] Â© Twentieth Century Fox Film Corporation. All rights reserved.\\n\\nMoe_Szyslak: (INTO PHONE) Moe's Tavern. Where the elite meet to drink.\\nBart_Simpson: Eh, yeah, hello, is Mike there? Last name, Rotch.\\nMoe_Szyslak: (INTO PHONE) Hold on, I'll check. (TO BARFLIES) Mike Rotch. Mike Rotch. Hey, has anybody seen Mike Rotch, lately?\\nMoe_Szyslak: (INTO PHONE) Listen you little puke. One of these days I'm gonna catch you, and I'm gonna carve my name on your back with an ice pick.\\nMoe_Szys\""
      ]
     },
     "execution_count": 4,
     "metadata": {},
     "output_type": "execute_result"
    }
   ],
   "source": [
    "content[:500]"
   ]
  },
  {
   "cell_type": "code",
   "execution_count": 5,
   "metadata": {
    "collapsed": true
   },
   "outputs": [],
   "source": [
    "from keras.preprocessing.text import text_to_word_sequence\n",
    "word_sequence = text_to_word_sequence(content)"
   ]
  },
  {
   "cell_type": "markdown",
   "metadata": {},
   "source": [
    "We take a window size of SEQLEN and create a new training data set each of SEQLEN words and (SEQLEN+1) th word becomes our label."
   ]
  },
  {
   "cell_type": "code",
   "execution_count": 6,
   "metadata": {
    "collapsed": true
   },
   "outputs": [],
   "source": [
    "SEQLEN = 10"
   ]
  },
  {
   "cell_type": "code",
   "execution_count": 7,
   "metadata": {
    "collapsed": true
   },
   "outputs": [],
   "source": [
    "input_sentences = []\n",
    "target_words = []\n",
    "for i in range(0, len(word_sequence) - SEQLEN):\n",
    "    input_sentences.append(\" \".join(word_sequence[i:i + SEQLEN]))\n",
    "    target_words.append(word_sequence[i + SEQLEN])"
   ]
  },
  {
   "cell_type": "code",
   "execution_count": 8,
   "metadata": {},
   "outputs": [
    {
     "data": {
      "text/plain": [
       "['year date 1989 â© twentieth century fox film corporation all',\n",
       " 'date 1989 â© twentieth century fox film corporation all rights',\n",
       " '1989 â© twentieth century fox film corporation all rights reserved',\n",
       " 'â© twentieth century fox film corporation all rights reserved moe',\n",
       " 'twentieth century fox film corporation all rights reserved moe szyslak',\n",
       " 'century fox film corporation all rights reserved moe szyslak into',\n",
       " 'fox film corporation all rights reserved moe szyslak into phone',\n",
       " \"film corporation all rights reserved moe szyslak into phone moe's\",\n",
       " \"corporation all rights reserved moe szyslak into phone moe's tavern\",\n",
       " \"all rights reserved moe szyslak into phone moe's tavern where\"]"
      ]
     },
     "execution_count": 8,
     "metadata": {},
     "output_type": "execute_result"
    }
   ],
   "source": [
    "input_sentences[:10]"
   ]
  },
  {
   "cell_type": "code",
   "execution_count": 9,
   "metadata": {},
   "outputs": [
    {
     "data": {
      "text/plain": [
       "['rights',\n",
       " 'reserved',\n",
       " 'moe',\n",
       " 'szyslak',\n",
       " 'into',\n",
       " 'phone',\n",
       " \"moe's\",\n",
       " 'tavern',\n",
       " 'where',\n",
       " 'the']"
      ]
     },
     "execution_count": 9,
     "metadata": {},
     "output_type": "execute_result"
    }
   ],
   "source": [
    "target_words[:10]"
   ]
  },
  {
   "cell_type": "markdown",
   "metadata": {},
   "source": [
    "Use keras tokenizer to tokenize the texts and do a texts_to_sequences on them"
   ]
  },
  {
   "cell_type": "code",
   "execution_count": 10,
   "metadata": {
    "collapsed": true
   },
   "outputs": [],
   "source": [
    "from keras.preprocessing.text import Tokenizer\n",
    "tokenizer = Tokenizer()"
   ]
  },
  {
   "cell_type": "code",
   "execution_count": 11,
   "metadata": {
    "collapsed": true
   },
   "outputs": [],
   "source": [
    "tokenizer.fit_on_texts(input_sentences)"
   ]
  },
  {
   "cell_type": "code",
   "execution_count": 12,
   "metadata": {},
   "outputs": [
    {
     "data": {
      "text/plain": [
       "[[467, 503, 6453, 6452, 2927, 1942, 1217, 1490, 1941, 30],\n",
       " [503, 6453, 6452, 2927, 1942, 1217, 1490, 1941, 30, 2928],\n",
       " [6453, 6452, 2927, 1942, 1217, 1490, 1941, 30, 2928, 1943],\n",
       " [6452, 2927, 1942, 1217, 1490, 1941, 30, 2928, 1943, 1],\n",
       " [2927, 1942, 1217, 1490, 1941, 30, 2928, 1943, 1, 7],\n",
       " [1942, 1217, 1490, 1941, 30, 2928, 1943, 1, 7, 119],\n",
       " [1217, 1490, 1941, 30, 2928, 1943, 1, 7, 119, 172],\n",
       " [1490, 1941, 30, 2928, 1943, 1, 7, 119, 172, 162],\n",
       " [1941, 30, 2928, 1943, 1, 7, 119, 172, 162, 343],\n",
       " [30, 2928, 1943, 1, 7, 119, 172, 162, 343, 134]]"
      ]
     },
     "execution_count": 12,
     "metadata": {},
     "output_type": "execute_result"
    }
   ],
   "source": [
    "input_sequences = tokenizer.texts_to_sequences(input_sentences)\n",
    "input_sequences[:10]"
   ]
  },
  {
   "cell_type": "code",
   "execution_count": 13,
   "metadata": {},
   "outputs": [
    {
     "data": {
      "text/plain": [
       "(53158, 10)"
      ]
     },
     "execution_count": 13,
     "metadata": {},
     "output_type": "execute_result"
    }
   ],
   "source": [
    "np.array(input_sequences).shape"
   ]
  },
  {
   "cell_type": "markdown",
   "metadata": {},
   "source": [
    "Map target_words to tokenizer.word_index and convert it into a categorical variable."
   ]
  },
  {
   "cell_type": "code",
   "execution_count": 14,
   "metadata": {},
   "outputs": [
    {
     "data": {
      "text/plain": [
       "[2928, 1943, 1, 7, 119, 172, 162, 343, 134, 2]"
      ]
     },
     "execution_count": 14,
     "metadata": {},
     "output_type": "execute_result"
    }
   ],
   "source": [
    "target_sequences = list(map(lambda w: tokenizer.word_index[w], target_words))\n",
    "target_sequences[:10]"
   ]
  },
  {
   "cell_type": "code",
   "execution_count": 15,
   "metadata": {},
   "outputs": [
    {
     "data": {
      "text/plain": [
       "(53158,)"
      ]
     },
     "execution_count": 15,
     "metadata": {},
     "output_type": "execute_result"
    }
   ],
   "source": [
    "np.array(target_sequences).shape"
   ]
  },
  {
   "cell_type": "code",
   "execution_count": 16,
   "metadata": {},
   "outputs": [
    {
     "data": {
      "text/plain": [
       "[2928, 1943]"
      ]
     },
     "execution_count": 16,
     "metadata": {},
     "output_type": "execute_result"
    }
   ],
   "source": [
    "# Investigate first two labels\n",
    "list(map(lambda w: tokenizer.word_index[w], ['rights', 'reserved']))"
   ]
  },
  {
   "cell_type": "code",
   "execution_count": 17,
   "metadata": {
    "collapsed": true
   },
   "outputs": [],
   "source": [
    "word2index = tokenizer.word_index\n",
    "index2word = {v:k for k, v in word2index.items()}"
   ]
  },
  {
   "cell_type": "code",
   "execution_count": 18,
   "metadata": {
    "collapsed": true
   },
   "outputs": [],
   "source": [
    "VOCAB_SIZE = len(word2index) + 1"
   ]
  },
  {
   "cell_type": "code",
   "execution_count": 19,
   "metadata": {},
   "outputs": [
    {
     "data": {
      "text/plain": [
       "6454"
      ]
     },
     "execution_count": 19,
     "metadata": {},
     "output_type": "execute_result"
    }
   ],
   "source": [
    "VOCAB_SIZE"
   ]
  },
  {
   "cell_type": "code",
   "execution_count": 20,
   "metadata": {},
   "outputs": [],
   "source": [
    "target_one_hot = np.zeros((len(target_sequences), VOCAB_SIZE))\n",
    "for i, wid in enumerate(target_sequences):\n",
    "    target_one_hot[i, wid] = 1"
   ]
  },
  {
   "cell_type": "code",
   "execution_count": 21,
   "metadata": {},
   "outputs": [
    {
     "data": {
      "text/plain": [
       "array([[ 0.,  0.,  0., ...,  0.,  0.,  0.],\n",
       "       [ 0.,  0.,  0., ...,  0.,  0.,  0.],\n",
       "       [ 0.,  1.,  0., ...,  0.,  0.,  0.],\n",
       "       ..., \n",
       "       [ 0.,  0.,  0., ...,  0.,  0.,  0.],\n",
       "       [ 0.,  0.,  0., ...,  0.,  0.,  0.],\n",
       "       [ 0.,  0.,  0., ...,  0.,  0.,  0.]])"
      ]
     },
     "execution_count": 21,
     "metadata": {},
     "output_type": "execute_result"
    }
   ],
   "source": [
    "target_one_hot"
   ]
  },
  {
   "cell_type": "code",
   "execution_count": 22,
   "metadata": {},
   "outputs": [
    {
     "data": {
      "text/plain": [
       "(53158, 6454)"
      ]
     },
     "execution_count": 22,
     "metadata": {},
     "output_type": "execute_result"
    }
   ],
   "source": [
    "target_one_hot.shape"
   ]
  },
  {
   "cell_type": "markdown",
   "metadata": {},
   "source": [
    "### Using Embedding Layer"
   ]
  },
  {
   "cell_type": "markdown",
   "metadata": {},
   "source": [
    "Since the vocabulary is very large the numerical sequences turn into sparse arrays and it's more efficient to cast everything to a lower dimension with the `Embedding` layer."
   ]
  },
  {
   "cell_type": "code",
   "execution_count": 23,
   "metadata": {
    "collapsed": true
   },
   "outputs": [],
   "source": [
    "EMBED_SIZE  = 300\n",
    "HIDDEN_SIZE = 256"
   ]
  },
  {
   "cell_type": "code",
   "execution_count": 24,
   "metadata": {
    "collapsed": true
   },
   "outputs": [],
   "source": [
    "# Build model\n",
    "model = Sequential()\n",
    "model.add(Embedding(input_dim=VOCAB_SIZE, \n",
    "                    output_dim=EMBED_SIZE, \n",
    "                    input_length=SEQLEN, \n",
    "                    weights=None,\n",
    "                    trainable=True))\n",
    "model.add(LSTM(units=HIDDEN_SIZE, return_sequences=True, unroll=True))\n",
    "model.add(Dropout(0.2))\n",
    "model.add(LSTM(units=HIDDEN_SIZE, return_sequences=True, unroll=True))\n",
    "model.add(Dropout(0.2))\n",
    "model.add(LSTM(units=HIDDEN_SIZE, return_sequences=False, unroll=True))\n",
    "model.add(Dropout(0.2))\n",
    "model.add(Dense(VOCAB_SIZE))\n",
    "model.add(Activation(\"softmax\"))"
   ]
  },
  {
   "cell_type": "code",
   "execution_count": 25,
   "metadata": {
    "collapsed": true
   },
   "outputs": [],
   "source": [
    "model.compile(loss=\"categorical_crossentropy\", optimizer=\"rmsprop\")"
   ]
  },
  {
   "cell_type": "code",
   "execution_count": 26,
   "metadata": {},
   "outputs": [
    {
     "name": "stdout",
     "output_type": "stream",
     "text": [
      "_________________________________________________________________\n",
      "Layer (type)                 Output Shape              Param #   \n",
      "=================================================================\n",
      "embedding_1 (Embedding)      (None, 10, 300)           1936200   \n",
      "_________________________________________________________________\n",
      "lstm_1 (LSTM)                (None, 10, 256)           570368    \n",
      "_________________________________________________________________\n",
      "dropout_1 (Dropout)          (None, 10, 256)           0         \n",
      "_________________________________________________________________\n",
      "lstm_2 (LSTM)                (None, 10, 256)           525312    \n",
      "_________________________________________________________________\n",
      "dropout_2 (Dropout)          (None, 10, 256)           0         \n",
      "_________________________________________________________________\n",
      "lstm_3 (LSTM)                (None, 256)               525312    \n",
      "_________________________________________________________________\n",
      "dropout_3 (Dropout)          (None, 256)               0         \n",
      "_________________________________________________________________\n",
      "dense_1 (Dense)              (None, 6454)              1658678   \n",
      "_________________________________________________________________\n",
      "activation_1 (Activation)    (None, 6454)              0         \n",
      "=================================================================\n",
      "Total params: 5,215,870\n",
      "Trainable params: 5,215,870\n",
      "Non-trainable params: 0\n",
      "_________________________________________________________________\n",
      "None\n"
     ]
    }
   ],
   "source": [
    "print(model.summary())"
   ]
  },
  {
   "cell_type": "code",
   "execution_count": 27,
   "metadata": {
    "collapsed": true
   },
   "outputs": [],
   "source": [
    "BATCH_SIZE = 128\n",
    "NUM_ITERATIONS = 50\n",
    "NUM_EPOCHS_PER_ITERATION = 1\n",
    "NUM_PREDS_PER_EPOCH = 50"
   ]
  },
  {
   "cell_type": "markdown",
   "metadata": {},
   "source": [
    "Since we don't have any labeled data here, we train the model for an epoch (`NUM_EPOCHS_PER_ITERATION=1`) then test it. We continue training like this for 25 (`NUM_ITERATIONS=25`) iterations, stopping once we see intelligible output. So effectively, we are training for `NUM_ITERATIONS` epochs and testing the model after each epoch.\n",
    "\n",
    "Our test consists of generating a word from the model given a random input, then dropping the first word from the input and appending the predicted word from our previous run, and generating another word from the model. We continue this 100 times (`NUM_PREDS_PER_EPOCH=100`) and generate and print the resulting string. The string gives us an indication of the quality of the model:"
   ]
  },
  {
   "cell_type": "code",
   "execution_count": 28,
   "metadata": {
    "collapsed": true
   },
   "outputs": [],
   "source": [
    "X = np.array(input_sequences)\n",
    "y = target_one_hot"
   ]
  },
  {
   "cell_type": "code",
   "execution_count": 29,
   "metadata": {},
   "outputs": [
    {
     "data": {
      "text/plain": [
       "((53158, 10), (53158, 6454))"
      ]
     },
     "execution_count": 29,
     "metadata": {},
     "output_type": "execute_result"
    }
   ],
   "source": [
    "X.shape, y.shape"
   ]
  },
  {
   "cell_type": "code",
   "execution_count": 30,
   "metadata": {},
   "outputs": [
    {
     "data": {
      "text/plain": [
       "[467, 503, 6453, 6452, 2927, 1942, 1217, 1490, 1941, 30]"
      ]
     },
     "execution_count": 30,
     "metadata": {},
     "output_type": "execute_result"
    }
   ],
   "source": [
    "test_sequence = input_sequences[0]\n",
    "test_sequence"
   ]
  },
  {
   "cell_type": "code",
   "execution_count": 31,
   "metadata": {},
   "outputs": [
    {
     "data": {
      "text/plain": [
       "'year date 1989 â© twentieth century fox film corporation all'"
      ]
     },
     "execution_count": 31,
     "metadata": {},
     "output_type": "execute_result"
    }
   ],
   "source": [
    "test_sentence = input_sentences[0] #\" \".join(list(map(lambda wid: index2word[wid], test_sequence)))\n",
    "test_sentence"
   ]
  },
  {
   "cell_type": "code",
   "execution_count": 32,
   "metadata": {},
   "outputs": [
    {
     "data": {
      "text/plain": [
       "array([[ 467,  503, 6453, 6452, 2927, 1942, 1217, 1490, 1941,   30]])"
      ]
     },
     "execution_count": 32,
     "metadata": {},
     "output_type": "execute_result"
    }
   ],
   "source": [
    "test_sequence = np.array(test_sequence).reshape(1, 10)\n",
    "test_sequence"
   ]
  },
  {
   "cell_type": "code",
   "execution_count": 33,
   "metadata": {},
   "outputs": [
    {
     "data": {
      "text/plain": [
       "(1, 10)"
      ]
     },
     "execution_count": 33,
     "metadata": {},
     "output_type": "execute_result"
    }
   ],
   "source": [
    "test_sequence.shape"
   ]
  },
  {
   "cell_type": "code",
   "execution_count": 34,
   "metadata": {},
   "outputs": [
    {
     "data": {
      "text/plain": [
       "\"work without the fork in the eye moe szyslak there's\""
      ]
     },
     "execution_count": 34,
     "metadata": {},
     "output_type": "execute_result"
    }
   ],
   "source": [
    "input_sentences[10699]"
   ]
  },
  {
   "cell_type": "code",
   "execution_count": 35,
   "metadata": {
    "scrolled": false
   },
   "outputs": [
    {
     "name": "stdout",
     "output_type": "stream",
     "text": [
      "==================================================\n",
      "Iteration #: 0\n",
      "Epoch 1/1\n",
      "53158/53158 [==============================] - 109s 2ms/step - loss: 6.8814\n",
      "818\n",
      "Generating from seed: a purveyor of mind numbing intoxicants like myself homer simpson\n",
      "a purveyor of mind numbing intoxicants like myself homer simpson i i i i i i i i i i i i i i i i i i i i i i i i i i i i i i i i i i i i i i i i i i i i i i i i i i ==================================================\n",
      "Iteration #: 1\n",
      "Epoch 1/1\n",
      "53158/53158 [==============================] - 103s 2ms/step - loss: 7.2294\n",
      "51149\n",
      "Generating from seed: crummy little kids that nobody can control homer simpson you\n",
      "crummy little kids that nobody can control homer simpson you i moe moe moe i i i i i moe i moe moe moe i i i i i moe i moe moe moe i i i i i moe i moe moe moe i i i i i moe i moe moe moe i i i i i moe ==================================================\n",
      "Iteration #: 2\n",
      "Epoch 1/1\n",
      "53158/53158 [==============================] - 105s 2ms/step - loss: 6.5965\n",
      "38541\n",
      "Generating from seed: head in ominous the roof carl carlson man you sure\n",
      "head in ominous the roof carl carlson man you sure the moe simpson i the moe szyslak i moe szyslak i the moe simpson i moe szyslak i the moe simpson i moe szyslak i the moe simpson i moe szyslak i the moe simpson i moe szyslak i the moe simpson i moe szyslak i the moe simpson i ==================================================\n",
      "Iteration #: 3\n",
      "Epoch 1/1\n",
      "53158/53158 [==============================] - 103s 2ms/step - loss: 6.3299\n",
      "16663\n",
      "Generating from seed: a sea of decadent luxury and meaningless sex moe szyslak\n",
      "a sea of decadent luxury and meaningless sex moe szyslak hey i homer simpson i don't moe szyslak hey i homer simpson i know moe szyslak hey i homer simpson i don't moe szyslak hey i homer simpson i know moe szyslak hey i homer simpson i don't moe szyslak hey i homer simpson i know moe szyslak hey i ==================================================\n",
      "Iteration #: 4\n",
      "Epoch 1/1\n",
      "53158/53158 [==============================] - 102s 2ms/step - loss: 6.2547\n",
      "41056\n",
      "Generating from seed: totally surprising entrance snake jailbird hand over your cash and\n",
      "totally surprising entrance snake jailbird hand over your cash and the man moe szyslak hey i know you know you know you know you know you know you know you know you know you know you know you know you know you know you know you know you know you know you know you know you know you know you ==================================================\n",
      "Iteration #: 5\n",
      "Epoch 1/1\n",
      "53158/53158 [==============================] - 102s 2ms/step - loss: 6.2020\n",
      "36991\n",
      "Generating from seed: marge simpson pants briefly oh my god i've never felt\n",
      "marge simpson pants briefly oh my god i've never felt homer simpson i got to the little little little moe szyslak hey i got you have to the little little little little little little little of moe szyslak hey i got to the little little little little little little little little of moe szyslak hey i got to the little ==================================================\n",
      "Iteration #: 6\n",
      "Epoch 1/1\n",
      "53158/53158 [==============================] - 102s 2ms/step - loss: 6.1948\n",
      "4914\n",
      "Generating from seed: went wild barney gumble yoo hoo homer simpson sings so\n",
      "went wild barney gumble yoo hoo homer simpson sings so i got the moe szyslak hey i got the moe szyslak hey i got the moe szyslak hey i got the moe szyslak hey i got the moe szyslak hey i got the moe szyslak hey i got the moe szyslak hey i got the moe szyslak hey i got ==================================================\n",
      "Iteration #: 7\n",
      "Epoch 1/1\n",
      "53158/53158 [==============================] - 103s 2ms/step - loss: 6.1506\n",
      "17030\n",
      "Generating from seed: tap for jazz and i've never regretted it and here's\n",
      "tap for jazz and i've never regretted it and here's to the moe szyslak hey i got to the bar moe szyslak hey i got a bar moe szyslak oh i got a bar moe szyslak oh i got a bar moe szyslak oh i got a bar moe szyslak oh i got a bar moe szyslak oh i got ==================================================\n",
      "Iteration #: 8\n",
      "Epoch 1/1\n",
      "53158/53158 [==============================] - 103s 2ms/step - loss: 6.3722\n",
      "52086\n",
      "Generating from seed: instead of my big dumb wife homer simpson i shouldn't\n",
      "instead of my big dumb wife homer simpson i shouldn't be to be to be to be in the moe szyslak hey i know you know i got the bar homer simpson i got the bar homer simpson i got the bar homer simpson i got the bar homer simpson i got the bar homer simpson i got the bar ==================================================\n",
      "Iteration #: 9\n",
      "Epoch 1/1\n",
      "53158/53158 [==============================] - 103s 2ms/step - loss: 6.4953\n",
      "16294\n",
      "Generating from seed: oh spaghetti o's chief wiggum exasperated simp sonnnn barney gumble\n",
      "oh spaghetti o's chief wiggum exasperated simp sonnnn barney gumble oh i got the little beer moe szyslak oh i got the beer moe szyslak oh i got the beer moe szyslak oh i got the beer moe szyslak oh i got the beer moe szyslak oh i got the beer moe szyslak oh i got the beer moe szyslak ==================================================\n",
      "Iteration #: 10\n",
      "Epoch 1/1\n",
      "53158/53158 [==============================] - 103s 2ms/step - loss: 6.5931 0\n",
      "19909\n",
      "Generating from seed: szyslak all right tell me when i hit the sweet\n",
      "szyslak all right tell me when i hit the sweet beer moe szyslak hey i got a beer moe szyslak i got a beer moe szyslak i got a beer moe szyslak i got a beer moe szyslak i got a beer moe szyslak i got a beer moe szyslak i got a beer moe szyslak i got a beer ==================================================\n",
      "Iteration #: 11\n",
      "Epoch 1/1\n",
      "53158/53158 [==============================] - 103s 2ms/step - loss: 6.7973\n",
      "33812\n",
      "Generating from seed: you to sobs oh god i hate my life sobs\n",
      "you to sobs oh god i hate my life sobs i know i know i know i know i know i know i know i know i know i know i know i know i know i know i know i know i know i know i know i know i know i know i know i know i know ==================================================\n",
      "Iteration #: 12\n",
      "Epoch 1/1\n",
      "53158/53158 [==============================] - 104s 2ms/step - loss: 6.6396\n",
      "48559\n",
      "Generating from seed: szyslak ya see that's what i'm talkin' about because pridesters\n",
      "szyslak ya see that's what i'm talkin' about because pridesters of the bar moe szyslak oh i got a bar moe szyslak oh i got a bar moe szyslak oh i got a bar moe szyslak oh i got a bar moe szyslak oh i got a bar moe szyslak oh i got a bar moe szyslak oh i got ==================================================\n",
      "Iteration #: 13\n",
      "Epoch 1/1\n",
      "53158/53158 [==============================] - 104s 2ms/step - loss: 6.6207\n",
      "50488\n",
      "Generating from seed: young homer tipsy marge come here young homer marge i\n",
      "young homer tipsy marge come here young homer marge i got a little little little gonna buy me homer simpson well i got a little little gonna be not gonna be not get a little little little gonna do the little little gonna buy a little little little gonna be a little little not not gonna be a little little ==================================================\n",
      "Iteration #: 14\n",
      "Epoch 1/1\n",
      "53158/53158 [==============================] - 104s 2ms/step - loss: 6.8189\n",
      "39162\n",
      "Generating from seed: baseball as fun as doing your taxes professor jonathan frink\n",
      "baseball as fun as doing your taxes professor jonathan frink kent flanders hey hey oh oh that's the bar is the bar and marge you know you know you was a bar of the bar moe szyslak oh yeah i got a bar moe szyslak oh oh i got a little more is a bar moe szyslak oh yeah i ==================================================\n",
      "Iteration #: 15\n",
      "Epoch 1/1\n",
      "53158/53158 [==============================] - 104s 2ms/step - loss: 6.8967\n",
      "1312\n",
      "Generating from seed: moe szyslak an unforgettable weekend at club moe collette i\n",
      "moe szyslak an unforgettable weekend at club moe collette i can do you like a thing and i was a thing i got a thing i got a thing i got a thing i got a thing i got a thing i got a thing i got a thing i got a thing i got a thing i got a ==================================================\n",
      "Iteration #: 16\n",
      "Epoch 1/1\n",
      "53158/53158 [==============================] - 104s 2ms/step - loss: 6.9256\n",
      "41477\n",
      "Generating from seed: brag about it but i did publish five modestly successful\n"
     ]
    },
    {
     "name": "stdout",
     "output_type": "stream",
     "text": [
      "brag about it but i did publish five modestly successful i know i have a big time and i have a big time is i have a time and i have a big time is what i know i never never have a big time moe szyslak yeah i am get a time moe szyslak oh i can't get a ==================================================\n",
      "Iteration #: 17\n",
      "Epoch 1/1\n",
      "53158/53158 [==============================] - 103s 2ms/step - loss: 6.9204\n",
      "37647\n",
      "Generating from seed: it's official smithers is now worse than mr burns lenny\n",
      "it's official smithers is now worse than mr burns lenny leonard well i know you i want to go on your money moe szyslak yeah that's your time barney gumble oh i can have a money moe szyslak yeah yeah i'm gonna have a new new moe szyslak oh well that's your time homer simpson i can have to get ==================================================\n",
      "Iteration #: 18\n",
      "Epoch 1/1\n",
      "53158/53158 [==============================] - 103s 2ms/step - loss: 6.8879\n",
      "34853\n",
      "Generating from seed: kent brockman with a channel 6 exclusive the evil ned\n",
      "kent brockman with a channel 6 exclusive the evil ned smithers well that's going to do you do a bar moe szyslak well that's right i can do the little thing moe szyslak well i can have a bar are the beer homer simpson i know i can do i know you can do you can do a beer homer ==================================================\n",
      "Iteration #: 19\n",
      "Epoch 1/1\n",
      "53158/53158 [==============================] - 103s 2ms/step - loss: 6.8917\n",
      "9950\n",
      "Generating from seed: simpson to scully you are one fine lookin' woman lady\n",
      "simpson to scully you are one fine lookin' woman lady i'm not gonna be back to get your beer moe szyslak so oh i can have a little guy moe szyslak oh what are you out on your bar but he was gonna be in a moe szyslak so oh no but i know i can have to get a ==================================================\n",
      "Iteration #: 20\n",
      "Epoch 1/1\n",
      "53158/53158 [==============================] - 103s 2ms/step - loss: 6.8446\n",
      "30887\n",
      "Generating from seed: boy where's fat tony's fifty bucks moe szyslak scared look\n",
      "boy where's fat tony's fifty bucks moe szyslak scared look i'm not not the guy i'm gonna do that is a bar who could give me to make your money marge simpson oh yeah i am that is out homer simpson oh i could take that here homer simpson oh no i'm not too carl carlson yeah i'm gonna do ==================================================\n",
      "Iteration #: 21\n",
      "Epoch 1/1\n",
      "53158/53158 [==============================] - 103s 2ms/step - loss: 6.7911\n",
      "11141\n",
      "Generating from seed: moe betty confused what moe szyslak explaining go near moe\n",
      "moe betty confused what moe szyslak explaining go near moe szyslak ah that's not right i've been be carl carlson oh yeah you're not gonna be gonna have to make your bar barney gumble hey moe i'm gonna have to be to make your little carl carlson oh what are you gonna have in your bar carl carlson oh i ==================================================\n",
      "Iteration #: 22\n",
      "Epoch 1/1\n",
      "53158/53158 [==============================] - 103s 2ms/step - loss: 6.7617\n",
      "13956\n",
      "Generating from seed: oh homer simpson murderously you moe szyslak homer thank god\n",
      "oh homer simpson murderously you moe szyslak homer thank god i gotta get out in the little barney gumble oh i can't let it like that is your little thing homer simpson oh no no i'm gonna do that homer simpson oh i'm not a little thing i can't say that is your i is back in a little of ==================================================\n",
      "Iteration #: 23\n",
      "Epoch 1/1\n",
      "53158/53158 [==============================] - 103s 2ms/step - loss: 6.7098\n",
      "36621\n",
      "Generating from seed: y makes me wanna have mo' kang this is the\n",
      "y makes me wanna have mo' kang this is the little one is by tv brockman in your bar bart simpson no was not a time like a little thing i can't have all gonna be back on tv good carl carlson oh yeah i'm gonna have your little time moe szyslak no i can't have a little thing moe ==================================================\n",
      "Iteration #: 24\n",
      "Epoch 1/1\n",
      "53158/53158 [==============================] - 103s 2ms/step - loss: 6.6676\n",
      "52843\n",
      "Generating from seed: words won't do it to moe i love you moe\n",
      "words won't do it to moe i love you moe moe szyslak oh hey hey hey i'm not here homer simpson no no no good was a bar who can be one carl carlson hey what are you gonna do that carl carlson oh hey what are you gonna be here homer simpson oh no carl carlson yeah no good ==================================================\n",
      "Iteration #: 25\n",
      "Epoch 1/1\n",
      "53158/53158 [==============================] - 103s 2ms/step - loss: 6.6072\n",
      "8538\n",
      "Generating from seed: moe szyslak well i dunno are you man enough to\n",
      "moe szyslak well i dunno are you man enough to do the little time lenny leonard hey i gotta do out on your bar homer simpson no no much like a little time like i could do that carl carlson oh no but i gotta do here about that carl carlson oh you know that i'm gonna do here marge ==================================================\n",
      "Iteration #: 26\n",
      "Epoch 1/1\n",
      "53158/53158 [==============================] - 103s 2ms/step - loss: 6.5498\n",
      "50053\n",
      "Generating from seed: theater i'm in moe szyslak so uh what's a princesses\n",
      "theater i'm in moe szyslak so uh what's a princesses that one one is this beer is the bar but i'm gonna take your bar for a bar homer simpson oh i'm gonna take a beer and that one one moe szyslak oh no that one is one carl carlson oh hey i'm not gonna make that one barney gumble ==================================================\n",
      "Iteration #: 27\n",
      "Epoch 1/1\n",
      "53158/53158 [==============================] - 103s 2ms/step - loss: 6.4994\n",
      "40843\n",
      "Generating from seed: what we did in the multi purpose room homer simpson\n",
      "what we did in the multi purpose room homer simpson to the good man from all as you like it to the bar lenny leonard what if you get out of our beer lenny leonard that are that carl carlson no good is like a rest of his bar who could go here moe szyslak so no i'm not not ==================================================\n",
      "Iteration #: 28\n",
      "Epoch 1/1\n",
      "53158/53158 [==============================] - 103s 2ms/step - loss: 6.4327\n",
      "24914\n",
      "Generating from seed: bupkus moe szyslak who's this burns guy somebody you work\n",
      "bupkus moe szyslak who's this burns guy somebody you work for a moe szyslak yeah huh but no good one is that carl carlson that's not not gonna take your little write here marge simpson no but i'm gonna go out lenny leonard no no i don't know homer homer simpson carl lenny lenny marge simpson no oh that's your ==================================================\n",
      "Iteration #: 29\n",
      "Epoch 1/1\n",
      "53158/53158 [==============================] - 103s 2ms/step - loss: 6.3616\n",
      "23671\n",
      "Generating from seed: me some peanuts homer simpson fellas i'm starting my own\n",
      "me some peanuts homer simpson fellas i'm starting my own friend who can do it is that barney gumble i'm not right barney gumble he was a little one of this a a thing i could go out barney gumble no oh hey hey it's all gonna be here homer simpson oh that's right i'm not an one one homer ==================================================\n",
      "Iteration #: 30\n",
      "Epoch 1/1\n",
      "53158/53158 [==============================] - 103s 2ms/step - loss: 6.2914\n",
      "46633\n",
      "Generating from seed: front of it homer simpson small frustrated noise it's too\n",
      "front of it homer simpson small frustrated noise it's too not a tavern carl carlson yeah it's not a little tavern and this bar moe szyslak oh hey moe szyslak no i know i can get a beer and so so i'm not a be moe szyslak ah no no is this time moe szyslak no no uh i'm not ==================================================\n",
      "Iteration #: 31\n",
      "Epoch 1/1\n",
      "53158/53158 [==============================] - 103s 2ms/step - loss: 6.2684\n",
      "25157\n",
      "Generating from seed: believe you're making this the worst night of my life\n",
      "believe you're making this the worst night of my life who was one one is one and from one moe szyslak oh uh no i can't want to not not gonna be makin' the bar and are an i have to tell me marge simpson yeah i know i can have this guy that guy barney gumble yeah homer simpson ==================================================\n",
      "Iteration #: 32\n",
      "Epoch 1/1\n",
      "53158/53158 [==============================] - 103s 2ms/step - loss: 6.2242\n",
      "16737\n",
      "Generating from seed: i pay with a drawing moe szyslak yeah nice try\n"
     ]
    },
    {
     "name": "stdout",
     "output_type": "stream",
     "text": [
      "i pay with a drawing moe szyslak yeah nice try he moe szyslak and no more is not gonna do you have is gonna have to get your beer moe szyslak oh yeah i'm not right for a good thing homer simpson all not not all a good beer moe szyslak all right all right i don't want to get ==================================================\n",
      "Iteration #: 33\n",
      "Epoch 1/1\n",
      "53158/53158 [==============================] - 103s 2ms/step - loss: 6.1712\n",
      "15435\n",
      "Generating from seed: paid your tab or at least cleaned up that mess\n",
      "paid your tab or at least cleaned up that mess you go for me homer lenny leonard i'm gonna come in your beer homer simpson no so no that's here homer simpson well if i'm gonna go to my wife carl carlson you know that is beer carl carlson like you say i need to get for my beer and ==================================================\n",
      "Iteration #: 34\n",
      "Epoch 1/1\n",
      "53158/53158 [==============================] - 103s 2ms/step - loss: 6.1311\n",
      "45116\n",
      "Generating from seed: for loudly helllp normal 'cause this time there's no one\n",
      "for loudly helllp normal 'cause this time there's no one but they did some back of my moe szyslak uh oh hey i just think that is all here homer simpson oh i'm not here that man carl carlson yeah i'm not here that no so huh marge simpson oh i'm gonna take a new a crack friend a little ==================================================\n",
      "Iteration #: 35\n",
      "Epoch 1/1\n",
      "53158/53158 [==============================] - 103s 2ms/step - loss: 6.0915\n",
      "11641\n",
      "Generating from seed: moe szyslak uh here have a margarita homer simpson but\n",
      "moe szyslak uh here have a margarita homer simpson but i can't have that been man but i'm gonna do homer simpson i can get you to get your little beer and what are you go barney gumble so no so okay that's this homer simpson well that's that i'm not not all one homer simpson well i'm gonna get ==================================================\n",
      "Iteration #: 36\n",
      "Epoch 1/1\n",
      "53158/53158 [==============================] - 103s 2ms/step - loss: 6.0349\n",
      "38756\n",
      "Generating from seed: rip out his voice box but i did stretch out\n",
      "rip out his voice box but i did stretch out out with his good friend barney gumble i know what i'm not as an i got a one of a one man barney gumble no homer simpson now you're not one beer homer simpson okay who was my szyslak of her but you're not not not of the moe szyslak ==================================================\n",
      "Iteration #: 37\n",
      "Epoch 1/1\n",
      "53158/53158 [==============================] - 103s 2ms/step - loss: 5.9851\n",
      "30135\n",
      "Generating from seed: simpson hey bar boy dance around like an idiot like\n",
      "simpson hey bar boy dance around like an idiot like it moe szyslak just just a only so just like the you you got that one homer simpson wow i think marge marge simpson no good guy marge lenny leonard that's right at my good time homer i know that is so but that man i need a rich smithers ==================================================\n",
      "Iteration #: 38\n",
      "Epoch 1/1\n",
      "53158/53158 [==============================] - 103s 2ms/step - loss: 5.9436\n",
      "11818\n",
      "Generating from seed: just twenty four hours of freedom left homer simpson checking\n",
      "just twenty four hours of freedom left homer simpson checking noise then i've know that marge simpson no no so no so no marge simpson oh that's so man marge simpson no no no no barney gumble so no but who got a you i know marge simpson no so come at the bar who one i got a i ==================================================\n",
      "Iteration #: 39\n",
      "Epoch 1/1\n",
      "53158/53158 [==============================] - 103s 2ms/step - loss: 5.9153\n",
      "52260\n",
      "Generating from seed: don't see your name engraved on the bar stool richard\n",
      "don't see your name engraved on the bar stool richard here at this one one one as an one thing to get all for a beer barney gumble now i could make that carl carlson i can't go for the bar homer simpson what are you i'm gonna make a i got in with a money homer simpson oh it's ==================================================\n",
      "Iteration #: 40\n",
      "Epoch 1/1\n",
      "53158/53158 [==============================] - 103s 2ms/step - loss: 5.8909\n",
      "11769\n",
      "Generating from seed: chase the blues away lenny leonard yeah you got that\n",
      "chase the blues away lenny leonard yeah you got that to believe a time carl carlson yeah but this guy are got a gumble now barney barney gumble hey moe just a little one homer simpson aw like you just just like a moe szyslak well i'm not gonna do is now marge you want to go one of my ==================================================\n",
      "Iteration #: 41\n",
      "Epoch 1/1\n",
      "53158/53158 [==============================] - 103s 2ms/step - loss: 5.8670\n",
      "34473\n",
      "Generating from seed: yeah that's what i meant too i have no inclination\n",
      "yeah that's what i meant too i have no inclination moe szyslak so you gotta get is in a lot of no beer barney gumble so marge marge don't get some one of my little beer i can get my beer for here barney gumble hey moe that's is i don't get my little one homer simpson singing that is ==================================================\n",
      "Iteration #: 42\n",
      "Epoch 1/1\n",
      "53158/53158 [==============================] - 103s 2ms/step - loss: 5.8512\n",
      "1804\n",
      "Generating from seed: i am from the west fritz i had a big\n",
      "i am from the west fritz i had a big butt is all beer homer simpson so what the little bar barney gumble i am no one time moe szyslak ah that's right no uh look at you you are so one moe szyslak eh no one is all one and as they have to go out lenny leonard well ==================================================\n",
      "Iteration #: 43\n",
      "Epoch 1/1\n",
      "53158/53158 [==============================] - 103s 2ms/step - loss: 5.7894\n",
      "17373\n",
      "Generating from seed: where was i uh two three three radishes three big\n",
      "where was i uh two three three radishes three big moe and i haven't got with an tavern man one of the bar is barney gumble homer that is back for a new car kent brockman with his way homer simpson woo tv hello now and i'm gonna get to a the you bar carl carlson hey homer like you ==================================================\n",
      "Iteration #: 44\n",
      "Epoch 1/1\n",
      "53158/53158 [==============================] - 103s 2ms/step - loss: 5.7620\n",
      "49097\n",
      "Generating from seed: club member anyone tries to stop me and you'll see\n",
      "club member anyone tries to stop me and you'll see her as now and how was your new guy is a beer with the man is that beer barney gumble hey moe don't do that one of my new thing homer simpson i can't go some bar who man i'm not one barney gumble yeah i'm not not that's in ==================================================\n",
      "Iteration #: 45\n",
      "Epoch 1/1\n",
      "53158/53158 [==============================] - 106s 2ms/step - loss: 5.7046\n",
      "51703\n",
      "Generating from seed: just say i don't feel like goin' home tonight jar\n",
      "just say i don't feel like goin' home tonight jar as you barney gumble hey barney carl carlson to the new homer homer simpson okay now marge simpson as this place as some of our szyslak i'm gonna go with this beer barney gumble hey moe don't do we think homer you just gonna go with the moe szyslak no ==================================================\n",
      "Iteration #: 46\n",
      "Epoch 1/1\n",
      "53158/53158 [==============================] - 103s 2ms/step - loss: 5.6787\n",
      "41148\n",
      "Generating from seed: question is is it an appropriate reaction to the situation\n",
      "question is is it an appropriate reaction to the situation one beer bart then we are not make an new little be one is a the na brockman a little bar one moe szyslak okay how one homer simpson one was some one one of my new bar about a little bar and this guy was a szyslak one one ==================================================\n",
      "Iteration #: 47\n",
      "Epoch 1/1\n",
      "53158/53158 [==============================] - 103s 2ms/step - loss: 5.6360\n",
      "26724\n",
      "Generating from seed: one what done the thing that why you're here for\n",
      "one what done the thing that why you're here for this bar carl carlson that's a beer barney gumble no no okay how are you got with an fish barney gumble to not that's he marge homer simpson well i'm not too much moe szyslak no i'm gonna do that now moe szyslak okay no moe szyslak no i can ==================================================\n",
      "Iteration #: 48\n",
      "Epoch 1/1\n",
      "53158/53158 [==============================] - 103s 2ms/step - loss: 5.5536\n",
      "22857\n",
      "Generating from seed: best friend homer simpson rainier wolfcastle carl carlson teenage girl\n"
     ]
    },
    {
     "name": "stdout",
     "output_type": "stream",
     "text": [
      "best friend homer simpson rainier wolfcastle carl carlson teenage girl tough funny lenny leonard he are that carl carlson but they just think marge simpson fine i'm just here a best date and you moe szyslak okay so one hundred one little little little aw homer simpson marge don't you think i think like that man like you back homer ==================================================\n",
      "Iteration #: 49\n",
      "Epoch 1/1\n",
      "53158/53158 [==============================] - 103s 2ms/step - loss: 5.5127\n",
      "22710\n",
      "Generating from seed: my head he's like a spy in the house of\n",
      "my head he's like a spy in the house of you man is your best thing i'm not right barney homer simpson no man okay how like you got a moe szyslak ah that's this beer homer simpson so i'm not here we want to moe szyslak i'm not a moe szyslak oh yeah no good man is so good \n"
     ]
    }
   ],
   "source": [
    "# We train the model in batches and test output generated at each step\n",
    "for iteration in range(NUM_ITERATIONS):\n",
    "    print(\"=\" * 50)\n",
    "    print(\"Iteration #: %d\" % (iteration))\n",
    "    \n",
    "    model.fit(X, y, epochs=NUM_EPOCHS_PER_ITERATION) # train for 1 epoch\n",
    "    \n",
    "    # testing model\n",
    "    # randomly choose a row from input_sentences, then use it to \n",
    "    # generate text from model for next 100 chars\n",
    "    test_idx = np.random.randint(len(input_sequences))\n",
    "    print(test_idx)\n",
    "    test_sequence = input_sequences[test_idx]\n",
    "    #test_sentence = \" \".join(list(map(lambda wid: index2word[wid], test_sequence)))\n",
    "    test_sentence = input_sentences[test_idx]\n",
    "    print(\"Generating from seed: %s\" % test_sentence)\n",
    "    print(test_sentence, end=\" \")\n",
    "    for i in range(NUM_PREDS_PER_EPOCH):\n",
    "        X_test = np.array(test_sequence).reshape(1, SEQLEN)\n",
    "        #X_test = np.zeros((1, SEQLEN, nb_words))\n",
    "        #for i, word in enumerate(test_words):\n",
    "        #    X_test[0, i, word2index[word]] = 1\n",
    "        pred = model.predict(X_test, verbose=0)[0]\n",
    "        ypred = index2word[np.argmax(pred)]\n",
    "        print(ypred, end=\" \")\n",
    "        # move forward with test_chars + ypred\n",
    "        #test_words = test_words[1:].append(ypred)\n",
    "        del test_sequence[0]\n",
    "        test_sequence.append(np.argmax(pred))\n",
    "print()"
   ]
  },
  {
   "cell_type": "markdown",
   "metadata": {},
   "source": [
    "### Using Embedding Layer initialised with pre-trained GloVe embeddings"
   ]
  },
  {
   "cell_type": "code",
   "execution_count": 36,
   "metadata": {
    "collapsed": true
   },
   "outputs": [],
   "source": [
    "GLOVE_MODEL = \"data/glove.6B.300d.txt\""
   ]
  },
  {
   "cell_type": "code",
   "execution_count": 37,
   "metadata": {
    "collapsed": true
   },
   "outputs": [],
   "source": [
    "# load GloVe vectors\n",
    "word2emb = {}\n",
    "with open(GLOVE_MODEL, \"rb\") as fglove:\n",
    "    for line in fglove:\n",
    "        cols = line.strip().split()\n",
    "        word = cols[0]\n",
    "        embedding = np.array(cols[1:], dtype=\"float32\")\n",
    "        word2emb[word] = embedding"
   ]
  },
  {
   "cell_type": "code",
   "execution_count": 38,
   "metadata": {
    "collapsed": true
   },
   "outputs": [],
   "source": [
    "glove_embedding_weights = np.zeros((VOCAB_SIZE, EMBED_SIZE))\n",
    "for word, index in word2index.items():\n",
    "    try:\n",
    "        glove_embedding_weights[index, :] = word2emb[word]\n",
    "    except KeyError:\n",
    "        # words not found in glove embedding dictionary word2emb will be all-zeros.\n",
    "        pass"
   ]
  },
  {
   "cell_type": "code",
   "execution_count": 39,
   "metadata": {
    "collapsed": true
   },
   "outputs": [],
   "source": [
    "VOCAB_SIZE = len(word2index) + 1\n",
    "EMBED_SIZE  = 300\n",
    "HIDDEN_SIZE = 128"
   ]
  },
  {
   "cell_type": "code",
   "execution_count": 41,
   "metadata": {},
   "outputs": [],
   "source": [
    "# Build model\n",
    "model = Sequential()\n",
    "model.add(Embedding(input_dim=VOCAB_SIZE, \n",
    "                    output_dim=EMBED_SIZE, \n",
    "                    input_length=SEQLEN, \n",
    "                    weights=[glove_embedding_weights], \n",
    "                    trainable=True))\n",
    "model.add(LSTM(units=HIDDEN_SIZE, return_sequences=True, unroll=True))\n",
    "model.add(Dropout(0.2))\n",
    "model.add(LSTM(units=HIDDEN_SIZE, return_sequences=False, unroll=True))\n",
    "model.add(Dropout(0.2))\n",
    "model.add(Dense(VOCAB_SIZE))\n",
    "model.add(Activation(\"softmax\"))"
   ]
  },
  {
   "cell_type": "code",
   "execution_count": 42,
   "metadata": {
    "collapsed": true
   },
   "outputs": [],
   "source": [
    "model.compile(loss=\"categorical_crossentropy\", optimizer=\"rmsprop\")"
   ]
  },
  {
   "cell_type": "code",
   "execution_count": 43,
   "metadata": {},
   "outputs": [
    {
     "name": "stdout",
     "output_type": "stream",
     "text": [
      "_________________________________________________________________\n",
      "Layer (type)                 Output Shape              Param #   \n",
      "=================================================================\n",
      "embedding_2 (Embedding)      (None, 10, 300)           1936200   \n",
      "_________________________________________________________________\n",
      "lstm_4 (LSTM)                (None, 10, 128)           219648    \n",
      "_________________________________________________________________\n",
      "dropout_4 (Dropout)          (None, 10, 128)           0         \n",
      "_________________________________________________________________\n",
      "lstm_5 (LSTM)                (None, 128)               131584    \n",
      "_________________________________________________________________\n",
      "dropout_5 (Dropout)          (None, 128)               0         \n",
      "_________________________________________________________________\n",
      "dense_2 (Dense)              (None, 6454)              832566    \n",
      "_________________________________________________________________\n",
      "activation_2 (Activation)    (None, 6454)              0         \n",
      "=================================================================\n",
      "Total params: 3,119,998\n",
      "Trainable params: 3,119,998\n",
      "Non-trainable params: 0\n",
      "_________________________________________________________________\n",
      "None\n"
     ]
    }
   ],
   "source": [
    "print(model.summary())"
   ]
  },
  {
   "cell_type": "code",
   "execution_count": 44,
   "metadata": {
    "collapsed": true
   },
   "outputs": [],
   "source": [
    "BATCH_SIZE = 128\n",
    "NUM_ITERATIONS = 50\n",
    "NUM_EPOCHS_PER_ITERATION = 1\n",
    "NUM_PREDS_PER_EPOCH = 50"
   ]
  },
  {
   "cell_type": "code",
   "execution_count": 45,
   "metadata": {
    "scrolled": false
   },
   "outputs": [
    {
     "name": "stdout",
     "output_type": "stream",
     "text": [
      "==================================================\n",
      "Iteration #: 0\n",
      "Epoch 1/1\n",
      "53158/53158 [==============================] - 62s 1ms/step - loss: 6.5442\n",
      "30280\n",
      "Generating from seed: it was the first day of summer moe szyslak i\n",
      "it was the first day of summer moe szyslak i i moe szyslak i i moe szyslak i i moe szyslak i i moe szyslak i i moe szyslak i i moe szyslak i i moe szyslak i i moe szyslak i i moe szyslak i i moe szyslak i i moe szyslak i i moe szyslak i i moe ==================================================\n",
      "Iteration #: 1\n",
      "Epoch 1/1\n",
      "53158/53158 [==============================] - 60s 1ms/step - loss: 6.2621\n",
      "20338\n",
      "Generating from seed: the ol' eye gouger in the pickle brine that'll keep\n",
      "the ol' eye gouger in the pickle brine that'll keep moe szyslak hey i i you you you to to to to to to to to to to to to to to to to to to to to to to to to to to to to to to to to to to to to to to to to to to ==================================================\n",
      "Iteration #: 2\n",
      "Epoch 1/1\n",
      "53158/53158 [==============================] - 59s 1ms/step - loss: 6.1117\n",
      "7734\n",
      "Generating from seed: slow horrified good god turns to homer homer y'know i\n",
      "slow horrified good god turns to homer homer y'know i i i you be to to to to to to to to to to to to to to to to to to to to to to to to to to to to to to to to to to to to to to to to to to to to to to ==================================================\n",
      "Iteration #: 3\n",
      "Epoch 1/1\n",
      "53158/53158 [==============================] - 58s 1ms/step - loss: 5.9894\n",
      "35170\n",
      "Generating from seed: you always been this size or is this like a\n",
      "you always been this size or is this like a bar moe szyslak yeah i know i know i know i know i know i know i know i know i know i know i know i know i know i know i know i know i know i know i know i know i know i know i know ==================================================\n",
      "Iteration #: 4\n",
      "Epoch 1/1\n",
      "53158/53158 [==============================] - 58s 1ms/step - loss: 5.8999\n",
      "50571\n",
      "Generating from seed: hold that thought teenage homer psst barney my dad's asleep\n",
      "hold that thought teenage homer psst barney my dad's asleep moe szyslak i can't be a new new new new new tavern homer simpson i can't think you know you know you know you know you know you know you know you know you know you know you know you know you know you know you know you know you ==================================================\n",
      "Iteration #: 5\n",
      "Epoch 1/1\n",
      "53158/53158 [==============================] - 58s 1ms/step - loss: 5.8530\n",
      "50928\n",
      "Generating from seed: after all these years i deserve an explanation moe szyslak\n",
      "after all these years i deserve an explanation moe szyslak oh i know you know you know i know you know i know you know you know i know you know i know you know you know i know you know i know you know you know i know you know i know you know you know i know you ==================================================\n",
      "Iteration #: 6\n",
      "Epoch 1/1\n",
      "53158/53158 [==============================] - 62s 1ms/step - loss: 5.8823\n",
      "42156\n",
      "Generating from seed: mexican duffman mexican duffman oh yeah ho la carl carlson\n",
      "mexican duffman mexican duffman oh yeah ho la carl carlson yeah i got a new lot of guy homer simpson oh i got a new lot of guy homer simpson oh i got a new lot of guy homer simpson oh i got a new lot of guy homer simpson oh i got a new lot of guy homer simpson ==================================================\n",
      "Iteration #: 7\n",
      "Epoch 1/1\n",
      "53158/53158 [==============================] - 63s 1ms/step - loss: 5.9327\n",
      "45342\n",
      "Generating from seed: am gonna tie a rope around your neck and hang\n",
      "am gonna tie a rope around your neck and hang gonna be a new bar moe szyslak hey hey hey hey hey hey don't got a bar moe szyslak hey i know i know i know i know i know i know i know i know i know i know i know i know i know i know i know ==================================================\n",
      "Iteration #: 8\n",
      "Epoch 1/1\n",
      "53158/53158 [==============================] - 63s 1ms/step - loss: 6.0444\n",
      "11991\n",
      "Generating from seed: simpson oh yeah moe szyslak i made that last one\n",
      "simpson oh yeah moe szyslak i made that last one moe szyslak hey i know i got a name moe szyslak yeah homer simpson yeah i got a best burns little little burns bar moe szyslak yeah yeah i got a best burns little little burns bar moe szyslak yeah yeah i got a best burns little little burns bar ==================================================\n",
      "Iteration #: 9\n",
      "Epoch 1/1\n",
      "53158/53158 [==============================] - 61s 1ms/step - loss: 6.1730\n",
      "7912\n",
      "Generating from seed: barney until it's safely off the truck waylon smithers i'll\n",
      "barney until it's safely off the truck waylon smithers i'll be be little way to get a little way moe szyslak hey hey hey i know i know i know i know i know i know i know i know i know i know i know i know i know i know i know i know i know i know ==================================================\n",
      "Iteration #: 10\n",
      "Epoch 1/1\n",
      "53158/53158 [==============================] - 61s 1ms/step - loss: 6.3102\n",
      "31355\n",
      "Generating from seed: loser staying in our house marge says she's gonna kick\n",
      "loser staying in our house marge says she's gonna kick a little bar and get the bar moe szyslak yeah homer simpson hey hey i'm not a little guy moe szyslak hey hey i don't know it moe szyslak hey you know i got a little guy moe szyslak hey hey hey i can't have a little man man oh ==================================================\n",
      "Iteration #: 11\n",
      "Epoch 1/1\n",
      "53158/53158 [==============================] - 58s 1ms/step - loss: 6.4477\n",
      "8056\n",
      "Generating from seed: you wanna marry a guy like selma homer simpson okay\n",
      "you wanna marry a guy like selma homer simpson okay i can't had a little guy to be a little guy moe szyslak oh oh yeah i got a little little guy moe szyslak oh oh yeah i got a little little guy moe szyslak oh oh yeah i got a little little guy moe szyslak oh oh yeah i ==================================================\n",
      "Iteration #: 12\n",
      "Epoch 1/1\n",
      "53158/53158 [==============================] - 63s 1ms/step - loss: 6.4849\n",
      "38515\n",
      "Generating from seed: ferry will be back in ten minutes it'll take us\n",
      "ferry will be back in ten minutes it'll take us a little guy homer simpson oh no no no no no no no no no no no no no no no no no no no no no no no no no no no no no no no no no no no no no no no no no no no no ==================================================\n",
      "Iteration #: 13\n",
      "Epoch 1/1\n",
      "53158/53158 [==============================] - 62s 1ms/step - loss: 6.5117\n",
      "43040\n",
      "Generating from seed: homer simpson sorry guys private family moment marge simpson tipsy\n",
      "homer simpson sorry guys private family moment marge simpson tipsy hey no no no no man look at the bar homer simpson oh i don't know what i got a little guy i got a little guy moe szyslak hey homer i got a little time homer simpson oh i don't know i can you got a little time to ==================================================\n",
      "Iteration #: 14\n",
      "Epoch 1/1\n",
      "53158/53158 [==============================] - 73s 1ms/step - loss: 6.5449\n",
      "23381\n",
      "Generating from seed: pepsi moe szyslak oh i cannot listen to this again\n",
      "pepsi moe szyslak oh i cannot listen to this again homer simpson hey moe don't get a little guy moe szyslak hey homer don't get a little guy homer simpson oh i don't know what i was just gonna be a little guy homer simpson oh yeah moe szyslak hey hey hey no no uh no no uh okay moe ==================================================\n",
      "Iteration #: 15\n",
      "Epoch 1/1\n",
      "53158/53158 [==============================] - 60s 1ms/step - loss: 6.5611\n",
      "44502\n",
      "Generating from seed: gone let's all go into our suspended state till he\n",
      "gone let's all go into our suspended state till he was a little guy moe szyslak hey uh hey don't get a little guy are get a new new guy and get a little guy moe szyslak hey hey uh no got a little little guy are get a new be guy and get a new new guy and get ==================================================\n",
      "Iteration #: 16\n",
      "Epoch 1/1\n",
      "53158/53158 [==============================] - 58s 1ms/step - loss: 6.5532\n",
      "40938\n",
      "Generating from seed: simpson um uh attempting to change subject so uh joey\n"
     ]
    },
    {
     "name": "stdout",
     "output_type": "stream",
     "text": [
      "simpson um uh attempting to change subject so uh joey man can do they get a drink moe szyslak oh yeah uh uh uh don't know it was good for a way to get one thing moe szyslak no uh look like a little guy but i can't see it was good to the big drink but i'm gonna get ==================================================\n",
      "Iteration #: 17\n",
      "Epoch 1/1\n",
      "53158/53158 [==============================] - 60s 1ms/step - loss: 6.5138\n",
      "7032\n",
      "Generating from seed: but you know we had good writers william faulkner could\n",
      "but you know we had good writers william faulkner could make it as a little guy at the bar marge simpson okay i'm not not a little guy moe szyslak oh oh yeah no homer simpson no no no no no no no no no uh okay hey ah okay if you see that time i'm gonna get it for ==================================================\n",
      "Iteration #: 18\n",
      "Epoch 1/1\n",
      "53158/53158 [==============================] - 61s 1ms/step - loss: 6.5301\n",
      "31425\n",
      "Generating from seed: i just had this awful feeling that uh homer's in\n",
      "i just had this awful feeling that uh homer's in the bar would be gonna much go and much lenny leonard hey hey hey no i can't i don't know to you go to go to get out of an bar i'm not gonna get a little guy moe szyslak so no no uh no uh uh okay no oh ==================================================\n",
      "Iteration #: 19\n",
      "Epoch 1/1\n",
      "53158/53158 [==============================] - 58s 1ms/step - loss: 6.5034\n",
      "8056\n",
      "Generating from seed: you wanna marry a guy like selma homer simpson okay\n",
      "you wanna marry a guy like selma homer simpson okay was a little bar are to get the be a be a be a be to get a be a be a be to get a gotta get a little beer moe szyslak oh i can't get it about that moe szyslak ah homer i can't get this bar to ==================================================\n",
      "Iteration #: 20\n",
      "Epoch 1/1\n",
      "53158/53158 [==============================] - 61s 1ms/step - loss: 6.4616\n",
      "21894\n",
      "Generating from seed: the rainforest peter buck good enough let's eat lisa simpson\n",
      "the rainforest peter buck good enough let's eat lisa simpson i'm not so so no no guys can be good time i can get my little time homer simpson oh yeah i don't have to my little time homer simpson oh i don't want to be to get my little time with the money homer simpson oh no no no ==================================================\n",
      "Iteration #: 21\n",
      "Epoch 1/1\n",
      "53158/53158 [==============================] - 61s 1ms/step - loss: 6.4422\n",
      "45699\n",
      "Generating from seed: turning your life around lenny leonard with the three desperate\n",
      "turning your life around lenny leonard with the three desperate uh this is a little day what what do i got the beer moe szyslak oh yeah what are you gonna get the beer moe szyslak oh oh oh yeah what i get a way to get your beer moe szyslak oh hey hey hey what are you the little ==================================================\n",
      "Iteration #: 22\n",
      "Epoch 1/1\n",
      "53158/53158 [==============================] - 59s 1ms/step - loss: 6.4193\n",
      "4673\n",
      "Generating from seed: simpson hey moe can i look too moe szyslak sure\n",
      "simpson hey moe can i look too moe szyslak sure homer simpson i got the little beer moe szyslak oh oh no no no no no no no no man well well i'm gonna do about my little beer moe szyslak oh yeah no i don't want to get out of you but i got a little man i'm gonna ==================================================\n",
      "Iteration #: 23\n",
      "Epoch 1/1\n",
      "53158/53158 [==============================] - 61s 1ms/step - loss: 6.4278\n",
      "47704\n",
      "Generating from seed: marge simpson sadly now i know why homie comes here\n",
      "marge simpson sadly now i know why homie comes here too much no no no no no no no no no no no no no no no no no no no no no no no no no no no no no no no no no no no no no no no no no no no no no no no no ==================================================\n",
      "Iteration #: 24\n",
      "Epoch 1/1\n",
      "53158/53158 [==============================] - 60s 1ms/step - loss: 6.4164\n",
      "33082\n",
      "Generating from seed: frontrunner and go back to their mansions moe szyslak who\n",
      "frontrunner and go back to their mansions moe szyslak who can you get that good down homer simpson oh uh uh well i got a little new bar carl carlson hey what do you to be so man homer simpson oh no no uh uh i'm not not not not not here moe szyslak oh oh yeah that's a little ==================================================\n",
      "Iteration #: 25\n",
      "Epoch 1/1\n",
      "53158/53158 [==============================] - 59s 1ms/step - loss: 6.4086\n",
      "24774\n",
      "Generating from seed: you honey you bulked up but managed to keep your\n",
      "you honey you bulked up but managed to keep your money marge simpson okay i'm not not to the beer barney gumble hey moe don't get a beer moe szyslak hey homer don't know all one one of my bar good one moe szyslak hey homer you can go for a little man who can good carl carlson hey homer ==================================================\n",
      "Iteration #: 26\n",
      "Epoch 1/1\n",
      "53158/53158 [==============================] - 58s 1ms/step - loss: 6.3780\n",
      "43632\n",
      "Generating from seed: through secret cameras dan gillick uh huh all right then\n",
      "through secret cameras dan gillick uh huh all right then uh uh uh it's not gonna get him out of your bar carl carlson hey homer we can get for a bar barney gumble hey hey can i get to get your money homer simpson so good for you now homer simpson okay huh now now i'm not gonna do ==================================================\n",
      "Iteration #: 27\n",
      "Epoch 1/1\n",
      "53158/53158 [==============================] - 58s 1ms/step - loss: 6.3521\n",
      "23388\n",
      "Generating from seed: to this again homer simpson guys i just ordered my\n",
      "to this again homer simpson guys i just ordered my bar and i'm not gonna take it homer simpson so i don't want to get something at that can you get a little man barney gumble hey no little way you get like this is one of my little bar barney gumble oh it's not here to get a little ==================================================\n",
      "Iteration #: 28\n",
      "Epoch 1/1\n",
      "53158/53158 [==============================] - 58s 1ms/step - loss: 6.3308\n",
      "50733\n",
      "Generating from seed: of truth you've gotta tell marge you really don't want\n",
      "of truth you've gotta tell marge you really don't want what to get her barney gumble hey no can be more moe szyslak oh well if i can't get out there do to get your time to get out of your little man i'm not too good for to get out of the bar good time homer simpson so now ==================================================\n",
      "Iteration #: 29\n",
      "Epoch 1/1\n",
      "53158/53158 [==============================] - 58s 1ms/step - loss: 6.3278\n",
      "36966\n",
      "Generating from seed: i can't talk now i'm watching a play beat you\n",
      "i can't talk now i'm watching a play beat you know how do i get out of the god i'm gonna do for all the man but i'm gonna do for your bar barney gumble hey moe can i get a beer homer simpson hey moe i'm not here moe szyslak oh i'm a little man uh uh can be ==================================================\n",
      "Iteration #: 30\n",
      "Epoch 1/1\n",
      "53158/53158 [==============================] - 60s 1ms/step - loss: 6.3168\n",
      "7066\n",
      "Generating from seed: making movies barney gumble moe moe moe szyslak oh no\n",
      "making movies barney gumble moe moe moe szyslak oh no you know what are you good with that was a man man i'm gonna come up to the bar homer simpson oh oh no you can't see that thing but now about a bar for a little man barney gumble hey homer what can you can be good with my ==================================================\n",
      "Iteration #: 31\n",
      "Epoch 1/1\n",
      "53158/53158 [==============================] - 63s 1ms/step - loss: 6.3124\n",
      "14275\n",
      "Generating from seed: flashing badge united states government homer simpson panicky help somebody\n",
      "flashing badge united states government homer simpson panicky help somebody moe szyslak oh oh no no i got with that with a bar barney gumble hey hey hey no no man no no good beer homer simpson well i'm not so good than here to get now now marge simpson so i can come here and come on all right ==================================================\n",
      "Iteration #: 32\n",
      "Epoch 1/1\n",
      "53158/53158 [==============================] - 67s 1ms/step - loss: 6.2886\n",
      "12593\n",
      "Generating from seed: clear in boston lenny leonard to homer i brought a\n"
     ]
    },
    {
     "name": "stdout",
     "output_type": "stream",
     "text": [
      "clear in boston lenny leonard to homer i brought a bar on a bar bart simpson okay well i was one like that bar marge simpson good one hey moe i can't get out of your bar to get your best friend moe szyslak oh my god no was not not too good more carl carlson well uh no can't ==================================================\n",
      "Iteration #: 33\n",
      "Epoch 1/1\n",
      "53158/53158 [==============================] - 64s 1ms/step - loss: 6.2694\n",
      "20617\n",
      "Generating from seed: trust you how'd you like to be a snitch the\n",
      "trust you how'd you like to be a snitch the gotta do that was at the bar marge simpson okay okay i think i was the bar now to go with you don't get out of the man now what do you can be one of those bar who can't buy that in the bar homer simpson okay now moe ==================================================\n",
      "Iteration #: 34\n",
      "Epoch 1/1\n",
      "53158/53158 [==============================] - 64s 1ms/step - loss: 6.2650\n",
      "4643\n",
      "Generating from seed: problemo points hey moe look over there moe szyslak what\n",
      "problemo points hey moe look over there moe szyslak what you can get on all my bar but who was all a beer lenny leonard i don't know what we can get here and i'm gonna have to get out of the oh homer simpson but i'm not a man i'm not not just lenny leonard hey well i'm not ==================================================\n",
      "Iteration #: 35\n",
      "Epoch 1/1\n",
      "53158/53158 [==============================] - 65s 1ms/step - loss: 6.2578\n",
      "44110\n",
      "Generating from seed: barney gumble i bet something disillusioned you as a child\n",
      "barney gumble i bet something disillusioned you as a child one man man moe that is just one of a bar could go to one there carl carlson hey marge who was your bar we can have here to go carl carlson hey homer what is a one one man i know that was here lenny leonard i can't look ==================================================\n",
      "Iteration #: 36\n",
      "Epoch 1/1\n",
      "53158/53158 [==============================] - 66s 1ms/step - loss: 6.2632\n",
      "11537\n",
      "Generating from seed: anger so you lost my car eh well that's just\n",
      "anger so you lost my car eh well that's just all the bar i'm not not one of a little bar barney gumble hey hey no god no no no no no man no no uh uh uh well that's it barney gumble hey this man who was a little man man who don't tell this barney gumble oh moe ==================================================\n",
      "Iteration #: 37\n",
      "Epoch 1/1\n",
      "53158/53158 [==============================] - 64s 1ms/step - loss: 6.2462\n",
      "45878\n",
      "Generating from seed: into money that mostly goes to us but you get\n",
      "into money that mostly goes to us but you get a one moe szyslak okay now if you're not one now of the man guys i'll do there to be one man uh uh uh well if i get a little new bar bart simpson uh well i got the little beer here and uh no little man i'm not ==================================================\n",
      "Iteration #: 38\n",
      "Epoch 1/1\n",
      "53158/53158 [==============================] - 65s 1ms/step - loss: 6.2225\n",
      "27304\n",
      "Generating from seed: freedom you gotta have some fun seymour skinner who are\n",
      "freedom you gotta have some fun seymour skinner who are all of you just one man are here carl carlson yeah but what do you think that was the bar i'm just gonna do with the and yeah moe szyslak hey no uh no uh uh no just just just can go here lenny leonard hey homer if you can ==================================================\n",
      "Iteration #: 39\n",
      "Epoch 1/1\n",
      "53158/53158 [==============================] - 65s 1ms/step - loss: 6.1553\n",
      "9661\n",
      "Generating from seed: i have one thing that can never be broken a\n",
      "i have one thing that can never be broken a man as that barney gumble about homer to have the new bar man uh uh uh who think i was this time for this man but i'm gonna do it barney gumble hey moe don't have to go with the bar i'll be here to get all here homer simpson ==================================================\n",
      "Iteration #: 40\n",
      "Epoch 1/1\n",
      "53158/53158 [==============================] - 65s 1ms/step - loss: 6.1224\n",
      "16494\n",
      "Generating from seed: dr julius hibbert guiltily well i guess we are ned\n",
      "dr julius hibbert guiltily well i guess we are ned flanders i know i can't get here homer simpson oh no no uh no no uh guys we just just go with a man are out of a little man uh uh uh uh uh can be be beer moe szyslak oh yeah no man i don't get it and ==================================================\n",
      "Iteration #: 41\n",
      "Epoch 1/1\n",
      "53158/53158 [==============================] - 65s 1ms/step - loss: 6.1202\n",
      "12293\n",
      "Generating from seed: tapping mic uh is this thing on barney gumble no\n",
      "tapping mic uh is this thing on barney gumble no uh moe szyslak uh uh uh uh uh what i go to go to the beer moe szyslak oh i can't get all the day what i'm just gonna make this beer homer simpson oh my god then now who can be here but for homer marge simpson homer what ==================================================\n",
      "Iteration #: 42\n",
      "Epoch 1/1\n",
      "53158/53158 [==============================] - 62s 1ms/step - loss: 6.1196\n",
      "5751\n",
      "Generating from seed: offer homer simpson shut up marge simpson i can hit\n",
      "offer homer simpson shut up marge simpson i can hit that one there are all my bar homer simpson ah you know what i'm gonna do for this carl carlson hey homer you're so one homer simpson so now i got the beer here but i'm gonna get this back one barney gumble oh yeah how do i get to ==================================================\n",
      "Iteration #: 43\n",
      "Epoch 1/1\n",
      "53158/53158 [==============================] - 63s 1ms/step - loss: 6.1311\n",
      "41099\n",
      "Generating from seed: neat ain't tryin' to be no hero chuckles moe szyslak\n",
      "neat ain't tryin' to be no hero chuckles moe szyslak oh uh uh uh don't be the bar lisa simpson sings is just beer homer simpson oh what you was one but about the little man oh marge simpson no this is so good to be man i'm not back to one lisa simpson sorry homer simpson i got a ==================================================\n",
      "Iteration #: 44\n",
      "Epoch 1/1\n",
      "53158/53158 [==============================] - 66s 1ms/step - loss: 6.1104\n",
      "8561\n",
      "Generating from seed: you man enough to throw a punch should the opportunity\n",
      "you man enough to throw a punch should the opportunity homer simpson okay i'm one of it who was now moe szyslak so no what do i just have to go here homer simpson oh no moe moe szyslak no oh uh what are you one barney gumble so i'm not so now i'm just not not homer simpson no ==================================================\n",
      "Iteration #: 45\n",
      "Epoch 1/1\n",
      "53158/53158 [==============================] - 63s 1ms/step - loss: 6.0943\n",
      "29733\n",
      "Generating from seed: what's it say carl carlson sincere see ya soon homer\n",
      "what's it say carl carlson sincere see ya soon homer we got that just man i think is for is so lisa simpson ah i got to do for this moe szyslak oh what could go here homer simpson but he was a beer moe szyslak no no uh what don't make this is with the little barney gumble oh ==================================================\n",
      "Iteration #: 46\n",
      "Epoch 1/1\n",
      "53158/53158 [==============================] - 61s 1ms/step - loss: 6.0788\n",
      "49515\n",
      "Generating from seed: nobody does kemi portuguese eu nã£o quero dizer para mostrar\n",
      "nobody does kemi portuguese eu nã£o quero dizer para mostrar kent brockman oh flanders yeah my right time i'm gonna make you in my bar marge simpson hey what do you just have homer simpson well i'm gonna do for this one bart simpson hey no guys have a beer and no no just can go carl carlson oh yeah ==================================================\n",
      "Iteration #: 47\n",
      "Epoch 1/1\n",
      "53158/53158 [==============================] - 62s 1ms/step - loss: 6.0424\n",
      "38732\n",
      "Generating from seed: scary face scary noises lisa simpson i can see that\n",
      "scary face scary noises lisa simpson i can see that one man is all my bar barney gumble so what are you back homer simpson no i know you barney barney gumble oh no no uh uh uh uh can get here homer simpson i got your beer i have to get here homer simpson oh no hey don't say ==================================================\n",
      "Iteration #: 48\n",
      "Epoch 1/1\n",
      "53158/53158 [==============================] - 62s 1ms/step - loss: 6.0107\n",
      "36562\n",
      "Generating from seed: it's such a lovely blend barney gumble sings in harmony\n"
     ]
    },
    {
     "name": "stdout",
     "output_type": "stream",
     "text": [
      "it's such a lovely blend barney gumble sings in harmony it's is no i can have no little uh oh marge simpson uh uh no uh just come on here lenny leonard i'm just just like a bar to get your wife is so one of your bar man who could have to do marge simpson oh my god now ==================================================\n",
      "Iteration #: 49\n",
      "Epoch 1/1\n",
      "53158/53158 [==============================] - 64s 1ms/step - loss: 5.9793\n",
      "52943\n",
      "Generating from seed: szyslak beat just a minute let me check to the\n",
      "szyslak beat just a minute let me check to the little bar oh well then what are you one homer simpson okay i'm not back to go carl carlson hey now all is a bar more time homer simpson i'm not here moe szyslak who can never get your beer here moe szyslak well i'm not so so no man \n"
     ]
    }
   ],
   "source": [
    "# We train the model in batches and test output generated at each step\n",
    "for iteration in range(NUM_ITERATIONS):\n",
    "    print(\"=\" * 50)\n",
    "    print(\"Iteration #: %d\" % (iteration))\n",
    "    \n",
    "    model.fit(X, y, epochs=NUM_EPOCHS_PER_ITERATION) # train for 1 epoch\n",
    "    \n",
    "    # testing model\n",
    "    # randomly choose a row from input_sentences, then use it to \n",
    "    # generate text from model for next 100 chars\n",
    "    test_idx = np.random.randint(len(input_sequences))\n",
    "    print(test_idx)\n",
    "    test_sequence = input_sequences[test_idx]\n",
    "    #test_sentence = \" \".join(list(map(lambda wid: index2word[wid], test_sequence)))\n",
    "    test_sentence = input_sentences[test_idx]\n",
    "    print(\"Generating from seed: %s\" % test_sentence)\n",
    "    print(test_sentence, end=\" \")\n",
    "    for i in range(NUM_PREDS_PER_EPOCH):\n",
    "        X_test = np.array(test_sequence).reshape(1, SEQLEN)\n",
    "        #X_test = np.zeros((1, SEQLEN, nb_words))\n",
    "        #for i, word in enumerate(test_words):\n",
    "        #    X_test[0, i, word2index[word]] = 1\n",
    "        pred = model.predict(X_test, verbose=0)[0]\n",
    "        ypred = index2word[np.argmax(pred)]\n",
    "        print(ypred, end=\" \")\n",
    "        # move forward with test_chars + ypred\n",
    "        #test_words = test_words[1:].append(ypred)\n",
    "        del test_sequence[0]\n",
    "        test_sequence.append(np.argmax(pred))\n",
    "print()"
   ]
  },
  {
   "cell_type": "code",
   "execution_count": null,
   "metadata": {
    "collapsed": true
   },
   "outputs": [],
   "source": []
  }
 ],
 "metadata": {
  "kernelspec": {
   "display_name": "Python 3",
   "language": "python",
   "name": "python3"
  },
  "language_info": {
   "codemirror_mode": {
    "name": "ipython",
    "version": 3
   },
   "file_extension": ".py",
   "mimetype": "text/x-python",
   "name": "python",
   "nbconvert_exporter": "python",
   "pygments_lexer": "ipython3",
   "version": "3.5.3"
  }
 },
 "nbformat": 4,
 "nbformat_minor": 2
}
