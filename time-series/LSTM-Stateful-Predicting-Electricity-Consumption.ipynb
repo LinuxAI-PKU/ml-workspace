{
 "cells": [
  {
   "cell_type": "code",
   "execution_count": 1,
   "metadata": {
    "collapsed": true
   },
   "outputs": [],
   "source": [
    "import os\n",
    "import re\n",
    "\n",
    "import pandas as pd\n",
    "import matplotlib.pyplot as plt\n",
    "%matplotlib inline"
   ]
  },
  {
   "cell_type": "code",
   "execution_count": 2,
   "metadata": {
    "collapsed": true
   },
   "outputs": [],
   "source": [
    "#consum_data = pd.read_csv('data/LD2011_2014.txt', skiprows=1, usecols=[0, 250], delimiter=';', names=['Time', 'KW'], low_memory=False)\n",
    "#consum_data['KW'] = consum_data['KW'].map(lambda x : float(re.sub(',', '.', x)))"
   ]
  },
  {
   "cell_type": "code",
   "execution_count": 3,
   "metadata": {
    "collapsed": true
   },
   "outputs": [],
   "source": [
    "consum_data = pd.read_csv('data/LD2011_2014_C250.csv', low_memory=False)"
   ]
  },
  {
   "cell_type": "code",
   "execution_count": 4,
   "metadata": {},
   "outputs": [
    {
     "data": {
      "text/html": [
       "<div>\n",
       "<style>\n",
       "    .dataframe thead tr:only-child th {\n",
       "        text-align: right;\n",
       "    }\n",
       "\n",
       "    .dataframe thead th {\n",
       "        text-align: left;\n",
       "    }\n",
       "\n",
       "    .dataframe tbody tr th {\n",
       "        vertical-align: top;\n",
       "    }\n",
       "</style>\n",
       "<table border=\"1\" class=\"dataframe\">\n",
       "  <thead>\n",
       "    <tr style=\"text-align: right;\">\n",
       "      <th></th>\n",
       "      <th>Time</th>\n",
       "      <th>KW</th>\n",
       "    </tr>\n",
       "  </thead>\n",
       "  <tbody>\n",
       "    <tr>\n",
       "      <th>0</th>\n",
       "      <td>2011-01-01 00:15:00</td>\n",
       "      <td>46.686084</td>\n",
       "    </tr>\n",
       "    <tr>\n",
       "      <th>1</th>\n",
       "      <td>2011-01-01 00:30:00</td>\n",
       "      <td>48.634304</td>\n",
       "    </tr>\n",
       "    <tr>\n",
       "      <th>2</th>\n",
       "      <td>2011-01-01 00:45:00</td>\n",
       "      <td>49.928803</td>\n",
       "    </tr>\n",
       "    <tr>\n",
       "      <th>3</th>\n",
       "      <td>2011-01-01 01:00:00</td>\n",
       "      <td>51.223301</td>\n",
       "    </tr>\n",
       "    <tr>\n",
       "      <th>4</th>\n",
       "      <td>2011-01-01 01:15:00</td>\n",
       "      <td>51.223301</td>\n",
       "    </tr>\n",
       "  </tbody>\n",
       "</table>\n",
       "</div>"
      ],
      "text/plain": [
       "                  Time         KW\n",
       "0  2011-01-01 00:15:00  46.686084\n",
       "1  2011-01-01 00:30:00  48.634304\n",
       "2  2011-01-01 00:45:00  49.928803\n",
       "3  2011-01-01 01:00:00  51.223301\n",
       "4  2011-01-01 01:15:00  51.223301"
      ]
     },
     "execution_count": 4,
     "metadata": {},
     "output_type": "execute_result"
    }
   ],
   "source": [
    "consum_data.head(5)"
   ]
  },
  {
   "cell_type": "code",
   "execution_count": 5,
   "metadata": {},
   "outputs": [
    {
     "data": {
      "image/png": "[encoded data removed]",
      "text/plain": [
       "<matplotlib.figure.Figure at 0x1129b6400>"
      ]
     },
     "metadata": {},
     "output_type": "display_data"
    }
   ],
   "source": [
    "plt.figure()\n",
    "consum_data['KW'][1:1000].plot()\n",
    "plt.show()"
   ]
  },
  {
   "cell_type": "code",
   "execution_count": 75,
   "metadata": {
    "collapsed": true
   },
   "outputs": [],
   "source": [
    "from keras.layers.core import Dense\n",
    "from keras.layers.recurrent import LSTM\n",
    "from keras.models import Sequential\n",
    "from sklearn.preprocessing import MinMaxScaler\n",
    "\n",
    "import math"
   ]
  },
  {
   "cell_type": "code",
   "execution_count": 76,
   "metadata": {
    "collapsed": true
   },
   "outputs": [],
   "source": [
    "scaler = MinMaxScaler(feature_range=(0, 1), copy=False)\n",
    "data = scaler.fit_transform(consum_data['KW'].values.reshape(-1, 1))"
   ]
  },
  {
   "cell_type": "code",
   "execution_count": 77,
   "metadata": {},
   "outputs": [
    {
     "data": {
      "text/plain": [
       "array([[ 0.25384973],\n",
       "       [ 0.26460395],\n",
       "       [ 0.27174962],\n",
       "       ..., \n",
       "       [ 0.29675944],\n",
       "       [ 0.29318661],\n",
       "       [ 0.27889528]])"
      ]
     },
     "execution_count": 77,
     "metadata": {},
     "output_type": "execute_result"
    }
   ],
   "source": [
    "data"
   ]
  },
  {
   "cell_type": "code",
   "execution_count": 88,
   "metadata": {
    "collapsed": true
   },
   "outputs": [],
   "source": [
    "STATELESS = False\n",
    "\n",
    "NUM_TIMESTEPS = 20\n",
    "HIDDEN_SIZE = 10\n",
    "BATCH_SIZE = 96 # 24 hour (15 min intervals)\n",
    "NUM_EPOCHS = 5"
   ]
  },
  {
   "cell_type": "code",
   "execution_count": 79,
   "metadata": {
    "collapsed": true
   },
   "outputs": [],
   "source": [
    "X = np.zeros((data.shape[0], NUM_TIMESTEPS))\n",
    "Y = np.zeros((data.shape[0], 1))\n",
    "for i in range(len(data) - NUM_TIMESTEPS - 1):\n",
    "    X[i] = data[i:i + NUM_TIMESTEPS].T\n",
    "    Y[i] = data[i + NUM_TIMESTEPS + 1]\n",
    "\n",
    "# reshape X to three dimensions (samples, timesteps, features)\n",
    "X = np.expand_dims(X, axis=2)"
   ]
  },
  {
   "cell_type": "code",
   "execution_count": 80,
   "metadata": {},
   "outputs": [
    {
     "name": "stdout",
     "output_type": "stream",
     "text": [
      "(98179, 20, 1) (42077, 20, 1) (98179, 1) (42077, 1)\n"
     ]
    }
   ],
   "source": [
    "sp = int(0.7 * len(data))\n",
    "Xtrain, Xtest, Ytrain, Ytest = X[0:sp], X[sp:], Y[0:sp], Y[sp:]\n",
    "print(Xtrain.shape, Xtest.shape, Ytrain.shape, Ytest.shape)"
   ]
  },
  {
   "cell_type": "code",
   "execution_count": 81,
   "metadata": {
    "collapsed": true
   },
   "outputs": [],
   "source": [
    "if STATELESS:\n",
    "    # stateless\n",
    "    model = Sequential()\n",
    "    model.add(LSTM(HIDDEN_SIZE, input_shape=(NUM_TIMESTEPS, 1), return_sequences=False))\n",
    "    model.add(Dense(1))\n",
    "else:\n",
    "    # stateful\n",
    "    model = Sequential()\n",
    "    model.add(LSTM(HIDDEN_SIZE, stateful=True, batch_input_shape=(BATCH_SIZE, NUM_TIMESTEPS, 1), return_sequences=False))\n",
    "    model.add(Dense(1))"
   ]
  },
  {
   "cell_type": "code",
   "execution_count": 82,
   "metadata": {
    "collapsed": true
   },
   "outputs": [],
   "source": [
    "model.compile(loss=\"mean_squared_error\",optimizer=\"adam\", metrics=[\"mean_squared_error\"])"
   ]
  },
  {
   "cell_type": "code",
   "execution_count": 90,
   "metadata": {},
   "outputs": [
    {
     "name": "stdout",
     "output_type": "stream",
     "text": [
      "(98112, 20, 1) (42048, 20, 1) (98112, 1) (42048, 1)\n",
      "Epoch 1/5\n",
      "Train on 98112 samples, validate on 42048 samples\n",
      "Epoch 1/1\n",
      "98112/98112 [==============================] - 39s - loss: 0.0025 - mean_squared_error: 0.0025 - val_loss: 0.0023 - val_mean_squared_error: 0.0023\n",
      "Epoch 2/5\n",
      "Train on 98112 samples, validate on 42048 samples\n",
      "Epoch 1/1\n",
      "98112/98112 [==============================] - 39s - loss: 0.0024 - mean_squared_error: 0.0024 - val_loss: 0.0023 - val_mean_squared_error: 0.0023\n",
      "Epoch 3/5\n",
      "Train on 98112 samples, validate on 42048 samples\n",
      "Epoch 1/1\n",
      "98112/98112 [==============================] - 40s - loss: 0.0024 - mean_squared_error: 0.0024 - val_loss: 0.0023 - val_mean_squared_error: 0.0023\n",
      "Epoch 4/5\n",
      "Train on 98112 samples, validate on 42048 samples\n",
      "Epoch 1/1\n",
      "98112/98112 [==============================] - 39s - loss: 0.0024 - mean_squared_error: 0.0024 - val_loss: 0.0023 - val_mean_squared_error: 0.0023\n",
      "Epoch 5/5\n",
      "Train on 98112 samples, validate on 42048 samples\n",
      "Epoch 1/1\n",
      "98112/98112 [==============================] - 40s - loss: 0.0024 - mean_squared_error: 0.0024 - val_loss: 0.0022 - val_mean_squared_error: 0.0022\n"
     ]
    }
   ],
   "source": [
    "if STATELESS:\n",
    "    # stateless\n",
    "    model.fit(Xtrain, Ytrain, epochs=NUM_EPOCHS, batch_size=BATCH_SIZE, validation_data=(Xtest, Ytest), shuffle=False)\n",
    "else:\n",
    "    # stateful\n",
    "    # ned to make training and test data to multiple of BATCH_SIZE\n",
    "    train_size = (Xtrain.shape[0] // BATCH_SIZE) * BATCH_SIZE\n",
    "    test_size = (Xtest.shape[0] // BATCH_SIZE) * BATCH_SIZE\n",
    "    Xtrain, Ytrain = Xtrain[0:train_size], Ytrain[0:train_size]\n",
    "    Xtest, Ytest = Xtest[0:test_size], Ytest[0:test_size]\n",
    "    print(Xtrain.shape, Xtest.shape, Ytrain.shape, Ytest.shape)\n",
    "    for i in range(NUM_EPOCHS):\n",
    "        print(\"Epoch {:d}/{:d}\".format(i+1, NUM_EPOCHS))\n",
    "        model.fit(Xtrain, Ytrain, batch_size=BATCH_SIZE, epochs=1, validation_data=(Xtest, Ytest), shuffle=False)\n",
    "        model.reset_states()"
   ]
  },
  {
   "cell_type": "code",
   "execution_count": 91,
   "metadata": {},
   "outputs": [
    {
     "name": "stdout",
     "output_type": "stream",
     "text": [
      "41472/42048 [============================>.] - ETA: 0s"
     ]
    }
   ],
   "source": [
    "score, _ = model.evaluate(Xtest, Ytest, batch_size=BATCH_SIZE)"
   ]
  },
  {
   "cell_type": "code",
   "execution_count": 92,
   "metadata": {},
   "outputs": [
    {
     "name": "stdout",
     "output_type": "stream",
     "text": [
      "\n",
      "MSE: 0.002, RMSE: 0.047\n"
     ]
    }
   ],
   "source": [
    "rmse = math.sqrt(score)\n",
    "print(\"\\nMSE: {:.3f}, RMSE: {:.3f}\".format(score, rmse))"
   ]
  },
  {
   "cell_type": "code",
   "execution_count": null,
   "metadata": {
    "collapsed": true
   },
   "outputs": [],
   "source": []
  }
 ],
 "metadata": {
  "kernelspec": {
   "display_name": "Python 3",
   "language": "python",
   "name": "python3"
  },
  "language_info": {
   "codemirror_mode": {
    "name": "ipython",
    "version": 3
   },
   "file_extension": ".py",
   "mimetype": "text/x-python",
   "name": "python",
   "nbconvert_exporter": "python",
   "pygments_lexer": "ipython3",
   "version": "3.6.1"
  }
 },
 "nbformat": 4,
 "nbformat_minor": 2
}
