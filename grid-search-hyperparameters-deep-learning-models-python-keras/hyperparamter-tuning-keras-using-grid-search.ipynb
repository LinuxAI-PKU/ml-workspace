{
 "cells": [
  {
   "cell_type": "markdown",
   "metadata": {},
   "source": [
    "# How to Grid Search Hyperparameters for Deep Learning Models in Python With Keras\n",
    "From [https://machinelearningmastery.com/grid-search-hyperparameters-deep-learning-models-python-keras/](https://machinelearningmastery.com/grid-search-hyperparameters-deep-learning-models-python-keras/) by Jason Brownlee on August 9, 2016"
   ]
  },
  {
   "cell_type": "code",
   "execution_count": 1,
   "metadata": {},
   "outputs": [
    {
     "name": "stderr",
     "output_type": "stream",
     "text": [
      "Using TensorFlow backend.\n"
     ]
    }
   ],
   "source": [
    "# Use scikit-learn to grid search the batch size and epochs\n",
    "import numpy as np\n",
    "import keras\n",
    "from keras.models import Sequential\n",
    "from keras.layers import Dense\n",
    "from keras.layers import Dropout\n",
    "from keras.wrappers.scikit_learn import KerasClassifier\n",
    "\n",
    "from sklearn.model_selection import GridSearchCV"
   ]
  },
  {
   "cell_type": "code",
   "execution_count": 2,
   "metadata": {
    "collapsed": true
   },
   "outputs": [],
   "source": [
    "np.random.seed(7)"
   ]
  },
  {
   "cell_type": "code",
   "execution_count": 3,
   "metadata": {
    "collapsed": true
   },
   "outputs": [],
   "source": [
    "# load dataset\n",
    "dataset = np.loadtxt(\"data/pima-indians-diabetes.csv\", delimiter=\",\")"
   ]
  },
  {
   "cell_type": "code",
   "execution_count": 4,
   "metadata": {},
   "outputs": [
    {
     "data": {
      "text/plain": [
       "array([[   6.   ,  148.   ,   72.   , ...,    0.627,   50.   ,    1.   ],\n",
       "       [   1.   ,   85.   ,   66.   , ...,    0.351,   31.   ,    0.   ],\n",
       "       [   8.   ,  183.   ,   64.   , ...,    0.672,   32.   ,    1.   ],\n",
       "       ..., \n",
       "       [   5.   ,  121.   ,   72.   , ...,    0.245,   30.   ,    0.   ],\n",
       "       [   1.   ,  126.   ,   60.   , ...,    0.349,   47.   ,    1.   ],\n",
       "       [   1.   ,   93.   ,   70.   , ...,    0.315,   23.   ,    0.   ]])"
      ]
     },
     "execution_count": 4,
     "metadata": {},
     "output_type": "execute_result"
    }
   ],
   "source": [
    "dataset"
   ]
  },
  {
   "cell_type": "code",
   "execution_count": 5,
   "metadata": {},
   "outputs": [
    {
     "data": {
      "text/plain": [
       "(768, 9)"
      ]
     },
     "execution_count": 5,
     "metadata": {},
     "output_type": "execute_result"
    }
   ],
   "source": [
    "dataset.shape"
   ]
  },
  {
   "cell_type": "code",
   "execution_count": 6,
   "metadata": {
    "collapsed": true
   },
   "outputs": [],
   "source": [
    "# split into input (X) and output (Y) variables\n",
    "X = dataset[:,0:8]\n",
    "Y = dataset[:,8]"
   ]
  },
  {
   "cell_type": "markdown",
   "metadata": {},
   "source": [
    "## How to Tune Batch Size and Number of Epochs\n",
    "\n",
    "In this first simple example, we look at tuning the batch size and number of epochs used when fitting the network.\n",
    "\n",
    "The batch size in iterative gradient descent is the number of patterns shown to the network before the weights are updated. It is also an optimization in the training of the network, defining how many patterns to read at a time and keep in memory.\n",
    "\n",
    "The number of epochs is the number of times that the entire training dataset is shown to the network during training. Some networks are sensitive to the batch size, such as LSTM recurrent neural networks and Convolutional Neural Networks.\n",
    "\n",
    "Here we will evaluate a suite of different mini batch sizes from 10 to 100 in steps of 20."
   ]
  },
  {
   "cell_type": "code",
   "execution_count": 7,
   "metadata": {
    "collapsed": true
   },
   "outputs": [],
   "source": [
    "# Function to create model, required for KerasClassifier\n",
    "def create_model():\n",
    "    # create model\n",
    "    model = Sequential()\n",
    "    model.add(Dense(12, input_dim=8, activation='relu'))\n",
    "    model.add(Dense(1, activation='sigmoid'))\n",
    "    # Compile model\n",
    "    model.compile(loss='binary_crossentropy', optimizer='adam', metrics=['accuracy'])\n",
    "    return model"
   ]
  },
  {
   "cell_type": "code",
   "execution_count": 8,
   "metadata": {
    "collapsed": true
   },
   "outputs": [],
   "source": [
    "# create model\n",
    "model = KerasClassifier(build_fn=create_model, verbose=0)\n",
    "# define the grid search parameters\n",
    "batch_size = [10, 20, 40, 60, 80, 100]\n",
    "epochs = [10, 50, 100]\n",
    "param_grid = dict(batch_size=batch_size, epochs=epochs)"
   ]
  },
  {
   "cell_type": "code",
   "execution_count": 9,
   "metadata": {},
   "outputs": [],
   "source": [
    "grid = GridSearchCV(estimator=model, param_grid=param_grid, n_jobs=1)\n",
    "grid_result = grid.fit(X, Y)"
   ]
  },
  {
   "cell_type": "code",
   "execution_count": 10,
   "metadata": {},
   "outputs": [
    {
     "name": "stdout",
     "output_type": "stream",
     "text": [
      "Best: 0.687500 using {'batch_size': 80, 'epochs': 100}\n",
      "0.433594 (0.143773) with: {'batch_size': 10, 'epochs': 10}\n",
      "0.558594 (0.112719) with: {'batch_size': 10, 'epochs': 50}\n",
      "0.678385 (0.016053) with: {'batch_size': 10, 'epochs': 100}\n",
      "0.466146 (0.137566) with: {'batch_size': 20, 'epochs': 10}\n",
      "0.661458 (0.012890) with: {'batch_size': 20, 'epochs': 50}\n",
      "0.664062 (0.033603) with: {'batch_size': 20, 'epochs': 100}\n",
      "0.600260 (0.065700) with: {'batch_size': 40, 'epochs': 10}\n",
      "0.667969 (0.044993) with: {'batch_size': 40, 'epochs': 50}\n",
      "0.636719 (0.020915) with: {'batch_size': 40, 'epochs': 100}\n",
      "0.617188 (0.047628) with: {'batch_size': 60, 'epochs': 10}\n",
      "0.639323 (0.031304) with: {'batch_size': 60, 'epochs': 50}\n",
      "0.644531 (0.037603) with: {'batch_size': 60, 'epochs': 100}\n",
      "0.558594 (0.017758) with: {'batch_size': 80, 'epochs': 10}\n",
      "0.670573 (0.041626) with: {'batch_size': 80, 'epochs': 50}\n",
      "0.687500 (0.024910) with: {'batch_size': 80, 'epochs': 100}\n",
      "0.548177 (0.049855) with: {'batch_size': 100, 'epochs': 10}\n",
      "0.622396 (0.011201) with: {'batch_size': 100, 'epochs': 50}\n",
      "0.542969 (0.157934) with: {'batch_size': 100, 'epochs': 100}\n"
     ]
    }
   ],
   "source": [
    "# summarize results\n",
    "print(\"Best: %f using %s\" % (grid_result.best_score_, grid_result.best_params_))\n",
    "means = grid_result.cv_results_['mean_test_score']\n",
    "stds = grid_result.cv_results_['std_test_score']\n",
    "params = grid_result.cv_results_['params']\n",
    "for mean, stdev, param in zip(means, stds, params):\n",
    "    print(\"%f (%f) with: %r\" % (mean, stdev, param))"
   ]
  },
  {
   "cell_type": "markdown",
   "metadata": {},
   "source": [
    "We can see that the batch size of 80 and 100 epochs achieved the best result of about 68% accuracy."
   ]
  },
  {
   "cell_type": "markdown",
   "metadata": {},
   "source": [
    "## How to Tune the Training Optimization Algorithm\n",
    "\n",
    "Keras offers a suite of different state-of-the-art optimization algorithms.\n",
    "\n",
    "In this example, we tune the optimization algorithm used to train the network, each with default parameters.\n",
    "\n",
    "This is an odd example, because often you will choose one approach a priori and instead focus on tuning its parameters on your problem (e.g. see the next example).\n",
    "\n",
    "Here we will evaluate the suite of optimization algorithms supported by the Keras API."
   ]
  },
  {
   "cell_type": "code",
   "execution_count": 11,
   "metadata": {
    "collapsed": true
   },
   "outputs": [],
   "source": [
    "def create_model(optimizer='adam'):\n",
    "    # create model\n",
    "    model = Sequential()\n",
    "    model.add(Dense(12, input_dim=8, activation='relu'))\n",
    "    model.add(Dense(1, activation='sigmoid'))\n",
    "    # Compile model\n",
    "    model.compile(loss='binary_crossentropy', optimizer=optimizer, metrics=['accuracy'])\n",
    "    return model"
   ]
  },
  {
   "cell_type": "code",
   "execution_count": 12,
   "metadata": {
    "collapsed": true
   },
   "outputs": [],
   "source": [
    "# create model\n",
    "model = KerasClassifier(build_fn=create_model, epochs=100, batch_size=10, verbose=0)\n",
    "# define the grid search parameters\n",
    "optimizer = ['SGD', 'RMSprop', 'Adagrad', 'Adadelta', 'Adam', 'Adamax', 'Nadam']\n",
    "param_grid = dict(optimizer=optimizer)"
   ]
  },
  {
   "cell_type": "code",
   "execution_count": 13,
   "metadata": {},
   "outputs": [],
   "source": [
    "grid = GridSearchCV(estimator=model, param_grid=param_grid, n_jobs=1)\n",
    "grid_result = grid.fit(X, Y)"
   ]
  },
  {
   "cell_type": "code",
   "execution_count": 14,
   "metadata": {},
   "outputs": [
    {
     "name": "stdout",
     "output_type": "stream",
     "text": [
      "Best: 0.679688 using {'optimizer': 'Adagrad'}\n",
      "0.657552 (0.031948) with: {'optimizer': 'SGD'}\n",
      "0.595052 (0.149507) with: {'optimizer': 'RMSprop'}\n",
      "0.679688 (0.014616) with: {'optimizer': 'Adagrad'}\n",
      "0.657552 (0.017566) with: {'optimizer': 'Adadelta'}\n",
      "0.649740 (0.026557) with: {'optimizer': 'Adam'}\n",
      "0.454427 (0.173211) with: {'optimizer': 'Adamax'}\n",
      "0.626302 (0.133969) with: {'optimizer': 'Nadam'}\n"
     ]
    }
   ],
   "source": [
    "# summarize results\n",
    "print(\"Best: %f using %s\" % (grid_result.best_score_, grid_result.best_params_))\n",
    "means = grid_result.cv_results_['mean_test_score']\n",
    "stds = grid_result.cv_results_['std_test_score']\n",
    "params = grid_result.cv_results_['params']\n",
    "for mean, stdev, param in zip(means, stds, params):\n",
    "    print(\"%f (%f) with: %r\" % (mean, stdev, param))"
   ]
  },
  {
   "cell_type": "markdown",
   "metadata": {},
   "source": [
    "The results suggest that the Adagrad optimization algorithm is the best with a score of about 68% accuracy."
   ]
  },
  {
   "cell_type": "markdown",
   "metadata": {},
   "source": [
    "## How to Tune Learning Rate and Momentum\n",
    "\n",
    "It is common to pre-select an optimization algorithm to train your network and tune its parameters.\n",
    "\n",
    "By far the most common optimization algorithm is plain old Stochastic Gradient Descent (SGD) because it is so well understood. In this example, we will look at optimizing the SGD learning rate and momentum parameters.\n",
    "\n",
    "Learning rate controls how much to update the weight at the end of each batch and the momentum controls how much to let the previous update influence the current weight update.\n",
    "\n",
    "We will try a suite of small standard learning rates and a momentum values from 0.2 to 0.8 in steps of 0.2, as well as 0.9 (because it can be a popular value in practice).\n",
    "\n",
    "Generally, it is a good idea to also include the number of epochs in an optimization like this as there is a dependency between the amount of learning per batch (learning rate), the number of updates per epoch (batch size) and the number of epochs."
   ]
  },
  {
   "cell_type": "code",
   "execution_count": 19,
   "metadata": {
    "collapsed": true
   },
   "outputs": [],
   "source": [
    "# Function to create model, required for KerasClassifier\n",
    "def create_model(learn_rate=0.01, momentum=0):\n",
    "    # create model\n",
    "    model = Sequential()\n",
    "    model.add(Dense(12, input_dim=8, activation='relu'))\n",
    "    model.add(Dense(1, activation='sigmoid'))\n",
    "    # Compile model\n",
    "    optimizer = keras.optimizers.SGD(lr=learn_rate, momentum=momentum)\n",
    "    model.compile(loss='binary_crossentropy', optimizer=optimizer, metrics=['accuracy'])\n",
    "    return model"
   ]
  },
  {
   "cell_type": "code",
   "execution_count": 20,
   "metadata": {
    "collapsed": true
   },
   "outputs": [],
   "source": [
    "# create model\n",
    "model = KerasClassifier(build_fn=create_model, epochs=100, batch_size=10, verbose=0)"
   ]
  },
  {
   "cell_type": "code",
   "execution_count": 21,
   "metadata": {
    "collapsed": true
   },
   "outputs": [],
   "source": [
    "# define the grid search parameters\n",
    "learn_rate = [0.001, 0.01, 0.1, 0.2, 0.3]\n",
    "momentum = [0.0, 0.2, 0.4, 0.6, 0.8, 0.9]\n",
    "param_grid = dict(learn_rate=learn_rate, momentum=momentum)"
   ]
  },
  {
   "cell_type": "code",
   "execution_count": 22,
   "metadata": {},
   "outputs": [],
   "source": [
    "grid = GridSearchCV(estimator=model, param_grid=param_grid, n_jobs=1)\n",
    "grid_result = grid.fit(X, Y)"
   ]
  },
  {
   "cell_type": "code",
   "execution_count": 23,
   "metadata": {},
   "outputs": [
    {
     "name": "stdout",
     "output_type": "stream",
     "text": [
      "Best: 0.675781 using {'learn_rate': 0.001, 'momentum': 0.4}\n",
      "0.669271 (0.007366) with: {'learn_rate': 0.001, 'momentum': 0.0}\n",
      "0.666667 (0.035564) with: {'learn_rate': 0.001, 'momentum': 0.2}\n",
      "0.675781 (0.024910) with: {'learn_rate': 0.001, 'momentum': 0.4}\n",
      "0.667969 (0.006379) with: {'learn_rate': 0.001, 'momentum': 0.6}\n",
      "0.553385 (0.121882) with: {'learn_rate': 0.001, 'momentum': 0.8}\n",
      "0.651042 (0.024774) with: {'learn_rate': 0.001, 'momentum': 0.9}\n",
      "0.666667 (0.037240) with: {'learn_rate': 0.01, 'momentum': 0.0}\n",
      "0.653646 (0.027498) with: {'learn_rate': 0.01, 'momentum': 0.2}\n",
      "0.651042 (0.024774) with: {'learn_rate': 0.01, 'momentum': 0.4}\n",
      "0.544271 (0.146518) with: {'learn_rate': 0.01, 'momentum': 0.6}\n",
      "0.651042 (0.024774) with: {'learn_rate': 0.01, 'momentum': 0.8}\n",
      "0.572917 (0.134575) with: {'learn_rate': 0.01, 'momentum': 0.9}\n",
      "0.651042 (0.024774) with: {'learn_rate': 0.1, 'momentum': 0.0}\n",
      "0.651042 (0.024774) with: {'learn_rate': 0.1, 'momentum': 0.2}\n",
      "0.572917 (0.134575) with: {'learn_rate': 0.1, 'momentum': 0.4}\n",
      "0.533854 (0.149269) with: {'learn_rate': 0.1, 'momentum': 0.6}\n",
      "0.572917 (0.134575) with: {'learn_rate': 0.1, 'momentum': 0.8}\n",
      "0.466146 (0.149269) with: {'learn_rate': 0.1, 'momentum': 0.9}\n",
      "0.651042 (0.024774) with: {'learn_rate': 0.2, 'momentum': 0.0}\n",
      "0.533854 (0.149269) with: {'learn_rate': 0.2, 'momentum': 0.2}\n",
      "0.544271 (0.146518) with: {'learn_rate': 0.2, 'momentum': 0.4}\n",
      "0.466146 (0.149269) with: {'learn_rate': 0.2, 'momentum': 0.6}\n",
      "0.455729 (0.146518) with: {'learn_rate': 0.2, 'momentum': 0.8}\n",
      "0.427083 (0.134575) with: {'learn_rate': 0.2, 'momentum': 0.9}\n",
      "0.651042 (0.024774) with: {'learn_rate': 0.3, 'momentum': 0.0}\n",
      "0.533854 (0.149269) with: {'learn_rate': 0.3, 'momentum': 0.2}\n",
      "0.544271 (0.146518) with: {'learn_rate': 0.3, 'momentum': 0.4}\n",
      "0.651042 (0.024774) with: {'learn_rate': 0.3, 'momentum': 0.6}\n",
      "0.651042 (0.024774) with: {'learn_rate': 0.3, 'momentum': 0.8}\n",
      "0.651042 (0.024774) with: {'learn_rate': 0.3, 'momentum': 0.9}\n"
     ]
    }
   ],
   "source": [
    "# summarize results\n",
    "print(\"Best: %f using %s\" % (grid_result.best_score_, grid_result.best_params_))\n",
    "means = grid_result.cv_results_['mean_test_score']\n",
    "stds = grid_result.cv_results_['std_test_score']\n",
    "params = grid_result.cv_results_['params']\n",
    "for mean, stdev, param in zip(means, stds, params):\n",
    "    print(\"%f (%f) with: %r\" % (mean, stdev, param))"
   ]
  },
  {
   "cell_type": "markdown",
   "metadata": {},
   "source": [
    "We can see that relatively SGD is not very good on this problem, nevertheless best results were achieved using a learning rate of 0.001 and a momentum of 0.4 with an accuracy of about 68%."
   ]
  },
  {
   "cell_type": "markdown",
   "metadata": {},
   "source": [
    "## How to Tune Network Weight Initialization\n",
    "\n",
    "Neural network weight initialization used to be simple: use small random values.\n",
    "\n",
    "Now there is a suite of different techniques to choose from. Keras provides a laundry list.\n",
    "\n",
    "In this example, we will look at tuning the selection of network weight initialization by evaluating all of the available techniques.\n",
    "\n",
    "We will use the same weight initialization method on each layer. Ideally, it may be better to use different weight initialization schemes according to the activation function used on each layer. In the example below we use rectifier for the hidden layer. We use sigmoid for the output layer because the predictions are binary."
   ]
  },
  {
   "cell_type": "code",
   "execution_count": 24,
   "metadata": {
    "collapsed": true
   },
   "outputs": [],
   "source": [
    "# Function to create model, required for KerasClassifier\n",
    "def create_model(init_mode='uniform'):\n",
    "    # create model\n",
    "    model = Sequential()\n",
    "    model.add(Dense(12, input_dim=8, kernel_initializer=init_mode, activation='relu'))\n",
    "    model.add(Dense(1, kernel_initializer=init_mode, activation='sigmoid'))\n",
    "    # Compile model\n",
    "    model.compile(loss='binary_crossentropy', optimizer='adam', metrics=['accuracy'])\n",
    "    return model"
   ]
  },
  {
   "cell_type": "code",
   "execution_count": 25,
   "metadata": {
    "collapsed": true
   },
   "outputs": [],
   "source": [
    "# create model\n",
    "model = KerasClassifier(build_fn=create_model, epochs=100, batch_size=10, verbose=0)"
   ]
  },
  {
   "cell_type": "code",
   "execution_count": 26,
   "metadata": {
    "collapsed": true
   },
   "outputs": [],
   "source": [
    "# define the grid search parameters\n",
    "init_mode = ['uniform', 'lecun_uniform', 'normal', 'zero', 'glorot_normal', 'glorot_uniform', 'he_normal', 'he_uniform']\n",
    "param_grid = dict(init_mode=init_mode)"
   ]
  },
  {
   "cell_type": "code",
   "execution_count": 27,
   "metadata": {
    "collapsed": true
   },
   "outputs": [],
   "source": [
    "grid = GridSearchCV(estimator=model, param_grid=param_grid, n_jobs=1)\n",
    "grid_result = grid.fit(X, Y)"
   ]
  },
  {
   "cell_type": "code",
   "execution_count": 28,
   "metadata": {},
   "outputs": [
    {
     "name": "stdout",
     "output_type": "stream",
     "text": [
      "Best: 0.729167 using {'init_mode': 'uniform'}\n",
      "0.729167 (0.016053) with: {'init_mode': 'uniform'}\n",
      "0.695313 (0.016573) with: {'init_mode': 'lecun_uniform'}\n",
      "0.718750 (0.015947) with: {'init_mode': 'normal'}\n",
      "0.651042 (0.024774) with: {'init_mode': 'zero'}\n",
      "0.705729 (0.008027) with: {'init_mode': 'glorot_normal'}\n",
      "0.712240 (0.021710) with: {'init_mode': 'glorot_uniform'}\n",
      "0.718750 (0.019918) with: {'init_mode': 'he_normal'}\n",
      "0.569010 (0.135854) with: {'init_mode': 'he_uniform'}\n"
     ]
    }
   ],
   "source": [
    "# summarize results\n",
    "print(\"Best: %f using %s\" % (grid_result.best_score_, grid_result.best_params_))\n",
    "means = grid_result.cv_results_['mean_test_score']\n",
    "stds = grid_result.cv_results_['std_test_score']\n",
    "params = grid_result.cv_results_['params']\n",
    "for mean, stdev, param in zip(means, stds, params):\n",
    "    print(\"%f (%f) with: %r\" % (mean, stdev, param))"
   ]
  },
  {
   "cell_type": "markdown",
   "metadata": {},
   "source": [
    "We can see that the best results were achieved with a uniform weight initialization scheme achieving a performance of about 73%."
   ]
  },
  {
   "cell_type": "markdown",
   "metadata": {},
   "source": [
    "## How to Tune the Neuron Activation Function\n",
    "\n",
    "The activation function controls the non-linearity of individual neurons and when to fire.\n",
    "\n",
    "Generally, the rectifier activation function is the most popular, but it used to be the sigmoid and the tanh functions and these functions may still be more suitable for different problems.\n",
    "\n",
    "In this example, we will evaluate the suite of different activation functions available in Keras. We will only use these functions in the hidden layer, as we require a sigmoid activation function in the output for the binary classification problem.\n",
    "\n",
    "Generally, it is a good idea to prepare data to the range of the different transfer functions, which we will not do in this case."
   ]
  },
  {
   "cell_type": "code",
   "execution_count": 29,
   "metadata": {
    "collapsed": true
   },
   "outputs": [],
   "source": [
    "# Function to create model, required for KerasClassifier\n",
    "def create_model(activation='relu'):\n",
    "    # create model\n",
    "    model = Sequential()\n",
    "    model.add(Dense(12, input_dim=8, kernel_initializer='uniform', activation=activation))\n",
    "    model.add(Dense(1, kernel_initializer='uniform', activation='sigmoid'))\n",
    "    # Compile model\n",
    "    model.compile(loss='binary_crossentropy', optimizer='adam', metrics=['accuracy'])\n",
    "    return model"
   ]
  },
  {
   "cell_type": "code",
   "execution_count": 30,
   "metadata": {
    "collapsed": true
   },
   "outputs": [],
   "source": [
    "# create model\n",
    "model = KerasClassifier(build_fn=create_model, epochs=100, batch_size=10, verbose=0)"
   ]
  },
  {
   "cell_type": "code",
   "execution_count": 31,
   "metadata": {
    "collapsed": true
   },
   "outputs": [],
   "source": [
    "# define the grid search parameters\n",
    "activation = ['softmax', 'softplus', 'softsign', 'relu', 'tanh', 'sigmoid', 'hard_sigmoid', 'linear']\n",
    "param_grid = dict(activation=activation)"
   ]
  },
  {
   "cell_type": "code",
   "execution_count": 32,
   "metadata": {
    "collapsed": true
   },
   "outputs": [],
   "source": [
    "grid = GridSearchCV(estimator=model, param_grid=param_grid, n_jobs=1)\n",
    "grid_result = grid.fit(X, Y)"
   ]
  },
  {
   "cell_type": "code",
   "execution_count": 33,
   "metadata": {},
   "outputs": [
    {
     "name": "stdout",
     "output_type": "stream",
     "text": [
      "Best: 0.734375 using {'activation': 'softplus'}\n",
      "0.657552 (0.016053) with: {'activation': 'softmax'}\n",
      "0.734375 (0.027251) with: {'activation': 'softplus'}\n",
      "0.683594 (0.020915) with: {'activation': 'softsign'}\n",
      "0.713542 (0.017566) with: {'activation': 'relu'}\n",
      "0.684896 (0.008027) with: {'activation': 'tanh'}\n",
      "0.694010 (0.012890) with: {'activation': 'sigmoid'}\n",
      "0.678385 (0.010253) with: {'activation': 'hard_sigmoid'}\n",
      "0.710938 (0.024080) with: {'activation': 'linear'}\n"
     ]
    }
   ],
   "source": [
    "# summarize results\n",
    "print(\"Best: %f using %s\" % (grid_result.best_score_, grid_result.best_params_))\n",
    "means = grid_result.cv_results_['mean_test_score']\n",
    "stds = grid_result.cv_results_['std_test_score']\n",
    "params = grid_result.cv_results_['params']\n",
    "for mean, stdev, param in zip(means, stds, params):\n",
    "    print(\"%f (%f) with: %r\" % (mean, stdev, param))"
   ]
  },
  {
   "cell_type": "markdown",
   "metadata": {},
   "source": [
    "Surprisingly (to me at least), the ‘softplus’ activation function achieved the best results with an accuracy of about 73%."
   ]
  },
  {
   "cell_type": "markdown",
   "metadata": {},
   "source": [
    "## How to Tune Dropout Regularization\n",
    "\n",
    "In this example, we will look at tuning the dropout rate for regularization in an effort to limit overfitting and improve the model’s ability to generalize.\n",
    "\n",
    "To get good results, dropout is best combined with a weight constraint such as the max norm constraint.\n",
    "\n",
    "This involves fitting both the dropout percentage and the weight constraint. We will try dropout percentages between 0.0 and 0.9 (1.0 does not make sense) and maxnorm weight constraint values between 0 and 5."
   ]
  },
  {
   "cell_type": "code",
   "execution_count": 34,
   "metadata": {
    "collapsed": true
   },
   "outputs": [],
   "source": [
    "# Function to create model, required for KerasClassifier\n",
    "def create_model(dropout_rate=0.0, weight_constraint=0):\n",
    "    # create model\n",
    "    model = Sequential()\n",
    "    model.add(Dense(12, input_dim=8, kernel_initializer='uniform', activation='linear', kernel_constraint=keras.constraints.maxnorm(weight_constraint)))\n",
    "    model.add(Dropout(dropout_rate))\n",
    "    model.add(Dense(1, kernel_initializer='uniform', activation='sigmoid'))\n",
    "    # Compile model\n",
    "    model.compile(loss='binary_crossentropy', optimizer='adam', metrics=['accuracy'])\n",
    "    return model"
   ]
  },
  {
   "cell_type": "code",
   "execution_count": 35,
   "metadata": {
    "collapsed": true
   },
   "outputs": [],
   "source": [
    "# create model\n",
    "model = KerasClassifier(build_fn=create_model, epochs=100, batch_size=10, verbose=0)"
   ]
  },
  {
   "cell_type": "code",
   "execution_count": 36,
   "metadata": {
    "collapsed": true
   },
   "outputs": [],
   "source": [
    "# define the grid search parameters\n",
    "weight_constraint = [1, 2, 3, 4, 5]\n",
    "dropout_rate = [0.0, 0.1, 0.2, 0.3, 0.4, 0.5, 0.6, 0.7, 0.8, 0.9]\n",
    "param_grid = dict(dropout_rate=dropout_rate, weight_constraint=weight_constraint)"
   ]
  },
  {
   "cell_type": "code",
   "execution_count": 37,
   "metadata": {
    "collapsed": true
   },
   "outputs": [],
   "source": [
    "grid = GridSearchCV(estimator=model, param_grid=param_grid, n_jobs=1)\n",
    "grid_result = grid.fit(X, Y)"
   ]
  },
  {
   "cell_type": "code",
   "execution_count": 38,
   "metadata": {},
   "outputs": [
    {
     "name": "stdout",
     "output_type": "stream",
     "text": [
      "Best: 0.734375 using {'dropout_rate': 0.0, 'weight_constraint': 5}\n",
      "0.726562 (0.016877) with: {'dropout_rate': 0.0, 'weight_constraint': 1}\n",
      "0.710938 (0.012758) with: {'dropout_rate': 0.0, 'weight_constraint': 2}\n",
      "0.709635 (0.004872) with: {'dropout_rate': 0.0, 'weight_constraint': 3}\n",
      "0.718750 (0.027621) with: {'dropout_rate': 0.0, 'weight_constraint': 4}\n",
      "0.734375 (0.016573) with: {'dropout_rate': 0.0, 'weight_constraint': 5}\n",
      "0.721354 (0.020505) with: {'dropout_rate': 0.1, 'weight_constraint': 1}\n",
      "0.699219 (0.013902) with: {'dropout_rate': 0.1, 'weight_constraint': 2}\n",
      "0.692708 (0.023510) with: {'dropout_rate': 0.1, 'weight_constraint': 3}\n",
      "0.712240 (0.021236) with: {'dropout_rate': 0.1, 'weight_constraint': 4}\n",
      "0.707031 (0.000000) with: {'dropout_rate': 0.1, 'weight_constraint': 5}\n",
      "0.725260 (0.006639) with: {'dropout_rate': 0.2, 'weight_constraint': 1}\n",
      "0.717448 (0.040133) with: {'dropout_rate': 0.2, 'weight_constraint': 2}\n",
      "0.717448 (0.023073) with: {'dropout_rate': 0.2, 'weight_constraint': 3}\n",
      "0.716146 (0.004872) with: {'dropout_rate': 0.2, 'weight_constraint': 4}\n",
      "0.718750 (0.026107) with: {'dropout_rate': 0.2, 'weight_constraint': 5}\n",
      "0.714844 (0.030425) with: {'dropout_rate': 0.3, 'weight_constraint': 1}\n",
      "0.703125 (0.011500) with: {'dropout_rate': 0.3, 'weight_constraint': 2}\n",
      "0.701823 (0.011201) with: {'dropout_rate': 0.3, 'weight_constraint': 3}\n",
      "0.713542 (0.014731) with: {'dropout_rate': 0.3, 'weight_constraint': 4}\n",
      "0.697917 (0.012075) with: {'dropout_rate': 0.3, 'weight_constraint': 5}\n",
      "0.717448 (0.024360) with: {'dropout_rate': 0.4, 'weight_constraint': 1}\n",
      "0.701823 (0.012890) with: {'dropout_rate': 0.4, 'weight_constraint': 2}\n",
      "0.705729 (0.016053) with: {'dropout_rate': 0.4, 'weight_constraint': 3}\n",
      "0.704427 (0.001841) with: {'dropout_rate': 0.4, 'weight_constraint': 4}\n",
      "0.709635 (0.011201) with: {'dropout_rate': 0.4, 'weight_constraint': 5}\n",
      "0.691406 (0.009568) with: {'dropout_rate': 0.5, 'weight_constraint': 1}\n",
      "0.710938 (0.008438) with: {'dropout_rate': 0.5, 'weight_constraint': 2}\n",
      "0.704427 (0.010253) with: {'dropout_rate': 0.5, 'weight_constraint': 3}\n",
      "0.709635 (0.013279) with: {'dropout_rate': 0.5, 'weight_constraint': 4}\n",
      "0.714844 (0.024080) with: {'dropout_rate': 0.5, 'weight_constraint': 5}\n",
      "0.707031 (0.003189) with: {'dropout_rate': 0.6, 'weight_constraint': 1}\n",
      "0.690104 (0.020505) with: {'dropout_rate': 0.6, 'weight_constraint': 2}\n",
      "0.703125 (0.003189) with: {'dropout_rate': 0.6, 'weight_constraint': 3}\n",
      "0.699219 (0.011049) with: {'dropout_rate': 0.6, 'weight_constraint': 4}\n",
      "0.704427 (0.038318) with: {'dropout_rate': 0.6, 'weight_constraint': 5}\n",
      "0.686198 (0.013279) with: {'dropout_rate': 0.7, 'weight_constraint': 1}\n",
      "0.699219 (0.003189) with: {'dropout_rate': 0.7, 'weight_constraint': 2}\n",
      "0.703125 (0.003189) with: {'dropout_rate': 0.7, 'weight_constraint': 3}\n",
      "0.705729 (0.004872) with: {'dropout_rate': 0.7, 'weight_constraint': 4}\n",
      "0.703125 (0.003189) with: {'dropout_rate': 0.7, 'weight_constraint': 5}\n",
      "0.705729 (0.007366) with: {'dropout_rate': 0.8, 'weight_constraint': 1}\n",
      "0.691406 (0.003189) with: {'dropout_rate': 0.8, 'weight_constraint': 2}\n",
      "0.683594 (0.031412) with: {'dropout_rate': 0.8, 'weight_constraint': 3}\n",
      "0.687500 (0.013902) with: {'dropout_rate': 0.8, 'weight_constraint': 4}\n",
      "0.701823 (0.023510) with: {'dropout_rate': 0.8, 'weight_constraint': 5}\n",
      "0.658854 (0.029463) with: {'dropout_rate': 0.9, 'weight_constraint': 1}\n",
      "0.657552 (0.028587) with: {'dropout_rate': 0.9, 'weight_constraint': 2}\n",
      "0.678385 (0.019225) with: {'dropout_rate': 0.9, 'weight_constraint': 3}\n",
      "0.682292 (0.016053) with: {'dropout_rate': 0.9, 'weight_constraint': 4}\n",
      "0.661458 (0.023510) with: {'dropout_rate': 0.9, 'weight_constraint': 5}\n"
     ]
    }
   ],
   "source": [
    "# summarize results\n",
    "print(\"Best: %f using %s\" % (grid_result.best_score_, grid_result.best_params_))\n",
    "means = grid_result.cv_results_['mean_test_score']\n",
    "stds = grid_result.cv_results_['std_test_score']\n",
    "params = grid_result.cv_results_['params']\n",
    "for mean, stdev, param in zip(means, stds, params):\n",
    "    print(\"%f (%f) with: %r\" % (mean, stdev, param))"
   ]
  },
  {
   "cell_type": "markdown",
   "metadata": {},
   "source": [
    "We can see that the dropout rate of 0.0% and the maxnorm weight constraint of 5 resulted in the best accuracy of about 73%."
   ]
  },
  {
   "cell_type": "markdown",
   "metadata": {},
   "source": [
    "## How to Tune the Number of Neurons in the Hidden Layer\n",
    "\n",
    "The number of neurons in a layer is an important parameter to tune. Generally the number of neurons in a layer controls the representational capacity of the network, at least at that point in the topology.\n",
    "\n",
    "Also, generally, a large enough single layer network can approximate any other neural network, at least in theory.\n",
    "\n",
    "In this example, we will look at tuning the number of neurons in a single hidden layer. We will try values from 1 to 30 in steps of 5.\n",
    "\n",
    "A larger network requires more training and at least the batch size and number of epochs should ideally be optimized with the number of neurons."
   ]
  },
  {
   "cell_type": "code",
   "execution_count": 39,
   "metadata": {
    "collapsed": true
   },
   "outputs": [],
   "source": [
    "# Function to create model, required for KerasClassifier\n",
    "def create_model(neurons=1):\n",
    "    # create model\n",
    "    model = Sequential()\n",
    "    model.add(Dense(neurons, input_dim=8, kernel_initializer='uniform', activation='linear', kernel_constraint=keras.constraints.maxnorm(4)))\n",
    "    model.add(Dropout(0.2))\n",
    "    model.add(Dense(1, kernel_initializer='uniform', activation='sigmoid'))\n",
    "    # Compile model\n",
    "    model.compile(loss='binary_crossentropy', optimizer='adam', metrics=['accuracy'])\n",
    "    return model"
   ]
  },
  {
   "cell_type": "code",
   "execution_count": 40,
   "metadata": {
    "collapsed": true
   },
   "outputs": [],
   "source": [
    "# create model\n",
    "model = KerasClassifier(build_fn=create_model, epochs=100, batch_size=10, verbose=0)"
   ]
  },
  {
   "cell_type": "code",
   "execution_count": 41,
   "metadata": {
    "collapsed": true
   },
   "outputs": [],
   "source": [
    "# define the grid search parameters\n",
    "neurons = [1, 5, 10, 15, 20, 25, 30]\n",
    "param_grid = dict(neurons=neurons)"
   ]
  },
  {
   "cell_type": "code",
   "execution_count": 42,
   "metadata": {
    "collapsed": true
   },
   "outputs": [],
   "source": [
    "grid = GridSearchCV(estimator=model, param_grid=param_grid, n_jobs=1)\n",
    "grid_result = grid.fit(X, Y)"
   ]
  },
  {
   "cell_type": "code",
   "execution_count": 43,
   "metadata": {},
   "outputs": [
    {
     "name": "stdout",
     "output_type": "stream",
     "text": [
      "Best: 0.716146 using {'neurons': 25}\n",
      "0.695313 (0.015947) with: {'neurons': 1}\n",
      "0.703125 (0.022326) with: {'neurons': 5}\n",
      "0.714844 (0.022097) with: {'neurons': 10}\n",
      "0.714844 (0.003189) with: {'neurons': 15}\n",
      "0.708333 (0.010253) with: {'neurons': 20}\n",
      "0.716146 (0.013279) with: {'neurons': 25}\n",
      "0.701823 (0.011201) with: {'neurons': 30}\n"
     ]
    }
   ],
   "source": [
    "# summarize results\n",
    "print(\"Best: %f using %s\" % (grid_result.best_score_, grid_result.best_params_))\n",
    "means = grid_result.cv_results_['mean_test_score']\n",
    "stds = grid_result.cv_results_['std_test_score']\n",
    "params = grid_result.cv_results_['params']\n",
    "for mean, stdev, param in zip(means, stds, params):\n",
    "    print(\"%f (%f) with: %r\" % (mean, stdev, param))"
   ]
  },
  {
   "cell_type": "markdown",
   "metadata": {},
   "source": [
    "We can see that the best results were achieved with a network with 25 neurons in the hidden layer with an accuracy of about 71%."
   ]
  },
  {
   "cell_type": "markdown",
   "metadata": {},
   "source": [
    "## Tips for Hyperparameter Optimization\n",
    "\n",
    "This section lists some handy tips to consider when tuning hyperparameters of your neural network.\n",
    "\n",
    "- **k-fold Cross Validation**. You can see that the results from the examples in this post show some variance. A default cross-validation of 3 was used, but perhaps k=5 or k=10 would be more stable. Carefully choose your cross validation configuration to ensure your results are stable.\n",
    "\n",
    "\n",
    "- **Review the Whole Grid**. Do not just focus on the best result, review the whole grid of results and look for trends to support configuration decisions.\n",
    "\n",
    "\n",
    "- **Parallelize**. Use all your cores if you can, neural networks are slow to train and we often want to try a lot of different parameters. Consider spinning up a lot of AWS instances.\n",
    "\n",
    "\n",
    "- **Use a Sample of Your Dataset**. Because networks are slow to train, try training them on a smaller sample of your training dataset, just to get an idea of general directions of parameters rather than optimal configurations.\n",
    "\n",
    "\n",
    "- **Start with Coarse Grids**. Start with coarse-grained grids and zoom into finer grained grids once you can narrow the scope.\n",
    "\n",
    "\n",
    "- **Do not Transfer Results**. Results are generally problem specific. Try to avoid favorite configurations on each new problem that you see. It is unlikely that optimal results you discover on one problem will transfer to your next project. Instead look for broader trends like number of layers or relationships between parameters.\n",
    "\n",
    "\n",
    "- **Reproducibility is a Problem**. Although we set the seed for the random number generator in NumPy, the results are not 100% reproducible. There is more to reproducibility when grid searching wrapped Keras models than is presented in this post."
   ]
  },
  {
   "cell_type": "code",
   "execution_count": null,
   "metadata": {
    "collapsed": true
   },
   "outputs": [],
   "source": []
  }
 ],
 "metadata": {
  "kernelspec": {
   "display_name": "Python 3",
   "language": "python",
   "name": "python3"
  },
  "language_info": {
   "codemirror_mode": {
    "name": "ipython",
    "version": 3
   },
   "file_extension": ".py",
   "mimetype": "text/x-python",
   "name": "python",
   "nbconvert_exporter": "python",
   "pygments_lexer": "ipython3",
   "version": "3.5.4"
  },
  "toc": {
   "colors": {
    "hover_highlight": "#DAA520",
    "navigate_num": "#000000",
    "navigate_text": "#333333",
    "running_highlight": "#FF0000",
    "selected_highlight": "#FFD700",
    "sidebar_border": "#EEEEEE",
    "wrapper_background": "#FFFFFF"
   },
   "moveMenuLeft": true,
   "nav_menu": {
    "height": "174px",
    "width": "252px"
   },
   "navigate_menu": true,
   "number_sections": true,
   "sideBar": true,
   "threshold": 4,
   "toc_cell": false,
   "toc_section_display": "block",
   "toc_window_display": false,
   "widenNotebook": false
  }
 },
 "nbformat": 4,
 "nbformat_minor": 2
}
