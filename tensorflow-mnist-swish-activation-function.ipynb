{
 "cells": [
  {
   "cell_type": "markdown",
   "metadata": {},
   "source": [
    "## Playing with The Swish- New Activation Function for building Deep Neural Network\n",
    "https://www.linkedin.com/pulse/playing-swish-new-activation-building-deep-neural-network-kumar/"
   ]
  },
  {
   "cell_type": "code",
   "execution_count": null,
   "metadata": {
    "collapsed": true
   },
   "outputs": [],
   "source": [
    "import numpy as np\n",
    "import pandas as pd\n",
    "import timeit\n",
    "import tensorflow as tf\n",
    "from sklearn.model_selection import train_test_split"
   ]
  },
  {
   "cell_type": "code",
   "execution_count": null,
   "metadata": {
    "collapsed": true
   },
   "outputs": [],
   "source": [
    "# reset tensorflow graph\n",
    "from tensorflow.examples.tutorials.mnist import input_data\n",
    "mnist = input_data.read_data_sets('MNIST_data', one_hot = True)"
   ]
  },
  {
   "cell_type": "code",
   "execution_count": null,
   "metadata": {
    "collapsed": true
   },
   "outputs": [],
   "source": [
    "# Data\n",
    "trainX = mnist.train.images\n",
    "trainY = mnist.train.labels\n",
    "# Splitting Dataset\n",
    "trainX, testX, trainY, testY = train_test_split(trainX, trainY, test_size=0.20, random_state=42)"
   ]
  },
  {
   "cell_type": "code",
   "execution_count": null,
   "metadata": {
    "collapsed": true
   },
   "outputs": [],
   "source": [
    "# Defining Parameters\n",
    "logs_path = './session/v16'\n",
    "save_path = logs_path + '/'\n",
    "learning_rate = 0.003\n",
    "n_features = 784\n",
    "n_classes = 10\n",
    "batch_size = 100\n",
    "training_epochs = 160"
   ]
  },
  {
   "cell_type": "code",
   "execution_count": null,
   "metadata": {
    "collapsed": true
   },
   "outputs": [],
   "source": [
    "# Defining Hidden Layers\n",
    "K = 400\n",
    "L = 300\n",
    "M = 200\n",
    "N = 100\n",
    "O = 50"
   ]
  },
  {
   "cell_type": "code",
   "execution_count": null,
   "metadata": {
    "collapsed": true
   },
   "outputs": [],
   "source": [
    "def swish(x):\n",
    "    return x * tf.nn.sigmoid(x)"
   ]
  },
  {
   "cell_type": "code",
   "execution_count": null,
   "metadata": {
    "collapsed": true
   },
   "outputs": [],
   "source": [
    "## Building Network\n",
    "with tf.name_scope(\"input\"):\n",
    "    # None -> batch size can be any size, with n_features\n",
    "    x = tf.placeholder(tf.float32, shape=[None, n_features], name=\"x-input\")\n",
    "    # target n_classes output classes\n",
    "    y_ = tf.placeholder(tf.float32, shape=[None, n_classes], name=\"y-input\")    "
   ]
  },
  {
   "cell_type": "code",
   "execution_count": null,
   "metadata": {
    "collapsed": true
   },
   "outputs": [],
   "source": [
    "with tf.name_scope(\"Layer1\"):\n",
    "    W1 = tf.Variable(tf.truncated_normal([n_features, K], stddev=0.1))\n",
    "    b1 = tf.Variable(tf.ones([K]))\n",
    "    Y1 = swish(tf.add(tf.matmul(x, W1), b1))    "
   ]
  },
  {
   "cell_type": "code",
   "execution_count": null,
   "metadata": {
    "collapsed": true
   },
   "outputs": [],
   "source": [
    "with tf.name_scope(\"Layer2\"):\n",
    "    W2 = tf.Variable(tf.truncated_normal([K, L], stddev=0.1))\n",
    "    b2 = tf.Variable(tf.ones([L]))\n",
    "    Y2 = swish(tf.add(tf.matmul(Y1, W2), b2))    "
   ]
  },
  {
   "cell_type": "code",
   "execution_count": null,
   "metadata": {
    "collapsed": true
   },
   "outputs": [],
   "source": [
    "with tf.name_scope(\"Layer3\"):\n",
    "    W3 = tf.Variable(tf.truncated_normal([L, M], stddev=0.1))\n",
    "    b3 = tf.Variable(tf.ones([M]))\n",
    "    Y3 = swish(tf.add(tf.matmul(Y2, W3), b3))    "
   ]
  },
  {
   "cell_type": "code",
   "execution_count": null,
   "metadata": {
    "collapsed": true
   },
   "outputs": [],
   "source": [
    "with tf.name_scope(\"Layer4\"):\n",
    "    W4 = tf.Variable(tf.truncated_normal([M, N], stddev=0.1))\n",
    "    b4 = tf.Variable(tf.ones([N]))\n",
    "    Y4 = swish(tf.add(tf.matmul(Y3, W4), b4))    "
   ]
  },
  {
   "cell_type": "code",
   "execution_count": null,
   "metadata": {
    "collapsed": true
   },
   "outputs": [],
   "source": [
    "with tf.name_scope(\"Layer5\"):\n",
    "    W5 = tf.Variable(tf.truncated_normal([N, O], stddev=0.1))\n",
    "    b5 = tf.Variable(tf.ones([O]))\n",
    "    Y5 = swish(tf.add(tf.matmul(Y4, W5), b5))    "
   ]
  },
  {
   "cell_type": "code",
   "execution_count": null,
   "metadata": {
    "collapsed": true
   },
   "outputs": [],
   "source": [
    "with tf.name_scope(\"Output\"):\n",
    "    # y is our prediction\n",
    "    W = tf.Variable(tf.truncated_normal([O, n_classes], stddev=0.1))\n",
    "    b = tf.Variable(tf.ones([n_classes]))\n",
    "    Ylogits = tf.matmul(Y5, W) + b\n",
    "    y = tf.nn.softmax(Ylogits)    "
   ]
  },
  {
   "cell_type": "code",
   "execution_count": null,
   "metadata": {
    "collapsed": true
   },
   "outputs": [],
   "source": [
    "# Defining cost function\n",
    "with tf.name_scope(\"Loss\"):\n",
    "    cross_entropy = tf.nn.softmax_cross_entropy_with_logits(logits=Ylogits, labels=y_)\n",
    "    cross_entropy = tf.reduce_mean(cross_entropy) * 100    "
   ]
  },
  {
   "cell_type": "code",
   "execution_count": null,
   "metadata": {
    "collapsed": true
   },
   "outputs": [],
   "source": [
    "# Using AdadeltaOptimizer\n",
    "with tf.name_scope(\"train\"):\n",
    "    learn_rate = tf.Variable(learning_rate)\n",
    "    train_op = tf.train.AdadeltaOptimizer(learn_rate).minimize(cross_entropy)    "
   ]
  },
  {
   "cell_type": "code",
   "execution_count": null,
   "metadata": {
    "collapsed": true
   },
   "outputs": [],
   "source": [
    "with tf.name_scope(\"Accuracy\"):\n",
    "    prediction = tf.argmax(y, 1, name=\"Predict\")\n",
    "    # Accuracy\n",
    "    correct_prediction = tf.equal(prediction, tf.argmax(y_, 1))\n",
    "    accuracy = tf.reduce_mean(tf.cast(correct_prediction, tf.float32), name=\"accuracy\")    "
   ]
  },
  {
   "cell_type": "code",
   "execution_count": null,
   "metadata": {
    "collapsed": true
   },
   "outputs": [],
   "source": [
    "# create a summary for our cost and accuracy\n",
    "training_loss = tf.summary.scalar(\"training_loss\", cross_entropy)\n",
    "training_accuracy = tf.summary.scalar(\"training_accuracy\", accuracy)\n",
    "test_loss = tf.summary.scalar(\"test_loss\", cross_entropy)\n",
    "test_accuracy = tf.summary.scalar(\"test_accuracy\", accuracy)"
   ]
  },
  {
   "cell_type": "code",
   "execution_count": null,
   "metadata": {
    "collapsed": true
   },
   "outputs": [],
   "source": [
    "# Creating a Saver to save the graph\n",
    "saver = tf.train.Saver()"
   ]
  },
  {
   "cell_type": "code",
   "execution_count": null,
   "metadata": {
    "collapsed": true
   },
   "outputs": [],
   "source": [
    "## Timer\n",
    "start = timeit.default_timer()\n",
    "\n",
    "# Start Graph Execution\n",
    "with tf.Session() as sess:\n",
    "    sess.run(tf.global_variables_initializer())\n",
    "    writer = tf.summary.FileWriter(logs_path, graph=tf.get_default_graph())\n",
    "    for epoch in range(training_epochs):\n",
    "        batch_count = int(trainX.shape[0] / batch_size)\n",
    "        \n",
    "        for i in range(batch_count):\n",
    "            batch_x = trainX[i * batch_size: i * batch_size + batch_size]\n",
    "            batch_y = trainY[i * batch_size: i * batch_size + batch_size]\n",
    "            \n",
    "            _, acc, loss = sess.run([train_op, training_accuracy, training_loss], feed_dict={x: batch_x, y: batch_y})\n",
    "            \n",
    "            writer.add_summary(acc, epoch * batch_count + i)\n",
    "            writer.add_summary(acc, epoch * batch_count + i)\n",
    "            \n",
    "        acc, loss, a_loss = sess.run([test_accuracy, test_loss, cross_entropy], feed_dict={x: testX, y_:testY})\n",
    "        writer.add_summary(acc, epoch * batch_count + i)\n",
    "        writer.add_summary(loss, epoch * batch_count + i)\n",
    "        print(\"Test loss at step: \", epoch, \" is \", a_loss)\n",
    "        if epoch % 5 == 0:\n",
    "            print(\"Epoch: \", epoch)\n",
    "    print(\"Accuracy: \", accuracy.eval(feed_dict={x: testX, y_: testY}))\n",
    "    saver.save(sess, save_path + \"model.ckpt\")\n",
    "    print(\"Done\")\n",
    "    \n",
    "stop = timeit.default_timer()\n",
    "print(stop - start)"
   ]
  }
 ],
 "metadata": {
  "kernelspec": {
   "display_name": "Python 3",
   "language": "python",
   "name": "python3"
  },
  "language_info": {
   "codemirror_mode": {
    "name": "ipython",
    "version": 3
   },
   "file_extension": ".py",
   "mimetype": "text/x-python",
   "name": "python",
   "nbconvert_exporter": "python",
   "pygments_lexer": "ipython3",
   "version": "3.6.1"
  },
  "toc": {
   "colors": {
    "hover_highlight": "#DAA520",
    "navigate_num": "#000000",
    "navigate_text": "#333333",
    "running_highlight": "#FF0000",
    "selected_highlight": "#FFD700",
    "sidebar_border": "#EEEEEE",
    "wrapper_background": "#FFFFFF"
   },
   "moveMenuLeft": true,
   "nav_menu": {
    "height": "12px",
    "width": "252px"
   },
   "navigate_menu": true,
   "number_sections": true,
   "sideBar": true,
   "threshold": 4,
   "toc_cell": false,
   "toc_section_display": "block",
   "toc_window_display": false,
   "widenNotebook": false
  }
 },
 "nbformat": 4,
 "nbformat_minor": 2
}
