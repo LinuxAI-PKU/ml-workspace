{
 "cells": [
  {
   "cell_type": "markdown",
   "metadata": {},
   "source": [
    "## Kaggle - Predicting Bike Sharing Demand\n",
    "\n",
    "Bike sharing systems are a means of renting bicycles where the process of obtaining membership, rental, and bike return is automated via a network of kiosk locations throughout a city. Using these Bike Sharing systems, people rent a bike from one location and return it to a different or same place on need basis. People can rent a bike through membership (mostly regular users) or on demand basis (mostly casual users). This process is controlled by a network of automated kiosk across the city.\n",
    "\n",
    "In [Kaggle Bike Sharing Demand](https://www.kaggle.com/c/bike-sharing-demand), the participants are asked to forecast bike rental demand of Bike sharing program in Washington, D.C based on historical usage patterns in relation with weather, time and other data."
   ]
  },
  {
   "cell_type": "code",
   "execution_count": 78,
   "metadata": {},
   "outputs": [],
   "source": [
    "import pandas as pd\n",
    "import numpy as np\n",
    "from sklearn.ensemble import RandomForestRegressor, GradientBoostingRegressor\n",
    "\n",
    "import seaborn as sns\n",
    "import matplotlib.pyplot as plt\n",
    "\n",
    "pd.set_option('display.max_columns', 500)\n",
    "#sns.set_style(\"whitegrid\")\n",
    "#plt.style.use('bmh')\n",
    "plt.style.use('seaborn-whitegrid')\n",
    "\n",
    "%matplotlib inline"
   ]
  },
  {
   "cell_type": "markdown",
   "metadata": {},
   "source": [
    "### 1. Hypothesis Generation\n",
    "\n",
    "Before exploring the data to understand the relationship between variables, it is recommended that we focus on hypothesis generation first. Now, this might sound counter-intuitive for solving a data science problem, but before exploring data, we should spend some time thinking about the business problem, gaining the domain knowledge and may be gaining first hand experience of the problem.\n",
    "\n",
    "How does it help? This practice usually helps us form better features later on, which are not biased by the data available in the dataset. At this stage, we are expected to posses structured thinking i.e. a thinking process which takes into consideration all the possible aspects of a particular problem.\n",
    "\n",
    "Here are some of the hypothesis which could influence the demand of bikes:\n",
    "\n",
    "**Hourly trend:** There must be high demand during office timings. Early morning and late evening can have different trend (cyclist) and low demand during 10:00 pm to 4:00 am.\n",
    "\n",
    "**Daily Trend:** Registered users demand more bike on weekdays as compared to weekend or holiday.\n",
    "\n",
    "**Rain:** The demand of bikes will be lower on a rainy day as compared to a sunny day. Similarly, higher humidity will cause to lower the demand and vice versa.\n",
    "\n",
    "**Temperature:** In India, temperature has negative correlation with bike demand. But, after looking at Washington's temperature graph, we presume it may have positive correlation.\n",
    "\n",
    "**Pollution:** If the pollution level in a city starts soaring, people may start using Bike (it may be influenced by government / company policies or increased awareness).\n",
    "\n",
    "**Time:** Total demand should have higher contribution of registered user as compared to casual because registered user base would increase over time.\n",
    "\n",
    "**Traffic:** It can be positively correlated with Bike demand. Higher traffic may force people to use bike as compared to other road transport medium like car, taxi etc."
   ]
  },
  {
   "cell_type": "markdown",
   "metadata": {},
   "source": [
    "### 2. Understanding the Data Set\n",
    "\n",
    "The dataset shows hourly rental data for two years (2011 and 2012). The training data set is for the first 19 days of each month. The test dataset is from 20th day to month's end. We are required to predict the total count of bikes rented during each hour covered by the test set.\n",
    "\n",
    "In the training data set, they have separately given bike demand by registered, casual users and sum of both is given as count.\n",
    "\n",
    "Training data set has 12 variables (see below) and Test has 9 (excluding registered, casual and count).\n",
    "\n",
    "##### Independent Variables\n",
    "\n",
    "**datetime:**   date and hour in \"mm/dd/yyyy hh:mm\" format\n",
    "\n",
    "**season:**     Four categories-> 1 = spring, 2 = summer, 3 = fall, 4 = winter\n",
    "\n",
    "**holiday:**    whether the day is a holiday or not (1/0)\n",
    "\n",
    "**workingday:** whether the day is neither a weekend nor holiday (1/0)\n",
    "\n",
    "**weather:**    Four Categories of weather\n",
    "            1-> Clear, Few clouds, Partly cloudy, Partly cloudy\n",
    "\n",
    "2-> Mist + Cloudy, Mist + Broken clouds, Mist + Few clouds, Mist\n",
    "\n",
    "3-> Light Snow and Rain + Thunderstorm + Scattered clouds, Light Rain + Scattered clouds\n",
    "\n",
    "4-> Heavy Rain + Ice Pallets + Thunderstorm + Mist, Snow + Fog\n",
    "\n",
    "**temp:**       hourly temperature in Celsius\n",
    "\n",
    "**atemp:**      \"feels like\" temperature in Celsius\n",
    "\n",
    "**humidity:**   relative humidity\n",
    "\n",
    "**windspeed:**  wind speed\n",
    "\n",
    "\n",
    "##### Dependent Variables\n",
    "\n",
    "**registered:** number of registered user\n",
    "\n",
    "**casual:**     number of non-registered user\n",
    "\n",
    "**count:**      number of total rentals (registered + casual)\n",
    " "
   ]
  },
  {
   "cell_type": "markdown",
   "metadata": {},
   "source": [
    "### 3. Importing Data Set and Basic Data Exploration"
   ]
  },
  {
   "cell_type": "code",
   "execution_count": 163,
   "metadata": {},
   "outputs": [
    {
     "data": {
      "text/html": [
       "<div>\n",
       "<style>\n",
       "    .dataframe thead tr:only-child th {\n",
       "        text-align: right;\n",
       "    }\n",
       "\n",
       "    .dataframe thead th {\n",
       "        text-align: left;\n",
       "    }\n",
       "\n",
       "    .dataframe tbody tr th {\n",
       "        vertical-align: top;\n",
       "    }\n",
       "</style>\n",
       "<table border=\"1\" class=\"dataframe\">\n",
       "  <thead>\n",
       "    <tr style=\"text-align: right;\">\n",
       "      <th></th>\n",
       "      <th>datetime</th>\n",
       "      <th>season</th>\n",
       "      <th>holiday</th>\n",
       "      <th>workingday</th>\n",
       "      <th>weather</th>\n",
       "      <th>temp</th>\n",
       "      <th>atemp</th>\n",
       "      <th>humidity</th>\n",
       "      <th>windspeed</th>\n",
       "      <th>casual</th>\n",
       "      <th>registered</th>\n",
       "      <th>count</th>\n",
       "      <th>data_set</th>\n",
       "    </tr>\n",
       "  </thead>\n",
       "  <tbody>\n",
       "    <tr>\n",
       "      <th>0</th>\n",
       "      <td>2011-01-01 00:00:00</td>\n",
       "      <td>1</td>\n",
       "      <td>0</td>\n",
       "      <td>0</td>\n",
       "      <td>1</td>\n",
       "      <td>9.84</td>\n",
       "      <td>14.395</td>\n",
       "      <td>81</td>\n",
       "      <td>0.0</td>\n",
       "      <td>3</td>\n",
       "      <td>13</td>\n",
       "      <td>16</td>\n",
       "      <td>train</td>\n",
       "    </tr>\n",
       "    <tr>\n",
       "      <th>1</th>\n",
       "      <td>2011-01-01 01:00:00</td>\n",
       "      <td>1</td>\n",
       "      <td>0</td>\n",
       "      <td>0</td>\n",
       "      <td>1</td>\n",
       "      <td>9.02</td>\n",
       "      <td>13.635</td>\n",
       "      <td>80</td>\n",
       "      <td>0.0</td>\n",
       "      <td>8</td>\n",
       "      <td>32</td>\n",
       "      <td>40</td>\n",
       "      <td>train</td>\n",
       "    </tr>\n",
       "    <tr>\n",
       "      <th>2</th>\n",
       "      <td>2011-01-01 02:00:00</td>\n",
       "      <td>1</td>\n",
       "      <td>0</td>\n",
       "      <td>0</td>\n",
       "      <td>1</td>\n",
       "      <td>9.02</td>\n",
       "      <td>13.635</td>\n",
       "      <td>80</td>\n",
       "      <td>0.0</td>\n",
       "      <td>5</td>\n",
       "      <td>27</td>\n",
       "      <td>32</td>\n",
       "      <td>train</td>\n",
       "    </tr>\n",
       "    <tr>\n",
       "      <th>3</th>\n",
       "      <td>2011-01-01 03:00:00</td>\n",
       "      <td>1</td>\n",
       "      <td>0</td>\n",
       "      <td>0</td>\n",
       "      <td>1</td>\n",
       "      <td>9.84</td>\n",
       "      <td>14.395</td>\n",
       "      <td>75</td>\n",
       "      <td>0.0</td>\n",
       "      <td>3</td>\n",
       "      <td>10</td>\n",
       "      <td>13</td>\n",
       "      <td>train</td>\n",
       "    </tr>\n",
       "    <tr>\n",
       "      <th>4</th>\n",
       "      <td>2011-01-01 04:00:00</td>\n",
       "      <td>1</td>\n",
       "      <td>0</td>\n",
       "      <td>0</td>\n",
       "      <td>1</td>\n",
       "      <td>9.84</td>\n",
       "      <td>14.395</td>\n",
       "      <td>75</td>\n",
       "      <td>0.0</td>\n",
       "      <td>0</td>\n",
       "      <td>1</td>\n",
       "      <td>1</td>\n",
       "      <td>train</td>\n",
       "    </tr>\n",
       "  </tbody>\n",
       "</table>\n",
       "</div>"
      ],
      "text/plain": [
       "              datetime  season  holiday  workingday  weather  temp   atemp  \\\n",
       "0  2011-01-01 00:00:00       1        0           0        1  9.84  14.395   \n",
       "1  2011-01-01 01:00:00       1        0           0        1  9.02  13.635   \n",
       "2  2011-01-01 02:00:00       1        0           0        1  9.02  13.635   \n",
       "3  2011-01-01 03:00:00       1        0           0        1  9.84  14.395   \n",
       "4  2011-01-01 04:00:00       1        0           0        1  9.84  14.395   \n",
       "\n",
       "   humidity  windspeed  casual  registered  count data_set  \n",
       "0        81        0.0       3          13     16    train  \n",
       "1        80        0.0       8          32     40    train  \n",
       "2        80        0.0       5          27     32    train  \n",
       "3        75        0.0       3          10     13    train  \n",
       "4        75        0.0       0           1      1    train  "
      ]
     },
     "execution_count": 163,
     "metadata": {},
     "output_type": "execute_result"
    }
   ],
   "source": [
    "train_df = pd.read_csv('data/train.csv')\n",
    "train_df['data_set'] = 'train'\n",
    "train_df.head(5)"
   ]
  },
  {
   "cell_type": "code",
   "execution_count": 80,
   "metadata": {},
   "outputs": [
    {
     "data": {
      "text/html": [
       "<div>\n",
       "<style>\n",
       "    .dataframe thead tr:only-child th {\n",
       "        text-align: right;\n",
       "    }\n",
       "\n",
       "    .dataframe thead th {\n",
       "        text-align: left;\n",
       "    }\n",
       "\n",
       "    .dataframe tbody tr th {\n",
       "        vertical-align: top;\n",
       "    }\n",
       "</style>\n",
       "<table border=\"1\" class=\"dataframe\">\n",
       "  <thead>\n",
       "    <tr style=\"text-align: right;\">\n",
       "      <th></th>\n",
       "      <th>datetime</th>\n",
       "      <th>season</th>\n",
       "      <th>holiday</th>\n",
       "      <th>workingday</th>\n",
       "      <th>weather</th>\n",
       "      <th>temp</th>\n",
       "      <th>atemp</th>\n",
       "      <th>humidity</th>\n",
       "      <th>windspeed</th>\n",
       "      <th>data_set</th>\n",
       "    </tr>\n",
       "  </thead>\n",
       "  <tbody>\n",
       "    <tr>\n",
       "      <th>0</th>\n",
       "      <td>2011-01-20 00:00:00</td>\n",
       "      <td>1</td>\n",
       "      <td>0</td>\n",
       "      <td>1</td>\n",
       "      <td>1</td>\n",
       "      <td>10.66</td>\n",
       "      <td>11.365</td>\n",
       "      <td>56</td>\n",
       "      <td>26.0027</td>\n",
       "      <td>test</td>\n",
       "    </tr>\n",
       "    <tr>\n",
       "      <th>1</th>\n",
       "      <td>2011-01-20 01:00:00</td>\n",
       "      <td>1</td>\n",
       "      <td>0</td>\n",
       "      <td>1</td>\n",
       "      <td>1</td>\n",
       "      <td>10.66</td>\n",
       "      <td>13.635</td>\n",
       "      <td>56</td>\n",
       "      <td>0.0000</td>\n",
       "      <td>test</td>\n",
       "    </tr>\n",
       "    <tr>\n",
       "      <th>2</th>\n",
       "      <td>2011-01-20 02:00:00</td>\n",
       "      <td>1</td>\n",
       "      <td>0</td>\n",
       "      <td>1</td>\n",
       "      <td>1</td>\n",
       "      <td>10.66</td>\n",
       "      <td>13.635</td>\n",
       "      <td>56</td>\n",
       "      <td>0.0000</td>\n",
       "      <td>test</td>\n",
       "    </tr>\n",
       "    <tr>\n",
       "      <th>3</th>\n",
       "      <td>2011-01-20 03:00:00</td>\n",
       "      <td>1</td>\n",
       "      <td>0</td>\n",
       "      <td>1</td>\n",
       "      <td>1</td>\n",
       "      <td>10.66</td>\n",
       "      <td>12.880</td>\n",
       "      <td>56</td>\n",
       "      <td>11.0014</td>\n",
       "      <td>test</td>\n",
       "    </tr>\n",
       "    <tr>\n",
       "      <th>4</th>\n",
       "      <td>2011-01-20 04:00:00</td>\n",
       "      <td>1</td>\n",
       "      <td>0</td>\n",
       "      <td>1</td>\n",
       "      <td>1</td>\n",
       "      <td>10.66</td>\n",
       "      <td>12.880</td>\n",
       "      <td>56</td>\n",
       "      <td>11.0014</td>\n",
       "      <td>test</td>\n",
       "    </tr>\n",
       "  </tbody>\n",
       "</table>\n",
       "</div>"
      ],
      "text/plain": [
       "              datetime  season  holiday  workingday  weather   temp   atemp  \\\n",
       "0  2011-01-20 00:00:00       1        0           1        1  10.66  11.365   \n",
       "1  2011-01-20 01:00:00       1        0           1        1  10.66  13.635   \n",
       "2  2011-01-20 02:00:00       1        0           1        1  10.66  13.635   \n",
       "3  2011-01-20 03:00:00       1        0           1        1  10.66  12.880   \n",
       "4  2011-01-20 04:00:00       1        0           1        1  10.66  12.880   \n",
       "\n",
       "   humidity  windspeed data_set  \n",
       "0        56    26.0027     test  \n",
       "1        56     0.0000     test  \n",
       "2        56     0.0000     test  \n",
       "3        56    11.0014     test  \n",
       "4        56    11.0014     test  "
      ]
     },
     "execution_count": 80,
     "metadata": {},
     "output_type": "execute_result"
    }
   ],
   "source": [
    "test_df = pd.read_csv('data/test.csv')\n",
    "test_df['data_set'] = 'test'\n",
    "test_df.head(5)"
   ]
  },
  {
   "cell_type": "markdown",
   "metadata": {},
   "source": [
    "#### 3.1. Combine both Train and Test Data set (to understand the distribution of independent variable together)."
   ]
  },
  {
   "cell_type": "code",
   "execution_count": 81,
   "metadata": {},
   "outputs": [
    {
     "data": {
      "text/html": [
       "<div>\n",
       "<style>\n",
       "    .dataframe thead tr:only-child th {\n",
       "        text-align: right;\n",
       "    }\n",
       "\n",
       "    .dataframe thead th {\n",
       "        text-align: left;\n",
       "    }\n",
       "\n",
       "    .dataframe tbody tr th {\n",
       "        vertical-align: top;\n",
       "    }\n",
       "</style>\n",
       "<table border=\"1\" class=\"dataframe\">\n",
       "  <thead>\n",
       "    <tr style=\"text-align: right;\">\n",
       "      <th></th>\n",
       "      <th>atemp</th>\n",
       "      <th>casual</th>\n",
       "      <th>count</th>\n",
       "      <th>data_set</th>\n",
       "      <th>datetime</th>\n",
       "      <th>holiday</th>\n",
       "      <th>humidity</th>\n",
       "      <th>registered</th>\n",
       "      <th>season</th>\n",
       "      <th>temp</th>\n",
       "      <th>weather</th>\n",
       "      <th>windspeed</th>\n",
       "      <th>workingday</th>\n",
       "    </tr>\n",
       "  </thead>\n",
       "  <tbody>\n",
       "    <tr>\n",
       "      <th>0</th>\n",
       "      <td>14.395</td>\n",
       "      <td>3</td>\n",
       "      <td>16</td>\n",
       "      <td>train</td>\n",
       "      <td>2011-01-01 00:00:00</td>\n",
       "      <td>0</td>\n",
       "      <td>81</td>\n",
       "      <td>13</td>\n",
       "      <td>1</td>\n",
       "      <td>9.84</td>\n",
       "      <td>1</td>\n",
       "      <td>0.0</td>\n",
       "      <td>0</td>\n",
       "    </tr>\n",
       "    <tr>\n",
       "      <th>1</th>\n",
       "      <td>13.635</td>\n",
       "      <td>8</td>\n",
       "      <td>40</td>\n",
       "      <td>train</td>\n",
       "      <td>2011-01-01 01:00:00</td>\n",
       "      <td>0</td>\n",
       "      <td>80</td>\n",
       "      <td>32</td>\n",
       "      <td>1</td>\n",
       "      <td>9.02</td>\n",
       "      <td>1</td>\n",
       "      <td>0.0</td>\n",
       "      <td>0</td>\n",
       "    </tr>\n",
       "    <tr>\n",
       "      <th>2</th>\n",
       "      <td>13.635</td>\n",
       "      <td>5</td>\n",
       "      <td>32</td>\n",
       "      <td>train</td>\n",
       "      <td>2011-01-01 02:00:00</td>\n",
       "      <td>0</td>\n",
       "      <td>80</td>\n",
       "      <td>27</td>\n",
       "      <td>1</td>\n",
       "      <td>9.02</td>\n",
       "      <td>1</td>\n",
       "      <td>0.0</td>\n",
       "      <td>0</td>\n",
       "    </tr>\n",
       "    <tr>\n",
       "      <th>3</th>\n",
       "      <td>14.395</td>\n",
       "      <td>3</td>\n",
       "      <td>13</td>\n",
       "      <td>train</td>\n",
       "      <td>2011-01-01 03:00:00</td>\n",
       "      <td>0</td>\n",
       "      <td>75</td>\n",
       "      <td>10</td>\n",
       "      <td>1</td>\n",
       "      <td>9.84</td>\n",
       "      <td>1</td>\n",
       "      <td>0.0</td>\n",
       "      <td>0</td>\n",
       "    </tr>\n",
       "    <tr>\n",
       "      <th>4</th>\n",
       "      <td>14.395</td>\n",
       "      <td>0</td>\n",
       "      <td>1</td>\n",
       "      <td>train</td>\n",
       "      <td>2011-01-01 04:00:00</td>\n",
       "      <td>0</td>\n",
       "      <td>75</td>\n",
       "      <td>1</td>\n",
       "      <td>1</td>\n",
       "      <td>9.84</td>\n",
       "      <td>1</td>\n",
       "      <td>0.0</td>\n",
       "      <td>0</td>\n",
       "    </tr>\n",
       "  </tbody>\n",
       "</table>\n",
       "</div>"
      ],
      "text/plain": [
       "    atemp  casual  count data_set             datetime  holiday  humidity  \\\n",
       "0  14.395       3     16    train  2011-01-01 00:00:00        0        81   \n",
       "1  13.635       8     40    train  2011-01-01 01:00:00        0        80   \n",
       "2  13.635       5     32    train  2011-01-01 02:00:00        0        80   \n",
       "3  14.395       3     13    train  2011-01-01 03:00:00        0        75   \n",
       "4  14.395       0      1    train  2011-01-01 04:00:00        0        75   \n",
       "\n",
       "   registered  season  temp  weather  windspeed  workingday  \n",
       "0          13       1  9.84        1        0.0           0  \n",
       "1          32       1  9.02        1        0.0           0  \n",
       "2          27       1  9.02        1        0.0           0  \n",
       "3          10       1  9.84        1        0.0           0  \n",
       "4           1       1  9.84        1        0.0           0  "
      ]
     },
     "execution_count": 81,
     "metadata": {},
     "output_type": "execute_result"
    }
   ],
   "source": [
    "# combine train and test data into one df\n",
    "test_df['registered'] = 0\n",
    "test_df['casual'] = 0\n",
    "test_df['count'] = 0\n",
    "\n",
    "all_df = pd.concat([train_df, test_df])\n",
    "all_df.head(5)"
   ]
  },
  {
   "cell_type": "code",
   "execution_count": 82,
   "metadata": {},
   "outputs": [
    {
     "data": {
      "text/html": [
       "<div>\n",
       "<style>\n",
       "    .dataframe thead tr:only-child th {\n",
       "        text-align: right;\n",
       "    }\n",
       "\n",
       "    .dataframe thead th {\n",
       "        text-align: left;\n",
       "    }\n",
       "\n",
       "    .dataframe tbody tr th {\n",
       "        vertical-align: top;\n",
       "    }\n",
       "</style>\n",
       "<table border=\"1\" class=\"dataframe\">\n",
       "  <thead>\n",
       "    <tr style=\"text-align: right;\">\n",
       "      <th></th>\n",
       "      <th>atemp</th>\n",
       "      <th>casual</th>\n",
       "      <th>count</th>\n",
       "      <th>data_set</th>\n",
       "      <th>datetime</th>\n",
       "      <th>holiday</th>\n",
       "      <th>humidity</th>\n",
       "      <th>registered</th>\n",
       "      <th>season</th>\n",
       "      <th>temp</th>\n",
       "      <th>weather</th>\n",
       "      <th>windspeed</th>\n",
       "      <th>workingday</th>\n",
       "    </tr>\n",
       "  </thead>\n",
       "  <tbody>\n",
       "    <tr>\n",
       "      <th>6488</th>\n",
       "      <td>12.880</td>\n",
       "      <td>0</td>\n",
       "      <td>0</td>\n",
       "      <td>test</td>\n",
       "      <td>2012-12-31 19:00:00</td>\n",
       "      <td>0</td>\n",
       "      <td>60</td>\n",
       "      <td>0</td>\n",
       "      <td>1</td>\n",
       "      <td>10.66</td>\n",
       "      <td>2</td>\n",
       "      <td>11.0014</td>\n",
       "      <td>1</td>\n",
       "    </tr>\n",
       "    <tr>\n",
       "      <th>6489</th>\n",
       "      <td>12.880</td>\n",
       "      <td>0</td>\n",
       "      <td>0</td>\n",
       "      <td>test</td>\n",
       "      <td>2012-12-31 20:00:00</td>\n",
       "      <td>0</td>\n",
       "      <td>60</td>\n",
       "      <td>0</td>\n",
       "      <td>1</td>\n",
       "      <td>10.66</td>\n",
       "      <td>2</td>\n",
       "      <td>11.0014</td>\n",
       "      <td>1</td>\n",
       "    </tr>\n",
       "    <tr>\n",
       "      <th>6490</th>\n",
       "      <td>12.880</td>\n",
       "      <td>0</td>\n",
       "      <td>0</td>\n",
       "      <td>test</td>\n",
       "      <td>2012-12-31 21:00:00</td>\n",
       "      <td>0</td>\n",
       "      <td>60</td>\n",
       "      <td>0</td>\n",
       "      <td>1</td>\n",
       "      <td>10.66</td>\n",
       "      <td>1</td>\n",
       "      <td>11.0014</td>\n",
       "      <td>1</td>\n",
       "    </tr>\n",
       "    <tr>\n",
       "      <th>6491</th>\n",
       "      <td>13.635</td>\n",
       "      <td>0</td>\n",
       "      <td>0</td>\n",
       "      <td>test</td>\n",
       "      <td>2012-12-31 22:00:00</td>\n",
       "      <td>0</td>\n",
       "      <td>56</td>\n",
       "      <td>0</td>\n",
       "      <td>1</td>\n",
       "      <td>10.66</td>\n",
       "      <td>1</td>\n",
       "      <td>8.9981</td>\n",
       "      <td>1</td>\n",
       "    </tr>\n",
       "    <tr>\n",
       "      <th>6492</th>\n",
       "      <td>13.635</td>\n",
       "      <td>0</td>\n",
       "      <td>0</td>\n",
       "      <td>test</td>\n",
       "      <td>2012-12-31 23:00:00</td>\n",
       "      <td>0</td>\n",
       "      <td>65</td>\n",
       "      <td>0</td>\n",
       "      <td>1</td>\n",
       "      <td>10.66</td>\n",
       "      <td>1</td>\n",
       "      <td>8.9981</td>\n",
       "      <td>1</td>\n",
       "    </tr>\n",
       "  </tbody>\n",
       "</table>\n",
       "</div>"
      ],
      "text/plain": [
       "       atemp  casual  count data_set             datetime  holiday  humidity  \\\n",
       "6488  12.880       0      0     test  2012-12-31 19:00:00        0        60   \n",
       "6489  12.880       0      0     test  2012-12-31 20:00:00        0        60   \n",
       "6490  12.880       0      0     test  2012-12-31 21:00:00        0        60   \n",
       "6491  13.635       0      0     test  2012-12-31 22:00:00        0        56   \n",
       "6492  13.635       0      0     test  2012-12-31 23:00:00        0        65   \n",
       "\n",
       "      registered  season   temp  weather  windspeed  workingday  \n",
       "6488           0       1  10.66        2    11.0014           1  \n",
       "6489           0       1  10.66        2    11.0014           1  \n",
       "6490           0       1  10.66        1    11.0014           1  \n",
       "6491           0       1  10.66        1     8.9981           1  \n",
       "6492           0       1  10.66        1     8.9981           1  "
      ]
     },
     "execution_count": 82,
     "metadata": {},
     "output_type": "execute_result"
    }
   ],
   "source": [
    "all_df.tail(5)"
   ]
  },
  {
   "cell_type": "code",
   "execution_count": 83,
   "metadata": {},
   "outputs": [
    {
     "data": {
      "text/plain": [
       "Index(['atemp', 'casual', 'count', 'data_set', 'datetime', 'holiday',\n",
       "       'humidity', 'registered', 'season', 'temp', 'weather', 'windspeed',\n",
       "       'workingday'],\n",
       "      dtype='object')"
      ]
     },
     "execution_count": 83,
     "metadata": {},
     "output_type": "execute_result"
    }
   ],
   "source": [
    "# lowercase column names\n",
    "all_df.columns = map(str.lower, all_df.columns)\n",
    "all_df.columns"
   ]
  },
  {
   "cell_type": "code",
   "execution_count": 84,
   "metadata": {
    "collapsed": true
   },
   "outputs": [],
   "source": [
    "# parse datetime colum & add new time related columns\n",
    "dt = pd.DatetimeIndex(all_df['datetime'])\n",
    "all_df.set_index(dt, inplace=True)"
   ]
  },
  {
   "cell_type": "code",
   "execution_count": 85,
   "metadata": {},
   "outputs": [
    {
     "data": {
      "text/html": [
       "<div>\n",
       "<style>\n",
       "    .dataframe thead tr:only-child th {\n",
       "        text-align: right;\n",
       "    }\n",
       "\n",
       "    .dataframe thead th {\n",
       "        text-align: left;\n",
       "    }\n",
       "\n",
       "    .dataframe tbody tr th {\n",
       "        vertical-align: top;\n",
       "    }\n",
       "</style>\n",
       "<table border=\"1\" class=\"dataframe\">\n",
       "  <thead>\n",
       "    <tr style=\"text-align: right;\">\n",
       "      <th></th>\n",
       "      <th>atemp</th>\n",
       "      <th>casual</th>\n",
       "      <th>count</th>\n",
       "      <th>data_set</th>\n",
       "      <th>datetime</th>\n",
       "      <th>holiday</th>\n",
       "      <th>humidity</th>\n",
       "      <th>registered</th>\n",
       "      <th>season</th>\n",
       "      <th>temp</th>\n",
       "      <th>weather</th>\n",
       "      <th>windspeed</th>\n",
       "      <th>workingday</th>\n",
       "    </tr>\n",
       "    <tr>\n",
       "      <th>datetime</th>\n",
       "      <th></th>\n",
       "      <th></th>\n",
       "      <th></th>\n",
       "      <th></th>\n",
       "      <th></th>\n",
       "      <th></th>\n",
       "      <th></th>\n",
       "      <th></th>\n",
       "      <th></th>\n",
       "      <th></th>\n",
       "      <th></th>\n",
       "      <th></th>\n",
       "      <th></th>\n",
       "    </tr>\n",
       "  </thead>\n",
       "  <tbody>\n",
       "    <tr>\n",
       "      <th>2011-01-01 00:00:00</th>\n",
       "      <td>14.395</td>\n",
       "      <td>3</td>\n",
       "      <td>16</td>\n",
       "      <td>train</td>\n",
       "      <td>2011-01-01 00:00:00</td>\n",
       "      <td>0</td>\n",
       "      <td>81</td>\n",
       "      <td>13</td>\n",
       "      <td>1</td>\n",
       "      <td>9.84</td>\n",
       "      <td>1</td>\n",
       "      <td>0.0</td>\n",
       "      <td>0</td>\n",
       "    </tr>\n",
       "    <tr>\n",
       "      <th>2011-01-01 01:00:00</th>\n",
       "      <td>13.635</td>\n",
       "      <td>8</td>\n",
       "      <td>40</td>\n",
       "      <td>train</td>\n",
       "      <td>2011-01-01 01:00:00</td>\n",
       "      <td>0</td>\n",
       "      <td>80</td>\n",
       "      <td>32</td>\n",
       "      <td>1</td>\n",
       "      <td>9.02</td>\n",
       "      <td>1</td>\n",
       "      <td>0.0</td>\n",
       "      <td>0</td>\n",
       "    </tr>\n",
       "    <tr>\n",
       "      <th>2011-01-01 02:00:00</th>\n",
       "      <td>13.635</td>\n",
       "      <td>5</td>\n",
       "      <td>32</td>\n",
       "      <td>train</td>\n",
       "      <td>2011-01-01 02:00:00</td>\n",
       "      <td>0</td>\n",
       "      <td>80</td>\n",
       "      <td>27</td>\n",
       "      <td>1</td>\n",
       "      <td>9.02</td>\n",
       "      <td>1</td>\n",
       "      <td>0.0</td>\n",
       "      <td>0</td>\n",
       "    </tr>\n",
       "    <tr>\n",
       "      <th>2011-01-01 03:00:00</th>\n",
       "      <td>14.395</td>\n",
       "      <td>3</td>\n",
       "      <td>13</td>\n",
       "      <td>train</td>\n",
       "      <td>2011-01-01 03:00:00</td>\n",
       "      <td>0</td>\n",
       "      <td>75</td>\n",
       "      <td>10</td>\n",
       "      <td>1</td>\n",
       "      <td>9.84</td>\n",
       "      <td>1</td>\n",
       "      <td>0.0</td>\n",
       "      <td>0</td>\n",
       "    </tr>\n",
       "    <tr>\n",
       "      <th>2011-01-01 04:00:00</th>\n",
       "      <td>14.395</td>\n",
       "      <td>0</td>\n",
       "      <td>1</td>\n",
       "      <td>train</td>\n",
       "      <td>2011-01-01 04:00:00</td>\n",
       "      <td>0</td>\n",
       "      <td>75</td>\n",
       "      <td>1</td>\n",
       "      <td>1</td>\n",
       "      <td>9.84</td>\n",
       "      <td>1</td>\n",
       "      <td>0.0</td>\n",
       "      <td>0</td>\n",
       "    </tr>\n",
       "  </tbody>\n",
       "</table>\n",
       "</div>"
      ],
      "text/plain": [
       "                      atemp  casual  count data_set             datetime  \\\n",
       "datetime                                                                   \n",
       "2011-01-01 00:00:00  14.395       3     16    train  2011-01-01 00:00:00   \n",
       "2011-01-01 01:00:00  13.635       8     40    train  2011-01-01 01:00:00   \n",
       "2011-01-01 02:00:00  13.635       5     32    train  2011-01-01 02:00:00   \n",
       "2011-01-01 03:00:00  14.395       3     13    train  2011-01-01 03:00:00   \n",
       "2011-01-01 04:00:00  14.395       0      1    train  2011-01-01 04:00:00   \n",
       "\n",
       "                     holiday  humidity  registered  season  temp  weather  \\\n",
       "datetime                                                                    \n",
       "2011-01-01 00:00:00        0        81          13       1  9.84        1   \n",
       "2011-01-01 01:00:00        0        80          32       1  9.02        1   \n",
       "2011-01-01 02:00:00        0        80          27       1  9.02        1   \n",
       "2011-01-01 03:00:00        0        75          10       1  9.84        1   \n",
       "2011-01-01 04:00:00        0        75           1       1  9.84        1   \n",
       "\n",
       "                     windspeed  workingday  \n",
       "datetime                                    \n",
       "2011-01-01 00:00:00        0.0           0  \n",
       "2011-01-01 01:00:00        0.0           0  \n",
       "2011-01-01 02:00:00        0.0           0  \n",
       "2011-01-01 03:00:00        0.0           0  \n",
       "2011-01-01 04:00:00        0.0           0  "
      ]
     },
     "execution_count": 85,
     "metadata": {},
     "output_type": "execute_result"
    }
   ],
   "source": [
    "all_df.head(5)"
   ]
  },
  {
   "cell_type": "code",
   "execution_count": 86,
   "metadata": {},
   "outputs": [
    {
     "data": {
      "text/html": [
       "<div>\n",
       "<style>\n",
       "    .dataframe thead tr:only-child th {\n",
       "        text-align: right;\n",
       "    }\n",
       "\n",
       "    .dataframe thead th {\n",
       "        text-align: left;\n",
       "    }\n",
       "\n",
       "    .dataframe tbody tr th {\n",
       "        vertical-align: top;\n",
       "    }\n",
       "</style>\n",
       "<table border=\"1\" class=\"dataframe\">\n",
       "  <thead>\n",
       "    <tr style=\"text-align: right;\">\n",
       "      <th></th>\n",
       "      <th>atemp</th>\n",
       "      <th>casual</th>\n",
       "      <th>count</th>\n",
       "      <th>data_set</th>\n",
       "      <th>datetime</th>\n",
       "      <th>holiday</th>\n",
       "      <th>humidity</th>\n",
       "      <th>registered</th>\n",
       "      <th>season</th>\n",
       "      <th>temp</th>\n",
       "      <th>weather</th>\n",
       "      <th>windspeed</th>\n",
       "      <th>workingday</th>\n",
       "    </tr>\n",
       "    <tr>\n",
       "      <th>datetime</th>\n",
       "      <th></th>\n",
       "      <th></th>\n",
       "      <th></th>\n",
       "      <th></th>\n",
       "      <th></th>\n",
       "      <th></th>\n",
       "      <th></th>\n",
       "      <th></th>\n",
       "      <th></th>\n",
       "      <th></th>\n",
       "      <th></th>\n",
       "      <th></th>\n",
       "      <th></th>\n",
       "    </tr>\n",
       "  </thead>\n",
       "  <tbody>\n",
       "    <tr>\n",
       "      <th>2011-01-01 01:00:00</th>\n",
       "      <td>13.635</td>\n",
       "      <td>8</td>\n",
       "      <td>40</td>\n",
       "      <td>train</td>\n",
       "      <td>2011-01-01 01:00:00</td>\n",
       "      <td>0</td>\n",
       "      <td>80</td>\n",
       "      <td>32</td>\n",
       "      <td>1</td>\n",
       "      <td>9.02</td>\n",
       "      <td>1</td>\n",
       "      <td>0.0</td>\n",
       "      <td>0</td>\n",
       "    </tr>\n",
       "    <tr>\n",
       "      <th>2011-01-01 02:00:00</th>\n",
       "      <td>13.635</td>\n",
       "      <td>5</td>\n",
       "      <td>32</td>\n",
       "      <td>train</td>\n",
       "      <td>2011-01-01 02:00:00</td>\n",
       "      <td>0</td>\n",
       "      <td>80</td>\n",
       "      <td>27</td>\n",
       "      <td>1</td>\n",
       "      <td>9.02</td>\n",
       "      <td>1</td>\n",
       "      <td>0.0</td>\n",
       "      <td>0</td>\n",
       "    </tr>\n",
       "    <tr>\n",
       "      <th>2011-01-01 03:00:00</th>\n",
       "      <td>14.395</td>\n",
       "      <td>3</td>\n",
       "      <td>13</td>\n",
       "      <td>train</td>\n",
       "      <td>2011-01-01 03:00:00</td>\n",
       "      <td>0</td>\n",
       "      <td>75</td>\n",
       "      <td>10</td>\n",
       "      <td>1</td>\n",
       "      <td>9.84</td>\n",
       "      <td>1</td>\n",
       "      <td>0.0</td>\n",
       "      <td>0</td>\n",
       "    </tr>\n",
       "  </tbody>\n",
       "</table>\n",
       "</div>"
      ],
      "text/plain": [
       "                      atemp  casual  count data_set             datetime  \\\n",
       "datetime                                                                   \n",
       "2011-01-01 01:00:00  13.635       8     40    train  2011-01-01 01:00:00   \n",
       "2011-01-01 02:00:00  13.635       5     32    train  2011-01-01 02:00:00   \n",
       "2011-01-01 03:00:00  14.395       3     13    train  2011-01-01 03:00:00   \n",
       "\n",
       "                     holiday  humidity  registered  season  temp  weather  \\\n",
       "datetime                                                                    \n",
       "2011-01-01 01:00:00        0        80          32       1  9.02        1   \n",
       "2011-01-01 02:00:00        0        80          27       1  9.02        1   \n",
       "2011-01-01 03:00:00        0        75          10       1  9.84        1   \n",
       "\n",
       "                     windspeed  workingday  \n",
       "datetime                                    \n",
       "2011-01-01 01:00:00        0.0           0  \n",
       "2011-01-01 02:00:00        0.0           0  \n",
       "2011-01-01 03:00:00        0.0           0  "
      ]
     },
     "execution_count": 86,
     "metadata": {},
     "output_type": "execute_result"
    }
   ],
   "source": [
    "# Indexing by datetime let's us to select rows by specifying time ranges\n",
    "all_df['2011-01-01 01:00:00':'2011-01-01 03:00:00']"
   ]
  },
  {
   "cell_type": "code",
   "execution_count": 87,
   "metadata": {},
   "outputs": [
    {
     "data": {
      "text/plain": [
       "0"
      ]
     },
     "execution_count": 87,
     "metadata": {},
     "output_type": "execute_result"
    }
   ],
   "source": [
    "# find missing values in dataset if any\n",
    "all_df.isnull().values.sum()"
   ]
  },
  {
   "cell_type": "markdown",
   "metadata": {},
   "source": [
    "#### 3.2. Understand the distribution of numerical variables and generate a frequency table for numeric variables."
   ]
  },
  {
   "cell_type": "code",
   "execution_count": 88,
   "metadata": {},
   "outputs": [
    {
     "data": {
      "image/png": "[encoded data removed]",
      "text/plain": [
       "<matplotlib.figure.Figure at 0x2aa9cc96c18>"
      ]
     },
     "metadata": {},
     "output_type": "display_data"
    }
   ],
   "source": [
    "plt.figure(figsize=(20,15))\n",
    "plt.subplot(421)\n",
    "all_df['season'].plot.hist(bins=10, color='blue', label='Histogram of Season', edgecolor='black')\n",
    "plt.legend(loc='best')\n",
    "plt.subplot(422)\n",
    "all_df['weather'].plot.hist(bins=10, color='green', label='Histogram of Weather', edgecolor='black')\n",
    "plt.legend(loc='best')\n",
    "plt.subplot(423)\n",
    "all_df['humidity'].plot.hist(bins=10, color='orange', label='Histogram of Humidity', edgecolor='black')\n",
    "plt.legend(loc='best')\n",
    "plt.subplot(424)\n",
    "all_df['holiday'].plot.hist(bins=10, color='pink', label='Histogram of Holiday', edgecolor='black')\n",
    "plt.legend(loc='best')\n",
    "plt.subplot(425)\n",
    "all_df['workingday'].plot.hist(bins=10, color='red', label='Histogram of Working Day', edgecolor='black')\n",
    "plt.legend(loc='best')\n",
    "plt.subplot(426)\n",
    "all_df['temp'].plot.hist(bins=10, color='yellow', label='Histogram of Temperature', edgecolor='black')\n",
    "plt.legend(loc='best')\n",
    "plt.subplot(427)\n",
    "all_df['atemp'].plot.hist(bins=10, color='cyan', label='Histogram of Feels Like Temp', edgecolor='black')\n",
    "plt.legend(loc='best')\n",
    "plt.subplot(428)\n",
    "all_df['windspeed'].plot.hist(bins=10, color='purple', label='Histogram of Windpseed', edgecolor='black')\n",
    "plt.legend(loc='best')\n",
    "plt.tight_layout()"
   ]
  },
  {
   "cell_type": "markdown",
   "metadata": {},
   "source": [
    "Few inferences can be drawn by looking at the these histograms:\n",
    "- Season has four categories of almost equal distribution\n",
    "- Weather 1 has higher contribution i.e. mostly clear weather.\n",
    "- As expected, mostly working days and variable holiday is also showing a similar inference. You can use the code above to look at the distribution in detail. Here you can generate a variable for weekday using holiday and working day. Incase, if both have zero values, then it must be a working day.\n",
    "- Variables temp, atemp, humidity and windspeed  looks naturally distributed."
   ]
  },
  {
   "cell_type": "code",
   "execution_count": 89,
   "metadata": {
    "collapsed": true
   },
   "outputs": [],
   "source": [
    "all_df['date'] = dt.date\n",
    "all_df['day'] = dt.day\n",
    "all_df['month'] = dt.month\n",
    "all_df['year'] = dt.year\n",
    "all_df['hour'] = dt.hour\n",
    "all_df['dow'] = dt.dayofweek\n",
    "all_df['woy'] = dt.weekofyear"
   ]
  },
  {
   "cell_type": "code",
   "execution_count": 90,
   "metadata": {},
   "outputs": [
    {
     "data": {
      "text/plain": [
       "atemp         0\n",
       "casual        0\n",
       "count         0\n",
       "data_set      0\n",
       "datetime      0\n",
       "holiday       0\n",
       "humidity      0\n",
       "registered    0\n",
       "season        0\n",
       "temp          0\n",
       "weather       0\n",
       "windspeed     0\n",
       "workingday    0\n",
       "date          0\n",
       "day           0\n",
       "month         0\n",
       "year          0\n",
       "hour          0\n",
       "dow           0\n",
       "woy           0\n",
       "dtype: int64"
      ]
     },
     "execution_count": 90,
     "metadata": {},
     "output_type": "execute_result"
    }
   ],
   "source": [
    "# How many columns have null values\n",
    "all_df.isnull().sum()"
   ]
  },
  {
   "cell_type": "code",
   "execution_count": 91,
   "metadata": {
    "collapsed": true
   },
   "outputs": [],
   "source": [
    "# interpolate weather, temp, atemp, humidity, windspeed\n",
    "all_df[\"weather\"] = all_df[\"weather\"].interpolate(method='time').apply(np.round)\n",
    "all_df[\"temp\"] = all_df[\"temp\"].interpolate(method='time')\n",
    "all_df[\"atemp\"] = all_df[\"atemp\"].interpolate(method='time')\n",
    "all_df[\"humidity\"] = all_df[\"humidity\"].interpolate(method='time').apply(np.round)\n",
    "all_df[\"windspeed\"] = all_df[\"windspeed\"].interpolate(method='time')"
   ]
  },
  {
   "cell_type": "code",
   "execution_count": 92,
   "metadata": {
    "collapsed": true
   },
   "outputs": [],
   "source": [
    "by_season = all_df[all_df['data_set'] == 'train'].copy().groupby(['season'])[['count']].agg(sum)"
   ]
  },
  {
   "cell_type": "code",
   "execution_count": 93,
   "metadata": {},
   "outputs": [
    {
     "data": {
      "image/png": "[encoded data removed]",
      "text/plain": [
       "<matplotlib.figure.Figure at 0x2aa9ccc5940>"
      ]
     },
     "metadata": {},
     "output_type": "display_data"
    }
   ],
   "source": [
    "by_season.plot(kind='barh')\n",
    "plt.grid(False)\n",
    "plt.show()"
   ]
  },
  {
   "cell_type": "code",
   "execution_count": 94,
   "metadata": {},
   "outputs": [
    {
     "data": {
      "text/html": [
       "<div>\n",
       "<style>\n",
       "    .dataframe thead tr:only-child th {\n",
       "        text-align: right;\n",
       "    }\n",
       "\n",
       "    .dataframe thead th {\n",
       "        text-align: left;\n",
       "    }\n",
       "\n",
       "    .dataframe tbody tr th {\n",
       "        vertical-align: top;\n",
       "    }\n",
       "</style>\n",
       "<table border=\"1\" class=\"dataframe\">\n",
       "  <thead>\n",
       "    <tr style=\"text-align: right;\">\n",
       "      <th>workingday</th>\n",
       "      <th>0</th>\n",
       "      <th>1</th>\n",
       "    </tr>\n",
       "    <tr>\n",
       "      <th>hour</th>\n",
       "      <th></th>\n",
       "      <th></th>\n",
       "    </tr>\n",
       "  </thead>\n",
       "  <tbody>\n",
       "    <tr>\n",
       "      <th>0</th>\n",
       "      <td>13701</td>\n",
       "      <td>11387</td>\n",
       "    </tr>\n",
       "    <tr>\n",
       "      <th>1</th>\n",
       "      <td>10427</td>\n",
       "      <td>4945</td>\n",
       "    </tr>\n",
       "    <tr>\n",
       "      <th>2</th>\n",
       "      <td>7686</td>\n",
       "      <td>2573</td>\n",
       "    </tr>\n",
       "    <tr>\n",
       "      <th>3</th>\n",
       "      <td>3677</td>\n",
       "      <td>1414</td>\n",
       "    </tr>\n",
       "    <tr>\n",
       "      <th>4</th>\n",
       "      <td>1239</td>\n",
       "      <td>1593</td>\n",
       "    </tr>\n",
       "    <tr>\n",
       "      <th>5</th>\n",
       "      <td>1331</td>\n",
       "      <td>7604</td>\n",
       "    </tr>\n",
       "    <tr>\n",
       "      <th>6</th>\n",
       "      <td>2899</td>\n",
       "      <td>31799</td>\n",
       "    </tr>\n",
       "    <tr>\n",
       "      <th>7</th>\n",
       "      <td>6854</td>\n",
       "      <td>90114</td>\n",
       "    </tr>\n",
       "    <tr>\n",
       "      <th>8</th>\n",
       "      <td>16277</td>\n",
       "      <td>148783</td>\n",
       "    </tr>\n",
       "    <tr>\n",
       "      <th>9</th>\n",
       "      <td>25799</td>\n",
       "      <td>75111</td>\n",
       "    </tr>\n",
       "  </tbody>\n",
       "</table>\n",
       "</div>"
      ],
      "text/plain": [
       "workingday      0       1\n",
       "hour                     \n",
       "0           13701   11387\n",
       "1           10427    4945\n",
       "2            7686    2573\n",
       "3            3677    1414\n",
       "4            1239    1593\n",
       "5            1331    7604\n",
       "6            2899   31799\n",
       "7            6854   90114\n",
       "8           16277  148783\n",
       "9           25799   75111"
      ]
     },
     "execution_count": 94,
     "metadata": {},
     "output_type": "execute_result"
    }
   ],
   "source": [
    "by_hour = all_df[all_df['data_set'] == 'train'].copy().groupby(['hour', 'workingday'])['count'].agg('sum').unstack()\n",
    "by_hour.head(10)"
   ]
  },
  {
   "cell_type": "markdown",
   "metadata": {},
   "source": [
    "**Hourly trend:** There must be high demand during office timings. Early morning and late evening can have different trend (cyclist) and low demand during 10:00 pm to 4:00 am."
   ]
  },
  {
   "cell_type": "code",
   "execution_count": 130,
   "metadata": {},
   "outputs": [
    {
     "data": {
      "image/png": "[encoded data removed]",
      "text/plain": [
       "<matplotlib.figure.Figure at 0x2aaa51e8d68>"
      ]
     },
     "metadata": {},
     "output_type": "display_data"
    }
   ],
   "source": [
    "# rentals by hour, split by working day (or not)\n",
    "by_hour.plot(kind='bar', figsize=(15,5), width=0.8);\n",
    "plt.grid(True)\n",
    "plt.tight_layout()"
   ]
  },
  {
   "cell_type": "markdown",
   "metadata": {},
   "source": [
    "### 4. Hypothesis Testing (using multivariate analysis)\n",
    "\n",
    "Till now, we have got a fair understanding of the data set. Now, let's test the hypothesis which we had generated earlier.  Here we have added some additional hypothesis from the dataset. Let's test them one by one:\n",
    "\n",
    "**Hourly trend**: We don't have the variable 'hour' as part of data provides but we extracted it using the datetime column.\n",
    "Let's plot the hourly trend of count over hours and check if our hypothesis is correct or not. We will separate train and test data set from combined one."
   ]
  },
  {
   "cell_type": "code",
   "execution_count": 103,
   "metadata": {
    "collapsed": true
   },
   "outputs": [],
   "source": [
    "train_df = all_df[all_df['data_set'] == 'train'].copy()"
   ]
  },
  {
   "cell_type": "code",
   "execution_count": 120,
   "metadata": {},
   "outputs": [],
   "source": [
    "#train_df.boxplot(column='count', by='hour', figsize=(15,5))\n",
    "#plt.ylabel('Count of Users')\n",
    "#plt.title(\"Boxplot of Count grouped by hour\")\n",
    "#plt.suptitle(\"\") # get rid of the pandas autogenerated title"
   ]
  },
  {
   "cell_type": "code",
   "execution_count": 138,
   "metadata": {},
   "outputs": [
    {
     "data": {
      "text/plain": [
       "<matplotlib.text.Text at 0x2aaac4738d0>"
      ]
     },
     "execution_count": 138,
     "metadata": {},
     "output_type": "execute_result"
    },
    {
     "data": {
      "image/png": "[encoded data removed]",
      "text/plain": [
       "<matplotlib.figure.Figure at 0x2aaac2864a8>"
      ]
     },
     "metadata": {},
     "output_type": "display_data"
    }
   ],
   "source": [
    "fig, ax = plt.subplots(figsize=(18, 5))\n",
    "sns.boxplot(x=train_df['hour'], y=train_df['count'], ax=ax)\n",
    "ax.set_ylabel('Count of Users')\n",
    "ax.set_title(\"Boxplot of Count grouped by hour\")\n",
    "#plt.suptitle(\"\") # get rid of the pandas autogenerated title"
   ]
  },
  {
   "cell_type": "markdown",
   "metadata": {},
   "source": [
    "Above, we can see the trend of bike demand over hours. Quickly, we'll segregate the bike demand in three categories:\n",
    "\n",
    "- High     : 7-9 and 17-19 hours\n",
    "- Average  : 10-16 hours\n",
    "- Low      : 0-6 and 20-24 hours\n",
    "Here we have analyzed the distribution of total bike demand. \n",
    "\n",
    "Let's look at the distribution of registered and casual users separately."
   ]
  },
  {
   "cell_type": "code",
   "execution_count": 139,
   "metadata": {},
   "outputs": [],
   "source": [
    "#fig, axs = plt.subplots(1, 2, figsize=(15,5), sharex=False, sharey=False)\n",
    "\n",
    "#train_df.boxplot(column='casual', by='hour', ax=axs[0])\n",
    "#axs[0].set_ylabel('casual users')\n",
    "#axs[0].set_title('')\n",
    "\n",
    "#train_df.boxplot(column='registered', by='hour', ax=axs[1])\n",
    "#axs[1].set_ylabel('registered users')\n",
    "#axs[1].set_title('')"
   ]
  },
  {
   "cell_type": "code",
   "execution_count": 140,
   "metadata": {},
   "outputs": [
    {
     "data": {
      "text/plain": [
       "<matplotlib.text.Text at 0x2aaaa93eba8>"
      ]
     },
     "execution_count": 140,
     "metadata": {},
     "output_type": "execute_result"
    },
    {
     "data": {
      "image/png": "[encoded data removed]",
      "text/plain": [
       "<matplotlib.figure.Figure at 0x2aaaa5cf208>"
      ]
     },
     "metadata": {},
     "output_type": "display_data"
    }
   ],
   "source": [
    "fig, axs = plt.subplots(1, 2, figsize=(18,5), sharex=False, sharey=False)\n",
    "\n",
    "sns.boxplot(x='hour', y='casual', data=train_df, ax=axs[0])\n",
    "axs[0].set_ylabel('casual users')\n",
    "axs[0].set_title('')\n",
    "\n",
    "sns.boxplot(x='hour', y='registered', data=train_df, ax=axs[1])\n",
    "axs[1].set_ylabel('registered users')\n",
    "axs[1].set_title('')"
   ]
  },
  {
   "cell_type": "markdown",
   "metadata": {},
   "source": [
    "Above we can see that registered users have similar trend as count. Whereas, casual users have different trend. Thus, we can say that 'hour' is significant variable and our hypothesis is 'true'.\n",
    "\n",
    "We can notice that there are a lot of outliers while plotting the count of registered and casual users. These values are not generated due to error, so we consider them as natural outliers. They might be a result of groups of people taking up cycling (who are not registered). To treat such outliers, we will use logarithm transformation. Let's look at the similar plot after log transformation."
   ]
  },
  {
   "cell_type": "code",
   "execution_count": 141,
   "metadata": {
    "scrolled": true
   },
   "outputs": [
    {
     "data": {
      "image/png": "[encoded data removed]",
      "text/plain": [
       "<matplotlib.figure.Figure at 0x2aaaa5ca2e8>"
      ]
     },
     "metadata": {},
     "output_type": "display_data"
    }
   ],
   "source": [
    "train_df = train_df.assign(log_count = lambda df : np.log(train_df['count']))\n",
    "\n",
    "fig, ax = plt.subplots(figsize=(18, 5))\n",
    "sns.boxplot(x='hour', y='log_count', data=train_df, ax=ax)\n",
    "ax.set_ylabel('log(count) of Users')\n",
    "ax.set_title(\"Boxplot of Log of Count grouped by hour\")\n",
    "\n",
    "#plt.suptitle(\"\") # get rid of the pandas autogenerated title\n",
    "train_df.drop(['log_count'], axis = 1, inplace=True)"
   ]
  },
  {
   "cell_type": "markdown",
   "metadata": {},
   "source": [
    "**Daily Trend:** Like Hour, we will generate a variable for day from datetime variable and after that we'll plot it."
   ]
  },
  {
   "cell_type": "code",
   "execution_count": 157,
   "metadata": {},
   "outputs": [
    {
     "data": {
      "image/png": "[encoded data removed]",
      "text/plain": [
       "<matplotlib.figure.Figure at 0x2aaadb67470>"
      ]
     },
     "metadata": {},
     "output_type": "display_data"
    }
   ],
   "source": [
    "dayOfWeek={0:'Monday', 1:'Tuesday', 2:'Wednesday', 3:'Thursday', 4:'Friday', 5:'Saturday', 6:'Sunday'}\n",
    "all_df['weekday'] = all_df['dow'].map(dayOfWeek)\n",
    "\n",
    "fig, axs = plt.subplots(1, 2, figsize=(15,5), sharex=False, sharey=False)\n",
    "\n",
    "sns.boxplot(x='weekday', y='registered', data=all_df, ax=axs[0])\n",
    "axs[0].set_ylabel('registered users')\n",
    "axs[0].set_title('')\n",
    "\n",
    "sns.boxplot(x='weekday', y='casual', data=all_df, ax=axs[1])\n",
    "axs[1].set_ylabel('casual users')\n",
    "axs[1].set_title('')\n",
    "\n",
    "all_df.drop('weekday', axis=1, inplace=True)"
   ]
  },
  {
   "cell_type": "markdown",
   "metadata": {},
   "source": [
    "**Rain:** We don’t have the 'rain' variable with us but have 'weather' which is sufficient to test our hypothesis. As per variable description, weather 3 represents light rain and weather 4 represents heavy rain. Take a look at the plot:"
   ]
  },
  {
   "cell_type": "code",
   "execution_count": 154,
   "metadata": {
    "scrolled": false
   },
   "outputs": [
    {
     "data": {
      "text/plain": [
       "<matplotlib.text.Text at 0x2aaac9e5e48>"
      ]
     },
     "execution_count": 154,
     "metadata": {},
     "output_type": "execute_result"
    },
    {
     "data": {
      "image/png": "[encoded data removed]",
      "text/plain": [
       "<matplotlib.figure.Figure at 0x2aaad52fbe0>"
      ]
     },
     "metadata": {},
     "output_type": "display_data"
    }
   ],
   "source": [
    "fig, axs = plt.subplots(1, 2, figsize=(15,5), sharex=False, sharey=False)\n",
    "\n",
    "sns.boxplot(x='weather', y='registered', data=all_df, ax=axs[0])\n",
    "axs[0].set_ylabel('registered users')\n",
    "axs[0].set_title('')\n",
    "\n",
    "sns.boxplot(x='weather', y='casual', data=all_df, ax=axs[1])\n",
    "axs[1].set_ylabel('casual users')\n",
    "axs[1].set_title('')"
   ]
  },
  {
   "cell_type": "markdown",
   "metadata": {},
   "source": [
    "It is clearly satisfying our hypothesis.\n",
    "\n",
    "**Temperature, Windspeed and Humidity:** These are continuous variables so we can look at the correlation factor to validate hypothesis."
   ]
  },
  {
   "cell_type": "code",
   "execution_count": null,
   "metadata": {
    "collapsed": true
   },
   "outputs": [],
   "source": [
    "sub_df = train_df[['registered', 'casual', 'count' ,'temp', 'humidity', 'atemp', 'windspeed']]"
   ]
  },
  {
   "cell_type": "code",
   "execution_count": 161,
   "metadata": {
    "scrolled": true
   },
   "outputs": [
    {
     "data": {
      "text/html": [
       "<div>\n",
       "<style>\n",
       "    .dataframe thead tr:only-child th {\n",
       "        text-align: right;\n",
       "    }\n",
       "\n",
       "    .dataframe thead th {\n",
       "        text-align: left;\n",
       "    }\n",
       "\n",
       "    .dataframe tbody tr th {\n",
       "        vertical-align: top;\n",
       "    }\n",
       "</style>\n",
       "<table border=\"1\" class=\"dataframe\">\n",
       "  <thead>\n",
       "    <tr style=\"text-align: right;\">\n",
       "      <th></th>\n",
       "      <th>registered</th>\n",
       "      <th>casual</th>\n",
       "      <th>count</th>\n",
       "      <th>temp</th>\n",
       "      <th>humidity</th>\n",
       "      <th>atemp</th>\n",
       "      <th>windspeed</th>\n",
       "    </tr>\n",
       "  </thead>\n",
       "  <tbody>\n",
       "    <tr>\n",
       "      <th>registered</th>\n",
       "      <td>1.000000</td>\n",
       "      <td>0.497250</td>\n",
       "      <td>0.970948</td>\n",
       "      <td>0.318571</td>\n",
       "      <td>-0.265458</td>\n",
       "      <td>0.314635</td>\n",
       "      <td>0.091052</td>\n",
       "    </tr>\n",
       "    <tr>\n",
       "      <th>casual</th>\n",
       "      <td>0.497250</td>\n",
       "      <td>1.000000</td>\n",
       "      <td>0.690414</td>\n",
       "      <td>0.467097</td>\n",
       "      <td>-0.348187</td>\n",
       "      <td>0.462067</td>\n",
       "      <td>0.092276</td>\n",
       "    </tr>\n",
       "    <tr>\n",
       "      <th>count</th>\n",
       "      <td>0.970948</td>\n",
       "      <td>0.690414</td>\n",
       "      <td>1.000000</td>\n",
       "      <td>0.394454</td>\n",
       "      <td>-0.317371</td>\n",
       "      <td>0.389784</td>\n",
       "      <td>0.101369</td>\n",
       "    </tr>\n",
       "    <tr>\n",
       "      <th>temp</th>\n",
       "      <td>0.318571</td>\n",
       "      <td>0.467097</td>\n",
       "      <td>0.394454</td>\n",
       "      <td>1.000000</td>\n",
       "      <td>-0.064949</td>\n",
       "      <td>0.984948</td>\n",
       "      <td>-0.017852</td>\n",
       "    </tr>\n",
       "    <tr>\n",
       "      <th>humidity</th>\n",
       "      <td>-0.265458</td>\n",
       "      <td>-0.348187</td>\n",
       "      <td>-0.317371</td>\n",
       "      <td>-0.064949</td>\n",
       "      <td>1.000000</td>\n",
       "      <td>-0.043536</td>\n",
       "      <td>-0.318607</td>\n",
       "    </tr>\n",
       "    <tr>\n",
       "      <th>atemp</th>\n",
       "      <td>0.314635</td>\n",
       "      <td>0.462067</td>\n",
       "      <td>0.389784</td>\n",
       "      <td>0.984948</td>\n",
       "      <td>-0.043536</td>\n",
       "      <td>1.000000</td>\n",
       "      <td>-0.057473</td>\n",
       "    </tr>\n",
       "    <tr>\n",
       "      <th>windspeed</th>\n",
       "      <td>0.091052</td>\n",
       "      <td>0.092276</td>\n",
       "      <td>0.101369</td>\n",
       "      <td>-0.017852</td>\n",
       "      <td>-0.318607</td>\n",
       "      <td>-0.057473</td>\n",
       "      <td>1.000000</td>\n",
       "    </tr>\n",
       "  </tbody>\n",
       "</table>\n",
       "</div>"
      ],
      "text/plain": [
       "            registered    casual     count      temp  humidity     atemp  \\\n",
       "registered    1.000000  0.497250  0.970948  0.318571 -0.265458  0.314635   \n",
       "casual        0.497250  1.000000  0.690414  0.467097 -0.348187  0.462067   \n",
       "count         0.970948  0.690414  1.000000  0.394454 -0.317371  0.389784   \n",
       "temp          0.318571  0.467097  0.394454  1.000000 -0.064949  0.984948   \n",
       "humidity     -0.265458 -0.348187 -0.317371 -0.064949  1.000000 -0.043536   \n",
       "atemp         0.314635  0.462067  0.389784  0.984948 -0.043536  1.000000   \n",
       "windspeed     0.091052  0.092276  0.101369 -0.017852 -0.318607 -0.057473   \n",
       "\n",
       "            windspeed  \n",
       "registered   0.091052  \n",
       "casual       0.092276  \n",
       "count        0.101369  \n",
       "temp        -0.017852  \n",
       "humidity    -0.318607  \n",
       "atemp       -0.057473  \n",
       "windspeed    1.000000  "
      ]
     },
     "execution_count": 161,
     "metadata": {},
     "output_type": "execute_result"
    }
   ],
   "source": [
    "sub_df.corr()"
   ]
  },
  {
   "cell_type": "markdown",
   "metadata": {},
   "source": [
    "Here are a few inferences you can draw by looking at the above histograms:\n",
    "\n",
    "- Variable temp is positively correlated with dependent variables (casual is more compare to registered)\n",
    "- Variable atemp is highly correlated with temp.\n",
    "- Windspeed has lower correlation as compared to temp and humidity\n",
    "\n",
    "**Time:** Let's extract year of each observation from the datetime column and see the trend of bike demand over year."
   ]
  },
  {
   "cell_type": "code",
   "execution_count": 162,
   "metadata": {},
   "outputs": [
    {
     "data": {
      "text/plain": [
       "<matplotlib.text.Text at 0x2aaaf506a90>"
      ]
     },
     "execution_count": 162,
     "metadata": {},
     "output_type": "execute_result"
    },
    {
     "data": {
      "image/png": "[encoded data removed]",
      "text/plain": [
       "<matplotlib.figure.Figure at 0x2aaaf64a630>"
      ]
     },
     "metadata": {},
     "output_type": "display_data"
    }
   ],
   "source": [
    "fig, ax = plt.subplots(figsize=(8, 5))\n",
    "sns.boxplot(x='year', y='count', data=train_df)\n",
    "ax.set_ylabel('Count of Users')\n",
    "ax.set_title(\"Boxplot of Count grouped by year\")\n",
    "#plt.suptitle(\"\") # get rid of the pandas autogenerated title"
   ]
  },
  {
   "cell_type": "markdown",
   "metadata": {},
   "source": [
    "We can see that 2012 has higher bike demand as compared to 2011.\n",
    "\n",
    "**Pollution & Traffic:** We don't have the variable related with these metrics in our data set so we cannot test this hypothesis.\n",
    "\n",
    "### 5. Feature Engineering\n",
    "\n",
    "In addition to existing independent variables, we will create new variables to improve the prediction power of model. Initially, we have generated new variables like hour, month, day and year."
   ]
  },
  {
   "cell_type": "code",
   "execution_count": 24,
   "metadata": {
    "collapsed": true
   },
   "outputs": [],
   "source": [
    "# feature engineer a new column whether its a peak hour or not\n",
    "all_df['peak'] = all_df[['hour', 'workingday']]\\\n",
    "    .apply(lambda df: 1 if ((df['workingday'] == 1 and (df['hour'] == 8 or 17 <= df['hour'] <= 18)) \\\n",
    "                            or (df['workingday'] == 0 and 10 <= df['workingday'] <= 19)) else 0, axis = 1)"
   ]
  },
  {
   "cell_type": "code",
   "execution_count": 25,
   "metadata": {
    "collapsed": true
   },
   "outputs": [],
   "source": [
    "# sandy\n",
    "all_df['holiday'] = all_df[['month', 'day', 'holiday', 'year']]\\\n",
    "    .apply(lambda df: 1 if (df['year'] == 2012 and df['month'] == 10 and (df['day'] in [30])) else 0, axis = 1)\n",
    "\n",
    "# christmas and others\n",
    "all_df['holiday'] = all_df[['month', 'day', 'holiday']]\\\n",
    "    .apply(lambda df: 1 if (df['month'] == 12 and df['day'] in [24, 26, 31]) else df['holiday'], axis = 1)\n",
    "all_df['workingday'] = all_df[['month', 'day', 'workingday']]\\\n",
    "    .apply(lambda df: 0 if df['month'] == 12 and df['day'] in [24, 31] else df['workingday'], axis = 1)"
   ]
  },
  {
   "cell_type": "code",
   "execution_count": 26,
   "metadata": {
    "collapsed": true
   },
   "outputs": [],
   "source": [
    "# from histogram\n",
    "all_df['ideal'] = all_df[['temp', 'windspeed']]\\\n",
    "    .apply(lambda df: 1 if (df['temp'] > 27 and df['windspeed'] < 30) else 0, axis = 1)\n",
    "    \n",
    "all_df['sticky'] = all_df[['humidity', 'workingday']]\\\n",
    "    .apply(lambda df: 1 if (df['workingday'] == 1 and df['humidity'] >= 60) else 0, axis = 1)"
   ]
  },
  {
   "cell_type": "code",
   "execution_count": null,
   "metadata": {
    "collapsed": true
   },
   "outputs": [],
   "source": [
    "def get_rmsle(y_pred, y_actual):\n",
    "    diff = np.log(y_pred + 1) - np.log(y_actual + 1)\n",
    "    mean_error = np.square(diff).mean()\n",
    "    return np.sqrt(mean_error)\n",
    "\n",
    "\n",
    "def get_data():\n",
    "    data = df[df['_data'] == 'train'].copy()\n",
    "    return data\n",
    "\n",
    "\n",
    "def custom_train_test_split(data, cutoff_day=15):\n",
    "    train = data[data['day'] <= cutoff_day]\n",
    "    test = data[data['day'] > cutoff_day]\n",
    "\n",
    "    return train, test\n",
    "\n",
    "\n",
    "def prep_data(data, input_cols):\n",
    "    X = data[input_cols].as_matrix()\n",
    "    y_r = data['registered_log'].as_matrix()\n",
    "    y_c = data['casual_log'].as_matrix()\n",
    "\n",
    "    return X, y_r, y_c\n",
    "\n",
    "\n",
    "def predict_on_validation_set(model, input_cols):\n",
    "    data = get_data()\n",
    "\n",
    "    train, test = custom_train_test_split(data)\n",
    "\n",
    "    X_train, y_train_r, y_train_c = prep_data(train, input_cols)\n",
    "    X_test, y_test_r, y_test_c = prep_data(test, input_cols)\n",
    "\n",
    "    model_r = model.fit(X_train, y_train_r)\n",
    "    y_pred_r = np.exp(model_r.predict(X_test)) - 1\n",
    "\n",
    "    model_c = model.fit(X_train, y_train_c)\n",
    "    y_pred_c = np.exp(model_c.predict(X_test)) - 1\n",
    "\n",
    "    y_pred_comb = np.round(y_pred_r + y_pred_c)\n",
    "    y_pred_comb[y_pred_comb < 0] = 0\n",
    "\n",
    "    y_test_comb = np.exp(y_test_r) + np.exp(y_test_c) - 2\n",
    "\n",
    "    score = get_rmsle(y_pred_comb, y_test_comb)\n",
    "    return (y_pred_comb, y_test_comb, score)\n",
    "\n",
    "df_test = df[df['_data'] == 'test'].copy()\n",
    "\n",
    "# predict on test set & transform output back from log scale\n",
    "def predict_on_test_set(model, x_cols):\n",
    "    # prepare training set\n",
    "    df_train = df[df['_data'] == 'train'].copy()\n",
    "    X_train = df_train[x_cols].as_matrix()\n",
    "    y_train_cas = df_train['casual_log'].as_matrix()\n",
    "    y_train_reg = df_train['registered_log'].as_matrix()\n",
    "\n",
    "    # prepare test set\n",
    "    X_test = df_test[x_cols].as_matrix()\n",
    "\n",
    "    casual_model = model.fit(X_train, y_train_cas)\n",
    "    y_pred_cas = casual_model.predict(X_test)\n",
    "    y_pred_cas = np.exp(y_pred_cas) - 1\n",
    "    registered_model = model.fit(X_train, y_train_reg)\n",
    "    y_pred_reg = registered_model.predict(X_test)\n",
    "    y_pred_reg = np.exp(y_pred_reg) - 1\n",
    "    # add casual & registered predictions together\n",
    "    return y_pred_cas + y_pred_reg"
   ]
  },
  {
   "cell_type": "code",
   "execution_count": null,
   "metadata": {
    "collapsed": true
   },
   "outputs": [],
   "source": [
    "params = {'n_estimators': 1000, 'max_depth': 15, 'random_state': 0, 'min_samples_split' : 5, 'n_jobs': -1}\n",
    "rf_model = RandomForestRegressor(**params)\n",
    "rf_cols = [\n",
    "    'weather', 'temp', 'atemp', 'windspeed',\n",
    "    'workingday', 'season', 'holiday', 'sticky',\n",
    "    'hour', 'dow', 'woy', 'peak'\n",
    "    ]\n",
    "\n",
    "(rf_p, rf_t, rf_score) = predict_on_validation_set(rf_model, rf_cols)\n",
    "print rf_score"
   ]
  },
  {
   "cell_type": "code",
   "execution_count": null,
   "metadata": {
    "collapsed": true
   },
   "outputs": [],
   "source": [
    "df[rf_cols].corr()"
   ]
  },
  {
   "cell_type": "code",
   "execution_count": null,
   "metadata": {
    "collapsed": true
   },
   "outputs": [],
   "source": [
    "params = {'n_estimators': 150, 'max_depth': 5, 'random_state': 0, 'min_samples_leaf' : 10, 'learning_rate': 0.1, 'subsample': 0.7, 'loss': 'ls'}\n",
    "gbm_model = GradientBoostingRegressor(**params)\n",
    "gbm_cols = [\n",
    "    'weather', 'temp', 'atemp', 'humidity', 'windspeed',\n",
    "    'holiday', 'workingday', 'season',\n",
    "    'hour', 'dow', 'year', 'ideal', 'count_season',\n",
    "]\n",
    "\n",
    "(gbm_p, gbm_t, gbm_score) = predict_on_validation_set(gbm_model, gbm_cols)\n",
    "print gbm_score"
   ]
  },
  {
   "cell_type": "code",
   "execution_count": null,
   "metadata": {
    "collapsed": true
   },
   "outputs": [],
   "source": [
    "df[gbm_cols].corr()"
   ]
  },
  {
   "cell_type": "code",
   "execution_count": null,
   "metadata": {
    "collapsed": true
   },
   "outputs": [],
   "source": [
    "# the blend gives a better score on the leaderboard, even though it does not on the validation set\n",
    "y_p = np.round(.2*rf_p + .8*gbm_p)\n",
    "print get_rmsle(y_p, rf_t)"
   ]
  },
  {
   "cell_type": "code",
   "execution_count": null,
   "metadata": {
    "collapsed": true
   },
   "outputs": [],
   "source": [
    "rf_pred = predict_on_test_set(rf_model, rf_cols)\n",
    "gbm_pred = predict_on_test_set(gbm_model, gbm_cols)\n",
    "y_pred = np.round(.2*rf_pred + .8*gbm_pred)\n",
    "# output predictions for submission\n",
    "df_test['count'] = y_pred\n",
    "final_df = df_test[['datetime', 'count']].copy()\n",
    "final_df.to_csv('../output/submit.csv', index=False)"
   ]
  }
 ],
 "metadata": {
  "kernelspec": {
   "display_name": "Python 3",
   "language": "python",
   "name": "python3"
  },
  "language_info": {
   "codemirror_mode": {
    "name": "ipython",
    "version": 3
   },
   "file_extension": ".py",
   "mimetype": "text/x-python",
   "name": "python",
   "nbconvert_exporter": "python",
   "pygments_lexer": "ipython3",
   "version": "3.5.3"
  }
 },
 "nbformat": 4,
 "nbformat_minor": 2
}
