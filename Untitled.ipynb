{
 "cells": [
  {
   "cell_type": "code",
   "execution_count": 7,
   "metadata": {
    "collapsed": true
   },
   "outputs": [],
   "source": [
    "import numpy as np\n",
    "import pandas as pd\n",
    "\n",
    "from keras.layers import RepeatVector\n",
    "from keras.layers.core import Dropout, Dense, Activation\n",
    "from keras.layers.recurrent import LSTM\n",
    "from keras.models import Sequential\n",
    "\n",
    "import matplotlib.pyplot as plt\n",
    "%matplotlib inline"
   ]
  },
  {
   "cell_type": "code",
   "execution_count": 47,
   "metadata": {
    "collapsed": true
   },
   "outputs": [],
   "source": [
    "input_length = 5\n",
    "input_dim = 1#3\n",
    "\n",
    "output_length = 5#3\n",
    "output_dim = 1#4\n",
    "\n",
    "samples = 10\n",
    "hidden_dim = 24"
   ]
  },
  {
   "cell_type": "code",
   "execution_count": 48,
   "metadata": {
    "collapsed": true
   },
   "outputs": [],
   "source": [
    "x = np.random.random((samples, input_length, input_dim))\n",
    "y = np.random.random((samples, output_length, output_dim))"
   ]
  },
  {
   "cell_type": "code",
   "execution_count": 52,
   "metadata": {
    "collapsed": true
   },
   "outputs": [],
   "source": [
    "# Based on Philip Jeremy's implementation\n",
    "m = Sequential()\n",
    "m.add(LSTM(units=2 * hidden_dim, input_shape=(input_length, input_dim), return_sequences=True))\n",
    "m.add(Dropout(rate=0.1))\n",
    "m.add(LSTM(units=hidden_dim, return_sequences=True))\n",
    "m.add(Dropout(rate=0.1))\n",
    "m.add(LSTM(units=2 * hidden_dim, return_sequences=True))\n",
    "m.add(Dropout(rate=0.1))\n",
    "m.add(Dense(1,activation='linear'))\n",
    "m.compile(loss='mse', optimizer='adam')"
   ]
  },
  {
   "cell_type": "code",
   "execution_count": 53,
   "metadata": {},
   "outputs": [
    {
     "name": "stdout",
     "output_type": "stream",
     "text": [
      "_________________________________________________________________\n",
      "Layer (type)                 Output Shape              Param #   \n",
      "=================================================================\n",
      "lstm_41 (LSTM)               (None, 5, 48)             9600      \n",
      "_________________________________________________________________\n",
      "dropout_40 (Dropout)         (None, 5, 48)             0         \n",
      "_________________________________________________________________\n",
      "lstm_42 (LSTM)               (None, 5, 24)             7008      \n",
      "_________________________________________________________________\n",
      "dropout_41 (Dropout)         (None, 5, 24)             0         \n",
      "_________________________________________________________________\n",
      "lstm_43 (LSTM)               (None, 5, 48)             14016     \n",
      "_________________________________________________________________\n",
      "dropout_42 (Dropout)         (None, 5, 48)             0         \n",
      "_________________________________________________________________\n",
      "dense_13 (Dense)             (None, 5, 1)              49        \n",
      "=================================================================\n",
      "Total params: 30,673\n",
      "Trainable params: 30,673\n",
      "Non-trainable params: 0\n",
      "_________________________________________________________________\n"
     ]
    }
   ],
   "source": [
    "m.summary()"
   ]
  },
  {
   "cell_type": "code",
   "execution_count": 54,
   "metadata": {},
   "outputs": [
    {
     "name": "stdout",
     "output_type": "stream",
     "text": [
      "Epoch 1/2\n",
      "10/10 [==============================] - 2s - loss: 0.3766\n",
      "Epoch 2/2\n",
      "10/10 [==============================] - 3s - loss: 0.3689\n"
     ]
    },
    {
     "data": {
      "text/plain": [
       "<keras.callbacks.History at 0x1aca6d72898>"
      ]
     },
     "execution_count": 54,
     "metadata": {},
     "output_type": "execute_result"
    }
   ],
   "source": [
    "m.fit(x,y, epochs=2)"
   ]
  },
  {
   "cell_type": "code",
   "execution_count": null,
   "metadata": {
    "collapsed": true
   },
   "outputs": [],
   "source": []
  }
 ],
 "metadata": {
  "kernelspec": {
   "display_name": "Python 3",
   "language": "python",
   "name": "python3"
  },
  "language_info": {
   "codemirror_mode": {
    "name": "ipython",
    "version": 3
   },
   "file_extension": ".py",
   "mimetype": "text/x-python",
   "name": "python",
   "nbconvert_exporter": "python",
   "pygments_lexer": "ipython3",
   "version": "3.5.3"
  }
 },
 "nbformat": 4,
 "nbformat_minor": 2
}
