{
 "cells": [
  {
   "cell_type": "markdown",
   "metadata": {},
   "source": [
    "# Chapter 5: Word Embeddings"
   ]
  },
  {
   "cell_type": "markdown",
   "metadata": {},
   "source": [
    "## Using pre-trained embeddings\n",
    "\n",
    "In general, you will train your own word2vec or GloVe model from scratch only if you have a very large amount of very specialized text. By far the most common use case for Embeddings is to use pre-trained embeddings in some way in your network. The three main ways in which you would use embeddings in your network are as follows:\n",
    "- Learn embeddings from scratch \n",
    "- Fine-tune learned embeddings from pre-trained GloVe/word2vec models \n",
    "- Look up embeddings from pre-trained GloVe/word2vec models \n",
    "\n",
    "In the first option, the embedding weights are initialized to small random values and trained using backpropagation. You saw this in the examples for skip-gram and CBOW models in Keras. This is the default mode when you use a Keras Embedding layer in your network.\n",
    "\n",
    "In the second option, you build a weight matrix from a pre-trained model and initialize the weights of your embedding layer with this weight matrix. The network will update these weights using backpropagation, but the model will converge faster because of good starting weights.\n",
    "\n",
    "The third option is to look up word embeddings from a pre-trained model, and transform your input to embedded vectors. You can then train any machine learning model (that is, not necessarily even a deep learning network) on the transformed data. If the pre-trained model is trained on a similar domain as the target domain, this usually works very well and is the least expensive option.\n",
    "\n",
    "For general use with English language text, you can use Google's word2vec model trained over 10 billion words from the Google news dataset. The vocabulary size is about 3 million words and the dimensionality of the embedding is 300. The Google news model (about 1.5 GB) can be downloaded from here: https://drive.google.com/file/d/0B7XkCwpI5KDYNl NUTTlSS21pQmM/edit?usp=sharing.\n",
    "\n",
    "Similarly, a pre-trained model trained on 6 billion tokens from English Wikipedia and the gigaword corpus can be downloaded from the GloVe site. The vocabulary size is about 400,000 words and the download provides vectors with dimensions 50, 100, 200, and 300. The model size is about 822 MB. Here is the direct download URL (http://nlp.stanford. edu/data/glove.6B.zip) for this model. Larger models based on the Common Crawl and Twitter are also available from the same location.\n",
    "\n",
    "In the following sections, we will look at how to use these pre-trained models in the three ways listed."
   ]
  },
  {
   "cell_type": "markdown",
   "metadata": {},
   "source": [
    "### Learn embeddings from scratch\n",
    "\n",
    "In this example, we will train a one-dimensional **convolutional neural network (CNN)** to classify sentences as either positive or negative. You have already seen how to classify images using two-dimensional CNNs in `*Chapter 3, Deep Learning with ConvNets*`. Recall that CNNs exploit spatial structure in images by enforcing local connectivity between neurons of adjacent layers.\n",
    "\n",
    "Words in sentences exhibit linear structure in the same way as images exhibit spatial structure. Traditional (non-deep learning) NLP approaches to language modeling involve creating word *n*-grams (https://en.wikipedia.org/wiki/N-gram) to exploit this linear structure inherent among words. One-dimensional CNNs do something similar, learning convolution filters that operate on sentences a few words at a time, and max pooling the results to create a vector that represents the most important ideas in the sentence.\n",
    "\n",
    "There is another class of neural network, called **recurrent neural network (RNN)**, which is specially designed to handle sequence data, including text, which is a sequence of words. The processing in RNNs is different from that in a CNN. We will learn about RNNs in a future chapter.\n",
    "\n",
    "In our example network, the input text is converted to a sequence of word indices. Note that we have used the natural language toolkit (NLTK) to parse the text into sentences and words. We could also have used regular expressions to do this, but the statistical models supplied by NLTK are more powerful at parsing than regular expressions. If you are working with word embeddings, it is very likely that you are also working with NLP, in which case you would have NLTK installed already.\n",
    "\n",
    "This link (http://www.nltk.org/install.html) has information to help you install NLTK on your machine. You will also need to install NLTK data, which is some trained corpora that comes standard with NLTK. Installation instructions for NLTK data are available here: http://www.nl tk.org/data.html.\n",
    "\n",
    "The sequence of word indices is fed into an array of embedding layers of a set size (in our case, the number of words in the longest sentence). The embedding layer is initialized by default to random values. The output of the embedding layer is connected to a 1D convolutional layer that convolves (in our example) word trigrams in 256 different ways (essentially, it applies different learned linear combinations of weights on the word embeddings). These features are then pooled into a single pooled word by a global max pooling layer. This vector (256) is then input to a dense layer, which outputs a vector (2). A softmax activation will return a pair of probabilities, one corresponding to positive sentiment and another corresponding to negative sentiment. The network is shown in the following figure:"
   ]
  },
  {
   "cell_type": "markdown",
   "metadata": {},
   "source": [
    "<img src=\"./images/learn_embeddings_from_scratch.png\" alt=\"Drawing\" style=\"width: 400px;\"/>"
   ]
  },
  {
   "cell_type": "markdown",
   "metadata": {},
   "source": [
    "Let us look at how to code this up using Keras. First we declare our imports. Right after the constants, you will notice that I set the `random.seed` value to `42`. This is because we want consistent results between runs. Since the initializations of the weight matrices are random, differences in initialization can lead to differences in output, so this is a way to control that:"
   ]
  },
  {
   "cell_type": "code",
   "execution_count": 1,
   "metadata": {},
   "outputs": [
    {
     "name": "stderr",
     "output_type": "stream",
     "text": [
      "Using TensorFlow backend.\n"
     ]
    }
   ],
   "source": [
    "import numpy as np\n",
    "import pandas as pd\n",
    "\n",
    "import collections\n",
    "\n",
    "import re, nltk\n",
    "\n",
    "from keras.layers.core import Dense, Dropout, SpatialDropout1D\n",
    "from keras.layers.convolutional import Conv1D\n",
    "from keras.layers.embeddings import Embedding\n",
    "from keras.layers.pooling import GlobalMaxPooling1D\n",
    "from keras.models import Sequential\n",
    "from keras.preprocessing.sequence import pad_sequences\n",
    "from keras.utils import np_utils\n",
    "\n",
    "from sklearn.model_selection import train_test_split\n",
    "\n",
    "# Visualization\n",
    "import seaborn as sns\n",
    "\n",
    "# this allows plots to appear directly in the notebook\n",
    "import matplotlib.pyplot as plt"
   ]
  },
  {
   "cell_type": "code",
   "execution_count": 2,
   "metadata": {},
   "outputs": [
    {
     "data": {
      "text/plain": [
       "'/device:GPU:0'"
      ]
     },
     "execution_count": 2,
     "metadata": {},
     "output_type": "execute_result"
    }
   ],
   "source": [
    "import tensorflow as tf\n",
    "tf.test.gpu_device_name()"
   ]
  },
  {
   "cell_type": "code",
   "execution_count": 3,
   "metadata": {},
   "outputs": [],
   "source": [
    "%matplotlib inline\n",
    "%config InlineBackend.figure_format = 'retina'"
   ]
  },
  {
   "cell_type": "code",
   "execution_count": 4,
   "metadata": {},
   "outputs": [],
   "source": [
    "pd.set_option(\"display.max_colwidth\", 500)"
   ]
  },
  {
   "cell_type": "code",
   "execution_count": 5,
   "metadata": {},
   "outputs": [],
   "source": [
    "np.random.seed(42)\n",
    "random_state = 42"
   ]
  },
  {
   "cell_type": "code",
   "execution_count": 6,
   "metadata": {},
   "outputs": [],
   "source": [
    "train_df  = pd.read_table('data/UMICH_SI650_train_data.txt', names=['sentiment', 'comment'], header=None, delimiter=\"\\t\", quoting=3)\n",
    "test_df  = pd.read_table('data/UMICH_SI650_test_data.txt', names=['comment'], header=None, delimiter=\"\\t\", quoting=3)"
   ]
  },
  {
   "cell_type": "code",
   "execution_count": 7,
   "metadata": {},
   "outputs": [
    {
     "data": {
      "text/html": [
       "<div>\n",
       "<style scoped>\n",
       "    .dataframe tbody tr th:only-of-type {\n",
       "        vertical-align: middle;\n",
       "    }\n",
       "\n",
       "    .dataframe tbody tr th {\n",
       "        vertical-align: top;\n",
       "    }\n",
       "\n",
       "    .dataframe thead th {\n",
       "        text-align: right;\n",
       "    }\n",
       "</style>\n",
       "<table border=\"1\" class=\"dataframe\">\n",
       "  <thead>\n",
       "    <tr style=\"text-align: right;\">\n",
       "      <th></th>\n",
       "      <th>sentiment</th>\n",
       "      <th>comment</th>\n",
       "    </tr>\n",
       "  </thead>\n",
       "  <tbody>\n",
       "    <tr>\n",
       "      <th>0</th>\n",
       "      <td>1</td>\n",
       "      <td>The Da Vinci Code book is just awesome.</td>\n",
       "    </tr>\n",
       "    <tr>\n",
       "      <th>1</th>\n",
       "      <td>1</td>\n",
       "      <td>this was the first clive cussler i've ever read, but even books like Relic, and Da Vinci code were more plausible than this.</td>\n",
       "    </tr>\n",
       "    <tr>\n",
       "      <th>2</th>\n",
       "      <td>1</td>\n",
       "      <td>i liked the Da Vinci Code a lot.</td>\n",
       "    </tr>\n",
       "    <tr>\n",
       "      <th>3</th>\n",
       "      <td>1</td>\n",
       "      <td>i liked the Da Vinci Code a lot.</td>\n",
       "    </tr>\n",
       "    <tr>\n",
       "      <th>4</th>\n",
       "      <td>1</td>\n",
       "      <td>I liked the Da Vinci Code but it ultimatly didn't seem to hold it's own.</td>\n",
       "    </tr>\n",
       "  </tbody>\n",
       "</table>\n",
       "</div>"
      ],
      "text/plain": [
       "   sentiment  \\\n",
       "0          1   \n",
       "1          1   \n",
       "2          1   \n",
       "3          1   \n",
       "4          1   \n",
       "\n",
       "                                                                                                                        comment  \n",
       "0                                                                                       The Da Vinci Code book is just awesome.  \n",
       "1  this was the first clive cussler i've ever read, but even books like Relic, and Da Vinci code were more plausible than this.  \n",
       "2                                                                                              i liked the Da Vinci Code a lot.  \n",
       "3                                                                                              i liked the Da Vinci Code a lot.  \n",
       "4                                                      I liked the Da Vinci Code but it ultimatly didn't seem to hold it's own.  "
      ]
     },
     "execution_count": 7,
     "metadata": {},
     "output_type": "execute_result"
    }
   ],
   "source": [
    "train_df.head(5)"
   ]
  },
  {
   "cell_type": "code",
   "execution_count": 8,
   "metadata": {},
   "outputs": [
    {
     "data": {
      "text/html": [
       "<div>\n",
       "<style scoped>\n",
       "    .dataframe tbody tr th:only-of-type {\n",
       "        vertical-align: middle;\n",
       "    }\n",
       "\n",
       "    .dataframe tbody tr th {\n",
       "        vertical-align: top;\n",
       "    }\n",
       "\n",
       "    .dataframe thead th {\n",
       "        text-align: right;\n",
       "    }\n",
       "</style>\n",
       "<table border=\"1\" class=\"dataframe\">\n",
       "  <thead>\n",
       "    <tr style=\"text-align: right;\">\n",
       "      <th></th>\n",
       "      <th>comment</th>\n",
       "    </tr>\n",
       "  </thead>\n",
       "  <tbody>\n",
       "    <tr>\n",
       "      <th>0</th>\n",
       "      <td>\" I don't care what anyone says, I like Hillary Clinton.</td>\n",
       "    </tr>\n",
       "    <tr>\n",
       "      <th>1</th>\n",
       "      <td>have an awesome time at purdue!..</td>\n",
       "    </tr>\n",
       "    <tr>\n",
       "      <th>2</th>\n",
       "      <td>Yep, I'm still in London, which is pretty awesome: P Remind me to post the million and one pictures that I took when I get back to Markham!...</td>\n",
       "    </tr>\n",
       "    <tr>\n",
       "      <th>3</th>\n",
       "      <td>Have to say, I hate Paris Hilton's behavior but I do think she's kinda cute..</td>\n",
       "    </tr>\n",
       "    <tr>\n",
       "      <th>4</th>\n",
       "      <td>i will love the lakers.</td>\n",
       "    </tr>\n",
       "  </tbody>\n",
       "</table>\n",
       "</div>"
      ],
      "text/plain": [
       "                                                                                                                                          comment\n",
       "0                                                                                        \" I don't care what anyone says, I like Hillary Clinton.\n",
       "1                                                                                                               have an awesome time at purdue!..\n",
       "2  Yep, I'm still in London, which is pretty awesome: P Remind me to post the million and one pictures that I took when I get back to Markham!...\n",
       "3                                                                   Have to say, I hate Paris Hilton's behavior but I do think she's kinda cute..\n",
       "4                                                                                                                         i will love the lakers."
      ]
     },
     "execution_count": 8,
     "metadata": {},
     "output_type": "execute_result"
    }
   ],
   "source": [
    "test_df.head(5)"
   ]
  },
  {
   "cell_type": "code",
   "execution_count": 9,
   "metadata": {},
   "outputs": [
    {
     "data": {
      "text/plain": [
       "1    3995\n",
       "0    3091\n",
       "Name: sentiment, dtype: int64"
      ]
     },
     "execution_count": 9,
     "metadata": {},
     "output_type": "execute_result"
    }
   ],
   "source": [
    "# Inspect how many are positive and negative sentiments\n",
    "train_df.sentiment.value_counts()"
   ]
  },
  {
   "cell_type": "code",
   "execution_count": 10,
   "metadata": {},
   "outputs": [
    {
     "data": {
      "image/png": "[encoded data removed]",
      "text/plain": [
       "<matplotlib.figure.Figure at 0x7fcbbb4c5c50>"
      ]
     },
     "metadata": {
      "image/png": {
       "height": 263,
       "width": 377
      }
     },
     "output_type": "display_data"
    }
   ],
   "source": [
    "sns.countplot(y='sentiment', data=train_df);"
   ]
  },
  {
   "cell_type": "code",
   "execution_count": 11,
   "metadata": {},
   "outputs": [
    {
     "data": {
      "text/plain": [
       "7086"
      ]
     },
     "execution_count": 11,
     "metadata": {},
     "output_type": "execute_result"
    }
   ],
   "source": [
    "# How many records in all in the training set\n",
    "len(train_df)"
   ]
  },
  {
   "cell_type": "markdown",
   "metadata": {},
   "source": [
    "We declare our constants. For all subsequent examples in this chapter, we will classify sentences from the UMICH SI650 sentiment classification competition on Kaggle. The dataset has around 7,000 sentences, and is labeled `1` for positive and `0` for negative. The `INPUT_FILE` defines the path to this file of sentences and labels. The format of the file is a sentiment label (0 or 1) followed by a tab, followed by a sentence.\n",
    "\n",
    "The `VOCAB_SIZE` setting indicates that we will consider only the top 5,000 tokens in the text. The `EMBED_SIZE` setting is the size of the embedding that will be generated by the embedding layer in the network. `NUM_FILTERS` is the number of convolution filters we will train for our convolution layer, and `NUM_WORDS` is the size of each filter, that is, how many words we will convolve at a time. The `BATCH_SIZE` and `NUM_EPOCHS` is the number of records to feed the network each time and how many times we will run through the entire dataset during training:"
   ]
  },
  {
   "cell_type": "code",
   "execution_count": 12,
   "metadata": {},
   "outputs": [],
   "source": [
    "INPUT_FILE  = \"data/UMICH_SI650_train_data.txt\"\n",
    "VOCAB_SIZE  = 5000\n",
    "EMBED_SIZE  = 100\n",
    "NUM_FILTERS = 256\n",
    "NUM_WORDS   = 3\n",
    "BATCH_SIZE  = 64\n",
    "NUM_EPOCHS  = 20"
   ]
  },
  {
   "cell_type": "markdown",
   "metadata": {},
   "source": [
    "In the next block, we first read our input sentences and construct our vocabulary out of the most frequent words in the corpus. We then use this vocabulary to convert our input sentences into a list of word indices:"
   ]
  },
  {
   "cell_type": "code",
   "execution_count": 13,
   "metadata": {},
   "outputs": [],
   "source": [
    "counter = collections.Counter()\n",
    "with open(file=INPUT_FILE, mode='r', encoding='utf-8') as fin:\n",
    "    maxlen = 0\n",
    "    stop_words = set(nltk.corpus.stopwords.words('english'))\n",
    "    for line in fin:\n",
    "        label, sentence = line.strip().split('\\t')\n",
    "        sentence = re.sub(\"[^a-zA-Z]\", \" \", sentence)\n",
    "        words = [token.lower() for token in nltk.word_tokenize(sentence) if not token.lower() in stop_words]\n",
    "        if len(words) > maxlen:\n",
    "            maxlen = len(words)\n",
    "        for word in words:\n",
    "            counter[word] += 1"
   ]
  },
  {
   "cell_type": "code",
   "execution_count": 14,
   "metadata": {},
   "outputs": [],
   "source": [
    "word2index = collections.defaultdict(int)\n",
    "for wid, word in enumerate(counter.most_common(VOCAB_SIZE)):\n",
    "    word2index[word[0]] = wid + 1\n",
    "vocab_sz = len(word2index) + 1\n",
    "index2word = {v:k for k, v in word2index.items()}"
   ]
  },
  {
   "cell_type": "markdown",
   "metadata": {},
   "source": [
    "We pad each of our sentences to predetermined length `maxlen` (in this case the number of words in the longest sentence in the training set). We also convert our labels to categorical format using a Keras utility function. The last two steps are a standard workflow for handling text input that we will see again and again:"
   ]
  },
  {
   "cell_type": "code",
   "execution_count": 15,
   "metadata": {},
   "outputs": [],
   "source": [
    "xs, ys = [], []\n",
    "with open(file=INPUT_FILE, mode='r', encoding='utf-8') as fin:\n",
    "    stop_words = set(nltk.corpus.stopwords.words('english'))\n",
    "    for line in fin:\n",
    "        label, sentence = line.strip().split('\\t')\n",
    "        sentence = re.sub(\"[^a-zA-Z]\", \" \", sentence)\n",
    "        ys.append(int(label))\n",
    "        words = [token.lower() for token in nltk.word_tokenize(sentence) if not token.lower() in stop_words]\n",
    "        wids = [word2index[word] for word in words]\n",
    "        xs.append(wids)"
   ]
  },
  {
   "cell_type": "code",
   "execution_count": 16,
   "metadata": {},
   "outputs": [],
   "source": [
    "X = pad_sequences(xs, maxlen=maxlen)\n",
    "y = np_utils.to_categorical(ys)"
   ]
  },
  {
   "cell_type": "markdown",
   "metadata": {},
   "source": [
    "Finally, we split up our data into a 70/30 training and test set. The data is now in a form ready to be fed into the network:"
   ]
  },
  {
   "cell_type": "code",
   "execution_count": 17,
   "metadata": {},
   "outputs": [],
   "source": [
    "X_train, X_valid, y_train, y_valid = train_test_split(X, y, test_size=0.3, random_state=random_state)"
   ]
  },
  {
   "cell_type": "markdown",
   "metadata": {},
   "source": [
    "We define the network that we described earlier in this section:"
   ]
  },
  {
   "cell_type": "code",
   "execution_count": 18,
   "metadata": {},
   "outputs": [],
   "source": [
    "def create_model(initial_weights=None, trainable=True):\n",
    "    model = Sequential()\n",
    "    model.add(Embedding(input_dim=vocab_sz, \n",
    "                    output_dim=EMBED_SIZE, \n",
    "                    input_length=maxlen, \n",
    "                    weights=initial_weights,\n",
    "                    trainable=trainable))\n",
    "    model.add(SpatialDropout1D(0.2))\n",
    "    model.add(Conv1D(filters=NUM_FILTERS, kernel_size=NUM_WORDS, activation='relu'))\n",
    "    model.add(GlobalMaxPooling1D())\n",
    "    model.add(Dense(2, activation='softmax'))\n",
    "    return model"
   ]
  },
  {
   "cell_type": "code",
   "execution_count": 19,
   "metadata": {},
   "outputs": [],
   "source": [
    "model = create_model()"
   ]
  },
  {
   "cell_type": "code",
   "execution_count": 20,
   "metadata": {},
   "outputs": [
    {
     "name": "stdout",
     "output_type": "stream",
     "text": [
      "_________________________________________________________________\n",
      "Layer (type)                 Output Shape              Param #   \n",
      "=================================================================\n",
      "embedding_1 (Embedding)      (None, 22, 100)           199400    \n",
      "_________________________________________________________________\n",
      "spatial_dropout1d_1 (Spatial (None, 22, 100)           0         \n",
      "_________________________________________________________________\n",
      "conv1d_1 (Conv1D)            (None, 20, 256)           77056     \n",
      "_________________________________________________________________\n",
      "global_max_pooling1d_1 (Glob (None, 256)               0         \n",
      "_________________________________________________________________\n",
      "dense_1 (Dense)              (None, 2)                 514       \n",
      "=================================================================\n",
      "Total params: 276,970\n",
      "Trainable params: 276,970\n",
      "Non-trainable params: 0\n",
      "_________________________________________________________________\n",
      "None\n"
     ]
    }
   ],
   "source": [
    "# summarize the model\n",
    "print(model.summary())"
   ]
  },
  {
   "cell_type": "code",
   "execution_count": 21,
   "metadata": {},
   "outputs": [],
   "source": [
    "# plot graph\n",
    "import pydot_ng\n",
    "from keras.utils import plot_model\n",
    "plot_model(model, to_file='images/model_learn_embeddings_from_scratch.png', show_shapes=True, show_layer_names=True)"
   ]
  },
  {
   "cell_type": "code",
   "execution_count": 22,
   "metadata": {},
   "outputs": [
    {
     "data": {
      "image/png": "[encoded data removed]",
      "text/plain": [
       "<IPython.core.display.Image object>"
      ]
     },
     "execution_count": 22,
     "metadata": {},
     "output_type": "execute_result"
    }
   ],
   "source": [
    "from IPython.display import Image\n",
    "Image(filename='images/model_learn_embeddings_from_scratch.png')"
   ]
  },
  {
   "cell_type": "markdown",
   "metadata": {},
   "source": [
    "We then compile the model. Since our target is binary (positive or negative) we choose `categorical_crossentropy` as our loss function. For the optimizer, we choose `adam`. We then train the model using our training set, using a batch size of 64 and training for 20 epochs:"
   ]
  },
  {
   "cell_type": "code",
   "execution_count": 23,
   "metadata": {},
   "outputs": [],
   "source": [
    "model.compile(loss='categorical_crossentropy', optimizer='adam', metrics=['accuracy'])"
   ]
  },
  {
   "cell_type": "code",
   "execution_count": 24,
   "metadata": {},
   "outputs": [
    {
     "name": "stdout",
     "output_type": "stream",
     "text": [
      "Train on 4960 samples, validate on 2126 samples\n",
      "Epoch 1/20\n",
      "4960/4960 [==============================] - 2s 347us/step - loss: 0.2686 - acc: 0.9060 - val_loss: 0.0292 - val_acc: 0.9901\n",
      "Epoch 2/20\n",
      "4960/4960 [==============================] - 1s 104us/step - loss: 0.0132 - acc: 0.9956 - val_loss: 0.0158 - val_acc: 0.9958\n",
      "Epoch 3/20\n",
      "4960/4960 [==============================] - 1s 104us/step - loss: 0.0038 - acc: 0.9994 - val_loss: 0.0137 - val_acc: 0.9953\n",
      "Epoch 4/20\n",
      "4960/4960 [==============================] - 1s 102us/step - loss: 0.0019 - acc: 0.9996 - val_loss: 0.0137 - val_acc: 0.9958\n",
      "Epoch 5/20\n",
      "4960/4960 [==============================] - 1s 103us/step - loss: 0.0014 - acc: 0.9996 - val_loss: 0.0123 - val_acc: 0.9948\n",
      "Epoch 6/20\n",
      "4960/4960 [==============================] - 1s 103us/step - loss: 9.7091e-04 - acc: 0.9998 - val_loss: 0.0119 - val_acc: 0.9948\n",
      "Epoch 7/20\n",
      "4960/4960 [==============================] - 1s 103us/step - loss: 0.0011 - acc: 0.9998 - val_loss: 0.0133 - val_acc: 0.9953\n",
      "Epoch 8/20\n",
      "4960/4960 [==============================] - 1s 103us/step - loss: 0.0013 - acc: 0.9996 - val_loss: 0.0135 - val_acc: 0.9958\n",
      "Epoch 9/20\n",
      "4960/4960 [==============================] - 1s 103us/step - loss: 0.0013 - acc: 0.9996 - val_loss: 0.0127 - val_acc: 0.9953\n",
      "Epoch 10/20\n",
      "4960/4960 [==============================] - 1s 104us/step - loss: 7.2025e-04 - acc: 0.9998 - val_loss: 0.0127 - val_acc: 0.9948\n",
      "Epoch 11/20\n",
      "4960/4960 [==============================] - 1s 104us/step - loss: 9.8979e-04 - acc: 0.9998 - val_loss: 0.0139 - val_acc: 0.9948\n",
      "Epoch 12/20\n",
      "4960/4960 [==============================] - 1s 104us/step - loss: 7.0091e-04 - acc: 0.9998 - val_loss: 0.0125 - val_acc: 0.9948\n",
      "Epoch 13/20\n",
      "4960/4960 [==============================] - 1s 103us/step - loss: 0.0011 - acc: 0.9996 - val_loss: 0.0126 - val_acc: 0.9948\n",
      "Epoch 14/20\n",
      "4960/4960 [==============================] - 1s 103us/step - loss: 0.0014 - acc: 0.9996 - val_loss: 0.0135 - val_acc: 0.9944\n",
      "Epoch 15/20\n",
      "4960/4960 [==============================] - 1s 102us/step - loss: 7.4825e-04 - acc: 0.9998 - val_loss: 0.0134 - val_acc: 0.9944\n",
      "Epoch 16/20\n",
      "4960/4960 [==============================] - 1s 103us/step - loss: 8.5356e-04 - acc: 0.9998 - val_loss: 0.0144 - val_acc: 0.9953\n",
      "Epoch 17/20\n",
      "4960/4960 [==============================] - 1s 102us/step - loss: 8.3001e-04 - acc: 0.9998 - val_loss: 0.0125 - val_acc: 0.9948\n",
      "Epoch 18/20\n",
      "4960/4960 [==============================] - 1s 103us/step - loss: 9.1274e-04 - acc: 0.9998 - val_loss: 0.0135 - val_acc: 0.9953\n",
      "Epoch 19/20\n",
      "4960/4960 [==============================] - 1s 102us/step - loss: 6.1839e-04 - acc: 0.9998 - val_loss: 0.0127 - val_acc: 0.9948\n",
      "Epoch 20/20\n",
      "4960/4960 [==============================] - 1s 104us/step - loss: 5.7554e-04 - acc: 0.9998 - val_loss: 0.0143 - val_acc: 0.9962\n"
     ]
    }
   ],
   "source": [
    "history = model.fit(X_train, y_train, \n",
    "                    batch_size=BATCH_SIZE, \n",
    "                    epochs=NUM_EPOCHS, \n",
    "                    validation_data=(X_valid, y_valid), \n",
    "                    shuffle=True)"
   ]
  },
  {
   "cell_type": "code",
   "execution_count": 25,
   "metadata": {},
   "outputs": [
    {
     "data": {
      "image/png": "[encoded data removed]",
      "text/plain": [
       "<matplotlib.figure.Figure at 0x7fcbb531da90>"
      ]
     },
     "metadata": {
      "image/png": {
       "height": 279,
       "width": 422
      }
     },
     "output_type": "display_data"
    }
   ],
   "source": [
    "# plot loss function\n",
    "plt.subplot(211)\n",
    "plt.title(\"accuracy\")\n",
    "plt.plot(history.history[\"acc\"], color=\"r\", label=\"train\")\n",
    "plt.plot(history.history[\"val_acc\"], color=\"b\", label=\"validation\")\n",
    "plt.legend(loc=\"best\")\n",
    "\n",
    "plt.subplot(212)\n",
    "plt.title(\"loss\")\n",
    "plt.plot(history.history[\"loss\"], color=\"r\", label=\"train\")\n",
    "plt.plot(history.history[\"val_loss\"], color=\"b\", label=\"validation\")\n",
    "plt.legend(loc=\"best\")\n",
    "\n",
    "plt.tight_layout()\n",
    "#plt.show()"
   ]
  },
  {
   "cell_type": "code",
   "execution_count": 26,
   "metadata": {},
   "outputs": [
    {
     "name": "stdout",
     "output_type": "stream",
     "text": [
      "Validation score: 0.014, accuracy: 0.996\n"
     ]
    }
   ],
   "source": [
    "# evaluate model\n",
    "score = model.evaluate(X_valid, y_valid, verbose=0)\n",
    "print(\"Validation score: {:.3f}, accuracy: {:.3f}\".format(score[0], score[1]))"
   ]
  },
  {
   "cell_type": "markdown",
   "metadata": {},
   "source": [
    "## Fine-tuning learned embeddings from word2vec\n",
    "\n",
    "In this example, we will use the same network as the one we used to learn our embeddings from scratch. In terms of code, the only major difference is an extra block of code to load the word2vec model and build up the weight matrix for the embedding layer.\n",
    "\n",
    "As always, we start with the imports and set up a random seed for repeatability. In addition to the imports we have seen previously, there is an additional one to import the word2vec model from gensim:"
   ]
  },
  {
   "cell_type": "code",
   "execution_count": 27,
   "metadata": {},
   "outputs": [],
   "source": [
    "import numpy as np\n",
    "import pandas as pd\n",
    "\n",
    "import collections\n",
    "\n",
    "import re, nltk\n",
    "\n",
    "from keras.layers.core import Dense, Dropout, SpatialDropout1D\n",
    "from keras.layers.convolutional import Conv1D\n",
    "from keras.layers.embeddings import Embedding\n",
    "from keras.layers.pooling import GlobalMaxPooling1D\n",
    "from keras.models import Sequential\n",
    "from keras.preprocessing.sequence import pad_sequences\n",
    "from keras.utils import np_utils\n",
    "\n",
    "from gensim.models import KeyedVectors\n",
    "\n",
    "from sklearn.model_selection import train_test_split\n",
    "\n",
    "# Visualization\n",
    "import seaborn as sns\n",
    "\n",
    "# this allows plots to appear directly in the notebook\n",
    "import matplotlib.pyplot as plt"
   ]
  },
  {
   "cell_type": "code",
   "execution_count": 28,
   "metadata": {},
   "outputs": [],
   "source": [
    "%matplotlib inline\n",
    "%config InlineBackend.figure_format = 'retina'"
   ]
  },
  {
   "cell_type": "code",
   "execution_count": 29,
   "metadata": {},
   "outputs": [],
   "source": [
    "pd.set_option(\"display.max_colwidth\", 500)"
   ]
  },
  {
   "cell_type": "code",
   "execution_count": 30,
   "metadata": {},
   "outputs": [],
   "source": [
    "np.random.seed(42)\n",
    "random_state = 42"
   ]
  },
  {
   "cell_type": "markdown",
   "metadata": {},
   "source": [
    "Next up is setting up the constants. The only difference here is that we reduced the `NUM_EPOCHS` setting from `20` to `10`. Recall that initializing the matrix with values from a pre-trained model tends to set them to good values that converge faster:"
   ]
  },
  {
   "cell_type": "code",
   "execution_count": 31,
   "metadata": {},
   "outputs": [],
   "source": [
    "INPUT_FILE     = \"data/UMICH_SI650_train_data.txt\"\n",
    "WORD2VEC_MODEL = \"data/GoogleNews-vectors-negative300.bin.gz\"\n",
    "VOCAB_SIZE     = 5000\n",
    "EMBED_SIZE     = 300\n",
    "NUM_FILTERS    = 256\n",
    "NUM_WORDS      = 3\n",
    "BATCH_SIZE     = 64\n",
    "NUM_EPOCHS     = 10"
   ]
  },
  {
   "cell_type": "markdown",
   "metadata": {},
   "source": [
    "The next block extracts the words from the dataset and creates a vocabulary of the most frequent terms, then parses the dataset again to create a list of padded word lists. It also converts the labels to categorical format. Finally, it splits the data into a training and a test set. This block is identical to the previous example and has been explained in depth there:"
   ]
  },
  {
   "cell_type": "code",
   "execution_count": 32,
   "metadata": {},
   "outputs": [],
   "source": [
    "counter = collections.Counter()\n",
    "with open(file=INPUT_FILE, mode='r', encoding='utf-8') as fin:\n",
    "    maxlen = 0\n",
    "    stop_words = set(nltk.corpus.stopwords.words('english'))\n",
    "    for line in fin:\n",
    "        label, sentence = line.strip().split('\\t')\n",
    "        sentence = re.sub(\"[^a-zA-Z]\", \" \", sentence)\n",
    "        words = [token.lower() for token in nltk.word_tokenize(sentence) if not token.lower() in stop_words]\n",
    "        if len(words) > maxlen:\n",
    "            maxlen = len(words)\n",
    "        for word in words:\n",
    "            counter[word] += 1"
   ]
  },
  {
   "cell_type": "code",
   "execution_count": 33,
   "metadata": {},
   "outputs": [],
   "source": [
    "word2index = collections.defaultdict(int)\n",
    "for wid, word in enumerate(counter.most_common(VOCAB_SIZE)):\n",
    "    word2index[word[0]] = wid + 1\n",
    "vocab_sz = len(word2index) + 1\n",
    "index2word = {v:k for k, v in word2index.items()}"
   ]
  },
  {
   "cell_type": "code",
   "execution_count": 34,
   "metadata": {},
   "outputs": [],
   "source": [
    "xs, ys = [], []\n",
    "with open(file='data/UMICH_SI650_train_data.txt', mode='r', encoding='utf-8') as fin:\n",
    "    stop_words = set(nltk.corpus.stopwords.words('english'))\n",
    "    for line in fin:\n",
    "        label, sentence = line.strip().split('\\t')\n",
    "        sentence = re.sub(\"[^a-zA-Z]\", \" \", sentence)\n",
    "        ys.append(int(label))\n",
    "        words = [token.lower() for token in nltk.word_tokenize(sentence) if not token.lower() in stop_words]\n",
    "        wids = [word2index[word] for word in words]\n",
    "        xs.append(wids)"
   ]
  },
  {
   "cell_type": "code",
   "execution_count": 35,
   "metadata": {},
   "outputs": [],
   "source": [
    "X = pad_sequences(xs, maxlen=maxlen)\n",
    "y = np_utils.to_categorical(ys)"
   ]
  },
  {
   "cell_type": "code",
   "execution_count": 36,
   "metadata": {},
   "outputs": [],
   "source": [
    "X_train, X_valid, y_train, y_valid = train_test_split(X, y, test_size=0.3, random_state=random_state)"
   ]
  },
  {
   "cell_type": "code",
   "execution_count": 37,
   "metadata": {},
   "outputs": [],
   "source": [
    "TEST_FILE  = \"data/UMICH_SI650_test_data.txt\""
   ]
  },
  {
   "cell_type": "code",
   "execution_count": 38,
   "metadata": {},
   "outputs": [],
   "source": [
    "xs\n",
    "with open(file=TEST_FILE, mode='r', encoding='utf-8') as fin:\n",
    "    stop_words = set(nltk.corpus.stopwords.words('english'))\n",
    "    wids = []\n",
    "    for sentence in fin:\n",
    "        sentence = re.sub(\"[^a-zA-Z]\", \" \", sentence)\n",
    "        words = [token.lower() for token in nltk.word_tokenize(sentence) if not token.lower() in stop_words]\n",
    "        if word in word2index:\n",
    "            wids.append(word2index[word])\n",
    "        xs.append(np.array(wids))"
   ]
  },
  {
   "cell_type": "code",
   "execution_count": 39,
   "metadata": {},
   "outputs": [],
   "source": [
    "X_test = pad_sequences(xs, maxlen=maxlen)"
   ]
  },
  {
   "cell_type": "markdown",
   "metadata": {},
   "source": [
    "The next block loads up the word2vec model from a pre-trained model. This model is trained with about 10 billion words of Google News articles and has a vocabulary size of 3 million. We load it and look up embedding vectors from it for words in our vocabulary, and write out the embedding vector into our weight matrix `word2vec_embedding_weights`. Rows of this weight matrix correspond to words in the vocabulary, and columns of each row constitute the embedding vector for the word.\n",
    "\n",
    "The dimensions of the `word2vec_embedding_weights` matrix is `vocab_sz` and `EMBED_SIZE`. The `vocab_sz` is one more than the maximum number of unique terms in the vocabulary, the additional pseudo-token `_UNK_` representing words that are not seen in the vocabulary.\n",
    "\n",
    "Note that it is possible that some words in our vocabulary may not be there in the Google News word2vec model, so when we encounter such words, the embedding vectors for them remain at the default value of all zeros:"
   ]
  },
  {
   "cell_type": "code",
   "execution_count": 40,
   "metadata": {},
   "outputs": [],
   "source": [
    "# load word2vec model\n",
    "word2vec = KeyedVectors.load_word2vec_format(WORD2VEC_MODEL, binary=True)\n",
    "word2vec_embedding_weights = np.zeros((vocab_sz, EMBED_SIZE))\n",
    "for word, index in word2index.items():\n",
    "    try:\n",
    "        word2vec_embedding_weights[index, :] = word2vec[word]\n",
    "    except KeyError:\n",
    "        pass"
   ]
  },
  {
   "cell_type": "markdown",
   "metadata": {},
   "source": [
    "We define our network. The difference in this block from our previous example is that we initialize the weights of the embedding layer with the `word2vec_embedding_weights` matrix we built in the previous block:"
   ]
  },
  {
   "cell_type": "code",
   "execution_count": 41,
   "metadata": {},
   "outputs": [],
   "source": [
    "model = create_model(initial_weights=[word2vec_embedding_weights], trainable=True)"
   ]
  },
  {
   "cell_type": "markdown",
   "metadata": {},
   "source": [
    "We then compile our model with the categorical cross-entropy loss function and the Adam optimizer, and train the network with batch size 64 and for 10 epochs, then evaluate the trained model:"
   ]
  },
  {
   "cell_type": "code",
   "execution_count": 42,
   "metadata": {},
   "outputs": [],
   "source": [
    "model.compile(loss='categorical_crossentropy', optimizer='adam', metrics=['accuracy'])"
   ]
  },
  {
   "cell_type": "code",
   "execution_count": 43,
   "metadata": {},
   "outputs": [
    {
     "name": "stdout",
     "output_type": "stream",
     "text": [
      "Train on 4960 samples, validate on 2126 samples\n",
      "Epoch 1/10\n",
      "4960/4960 [==============================] - 1s 224us/step - loss: 0.1108 - acc: 0.9593 - val_loss: 0.0158 - val_acc: 0.9944\n",
      "Epoch 2/10\n",
      "4960/4960 [==============================] - 1s 115us/step - loss: 0.0058 - acc: 0.9986 - val_loss: 0.0120 - val_acc: 0.9962\n",
      "Epoch 3/10\n",
      "4960/4960 [==============================] - 1s 115us/step - loss: 0.0025 - acc: 0.9996 - val_loss: 0.0113 - val_acc: 0.9967\n",
      "Epoch 4/10\n",
      "4960/4960 [==============================] - 1s 115us/step - loss: 0.0021 - acc: 0.9996 - val_loss: 0.0139 - val_acc: 0.9967\n",
      "Epoch 5/10\n",
      "4960/4960 [==============================] - 1s 115us/step - loss: 0.0018 - acc: 0.9998 - val_loss: 0.0116 - val_acc: 0.9958\n",
      "Epoch 6/10\n",
      "4960/4960 [==============================] - 1s 116us/step - loss: 0.0027 - acc: 0.9996 - val_loss: 0.0113 - val_acc: 0.9962\n",
      "Epoch 7/10\n",
      "4960/4960 [==============================] - 1s 114us/step - loss: 0.0015 - acc: 0.9998 - val_loss: 0.0130 - val_acc: 0.9972\n",
      "Epoch 8/10\n",
      "4960/4960 [==============================] - 1s 115us/step - loss: 0.0023 - acc: 0.9996 - val_loss: 0.0195 - val_acc: 0.9962\n",
      "Epoch 9/10\n",
      "4960/4960 [==============================] - 1s 114us/step - loss: 0.0022 - acc: 0.9996 - val_loss: 0.0132 - val_acc: 0.9967\n",
      "Epoch 10/10\n",
      "4960/4960 [==============================] - 1s 116us/step - loss: 0.0015 - acc: 0.9998 - val_loss: 0.0124 - val_acc: 0.9958\n"
     ]
    }
   ],
   "source": [
    "history = model.fit(X_train, y_train, \n",
    "                    batch_size=BATCH_SIZE, \n",
    "                    epochs=NUM_EPOCHS, \n",
    "                    validation_data=(X_valid, y_valid), \n",
    "                    shuffle=True)"
   ]
  },
  {
   "cell_type": "code",
   "execution_count": 44,
   "metadata": {},
   "outputs": [
    {
     "data": {
      "image/png": "[encoded data removed]",
      "text/plain": [
       "<matplotlib.figure.Figure at 0x7fcbb51af9e8>"
      ]
     },
     "metadata": {
      "image/png": {
       "height": 279,
       "width": 422
      }
     },
     "output_type": "display_data"
    }
   ],
   "source": [
    "# plot loss function\n",
    "plt.subplot(211)\n",
    "plt.title(\"accuracy\")\n",
    "plt.plot(history.history[\"acc\"], color=\"r\", label=\"train\")\n",
    "plt.plot(history.history[\"val_acc\"], color=\"b\", label=\"validation\")\n",
    "plt.legend(loc=\"best\")\n",
    "\n",
    "plt.subplot(212)\n",
    "plt.title(\"loss\")\n",
    "plt.plot(history.history[\"loss\"], color=\"r\", label=\"train\")\n",
    "plt.plot(history.history[\"val_loss\"], color=\"b\", label=\"validation\")\n",
    "plt.legend(loc=\"best\")\n",
    "\n",
    "plt.tight_layout()\n",
    "#plt.show()"
   ]
  },
  {
   "cell_type": "code",
   "execution_count": 45,
   "metadata": {},
   "outputs": [
    {
     "name": "stdout",
     "output_type": "stream",
     "text": [
      "Validation score: 0.012, accuracy: 0.996\n"
     ]
    }
   ],
   "source": [
    "# evaluate model\n",
    "score = model.evaluate(X_valid, y_valid, verbose=0)\n",
    "print(\"Validation score: {:.3f}, accuracy: {:.3f}\".format(score[0], score[1]))"
   ]
  },
  {
   "cell_type": "markdown",
   "metadata": {},
   "source": [
    "The model gives us an accuracy of 99.4% on the test set after 10 epochs of training. In the previous example, we got an accuracy of 99.6% accuracy after 20 epochs."
   ]
  },
  {
   "cell_type": "code",
   "execution_count": 46,
   "metadata": {},
   "outputs": [],
   "source": [
    "# make predictions\n",
    "y_pred = model.predict_classes(X_test)"
   ]
  },
  {
   "cell_type": "code",
   "execution_count": 47,
   "metadata": {},
   "outputs": [
    {
     "data": {
      "text/plain": [
       "1    37045\n",
       "0     3093\n",
       "dtype: int64"
      ]
     },
     "execution_count": 47,
     "metadata": {},
     "output_type": "execute_result"
    }
   ],
   "source": [
    "# How many negative and positive classes\n",
    "pd.Series(y_pred).value_counts()"
   ]
  },
  {
   "cell_type": "code",
   "execution_count": 48,
   "metadata": {},
   "outputs": [
    {
     "name": "stdout",
     "output_type": "stream",
     "text": [
      "1 personally, i still love my 1999 toyota camry, 4 cylinder, 35mpg, gray, comfy, smooth, dependable....\n",
      "1 i love my honda...\n",
      "1 Then we had stupid trivia about San Francisco and sci fi tv so we left...\n",
      "1 I want a new MacBook....\n",
      "1 I think Angelina Jolie is so much more beautiful than Jennifer Anniston, who, by the way, is majorly OVERRATED.\n",
      "1 i hate 3 paris hilton, halary duff, lindsay lohan.\n",
      "1 It was really ironic that he spent the first part of class talking about his own professor at Harvard who was a pompous arrogant ass.\n",
      "1 After John changed the tire and we swapped Why AAA Sucks stories, we walked back to Barnes and Noble so I could get my graphic novel and John could wash his hands.\n",
      "1 Momentarily ignoring the bias of recently moving here, it does seems Seattle is in a good position to ask questions about space distribution ( real estate ) and disruptive tools ( technology )..\n",
      "1 I hate Seattle..\n",
      "1 The Honda is awesome.\n",
      "1 well, i had a piece of crap toyota celica but it died in portland and i got a ford ranger..\n",
      "1 I'd like to talk today about how much I hate Paris Hilton.....\n",
      "1 I love the Toyota Prius.\n",
      "1 GEICO is a GREAT ride.\n"
     ]
    }
   ],
   "source": [
    "# Let's sample some of the predictions\n",
    "import random\n",
    "sample = random.sample(range(len(test_df)), 15)\n",
    "\n",
    "for sentiment, comment in zip(y_pred[sample], test_df.loc[sample].comment):\n",
    "    print(sentiment, comment)"
   ]
  },
  {
   "cell_type": "markdown",
   "metadata": {},
   "source": [
    "## Fine-tuning learned embeddings from GloVe\n",
    "\n",
    "Fine tuning using pre-trained GloVe embeddings is very similar to fine tuning using pre- trained word2vec embeddings. In fact, all of the code, except for the block that builds the weight matrix for the embedding layer, is identical. Since we have already seen this code twice, I will just focus on the block of code that builds the weight matrix from the GloVe embeddings.\n",
    "\n",
    "GloVe embeddings come in various flavors. We use the model pre-trained on 6 billion tokens from the English Wikipedia and the gigaword corpus. The vocabulary size for the model is about 400,000, and the download provides vectors of dimensions 50, 100, 200, and 300. We will use embeddings from the 300 dimensional model."
   ]
  },
  {
   "cell_type": "code",
   "execution_count": 49,
   "metadata": {},
   "outputs": [],
   "source": [
    "import numpy as np\n",
    "import pandas as pd\n",
    "\n",
    "import collections\n",
    "\n",
    "import re, nltk\n",
    "\n",
    "import keras\n",
    "from keras.layers.core import Dense, Dropout, SpatialDropout1D\n",
    "from keras.layers.convolutional import Conv1D\n",
    "from keras.layers.embeddings import Embedding\n",
    "from keras.layers.pooling import GlobalMaxPooling1D\n",
    "from keras.models import Sequential\n",
    "from keras.preprocessing.sequence import pad_sequences\n",
    "from keras.utils import np_utils\n",
    "\n",
    "from sklearn.model_selection import train_test_split\n",
    "\n",
    "# Visualization\n",
    "import seaborn as sns\n",
    "\n",
    "# this allows plots to appear directly in the notebook\n",
    "import matplotlib.pyplot as plt"
   ]
  },
  {
   "cell_type": "code",
   "execution_count": 50,
   "metadata": {},
   "outputs": [],
   "source": [
    "INPUT_FILE  = \"data/UMICH_SI650_train_data.txt\"\n",
    "GLOVE_MODEL = \"data/glove.6B.300d.txt\"\n",
    "VOCAB_SIZE  = 5000\n",
    "EMBED_SIZE  = 300\n",
    "NUM_FILTERS = 256\n",
    "NUM_WORDS   = 3\n",
    "BATCH_SIZE  = 64\n",
    "NUM_EPOCHS  = 10"
   ]
  },
  {
   "cell_type": "code",
   "execution_count": 51,
   "metadata": {},
   "outputs": [],
   "source": [
    "counter = collections.Counter()\n",
    "with open(file=INPUT_FILE, mode='r', encoding='utf-8') as fin:\n",
    "    maxlen = 0\n",
    "    stop_words = set(nltk.corpus.stopwords.words('english'))\n",
    "    for line in fin:\n",
    "        label, sentence = line.strip().split('\\t')\n",
    "        sentence = re.sub(\"[^a-zA-Z]\", \" \", sentence)\n",
    "        ys.append(int(label))\n",
    "        words = [token.lower() for token in nltk.word_tokenize(sentence) if not token.lower() in stop_words]\n",
    "        if len(words) > maxlen:\n",
    "            maxlen = len(words)\n",
    "        for word in words:\n",
    "            counter[word] += 1"
   ]
  },
  {
   "cell_type": "code",
   "execution_count": 52,
   "metadata": {},
   "outputs": [],
   "source": [
    "word2index = collections.defaultdict(int)\n",
    "for wid, word in enumerate(counter.most_common(VOCAB_SIZE)):\n",
    "    word2index[word[0]] = wid + 1\n",
    "vocab_sz = len(word2index) + 1\n",
    "index2word = {v:k for k, v in word2index.items()}"
   ]
  },
  {
   "cell_type": "code",
   "execution_count": 53,
   "metadata": {},
   "outputs": [],
   "source": [
    "xs, ys = [], []\n",
    "with open(file=INPUT_FILE, mode='r', encoding='utf-8') as fin:\n",
    "    stop_words = set(nltk.corpus.stopwords.words('english'))\n",
    "    for line in fin:\n",
    "        label, sentence = line.strip().split('\\t')\n",
    "        sentence = re.sub(\"[^a-zA-Z]\", \" \", sentence)\n",
    "        ys.append(int(label))\n",
    "        words = [token.lower() for token in nltk.word_tokenize(sentence) if not token.lower() in stop_words]\n",
    "        wids = [word2index[word] for word in words]\n",
    "        xs.append(wids)"
   ]
  },
  {
   "cell_type": "code",
   "execution_count": 54,
   "metadata": {},
   "outputs": [],
   "source": [
    "X = keras.preprocessing.sequence.pad_sequences(xs, maxlen=maxlen)\n",
    "y = keras.utils.np_utils.to_categorical(ys)"
   ]
  },
  {
   "cell_type": "code",
   "execution_count": 55,
   "metadata": {},
   "outputs": [],
   "source": [
    "X_train, X_valid, y_train, y_valid = train_test_split(X, y, test_size=0.3, random_state=random_state)"
   ]
  },
  {
   "cell_type": "markdown",
   "metadata": {},
   "source": [
    "The only thing we need to change in the code for the previous example is to replace the block that instantiated a word2vec model and loaded the embedding matrix using the following block of code. If we use a model with vector size other than 300, then we also need to update `EMBED_SIZE`.\n",
    "\n",
    "The vectors are provided in space-delimited text format, so the first step is to read the code into a dictionary, `word2emb`. This is analogous to the line instantiating the Word2Vec model in our previous example:"
   ]
  },
  {
   "cell_type": "code",
   "execution_count": 56,
   "metadata": {},
   "outputs": [],
   "source": [
    "# load GloVe vectors\n",
    "word2emb = {}\n",
    "with open(GLOVE_MODEL, \"rb\") as fglove:\n",
    "    for line in fglove:\n",
    "        cols = line.strip().split()\n",
    "        word = cols[0]\n",
    "        embedding = np.array(cols[1:], dtype=\"float32\")\n",
    "        word2emb[word] = embedding"
   ]
  },
  {
   "cell_type": "markdown",
   "metadata": {},
   "source": [
    "We then instantiate an embedding weight matrix of size (`vocab_sz` and `EMBED_SIZE`) and populate the vectors from the `word2emb` dictionary. Vectors for words that are found in the vocabulary but not in the GloVe model remain set to all zeros:"
   ]
  },
  {
   "cell_type": "code",
   "execution_count": 57,
   "metadata": {},
   "outputs": [],
   "source": [
    "glove_embedding_weights = np.zeros((vocab_sz, EMBED_SIZE))\n",
    "for word, index in word2index.items():\n",
    "    try:\n",
    "        glove_embedding_weights[index, :] = word2emb[word]\n",
    "    except KeyError:\n",
    "        pass"
   ]
  },
  {
   "cell_type": "code",
   "execution_count": 58,
   "metadata": {},
   "outputs": [],
   "source": [
    "model = create_model(initial_weights=[glove_embedding_weights], trainable=True)"
   ]
  },
  {
   "cell_type": "code",
   "execution_count": 59,
   "metadata": {},
   "outputs": [],
   "source": [
    "model.compile(loss='categorical_crossentropy', optimizer='adam', metrics=['accuracy'])"
   ]
  },
  {
   "cell_type": "code",
   "execution_count": 60,
   "metadata": {},
   "outputs": [
    {
     "name": "stdout",
     "output_type": "stream",
     "text": [
      "Train on 4960 samples, validate on 2126 samples\n",
      "Epoch 1/10\n",
      "4960/4960 [==============================] - 1s 238us/step - loss: 0.6906 - acc: 0.5599 - val_loss: 0.6881 - val_acc: 0.5701\n",
      "Epoch 2/10\n",
      "4960/4960 [==============================] - 1s 136us/step - loss: 0.6874 - acc: 0.5611 - val_loss: 0.6852 - val_acc: 0.5701\n",
      "Epoch 3/10\n",
      "4960/4960 [==============================] - 1s 123us/step - loss: 0.6862 - acc: 0.5611 - val_loss: 0.6842 - val_acc: 0.5701\n",
      "Epoch 4/10\n",
      "4960/4960 [==============================] - 1s 116us/step - loss: 0.6859 - acc: 0.5611 - val_loss: 0.6838 - val_acc: 0.5701\n",
      "Epoch 5/10\n",
      "4960/4960 [==============================] - 1s 116us/step - loss: 0.6858 - acc: 0.5611 - val_loss: 0.6836 - val_acc: 0.5701\n",
      "Epoch 6/10\n",
      "4960/4960 [==============================] - 1s 116us/step - loss: 0.6857 - acc: 0.5611 - val_loss: 0.6835 - val_acc: 0.5701\n",
      "Epoch 7/10\n",
      "4960/4960 [==============================] - 1s 114us/step - loss: 0.6857 - acc: 0.5611 - val_loss: 0.6835 - val_acc: 0.5701\n",
      "Epoch 8/10\n",
      "4960/4960 [==============================] - 1s 115us/step - loss: 0.6857 - acc: 0.5611 - val_loss: 0.6835 - val_acc: 0.5701\n",
      "Epoch 9/10\n",
      "4960/4960 [==============================] - 1s 115us/step - loss: 0.6857 - acc: 0.5611 - val_loss: 0.6835 - val_acc: 0.5701\n",
      "Epoch 10/10\n",
      "4960/4960 [==============================] - 1s 115us/step - loss: 0.6858 - acc: 0.5611 - val_loss: 0.6835 - val_acc: 0.5701\n"
     ]
    }
   ],
   "source": [
    "history = model.fit(X_train, y_train, \n",
    "                    batch_size=BATCH_SIZE, \n",
    "                    epochs=NUM_EPOCHS, \n",
    "                    validation_data=(X_valid, y_valid), \n",
    "                    shuffle=True)"
   ]
  },
  {
   "cell_type": "code",
   "execution_count": 61,
   "metadata": {},
   "outputs": [
    {
     "data": {
      "image/png": "[encoded data removed]",
      "text/plain": [
       "<matplotlib.figure.Figure at 0x7fca33138f60>"
      ]
     },
     "metadata": {
      "image/png": {
       "height": 279,
       "width": 422
      }
     },
     "output_type": "display_data"
    }
   ],
   "source": [
    "# plot loss function\n",
    "plt.subplot(211)\n",
    "plt.title(\"accuracy\")\n",
    "plt.plot(history.history[\"acc\"], color=\"r\", label=\"train\")\n",
    "plt.plot(history.history[\"val_acc\"], color=\"b\", label=\"validation\")\n",
    "plt.legend(loc=\"best\")\n",
    "\n",
    "plt.subplot(212)\n",
    "plt.title(\"loss\")\n",
    "plt.plot(history.history[\"loss\"], color=\"r\", label=\"train\")\n",
    "plt.plot(history.history[\"val_loss\"], color=\"b\", label=\"validation\")\n",
    "plt.legend(loc=\"best\")\n",
    "\n",
    "plt.tight_layout()\n",
    "#plt.show()"
   ]
  },
  {
   "cell_type": "code",
   "execution_count": 62,
   "metadata": {},
   "outputs": [
    {
     "name": "stdout",
     "output_type": "stream",
     "text": [
      "Validation score: 0.684, accuracy: 0.570\n"
     ]
    }
   ],
   "source": [
    "# evaluate model\n",
    "score = model.evaluate(X_valid, y_valid, verbose=0)\n",
    "print(\"Validation score: {:.3f}, accuracy: {:.3f}\".format(score[0], score[1]))"
   ]
  },
  {
   "cell_type": "markdown",
   "metadata": {
    "collapsed": true
   },
   "source": [
    "This gives us 57.0% accuracy in 10 epochs, which is not at all as good as the results we got from fine-tuning the network using word2vec embedding_weights."
   ]
  },
  {
   "cell_type": "markdown",
   "metadata": {
    "collapsed": true
   },
   "source": [
    "## Transfer Learning: Look up embeddings\n",
    "\n",
    "Our final strategy is to look up embeddings from pre-trained networks. The simplest way to do this with the current examples is to just set the `trainable` parameter of the embedding layer to `False`. This ensures that backpropagation will not update the weights on the embedding layer:"
   ]
  },
  {
   "cell_type": "code",
   "execution_count": 63,
   "metadata": {},
   "outputs": [],
   "source": [
    "VOCAB_SIZE  = 5000\n",
    "EMBED_SIZE  = 300\n",
    "NUM_FILTERS = 256\n",
    "NUM_WORDS   = 3\n",
    "BATCH_SIZE  = 64\n",
    "NUM_EPOCHS  = 10"
   ]
  },
  {
   "cell_type": "code",
   "execution_count": 64,
   "metadata": {},
   "outputs": [
    {
     "name": "stdout",
     "output_type": "stream",
     "text": [
      "Train on 4960 samples, validate on 2126 samples\n",
      "Epoch 1/10\n",
      "4960/4960 [==============================] - 1s 161us/step - loss: 0.1172 - acc: 0.9637 - val_loss: 0.0235 - val_acc: 0.9920\n",
      "Epoch 2/10\n",
      "4960/4960 [==============================] - 0s 86us/step - loss: 0.0126 - acc: 0.9968 - val_loss: 0.0170 - val_acc: 0.9934\n",
      "Epoch 3/10\n",
      "4960/4960 [==============================] - 0s 87us/step - loss: 0.0055 - acc: 0.9986 - val_loss: 0.0166 - val_acc: 0.9958\n",
      "Epoch 4/10\n",
      "4960/4960 [==============================] - 0s 86us/step - loss: 0.0034 - acc: 0.9998 - val_loss: 0.0148 - val_acc: 0.9958\n",
      "Epoch 5/10\n",
      "4960/4960 [==============================] - 0s 86us/step - loss: 0.0029 - acc: 0.9996 - val_loss: 0.0142 - val_acc: 0.9953\n",
      "Epoch 6/10\n",
      "4960/4960 [==============================] - 0s 87us/step - loss: 0.0024 - acc: 0.9998 - val_loss: 0.0156 - val_acc: 0.9958\n",
      "Epoch 7/10\n",
      "4960/4960 [==============================] - 0s 86us/step - loss: 0.0020 - acc: 0.9998 - val_loss: 0.0158 - val_acc: 0.9958\n",
      "Epoch 8/10\n",
      "4960/4960 [==============================] - 0s 86us/step - loss: 0.0033 - acc: 0.9996 - val_loss: 0.0167 - val_acc: 0.9962\n",
      "Epoch 9/10\n",
      "4960/4960 [==============================] - 0s 86us/step - loss: 0.0024 - acc: 0.9998 - val_loss: 0.0134 - val_acc: 0.9953\n",
      "Epoch 10/10\n",
      "4960/4960 [==============================] - 0s 86us/step - loss: 0.0023 - acc: 0.9998 - val_loss: 0.0160 - val_acc: 0.9948\n",
      "Validation score: 0.016, accuracy: 0.995\n"
     ]
    }
   ],
   "source": [
    "model = create_model(initial_weights=[word2vec_embedding_weights], trainable=False)\n",
    "model.compile(loss='categorical_crossentropy', optimizer='adam', metrics=['accuracy'])\n",
    "model.fit(X_train, y_train, \n",
    "                batch_size=BATCH_SIZE, \n",
    "                epochs=NUM_EPOCHS, \n",
    "                validation_data=(X_valid, y_valid), \n",
    "                shuffle=True)\n",
    "# evaluate model\n",
    "score = model.evaluate(X_valid, y_valid, verbose=0)\n",
    "print(\"Validation score: {:.3f}, accuracy: {:.3f}\".format(score[0], score[1]))"
   ]
  },
  {
   "cell_type": "code",
   "execution_count": 65,
   "metadata": {},
   "outputs": [
    {
     "name": "stdout",
     "output_type": "stream",
     "text": [
      "Train on 4960 samples, validate on 2126 samples\n",
      "Epoch 1/10\n",
      "4960/4960 [==============================] - 1s 165us/step - loss: 0.6904 - acc: 0.5567 - val_loss: 0.6872 - val_acc: 0.5701\n",
      "Epoch 2/10\n",
      "4960/4960 [==============================] - 0s 86us/step - loss: 0.6872 - acc: 0.5611 - val_loss: 0.6849 - val_acc: 0.5701\n",
      "Epoch 3/10\n",
      "4960/4960 [==============================] - 0s 86us/step - loss: 0.6862 - acc: 0.5611 - val_loss: 0.6841 - val_acc: 0.5701\n",
      "Epoch 4/10\n",
      "4960/4960 [==============================] - 0s 86us/step - loss: 0.6859 - acc: 0.5611 - val_loss: 0.6838 - val_acc: 0.5701\n",
      "Epoch 5/10\n",
      "4960/4960 [==============================] - 0s 87us/step - loss: 0.6857 - acc: 0.5611 - val_loss: 0.6836 - val_acc: 0.5701\n",
      "Epoch 6/10\n",
      "4960/4960 [==============================] - 0s 87us/step - loss: 0.6857 - acc: 0.5611 - val_loss: 0.6836 - val_acc: 0.5701\n",
      "Epoch 7/10\n",
      "4960/4960 [==============================] - 0s 85us/step - loss: 0.6857 - acc: 0.5611 - val_loss: 0.6835 - val_acc: 0.5701\n",
      "Epoch 8/10\n",
      "4960/4960 [==============================] - 0s 87us/step - loss: 0.6857 - acc: 0.5611 - val_loss: 0.6835 - val_acc: 0.5701\n",
      "Epoch 9/10\n",
      "4960/4960 [==============================] - 0s 86us/step - loss: 0.6857 - acc: 0.5611 - val_loss: 0.6835 - val_acc: 0.5701\n",
      "Epoch 10/10\n",
      "4960/4960 [==============================] - 0s 86us/step - loss: 0.6857 - acc: 0.5611 - val_loss: 0.6835 - val_acc: 0.5701\n",
      "Validation score: 0.683, accuracy: 0.570\n"
     ]
    }
   ],
   "source": [
    "model = create_model(initial_weights=[glove_embedding_weights], trainable=False)\n",
    "model.compile(loss='categorical_crossentropy', optimizer='adam', metrics=['accuracy'])\n",
    "model.fit(X_train, y_train, \n",
    "                batch_size=BATCH_SIZE, \n",
    "                epochs=NUM_EPOCHS, \n",
    "                validation_data=(X_valid, y_valid), \n",
    "                shuffle=True)\n",
    "# evaluate model\n",
    "score = model.evaluate(X_valid, y_valid, verbose=0)\n",
    "print(\"Validation score: {:.3f}, accuracy: {:.3f}\".format(score[0], score[1]))"
   ]
  },
  {
   "cell_type": "markdown",
   "metadata": {},
   "source": [
    "Setting this value with the word2vec and GloVe examples gave us accuracies of 57.0% and 99.5% respectively after 10 epochs of training."
   ]
  },
  {
   "cell_type": "markdown",
   "metadata": {},
   "source": [
    "### Transfer Learning: Look up embeddings from Glove\n",
    "\n",
    "However, in general, this is not how you would use pre-trained embeddings in your code. Typically, it involves preprocessing your dataset to create word vectors by looking up words in one of the pre-trained models, and then using this data to train some other model. The second model would not contain an Embedding layer, and may not even be a deep learning network.\n",
    "\n",
    "The following example describes a dense network that takes as its input a vector of size 100, representing a sentence, and outputs a 1 or 0 for positive or negative sentiment. Our dataset is still the one from the UMICH S1650 sentiment classification competition with around 7,000 sentences.\n",
    "\n",
    "As previously, large parts of the code are repeated, so we only explain the parts that are new or otherwise need explanation.\n",
    "\n",
    "We begin with the imports, set the random seed for repeatability, and set some constant values. In order to create the 100-dimensional vectors for each sentence, we add up the GloVe 100-dimensional vectors for the words in the sentence, so we choose the glove.6B.100d.txt file:"
   ]
  },
  {
   "cell_type": "code",
   "execution_count": 66,
   "metadata": {},
   "outputs": [],
   "source": [
    "import numpy as np\n",
    "import pandas as pd\n",
    "\n",
    "import collections\n",
    "\n",
    "import re, nltk\n",
    "\n",
    "from keras.layers.core import Dense, Dropout, SpatialDropout1D\n",
    "from keras.layers.convolutional import Conv1D\n",
    "from keras.layers.embeddings import Embedding\n",
    "from keras.layers.pooling import GlobalMaxPooling1D\n",
    "from keras.models import Sequential\n",
    "from keras.preprocessing.sequence import pad_sequences\n",
    "from keras.utils import np_utils\n",
    "\n",
    "from sklearn.model_selection import train_test_split\n",
    "\n",
    "# Visualization\n",
    "import seaborn as sns\n",
    "\n",
    "# this allows plots to appear directly in the notebook\n",
    "import matplotlib.pyplot as plt"
   ]
  },
  {
   "cell_type": "code",
   "execution_count": 67,
   "metadata": {},
   "outputs": [],
   "source": [
    "np.random.seed(42)\n",
    "random_state = 42"
   ]
  },
  {
   "cell_type": "code",
   "execution_count": 68,
   "metadata": {},
   "outputs": [],
   "source": [
    "INPUT_FILE  = \"data/UMICH_SI650_train_data.txt\"\n",
    "GLOVE_MODEL = \"data/glove.6B.100d.txt\"\n",
    "VOCAB_SIZE  = 5000\n",
    "EMBED_SIZE  = 100\n",
    "#NUM_FILTERS = 256\n",
    "#NUM_WORDS   = 3\n",
    "BATCH_SIZE  = 64\n",
    "NUM_EPOCHS  = 10"
   ]
  },
  {
   "cell_type": "markdown",
   "metadata": {},
   "source": [
    "The next block reads the sentences and creates a word frequency table. From this, the most common 5,000 tokens are selected and lookup tables (from word to word index and back) are created. In addition, we create a pseudo-token `_UNK_` for tokens that do not exist in the vocabulary. Using these lookup tables, we convert each sentence to a sequence of word IDs, padding these sequences so that all sequences are of the same length (the maximum number of words in a sentence in the training set). We also convert the labels to categorical format:"
   ]
  },
  {
   "cell_type": "code",
   "execution_count": 69,
   "metadata": {},
   "outputs": [],
   "source": [
    "counter = collections.Counter()\n",
    "with open(file=INPUT_FILE, mode='r', encoding='utf-8') as fin:\n",
    "    maxlen = 0\n",
    "    stop_words = set(nltk.corpus.stopwords.words('english'))\n",
    "    for line in fin:\n",
    "        label, sentence = line.strip().split('\\t')\n",
    "        sentence = re.sub(\"[^a-zA-Z]\", \" \", sentence)\n",
    "        ys.append(int(label))\n",
    "        words = [token.lower() for token in nltk.word_tokenize(sentence) if not token.lower() in stop_words]\n",
    "        if len(words) > maxlen:\n",
    "            maxlen = len(words)\n",
    "        for word in words:\n",
    "            counter[word] += 1"
   ]
  },
  {
   "cell_type": "code",
   "execution_count": 70,
   "metadata": {},
   "outputs": [],
   "source": [
    "# creating vocabulary\n",
    "word2index = collections.defaultdict(int)\n",
    "word2index[\"_UNK_\"] = 0\n",
    "for wid, word in enumerate(counter.most_common(VOCAB_SIZE)):\n",
    "    word2index[word[0]] = wid + 1\n",
    "vocab_sz = len(word2index) + 1\n",
    "index2word = {v:k for k, v in word2index.items()}\n",
    "index2word[0] = \"_UNK_\""
   ]
  },
  {
   "cell_type": "code",
   "execution_count": 71,
   "metadata": {},
   "outputs": [],
   "source": [
    "# creating word sequences\n",
    "ws, ys = [], []\n",
    "with open(file=INPUT_FILE, mode='r', encoding='utf-8') as fin:\n",
    "    stop_words = set(nltk.corpus.stopwords.words('english'))\n",
    "    for line in fin:\n",
    "        label, sentence = line.strip().split('\\t')\n",
    "        sentence = re.sub(\"[^a-zA-Z]\", \" \", sentence)\n",
    "        ys.append(int(label))\n",
    "        words = [token.lower() for token in nltk.word_tokenize(sentence) if not token.lower() in stop_words]\n",
    "        wids = [word2index[word] for word in words]\n",
    "        ws.append(wids)"
   ]
  },
  {
   "cell_type": "code",
   "execution_count": 72,
   "metadata": {},
   "outputs": [
    {
     "data": {
      "text/plain": [
       "['da', 'vinci', 'code', 'book', 'awesome']"
      ]
     },
     "execution_count": 72,
     "metadata": {},
     "output_type": "execute_result"
    }
   ],
   "source": [
    "words = [index2word[wid] for wid in ws[0]]\n",
    "words"
   ]
  },
  {
   "cell_type": "code",
   "execution_count": 73,
   "metadata": {},
   "outputs": [],
   "source": [
    "W = keras.preprocessing.sequence.pad_sequences(ws, maxlen=maxlen)\n",
    "y = keras.utils.np_utils.to_categorical(ys)"
   ]
  },
  {
   "cell_type": "markdown",
   "metadata": {},
   "source": [
    "We load the GloVe vectors into a dictionary. If we wanted to use word2vec here, all we have to do is replace this block with a gensim `KeyedVectors.load_word2vec_format()` call and replace the following block to look up the word2vec model instead of the word2emb dictionary:"
   ]
  },
  {
   "cell_type": "code",
   "execution_count": 74,
   "metadata": {},
   "outputs": [],
   "source": [
    "# load GloVe vectors\n",
    "word2emb = {}\n",
    "with open(GLOVE_MODEL, \"rb\") as fglove:\n",
    "    for line in fglove:\n",
    "        cols = line.strip().split()\n",
    "        word = cols[0]\n",
    "        embedding = np.array(cols[1:], dtype=\"float32\")\n",
    "        word2emb[word] = embedding"
   ]
  },
  {
   "cell_type": "markdown",
   "metadata": {},
   "source": [
    "The next block looks up the words for each sentence from the word ID matrix W and populates a matrix E with the corresponding embedding vector. These embedding vectors are then added to create a sentence vector, which is written back into the X matrix. The output of this code block is the matrix `X` of size (`num_records` and `EMBED_SIZE`):"
   ]
  },
  {
   "cell_type": "code",
   "execution_count": 75,
   "metadata": {},
   "outputs": [],
   "source": [
    "# transferring glove embeddings\n",
    "X = np.zeros((W.shape[0], EMBED_SIZE))\n",
    "for i in range(W.shape[0]):\n",
    "    E = np.zeros((EMBED_SIZE, maxlen))\n",
    "    words = [index2word[wid] for wid in W[i].tolist()]\n",
    "    for j in range(maxlen):\n",
    "        try:\n",
    "            E[:, j] = word2emb[words[j]]\n",
    "        except KeyError:\n",
    "            pass\n",
    "    X[i, :] = np.sum(E, axis=1)"
   ]
  },
  {
   "cell_type": "markdown",
   "metadata": {},
   "source": [
    "We have now preprocessed our data using the pre-trained model and are ready to use it to train and evaluate our final model. Let us split the data into 70/30 training/test as usual:"
   ]
  },
  {
   "cell_type": "code",
   "execution_count": 76,
   "metadata": {},
   "outputs": [],
   "source": [
    "X_train, X_valid, y_train, y_valid = train_test_split(X, y, test_size=0.3, random_state=random_state)"
   ]
  },
  {
   "cell_type": "code",
   "execution_count": 77,
   "metadata": {},
   "outputs": [
    {
     "name": "stdout",
     "output_type": "stream",
     "text": [
      "(4960, 100) (2126, 100) (4960, 2) (2126, 2)\n"
     ]
    }
   ],
   "source": [
    "print(X_train.shape, X_valid.shape, y_train.shape, y_valid.shape)"
   ]
  },
  {
   "cell_type": "markdown",
   "metadata": {},
   "source": [
    "The network we will train for doing the sentiment analysis task is a simple dense network. We compile it with a categorical cross-entropy loss function and the Adam optimizer, and train it with the sentence vectors that we built out of the pre-trained embeddings. Finally, we evaluate the model on the 30% test set:"
   ]
  },
  {
   "cell_type": "code",
   "execution_count": 78,
   "metadata": {},
   "outputs": [],
   "source": [
    "model = Sequential()\n",
    "model.add(Dense(32, input_dim=EMBED_SIZE, activation=\"relu\"))\n",
    "model.add(Dropout(0.2))\n",
    "model.add(Dense(2, activation=\"softmax\"))"
   ]
  },
  {
   "cell_type": "code",
   "execution_count": 79,
   "metadata": {},
   "outputs": [],
   "source": [
    "model.compile(loss='categorical_crossentropy', optimizer='adam', metrics=['accuracy'])"
   ]
  },
  {
   "cell_type": "code",
   "execution_count": 80,
   "metadata": {},
   "outputs": [
    {
     "name": "stdout",
     "output_type": "stream",
     "text": [
      "Train on 4960 samples, validate on 2126 samples\n",
      "Epoch 1/10\n",
      "4960/4960 [==============================] - 1s 181us/step - loss: 0.6904 - acc: 0.5575 - val_loss: 0.6875 - val_acc: 0.5701\n",
      "Epoch 2/10\n",
      "4960/4960 [==============================] - 0s 66us/step - loss: 0.6873 - acc: 0.5611 - val_loss: 0.6851 - val_acc: 0.5701\n",
      "Epoch 3/10\n",
      "4960/4960 [==============================] - 0s 66us/step - loss: 0.6862 - acc: 0.5611 - val_loss: 0.6841 - val_acc: 0.5701\n",
      "Epoch 4/10\n",
      "4960/4960 [==============================] - 0s 66us/step - loss: 0.6859 - acc: 0.5611 - val_loss: 0.6837 - val_acc: 0.5701\n",
      "Epoch 5/10\n",
      "4960/4960 [==============================] - 0s 66us/step - loss: 0.6858 - acc: 0.5611 - val_loss: 0.6836 - val_acc: 0.5701\n",
      "Epoch 6/10\n",
      "4960/4960 [==============================] - 0s 67us/step - loss: 0.6857 - acc: 0.5611 - val_loss: 0.6835 - val_acc: 0.5701\n",
      "Epoch 7/10\n",
      "4960/4960 [==============================] - 0s 66us/step - loss: 0.6857 - acc: 0.5611 - val_loss: 0.6835 - val_acc: 0.5701\n",
      "Epoch 8/10\n",
      "4960/4960 [==============================] - 0s 66us/step - loss: 0.6858 - acc: 0.5611 - val_loss: 0.6834 - val_acc: 0.5701\n",
      "Epoch 9/10\n",
      "4960/4960 [==============================] - 0s 66us/step - loss: 0.6857 - acc: 0.5611 - val_loss: 0.6835 - val_acc: 0.5701\n",
      "Epoch 10/10\n",
      "4960/4960 [==============================] - 0s 67us/step - loss: 0.6857 - acc: 0.5611 - val_loss: 0.6835 - val_acc: 0.5701\n"
     ]
    }
   ],
   "source": [
    "history = model.fit(X_train, y_train, \n",
    "                    batch_size=BATCH_SIZE, \n",
    "                    epochs=NUM_EPOCHS, \n",
    "                    validation_data=(X_valid, y_valid), \n",
    "                    shuffle=True)"
   ]
  },
  {
   "cell_type": "code",
   "execution_count": 81,
   "metadata": {},
   "outputs": [
    {
     "name": "stdout",
     "output_type": "stream",
     "text": [
      "Validation score: 0.683, accuracy: 0.570\n"
     ]
    }
   ],
   "source": [
    "# evaluate model\n",
    "score = model.evaluate(X_valid, y_valid, verbose=0)\n",
    "print(\"Validation score: {:.3f}, accuracy: {:.3f}\".format(score[0], score[1]))"
   ]
  },
  {
   "cell_type": "markdown",
   "metadata": {},
   "source": [
    "### Transfer Learning: Look up embeddings from word2vec"
   ]
  },
  {
   "cell_type": "code",
   "execution_count": 82,
   "metadata": {},
   "outputs": [],
   "source": [
    "NPUT_FILE = \"data/umich-sentiment-train.txt\"\n",
    "WORD2VEC_MODEL = \"data/GoogleNews-vectors-negative300.bin.gz\"\n",
    "VOCAB_SIZE = 5000\n",
    "EMBED_SIZE = 300\n",
    "BATCH_SIZE = 64\n",
    "NUM_EPOCHS = 10"
   ]
  },
  {
   "cell_type": "code",
   "execution_count": 83,
   "metadata": {},
   "outputs": [],
   "source": [
    "# load word2vec vectors\n",
    "word2vec = KeyedVectors.load_word2vec_format(WORD2VEC_MODEL, binary=True)"
   ]
  },
  {
   "cell_type": "code",
   "execution_count": 84,
   "metadata": {},
   "outputs": [],
   "source": [
    "# transferring word2vec embeddings\n",
    "X = np.zeros((W.shape[0], EMBED_SIZE))\n",
    "for i in range(W.shape[0]):\n",
    "    E = np.zeros((EMBED_SIZE, maxlen))\n",
    "    words = [index2word[wid] for wid in W[i].tolist()]\n",
    "    for j in range(maxlen):\n",
    "        try:\n",
    "            E[:, j] = word2vec[words[j]]\n",
    "        except KeyError:\n",
    "            pass\n",
    "    X[i, :] = np.sum(E, axis=1)"
   ]
  },
  {
   "cell_type": "markdown",
   "metadata": {},
   "source": [
    "We have now preprocessed our data using the pre-trained model and are ready to use it to train and evaluate our final model. Let us split the data into 70/30 training/test as usual:"
   ]
  },
  {
   "cell_type": "code",
   "execution_count": 85,
   "metadata": {},
   "outputs": [],
   "source": [
    "X_train, X_valid, y_train, y_valid = train_test_split(X, y, test_size=0.3, random_state=random_state)"
   ]
  },
  {
   "cell_type": "code",
   "execution_count": 86,
   "metadata": {},
   "outputs": [
    {
     "name": "stdout",
     "output_type": "stream",
     "text": [
      "(4960, 300) (2126, 300) (4960, 2) (2126, 2)\n"
     ]
    }
   ],
   "source": [
    "print(X_train.shape, X_valid.shape, y_train.shape, y_valid.shape)"
   ]
  },
  {
   "cell_type": "code",
   "execution_count": 87,
   "metadata": {},
   "outputs": [],
   "source": [
    "model = Sequential()\n",
    "model.add(Dense(32, input_dim=EMBED_SIZE, activation=\"relu\"))\n",
    "model.add(Dropout(0.2))\n",
    "model.add(Dense(2, activation=\"softmax\"))"
   ]
  },
  {
   "cell_type": "code",
   "execution_count": 88,
   "metadata": {},
   "outputs": [],
   "source": [
    "model.compile(loss='categorical_crossentropy', optimizer='adam', metrics=['accuracy'])"
   ]
  },
  {
   "cell_type": "code",
   "execution_count": 89,
   "metadata": {},
   "outputs": [
    {
     "name": "stdout",
     "output_type": "stream",
     "text": [
      "Train on 4960 samples, validate on 2126 samples\n",
      "Epoch 1/10\n",
      "4960/4960 [==============================] - 1s 191us/step - loss: 0.2996 - acc: 0.8907 - val_loss: 0.1059 - val_acc: 0.9774\n",
      "Epoch 2/10\n",
      "4960/4960 [==============================] - 0s 67us/step - loss: 0.0752 - acc: 0.9847 - val_loss: 0.0613 - val_acc: 0.9840\n",
      "Epoch 3/10\n",
      "4960/4960 [==============================] - 0s 66us/step - loss: 0.0407 - acc: 0.9925 - val_loss: 0.0533 - val_acc: 0.9882\n",
      "Epoch 4/10\n",
      "4960/4960 [==============================] - 0s 65us/step - loss: 0.0321 - acc: 0.9917 - val_loss: 0.0492 - val_acc: 0.9864\n",
      "Epoch 5/10\n",
      "4960/4960 [==============================] - 0s 66us/step - loss: 0.0230 - acc: 0.9933 - val_loss: 0.0459 - val_acc: 0.9873\n",
      "Epoch 6/10\n",
      "4960/4960 [==============================] - 0s 66us/step - loss: 0.0173 - acc: 0.9950 - val_loss: 0.0443 - val_acc: 0.9887\n",
      "Epoch 7/10\n",
      "4960/4960 [==============================] - 0s 66us/step - loss: 0.0169 - acc: 0.9948 - val_loss: 0.0433 - val_acc: 0.9911\n",
      "Epoch 8/10\n",
      "4960/4960 [==============================] - 0s 66us/step - loss: 0.0129 - acc: 0.9966 - val_loss: 0.0440 - val_acc: 0.9906\n",
      "Epoch 9/10\n",
      "4960/4960 [==============================] - 0s 66us/step - loss: 0.0097 - acc: 0.9974 - val_loss: 0.0454 - val_acc: 0.9915\n",
      "Epoch 10/10\n",
      "4960/4960 [==============================] - 0s 66us/step - loss: 0.0102 - acc: 0.9972 - val_loss: 0.0448 - val_acc: 0.9915\n"
     ]
    }
   ],
   "source": [
    "history = model.fit(X_train, y_train, \n",
    "                    batch_size=BATCH_SIZE, \n",
    "                    epochs=NUM_EPOCHS, \n",
    "                    validation_data=(X_valid, y_valid), \n",
    "                    shuffle=True)"
   ]
  },
  {
   "cell_type": "code",
   "execution_count": 90,
   "metadata": {
    "scrolled": true
   },
   "outputs": [
    {
     "name": "stdout",
     "output_type": "stream",
     "text": [
      "Validation score: 0.045, accuracy: 0.992\n"
     ]
    }
   ],
   "source": [
    "# evaluate model\n",
    "score = model.evaluate(X_valid, y_valid, verbose=0)\n",
    "print(\"Validation score: {:.3f}, accuracy: {:.3f}\".format(score[0], score[1]))"
   ]
  },
  {
   "cell_type": "markdown",
   "metadata": {},
   "source": [
    "The dense network gives us 57.0% accuracy on the validation set after 10 epochs of training when preprocessed with the 100-dimensional GloVe embeddings. When preprocessed with the word2vec embeddings (300-dimensional fixed) the network gives us 99.1% on the validation set."
   ]
  },
  {
   "cell_type": "code",
   "execution_count": null,
   "metadata": {},
   "outputs": [],
   "source": []
  }
 ],
 "metadata": {
  "kernelspec": {
   "display_name": "Python 3",
   "language": "python",
   "name": "python3"
  },
  "language_info": {
   "codemirror_mode": {
    "name": "ipython",
    "version": 3
   },
   "file_extension": ".py",
   "mimetype": "text/x-python",
   "name": "python",
   "nbconvert_exporter": "python",
   "pygments_lexer": "ipython3",
   "version": "3.5.4"
  }
 },
 "nbformat": 4,
 "nbformat_minor": 2
}
