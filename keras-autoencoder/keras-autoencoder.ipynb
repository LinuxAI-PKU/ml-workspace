{
 "cells": [
  {
   "cell_type": "markdown",
   "metadata": {},
   "source": [
    "# What are autoencoders?\n",
    "\"Autoencoding\" is a data compression algorithm where the compression and decompression functions are 1) data-specific, 2) lossy, and 3) learned automatically from examples rather than engineered by a human. Additionally, in almost all contexts where the term \"autoencoder\" is used, the compression and decompression functions are implemented with neural networks.\n",
    "\n",
    "![Autoencoder](assets/autoencoder_1.png)\n",
    "\n",
    "1) Autoencoders are data-specific, which means that they will only be able to compress data similar to what they have been trained on. This is different from, say, the MPEG-2 Audio Layer III (MP3) compression algorithm, which only holds assumptions about \"sound\" in general, but not about specific types of sounds. An autoencoder trained on pictures of faces would do a rather poor job of compressing pictures of trees, because the features it would learn would be face-specific.\n",
    "\n",
    "2) Autoencoders are lossy, which means that the decompressed outputs will be degraded compared to the original inputs (similar to MP3 or JPEG compression). This differs from lossless arithmetic compression.\n",
    "\n",
    "3) Autoencoders are learned automatically from data examples, which is a useful property: it means that it is easy to train specialized instances of the algorithm that will perform well on a specific type of input. It doesn't require any new engineering, just appropriate training data.\n",
    "\n",
    "https://blog.keras.io/building-autoencoders-in-keras.html\n",
    "\n",
    "\n",
    "## A Simple Autoencoder based on a Fully-Connected layer\n",
    "\n",
    "We'll start off by building a simple autoencoder to compress the MNIST dataset. With autoencoders, we pass input data through an encoder that makes a compressed representation of the input. Then, this representation is passed through a decoder to reconstruct the input data. Generally the encoder and decoder will be built with neural networks, then trained on example data.\n",
    "\n",
    "Let's build the simplest possible autoencoder. We'll start simple, with a single fully-connected neural layer as encoder and as decoder:"
   ]
  },
  {
   "cell_type": "markdown",
   "metadata": {},
   "source": [
    "Let's get started by importing our libraries and getting the dataset."
   ]
  },
  {
   "cell_type": "code",
   "execution_count": 1,
   "metadata": {
    "collapsed": true
   },
   "outputs": [],
   "source": [
    "import numpy as np\n",
    "\n",
    "import matplotlib.pyplot as plt\n",
    "%matplotlib inline"
   ]
  },
  {
   "cell_type": "code",
   "execution_count": 2,
   "metadata": {},
   "outputs": [
    {
     "name": "stderr",
     "output_type": "stream",
     "text": [
      "Using TensorFlow backend.\n"
     ]
    }
   ],
   "source": [
    "# Let's prepare our input data. We're using MNIST digits, and we're discarding the labels \n",
    "# (since we're only interested in encoding/decoding the input images).\n",
    "from keras.datasets import mnist\n",
    "import numpy as np\n",
    "(x_train, _), (x_test, _) = mnist.load_data()"
   ]
  },
  {
   "cell_type": "markdown",
   "metadata": {},
   "source": [
    "We'll train an autoencoder with these images by flattening them into 784 length vectors. The images from this dataset are need to be normalized such that the values are between 0 and 1. Let's start by building basically the simplest autoencoder with a **single ReLU hidden layer**. This layer will be used as the compressed representation. Then, the encoder is the input layer and the hidden layer. The decoder is the hidden layer and the output layer. Since the images are normalized between 0 and 1, we need to use a **sigmoid activation on the output layer** to get values matching the input.\n",
    "\n",
    "![Autoencoder architecture](assets/simple_autoencoder.png)"
   ]
  },
  {
   "cell_type": "code",
   "execution_count": 3,
   "metadata": {
    "collapsed": true
   },
   "outputs": [],
   "source": [
    "from keras.layers import Input, Dense\n",
    "from keras.models import Model\n",
    "\n",
    "# this is the size of our encoded representations\n",
    "encoding_dim = 32  # 32 floats -> compression of factor 24.5, assuming the input is 784 floats\n",
    "\n",
    "# this is our input placeholder\n",
    "input_img = Input(shape=(784,))\n",
    "\n",
    "# \"encoded\" is the encoded representation of the input\n",
    "encoded = Dense(encoding_dim, activation='relu')(input_img)\n",
    "\n",
    "# \"decoded\" is the lossy reconstruction of the input\n",
    "decoded = Dense(784, activation='sigmoid')(encoded)\n",
    "\n",
    "# this model maps an input to its reconstruction\n",
    "autoencoder = Model(input_img, decoded)"
   ]
  },
  {
   "cell_type": "code",
   "execution_count": 4,
   "metadata": {},
   "outputs": [
    {
     "name": "stdout",
     "output_type": "stream",
     "text": [
      "_________________________________________________________________\n",
      "Layer (type)                 Output Shape              Param #   \n",
      "=================================================================\n",
      "input_1 (InputLayer)         (None, 784)               0         \n",
      "_________________________________________________________________\n",
      "dense_1 (Dense)              (None, 32)                25120     \n",
      "_________________________________________________________________\n",
      "dense_2 (Dense)              (None, 784)               25872     \n",
      "=================================================================\n",
      "Total params: 50,992\n",
      "Trainable params: 50,992\n",
      "Non-trainable params: 0\n",
      "_________________________________________________________________\n",
      "None\n"
     ]
    }
   ],
   "source": [
    "print(autoencoder.summary())"
   ]
  },
  {
   "cell_type": "markdown",
   "metadata": {},
   "source": [
    "Now let's train our autoencoder to reconstruct MNIST digits. First, we'll configure our model to use a per-pixel binary crossentropy loss, and the Adadelta optimizer:"
   ]
  },
  {
   "cell_type": "code",
   "execution_count": 5,
   "metadata": {
    "collapsed": true
   },
   "outputs": [],
   "source": [
    "autoencoder.compile(optimizer='adadelta', loss='binary_crossentropy')"
   ]
  },
  {
   "cell_type": "code",
   "execution_count": 6,
   "metadata": {
    "collapsed": true
   },
   "outputs": [],
   "source": [
    "# We will normalize all values between 0 and 1 and we will flatten the 28x28 images into vectors of size 784.\n",
    "x_train = x_train.astype('float32') / 255.\n",
    "x_test = x_test.astype('float32') / 255.\n",
    "x_train = x_train.reshape((len(x_train), 784))\n",
    "x_test = x_test.reshape((len(x_test), 784))"
   ]
  },
  {
   "cell_type": "code",
   "execution_count": 7,
   "metadata": {},
   "outputs": [
    {
     "name": "stdout",
     "output_type": "stream",
     "text": [
      "(60000, 784) (10000, 784)\n"
     ]
    }
   ],
   "source": [
    "print(x_train.shape, x_test.shape)"
   ]
  },
  {
   "cell_type": "markdown",
   "metadata": {},
   "source": [
    "Now let's train our autoencoder for 50 epochs:"
   ]
  },
  {
   "cell_type": "code",
   "execution_count": 8,
   "metadata": {},
   "outputs": [
    {
     "name": "stdout",
     "output_type": "stream",
     "text": [
      "Train on 60000 samples, validate on 10000 samples\n",
      "Epoch 1/50\n",
      "60000/60000 [==============================] - 3s - loss: 0.3762 - val_loss: 0.2725\n",
      "Epoch 2/50\n",
      "60000/60000 [==============================] - 1s - loss: 0.2650 - val_loss: 0.2541\n",
      "Epoch 3/50\n",
      "60000/60000 [==============================] - 1s - loss: 0.2448 - val_loss: 0.2329\n",
      "Epoch 4/50\n",
      "60000/60000 [==============================] - 1s - loss: 0.2253 - val_loss: 0.2151\n",
      "Epoch 5/50\n",
      "60000/60000 [==============================] - 1s - loss: 0.2098 - val_loss: 0.2018\n",
      "Epoch 6/50\n",
      "60000/60000 [==============================] - 1s - loss: 0.1983 - val_loss: 0.1919\n",
      "Epoch 7/50\n",
      "60000/60000 [==============================] - 1s - loss: 0.1895 - val_loss: 0.1841\n",
      "Epoch 8/50\n",
      "60000/60000 [==============================] - 1s - loss: 0.1822 - val_loss: 0.1776\n",
      "Epoch 9/50\n",
      "60000/60000 [==============================] - 1s - loss: 0.1761 - val_loss: 0.1720\n",
      "Epoch 10/50\n",
      "60000/60000 [==============================] - 1s - loss: 0.1709 - val_loss: 0.1671\n",
      "Epoch 11/50\n",
      "60000/60000 [==============================] - 1s - loss: 0.1663 - val_loss: 0.1628\n",
      "Epoch 12/50\n",
      "60000/60000 [==============================] - 1s - loss: 0.1622 - val_loss: 0.1589\n",
      "Epoch 13/50\n",
      "60000/60000 [==============================] - 1s - loss: 0.1584 - val_loss: 0.1553\n",
      "Epoch 14/50\n",
      "60000/60000 [==============================] - 1s - loss: 0.1550 - val_loss: 0.1519\n",
      "Epoch 15/50\n",
      "60000/60000 [==============================] - 1s - loss: 0.1518 - val_loss: 0.1488\n",
      "Epoch 16/50\n",
      "60000/60000 [==============================] - 1s - loss: 0.1488 - val_loss: 0.1460\n",
      "Epoch 17/50\n",
      "60000/60000 [==============================] - 1s - loss: 0.1460 - val_loss: 0.1432\n",
      "Epoch 18/50\n",
      "60000/60000 [==============================] - 1s - loss: 0.1433 - val_loss: 0.1405\n",
      "Epoch 19/50\n",
      "60000/60000 [==============================] - 1s - loss: 0.1407 - val_loss: 0.1381\n",
      "Epoch 20/50\n",
      "60000/60000 [==============================] - 1s - loss: 0.1382 - val_loss: 0.1356\n",
      "Epoch 21/50\n",
      "60000/60000 [==============================] - 1s - loss: 0.1359 - val_loss: 0.1333\n",
      "Epoch 22/50\n",
      "60000/60000 [==============================] - 1s - loss: 0.1336 - val_loss: 0.1311\n",
      "Epoch 23/50\n",
      "60000/60000 [==============================] - 1s - loss: 0.1315 - val_loss: 0.1291\n",
      "Epoch 24/50\n",
      "60000/60000 [==============================] - 1s - loss: 0.1295 - val_loss: 0.1271\n",
      "Epoch 25/50\n",
      "60000/60000 [==============================] - 1s - loss: 0.1275 - val_loss: 0.1251\n",
      "Epoch 26/50\n",
      "60000/60000 [==============================] - 1s - loss: 0.1257 - val_loss: 0.1233\n",
      "Epoch 27/50\n",
      "60000/60000 [==============================] - 1s - loss: 0.1240 - val_loss: 0.1217\n",
      "Epoch 28/50\n",
      "60000/60000 [==============================] - 1s - loss: 0.1223 - val_loss: 0.1200\n",
      "Epoch 29/50\n",
      "60000/60000 [==============================] - 1s - loss: 0.1207 - val_loss: 0.1185\n",
      "Epoch 30/50\n",
      "60000/60000 [==============================] - 1s - loss: 0.1192 - val_loss: 0.1171\n",
      "Epoch 31/50\n",
      "60000/60000 [==============================] - 1s - loss: 0.1178 - val_loss: 0.1157\n",
      "Epoch 32/50\n",
      "60000/60000 [==============================] - 1s - loss: 0.1165 - val_loss: 0.1144\n",
      "Epoch 33/50\n",
      "60000/60000 [==============================] - 1s - loss: 0.1153 - val_loss: 0.1132\n",
      "Epoch 34/50\n",
      "60000/60000 [==============================] - 1s - loss: 0.1141 - val_loss: 0.1122\n",
      "Epoch 35/50\n",
      "60000/60000 [==============================] - 1s - loss: 0.1131 - val_loss: 0.1110\n",
      "Epoch 36/50\n",
      "60000/60000 [==============================] - 1s - loss: 0.1121 - val_loss: 0.1101\n",
      "Epoch 37/50\n",
      "60000/60000 [==============================] - 1s - loss: 0.1111 - val_loss: 0.1091\n",
      "Epoch 38/50\n",
      "60000/60000 [==============================] - 1s - loss: 0.1103 - val_loss: 0.1083\n",
      "Epoch 39/50\n",
      "60000/60000 [==============================] - 1s - loss: 0.1094 - val_loss: 0.1075\n",
      "Epoch 40/50\n",
      "60000/60000 [==============================] - 1s - loss: 0.1087 - val_loss: 0.1068\n",
      "Epoch 41/50\n",
      "60000/60000 [==============================] - 1s - loss: 0.1080 - val_loss: 0.1061\n",
      "Epoch 42/50\n",
      "60000/60000 [==============================] - 1s - loss: 0.1073 - val_loss: 0.1055\n",
      "Epoch 43/50\n",
      "60000/60000 [==============================] - 1s - loss: 0.1067 - val_loss: 0.1049\n",
      "Epoch 44/50\n",
      "60000/60000 [==============================] - 1s - loss: 0.1062 - val_loss: 0.1044\n",
      "Epoch 45/50\n",
      "60000/60000 [==============================] - 1s - loss: 0.1056 - val_loss: 0.1039\n",
      "Epoch 46/50\n",
      "60000/60000 [==============================] - 1s - loss: 0.1052 - val_loss: 0.1034\n",
      "Epoch 47/50\n",
      "60000/60000 [==============================] - 1s - loss: 0.1047 - val_loss: 0.1029\n",
      "Epoch 48/50\n",
      "60000/60000 [==============================] - 1s - loss: 0.1043 - val_loss: 0.1026\n",
      "Epoch 49/50\n",
      "60000/60000 [==============================] - 1s - loss: 0.1039 - val_loss: 0.1021\n",
      "Epoch 50/50\n",
      "60000/60000 [==============================] - 1s - loss: 0.1035 - val_loss: 0.1018\n"
     ]
    }
   ],
   "source": [
    "_ = autoencoder.fit(x_train, x_train,\n",
    "                epochs=50,\n",
    "                batch_size=256,\n",
    "                shuffle=True,\n",
    "                validation_data=(x_test, x_test))"
   ]
  },
  {
   "cell_type": "markdown",
   "metadata": {},
   "source": [
    "After 50 epochs, the autoencoder seems to reach a stable train/test loss value of about 0.11. We can try to visualize the reconstructed inputs and the encoded representations."
   ]
  },
  {
   "cell_type": "code",
   "execution_count": 9,
   "metadata": {},
   "outputs": [
    {
     "data": {
      "image/png": "[encoded data removed]",
      "text/plain": [
       "<matplotlib.figure.Figure at 0x1c8ebae8978>"
      ]
     },
     "metadata": {},
     "output_type": "display_data"
    }
   ],
   "source": [
    "fig, axes = plt.subplots(nrows=2, ncols=10, sharex=True, sharey=True, figsize=(20,4))\n",
    "in_imgs = x_test[:10]\n",
    "reconstructed = autoencoder.predict(x_test)\n",
    "\n",
    "for images, row in zip([in_imgs, reconstructed], axes):\n",
    "    for img, ax in zip(images, row):\n",
    "        ax.imshow(img.reshape((28, 28)), cmap='Greys_r')\n",
    "        ax.get_xaxis().set_visible(False)\n",
    "        ax.get_yaxis().set_visible(False)\n",
    "\n",
    "fig.tight_layout(pad=0.1)"
   ]
  },
  {
   "cell_type": "markdown",
   "metadata": {},
   "source": [
    "## A Deep Fully-Connected Autoencoder\n",
    "\n",
    "We do not have to limit ourselves to a single layer as encoder or decoder, we could instead use a stack of layers, such as:"
   ]
  },
  {
   "cell_type": "code",
   "execution_count": 10,
   "metadata": {
    "collapsed": true
   },
   "outputs": [],
   "source": [
    "input_img = Input(shape=(784,))\n",
    "encoded = Dense(128, activation='relu')(input_img)\n",
    "encoded = Dense(64, activation='relu')(encoded)\n",
    "encoded = Dense(32, activation='relu')(encoded)\n",
    "\n",
    "decoded = Dense(64, activation='relu')(encoded)\n",
    "decoded = Dense(128, activation='relu')(decoded)\n",
    "decoded = Dense(784, activation='sigmoid')(decoded)\n",
    "\n",
    "autoencoder = Model(input_img, decoded)"
   ]
  },
  {
   "cell_type": "code",
   "execution_count": 11,
   "metadata": {},
   "outputs": [
    {
     "name": "stdout",
     "output_type": "stream",
     "text": [
      "_________________________________________________________________\n",
      "Layer (type)                 Output Shape              Param #   \n",
      "=================================================================\n",
      "input_2 (InputLayer)         (None, 784)               0         \n",
      "_________________________________________________________________\n",
      "dense_3 (Dense)              (None, 128)               100480    \n",
      "_________________________________________________________________\n",
      "dense_4 (Dense)              (None, 64)                8256      \n",
      "_________________________________________________________________\n",
      "dense_5 (Dense)              (None, 32)                2080      \n",
      "_________________________________________________________________\n",
      "dense_6 (Dense)              (None, 64)                2112      \n",
      "_________________________________________________________________\n",
      "dense_7 (Dense)              (None, 128)               8320      \n",
      "_________________________________________________________________\n",
      "dense_8 (Dense)              (None, 784)               101136    \n",
      "=================================================================\n",
      "Total params: 222,384\n",
      "Trainable params: 222,384\n",
      "Non-trainable params: 0\n",
      "_________________________________________________________________\n",
      "None\n"
     ]
    }
   ],
   "source": [
    "print(autoencoder.summary())"
   ]
  },
  {
   "cell_type": "code",
   "execution_count": 12,
   "metadata": {
    "scrolled": false
   },
   "outputs": [
    {
     "name": "stdout",
     "output_type": "stream",
     "text": [
      "Train on 60000 samples, validate on 10000 samples\n",
      "Epoch 1/100\n",
      "60000/60000 [==============================] - 2s - loss: 0.3527 - val_loss: 0.2635\n",
      "Epoch 2/100\n",
      "60000/60000 [==============================] - 1s - loss: 0.2552 - val_loss: 0.2454\n",
      "Epoch 3/100\n",
      "60000/60000 [==============================] - 1s - loss: 0.2380 - val_loss: 0.2281\n",
      "Epoch 4/100\n",
      "60000/60000 [==============================] - 1s - loss: 0.2214 - val_loss: 0.2119\n",
      "Epoch 5/100\n",
      "60000/60000 [==============================] - 1s - loss: 0.2041 - val_loss: 0.1983\n",
      "Epoch 6/100\n",
      "60000/60000 [==============================] - 1s - loss: 0.1945 - val_loss: 0.1897\n",
      "Epoch 7/100\n",
      "60000/60000 [==============================] - 1s - loss: 0.1869 - val_loss: 0.1830\n",
      "Epoch 8/100\n",
      "60000/60000 [==============================] - 1s - loss: 0.1807 - val_loss: 0.1770\n",
      "Epoch 9/100\n",
      "60000/60000 [==============================] - 1s - loss: 0.1756 - val_loss: 0.1718\n",
      "Epoch 10/100\n",
      "60000/60000 [==============================] - 1s - loss: 0.1708 - val_loss: 0.1678\n",
      "Epoch 11/100\n",
      "60000/60000 [==============================] - 1s - loss: 0.1662 - val_loss: 0.1616\n",
      "Epoch 12/100\n",
      "60000/60000 [==============================] - 1s - loss: 0.1614 - val_loss: 0.1576\n",
      "Epoch 13/100\n",
      "60000/60000 [==============================] - 1s - loss: 0.1574 - val_loss: 0.1550\n",
      "Epoch 14/100\n",
      "60000/60000 [==============================] - 1s - loss: 0.1543 - val_loss: 0.1506\n",
      "Epoch 15/100\n",
      "60000/60000 [==============================] - 1s - loss: 0.1518 - val_loss: 0.1491\n",
      "Epoch 16/100\n",
      "60000/60000 [==============================] - 1s - loss: 0.1498 - val_loss: 0.1469\n",
      "Epoch 17/100\n",
      "60000/60000 [==============================] - 1s - loss: 0.1479 - val_loss: 0.1453\n",
      "Epoch 18/100\n",
      "60000/60000 [==============================] - 1s - loss: 0.1457 - val_loss: 0.1433\n",
      "Epoch 19/100\n",
      "60000/60000 [==============================] - 1s - loss: 0.1438 - val_loss: 0.1413\n",
      "Epoch 20/100\n",
      "60000/60000 [==============================] - 1s - loss: 0.1420 - val_loss: 0.1396\n",
      "Epoch 21/100\n",
      "60000/60000 [==============================] - 1s - loss: 0.1404 - val_loss: 0.1383\n",
      "Epoch 22/100\n",
      "60000/60000 [==============================] - 1s - loss: 0.1391 - val_loss: 0.1367\n",
      "Epoch 23/100\n",
      "60000/60000 [==============================] - 1s - loss: 0.1378 - val_loss: 0.1363\n",
      "Epoch 24/100\n",
      "60000/60000 [==============================] - 1s - loss: 0.1365 - val_loss: 0.1345\n",
      "Epoch 25/100\n",
      "60000/60000 [==============================] - 1s - loss: 0.1354 - val_loss: 0.1323\n",
      "Epoch 26/100\n",
      "60000/60000 [==============================] - 1s - loss: 0.1340 - val_loss: 0.1326\n",
      "Epoch 27/100\n",
      "60000/60000 [==============================] - 1s - loss: 0.1327 - val_loss: 0.1298\n",
      "Epoch 28/100\n",
      "60000/60000 [==============================] - 1s - loss: 0.1315 - val_loss: 0.1285\n",
      "Epoch 29/100\n",
      "60000/60000 [==============================] - 1s - loss: 0.1300 - val_loss: 0.1290\n",
      "Epoch 30/100\n",
      "60000/60000 [==============================] - 2s - loss: 0.1290 - val_loss: 0.1275\n",
      "Epoch 31/100\n",
      "60000/60000 [==============================] - 1s - loss: 0.1279 - val_loss: 0.1262\n",
      "Epoch 32/100\n",
      "60000/60000 [==============================] - 1s - loss: 0.1267 - val_loss: 0.1244\n",
      "Epoch 33/100\n",
      "60000/60000 [==============================] - 1s - loss: 0.1256 - val_loss: 0.1247\n",
      "Epoch 34/100\n",
      "60000/60000 [==============================] - 1s - loss: 0.1245 - val_loss: 0.1227\n",
      "Epoch 35/100\n",
      "60000/60000 [==============================] - 1s - loss: 0.1238 - val_loss: 0.1217\n",
      "Epoch 36/100\n",
      "60000/60000 [==============================] - 1s - loss: 0.1229 - val_loss: 0.1207\n",
      "Epoch 37/100\n",
      "60000/60000 [==============================] - 1s - loss: 0.1223 - val_loss: 0.1214\n",
      "Epoch 38/100\n",
      "60000/60000 [==============================] - 1s - loss: 0.1215 - val_loss: 0.1201\n",
      "Epoch 39/100\n",
      "60000/60000 [==============================] - 1s - loss: 0.1208 - val_loss: 0.1185\n",
      "Epoch 40/100\n",
      "60000/60000 [==============================] - 1s - loss: 0.1202 - val_loss: 0.1181\n",
      "Epoch 41/100\n",
      "60000/60000 [==============================] - 1s - loss: 0.1196 - val_loss: 0.1176\n",
      "Epoch 42/100\n",
      "60000/60000 [==============================] - 1s - loss: 0.1189 - val_loss: 0.1182\n",
      "Epoch 43/100\n",
      "60000/60000 [==============================] - 1s - loss: 0.1184 - val_loss: 0.1179\n",
      "Epoch 44/100\n",
      "60000/60000 [==============================] - 1s - loss: 0.1178 - val_loss: 0.1157\n",
      "Epoch 45/100\n",
      "60000/60000 [==============================] - 1s - loss: 0.1173 - val_loss: 0.1158\n",
      "Epoch 46/100\n",
      "60000/60000 [==============================] - 1s - loss: 0.1166 - val_loss: 0.1155\n",
      "Epoch 47/100\n",
      "60000/60000 [==============================] - 1s - loss: 0.1163 - val_loss: 0.1145\n",
      "Epoch 48/100\n",
      "60000/60000 [==============================] - 1s - loss: 0.1157 - val_loss: 0.1141\n",
      "Epoch 49/100\n",
      "60000/60000 [==============================] - 1s - loss: 0.1152 - val_loss: 0.1144\n",
      "Epoch 50/100\n",
      "60000/60000 [==============================] - 1s - loss: 0.1149 - val_loss: 0.1136\n",
      "Epoch 51/100\n",
      "60000/60000 [==============================] - 1s - loss: 0.1144 - val_loss: 0.1124\n",
      "Epoch 52/100\n",
      "60000/60000 [==============================] - 1s - loss: 0.1139 - val_loss: 0.1124\n",
      "Epoch 53/100\n",
      "60000/60000 [==============================] - 1s - loss: 0.1136 - val_loss: 0.1121\n",
      "Epoch 54/100\n",
      "60000/60000 [==============================] - 1s - loss: 0.1132 - val_loss: 0.1130\n",
      "Epoch 55/100\n",
      "60000/60000 [==============================] - 2s - loss: 0.1128 - val_loss: 0.1117\n",
      "Epoch 56/100\n",
      "60000/60000 [==============================] - 1s - loss: 0.1124 - val_loss: 0.1109\n",
      "Epoch 57/100\n",
      "60000/60000 [==============================] - 1s - loss: 0.1119 - val_loss: 0.1105\n",
      "Epoch 58/100\n",
      "60000/60000 [==============================] - 1s - loss: 0.1116 - val_loss: 0.1112\n",
      "Epoch 59/100\n",
      "60000/60000 [==============================] - 1s - loss: 0.1112 - val_loss: 0.1088\n",
      "Epoch 60/100\n",
      "60000/60000 [==============================] - 1s - loss: 0.1108 - val_loss: 0.1086\n",
      "Epoch 61/100\n",
      "60000/60000 [==============================] - 1s - loss: 0.1107 - val_loss: 0.1097\n",
      "Epoch 62/100\n",
      "60000/60000 [==============================] - 2s - loss: 0.1101 - val_loss: 0.1101\n",
      "Epoch 63/100\n",
      "60000/60000 [==============================] - 1s - loss: 0.1099 - val_loss: 0.1079\n",
      "Epoch 64/100\n",
      "60000/60000 [==============================] - 1s - loss: 0.1096 - val_loss: 0.1087\n",
      "Epoch 65/100\n",
      "60000/60000 [==============================] - 2s - loss: 0.1092 - val_loss: 0.1075\n",
      "Epoch 66/100\n",
      "60000/60000 [==============================] - 2s - loss: 0.1090 - val_loss: 0.1080\n",
      "Epoch 67/100\n",
      "60000/60000 [==============================] - 2s - loss: 0.1087 - val_loss: 0.1087\n",
      "Epoch 68/100\n",
      "60000/60000 [==============================] - 2s - loss: 0.1085 - val_loss: 0.1060\n",
      "Epoch 69/100\n",
      "60000/60000 [==============================] - 2s - loss: 0.1082 - val_loss: 0.1068\n",
      "Epoch 70/100\n",
      "60000/60000 [==============================] - 2s - loss: 0.1080 - val_loss: 0.1073\n",
      "Epoch 71/100\n",
      "60000/60000 [==============================] - 1s - loss: 0.1078 - val_loss: 0.1063\n",
      "Epoch 72/100\n",
      "60000/60000 [==============================] - 2s - loss: 0.1076 - val_loss: 0.1067\n",
      "Epoch 73/100\n",
      "60000/60000 [==============================] - 2s - loss: 0.1074 - val_loss: 0.1063\n",
      "Epoch 74/100\n",
      "60000/60000 [==============================] - 2s - loss: 0.1073 - val_loss: 0.1066\n",
      "Epoch 75/100\n",
      "60000/60000 [==============================] - 2s - loss: 0.1069 - val_loss: 0.1052\n",
      "Epoch 76/100\n",
      "60000/60000 [==============================] - 2s - loss: 0.1068 - val_loss: 0.1057\n",
      "Epoch 77/100\n",
      "60000/60000 [==============================] - 2s - loss: 0.1066 - val_loss: 0.1063\n",
      "Epoch 78/100\n",
      "60000/60000 [==============================] - 1s - loss: 0.1064 - val_loss: 0.1058\n",
      "Epoch 79/100\n",
      "60000/60000 [==============================] - 2s - loss: 0.1062 - val_loss: 0.1044\n",
      "Epoch 80/100\n",
      "60000/60000 [==============================] - 2s - loss: 0.1062 - val_loss: 0.1054\n",
      "Epoch 81/100\n",
      "60000/60000 [==============================] - 1s - loss: 0.1060 - val_loss: 0.1050\n",
      "Epoch 82/100\n",
      "60000/60000 [==============================] - 2s - loss: 0.1057 - val_loss: 0.1046\n",
      "Epoch 83/100\n",
      "60000/60000 [==============================] - 1s - loss: 0.1056 - val_loss: 0.1035\n",
      "Epoch 84/100\n",
      "60000/60000 [==============================] - 1s - loss: 0.1054 - val_loss: 0.1035\n",
      "Epoch 85/100\n"
     ]
    },
    {
     "name": "stdout",
     "output_type": "stream",
     "text": [
      "60000/60000 [==============================] - 1s - loss: 0.1052 - val_loss: 0.1042\n",
      "Epoch 86/100\n",
      "60000/60000 [==============================] - 2s - loss: 0.1050 - val_loss: 0.1040\n",
      "Epoch 87/100\n",
      "60000/60000 [==============================] - 1s - loss: 0.1048 - val_loss: 0.1031\n",
      "Epoch 88/100\n",
      "60000/60000 [==============================] - 1s - loss: 0.1047 - val_loss: 0.1037\n",
      "Epoch 89/100\n",
      "60000/60000 [==============================] - 2s - loss: 0.1045 - val_loss: 0.1043\n",
      "Epoch 90/100\n",
      "60000/60000 [==============================] - 2s - loss: 0.1044 - val_loss: 0.1035\n",
      "Epoch 91/100\n",
      "60000/60000 [==============================] - 2s - loss: 0.1042 - val_loss: 0.1032\n",
      "Epoch 92/100\n",
      "60000/60000 [==============================] - 2s - loss: 0.1040 - val_loss: 0.1032\n",
      "Epoch 93/100\n",
      "60000/60000 [==============================] - 2s - loss: 0.1037 - val_loss: 0.1023\n",
      "Epoch 94/100\n",
      "60000/60000 [==============================] - 2s - loss: 0.1036 - val_loss: 0.1024\n",
      "Epoch 95/100\n",
      "60000/60000 [==============================] - 2s - loss: 0.1034 - val_loss: 0.1017\n",
      "Epoch 96/100\n",
      "60000/60000 [==============================] - 1s - loss: 0.1032 - val_loss: 0.1026\n",
      "Epoch 97/100\n",
      "60000/60000 [==============================] - 1s - loss: 0.1030 - val_loss: 0.1020\n",
      "Epoch 98/100\n",
      "60000/60000 [==============================] - 1s - loss: 0.1029 - val_loss: 0.1021\n",
      "Epoch 99/100\n",
      "60000/60000 [==============================] - 1s - loss: 0.1027 - val_loss: 0.1014\n",
      "Epoch 100/100\n",
      "60000/60000 [==============================] - 1s - loss: 0.1024 - val_loss: 0.1020\n"
     ]
    }
   ],
   "source": [
    "autoencoder.compile(optimizer='adadelta', loss='binary_crossentropy')\n",
    "\n",
    "_ = autoencoder.fit(x_train, x_train,\n",
    "                epochs=100,\n",
    "                batch_size=256,\n",
    "                shuffle=True,\n",
    "                validation_data=(x_test, x_test))"
   ]
  },
  {
   "cell_type": "markdown",
   "metadata": {},
   "source": [
    "After 100 epochs, it reaches a train and test loss of ~0.1020, a bit better than our previous models. Our reconstructed digits look a bit better too:"
   ]
  },
  {
   "cell_type": "code",
   "execution_count": 13,
   "metadata": {},
   "outputs": [
    {
     "data": {
      "image/png": "[encoded data removed]",
      "text/plain": [
       "<matplotlib.figure.Figure at 0x1c8e3b17f60>"
      ]
     },
     "metadata": {},
     "output_type": "display_data"
    }
   ],
   "source": [
    "import matplotlib.pyplot as plt\n",
    "%matplotlib inline \n",
    "fig, axes = plt.subplots(nrows=2, ncols=10, sharex=True, sharey=True, figsize=(20,4))\n",
    "in_imgs = x_test[:10]\n",
    "reconstructed = autoencoder.predict(x_test)\n",
    "\n",
    "for images, row in zip([in_imgs, reconstructed], axes):\n",
    "    for img, ax in zip(images, row):\n",
    "        ax.imshow(img.reshape((28, 28)), cmap='Greys_r')\n",
    "        ax.get_xaxis().set_visible(False)\n",
    "        ax.get_yaxis().set_visible(False)\n",
    "\n",
    "fig.tight_layout(pad=0.1)"
   ]
  },
  {
   "cell_type": "markdown",
   "metadata": {},
   "source": [
    "## A Deep Convolutional Autoencoder\n",
    "\n",
    "Since our inputs are images, it makes sense to use convolutional neural networks (convnets) as encoders and decoders. In practical settings, autoencoders applied to images are always convolutional autoencoders --they simply perform much better.\n",
    "\n",
    "\n",
    "### Network Architecture\n",
    "\n",
    "Let's implement one. The encoder will consist in a stack of `Conv2D` and `MaxPooling2D` layers (max pooling being used for spatial down-sampling), while the decoder will consist in a stack of `Conv2D` and `UpSampling2D` layers.\n",
    "\n",
    "The encoder part of the network will be a typical convolutional pyramid. Each convolutional layer will be followed by a max-pooling layer to reduce the dimensions of the layers. The decoder needs to convert from a narrow representation to a wide reconstructed image. For example, the representation could be a 4x4x8 max-pool layer. This is the output of the encoder, but also the input to the decoder. We want to get a 28x28x1 image out from the decoder so we need to work our way back up from the narrow decoder input layer. A schematic of the network is shown below.\n",
    "\n",
    "<img src='assets/convolutional_autoencoder.png' width=500px>\n",
    "\n",
    "Here our final encoder layer has size 4x4x8 = 128. The original images have size 28x28 = 784, so the encoded vector is roughly 16% the size of the original image."
   ]
  },
  {
   "cell_type": "code",
   "execution_count": 14,
   "metadata": {
    "collapsed": true
   },
   "outputs": [],
   "source": [
    "from keras.layers import Input, Dense, Conv2D, MaxPooling2D, UpSampling2D\n",
    "from keras.models import Model\n",
    "from keras import backend as K\n",
    "\n",
    "input_img = Input(shape=(28, 28, 1))  # adapt this if using `channels_first` image data format\n",
    "# Now 28x28x1\n",
    "\n",
    "x = Conv2D(16, (3, 3), activation='relu', padding='same')(input_img)\n",
    "# Now 28x28x16\n",
    "x = MaxPooling2D((2, 2), padding='same')(x)\n",
    "# Now 14x14x16\n",
    "x = Conv2D(8, (3, 3), activation='relu', padding='same')(x)\n",
    "# Now 14x14x8\n",
    "x = MaxPooling2D((2, 2), padding='same')(x)\n",
    "# Now 7x7x8\n",
    "x = Conv2D(8, (3, 3), activation='relu', padding='same')(x)\n",
    "# Now 7x7x8\n",
    "encoded = MaxPooling2D((2, 2), padding='same')(x)\n",
    "# Now 4x4x8\n",
    "\n",
    "# at this point the representation is (4, 4, 8) i.e. 128-dimensional\n",
    "\n",
    "x = Conv2D(8, (3, 3), activation='relu', padding='same')(encoded)\n",
    "# Now 4x4x8\n",
    "x = UpSampling2D((2, 2))(x)\n",
    "# Now 8x8x8\n",
    "x = Conv2D(8, (3, 3), activation='relu', padding='same')(x)\n",
    "# Now 8x8x8\n",
    "x = UpSampling2D((2, 2))(x)\n",
    "# Now 16x16x8\n",
    "x = Conv2D(16, (3, 3), activation='relu')(x)\n",
    "# Now 14x14x16\n",
    "x = UpSampling2D((2, 2))(x)\n",
    "# Now 28x28x16\n",
    "decoded = Conv2D(1, (3, 3), activation='sigmoid', padding='same')(x)\n",
    "# Now 28x28x1\n",
    "\n",
    "autoencoder = Model(input_img, decoded)"
   ]
  },
  {
   "cell_type": "raw",
   "metadata": {},
   "source": [
    "from keras.layers import Input, Dense, Conv2D, MaxPooling2D, UpSampling2D\n",
    "from keras.models import Model\n",
    "from keras import backend as K\n",
    "\n",
    "input_img = Input(shape=(28, 28, 1))  # adapt this if using `channels_first` image data format\n",
    "# Now 28x28x1\n",
    "\n",
    "x = Conv2D(16, (3, 3), activation='relu', padding='same')(input_img)\n",
    "# Now 28x28x16\n",
    "x = MaxPooling2D((2, 2), padding='same')(x)\n",
    "# Now 14x14x16\n",
    "x = Conv2D(8, (3, 3), activation='relu', padding='same')(x)\n",
    "# Now 14x14x8\n",
    "x = MaxPooling2D((2, 2), padding='same')(x)\n",
    "# Now 7x7x8\n",
    "x = Conv2D(8, (3, 3), activation='relu', padding='same')(x)\n",
    "# Now 7x7x8\n",
    "encoded = MaxPooling2D((2, 2), padding='same')(x)\n",
    "# Now 4x4x8\n",
    "\n",
    "# at this point the representation is (4, 4, 16) i.e. 256-dimensional\n",
    "\n",
    "x = UpSampling2D((2, 2))(encoded)\n",
    "# Now 8x8x8\n",
    "x = Conv2D(8, (3, 3), activation='relu', padding='same')(x)\n",
    "# Now 8x8x8\n",
    "x = UpSampling2D((2, 2))(x)\n",
    "# Now 16x16x8\n",
    "x = Conv2D(8, (3, 3), activation='relu', padding='same')(x)\n",
    "# Now 16x16x8\n",
    "x = UpSampling2D((2, 2))(x)\n",
    "# Now 32x32x8\n",
    "x = Conv2D(16, (3, 3), activation='relu')(x)\n",
    "# Now 30x30x16\n",
    "x = Conv2D(32, (3, 3), activation='relu')(x)\n",
    "# Now 28x28x16\n",
    "decoded = Conv2D(1, (3, 3), activation='sigmoid', padding='same')(x)\n",
    "# Now 28x28x1\n",
    "\n",
    "autoencoder = Model(input_img, decoded)"
   ]
  },
  {
   "cell_type": "code",
   "execution_count": 15,
   "metadata": {},
   "outputs": [
    {
     "name": "stdout",
     "output_type": "stream",
     "text": [
      "_________________________________________________________________\n",
      "Layer (type)                 Output Shape              Param #   \n",
      "=================================================================\n",
      "input_3 (InputLayer)         (None, 28, 28, 1)         0         \n",
      "_________________________________________________________________\n",
      "conv2d_1 (Conv2D)            (None, 28, 28, 16)        160       \n",
      "_________________________________________________________________\n",
      "max_pooling2d_1 (MaxPooling2 (None, 14, 14, 16)        0         \n",
      "_________________________________________________________________\n",
      "conv2d_2 (Conv2D)            (None, 14, 14, 8)         1160      \n",
      "_________________________________________________________________\n",
      "max_pooling2d_2 (MaxPooling2 (None, 7, 7, 8)           0         \n",
      "_________________________________________________________________\n",
      "conv2d_3 (Conv2D)            (None, 7, 7, 8)           584       \n",
      "_________________________________________________________________\n",
      "max_pooling2d_3 (MaxPooling2 (None, 4, 4, 8)           0         \n",
      "_________________________________________________________________\n",
      "conv2d_4 (Conv2D)            (None, 4, 4, 8)           584       \n",
      "_________________________________________________________________\n",
      "up_sampling2d_1 (UpSampling2 (None, 8, 8, 8)           0         \n",
      "_________________________________________________________________\n",
      "conv2d_5 (Conv2D)            (None, 8, 8, 8)           584       \n",
      "_________________________________________________________________\n",
      "up_sampling2d_2 (UpSampling2 (None, 16, 16, 8)         0         \n",
      "_________________________________________________________________\n",
      "conv2d_6 (Conv2D)            (None, 14, 14, 16)        1168      \n",
      "_________________________________________________________________\n",
      "up_sampling2d_3 (UpSampling2 (None, 28, 28, 16)        0         \n",
      "_________________________________________________________________\n",
      "conv2d_7 (Conv2D)            (None, 28, 28, 1)         145       \n",
      "=================================================================\n",
      "Total params: 4,385\n",
      "Trainable params: 4,385\n",
      "Non-trainable params: 0\n",
      "_________________________________________________________________\n",
      "None\n"
     ]
    }
   ],
   "source": [
    "print(autoencoder.summary())"
   ]
  },
  {
   "cell_type": "code",
   "execution_count": 16,
   "metadata": {
    "collapsed": true
   },
   "outputs": [],
   "source": [
    "autoencoder.compile(optimizer='adadelta', loss='binary_crossentropy')"
   ]
  },
  {
   "cell_type": "code",
   "execution_count": 17,
   "metadata": {
    "collapsed": true
   },
   "outputs": [],
   "source": [
    "from keras.datasets import mnist\n",
    "import numpy as np\n",
    "\n",
    "(x_train, _), (x_test, _) = mnist.load_data()\n",
    "\n",
    "x_train = x_train.astype('float32') / 255.\n",
    "x_test = x_test.astype('float32') / 255.\n",
    "x_train = np.reshape(x_train, (len(x_train), 28, 28, 1))\n",
    "x_test = np.reshape(x_test, (len(x_test), 28, 28, 1))"
   ]
  },
  {
   "cell_type": "code",
   "execution_count": 18,
   "metadata": {},
   "outputs": [
    {
     "name": "stdout",
     "output_type": "stream",
     "text": [
      "Train on 60000 samples, validate on 10000 samples\n",
      "Epoch 1/50\n",
      "60000/60000 [==============================] - 18s - loss: 0.2285 - val_loss: 0.1822\n",
      "Epoch 2/50\n",
      "60000/60000 [==============================] - 15s - loss: 0.1690 - val_loss: 0.1618\n",
      "Epoch 3/50\n",
      "60000/60000 [==============================] - 15s - loss: 0.1524 - val_loss: 0.1491\n",
      "Epoch 4/50\n",
      "60000/60000 [==============================] - 14s - loss: 0.1435 - val_loss: 0.1390\n",
      "Epoch 5/50\n",
      "60000/60000 [==============================] - 14s - loss: 0.1378 - val_loss: 0.1330\n",
      "Epoch 6/50\n",
      "60000/60000 [==============================] - 14s - loss: 0.1334 - val_loss: 0.1302\n",
      "Epoch 7/50\n",
      "60000/60000 [==============================] - 14s - loss: 0.1297 - val_loss: 0.1265\n",
      "Epoch 8/50\n",
      "60000/60000 [==============================] - 14s - loss: 0.1272 - val_loss: 0.1235\n",
      "Epoch 9/50\n",
      "60000/60000 [==============================] - 14s - loss: 0.1250 - val_loss: 0.1228\n",
      "Epoch 10/50\n",
      "60000/60000 [==============================] - 14s - loss: 0.1236 - val_loss: 0.1250\n",
      "Epoch 11/50\n",
      "60000/60000 [==============================] - 14s - loss: 0.1215 - val_loss: 0.1242\n",
      "Epoch 12/50\n",
      "60000/60000 [==============================] - 14s - loss: 0.1201 - val_loss: 0.1169\n",
      "Epoch 13/50\n",
      "60000/60000 [==============================] - 14s - loss: 0.1189 - val_loss: 0.1146\n",
      "Epoch 14/50\n",
      "60000/60000 [==============================] - 14s - loss: 0.1176 - val_loss: 0.1150\n",
      "Epoch 15/50\n",
      "60000/60000 [==============================] - 14s - loss: 0.1168 - val_loss: 0.1141\n",
      "Epoch 16/50\n",
      "60000/60000 [==============================] - 14s - loss: 0.1168 - val_loss: 0.1157\n",
      "Epoch 17/50\n",
      "60000/60000 [==============================] - 14s - loss: 0.1159 - val_loss: 0.1160\n",
      "Epoch 18/50\n",
      "60000/60000 [==============================] - 14s - loss: 0.1152 - val_loss: 0.1124\n",
      "Epoch 19/50\n",
      "60000/60000 [==============================] - 14s - loss: 0.1143 - val_loss: 0.1122\n",
      "Epoch 20/50\n",
      "60000/60000 [==============================] - 14s - loss: 0.1140 - val_loss: 0.1147\n",
      "Epoch 21/50\n",
      "60000/60000 [==============================] - 14s - loss: 0.1137 - val_loss: 0.1159\n",
      "Epoch 22/50\n",
      "60000/60000 [==============================] - 14s - loss: 0.1129 - val_loss: 0.1126\n",
      "Epoch 23/50\n",
      "60000/60000 [==============================] - 14s - loss: 0.1123 - val_loss: 0.1087\n",
      "Epoch 24/50\n",
      "60000/60000 [==============================] - 14s - loss: 0.1118 - val_loss: 0.1120\n",
      "Epoch 25/50\n",
      "60000/60000 [==============================] - 14s - loss: 0.1117 - val_loss: 0.1098\n",
      "Epoch 26/50\n",
      "60000/60000 [==============================] - 14s - loss: 0.1108 - val_loss: 0.1082\n",
      "Epoch 27/50\n",
      "60000/60000 [==============================] - 14s - loss: 0.1105 - val_loss: 0.1095\n",
      "Epoch 28/50\n",
      "60000/60000 [==============================] - 15s - loss: 0.1098 - val_loss: 0.1089\n",
      "Epoch 29/50\n",
      "60000/60000 [==============================] - 15s - loss: 0.1094 - val_loss: 0.1071\n",
      "Epoch 30/50\n",
      "60000/60000 [==============================] - 15s - loss: 0.1093 - val_loss: 0.1094\n",
      "Epoch 31/50\n",
      "60000/60000 [==============================] - 15s - loss: 0.1089 - val_loss: 0.1077\n",
      "Epoch 32/50\n",
      "60000/60000 [==============================] - 15s - loss: 0.1087 - val_loss: 0.1082\n",
      "Epoch 33/50\n",
      "60000/60000 [==============================] - 15s - loss: 0.1085 - val_loss: 0.1061\n",
      "Epoch 34/50\n",
      "60000/60000 [==============================] - 15s - loss: 0.1081 - val_loss: 0.1060\n",
      "Epoch 35/50\n",
      "60000/60000 [==============================] - 15s - loss: 0.1079 - val_loss: 0.1069\n",
      "Epoch 36/50\n",
      "60000/60000 [==============================] - 15s - loss: 0.1075 - val_loss: 0.1087\n",
      "Epoch 37/50\n",
      "60000/60000 [==============================] - 15s - loss: 0.1074 - val_loss: 0.1050\n",
      "Epoch 38/50\n",
      "60000/60000 [==============================] - 15s - loss: 0.1069 - val_loss: 0.1065\n",
      "Epoch 39/50\n",
      "60000/60000 [==============================] - 15s - loss: 0.1067 - val_loss: 0.1050\n",
      "Epoch 40/50\n",
      "60000/60000 [==============================] - 15s - loss: 0.1062 - val_loss: 0.1048\n",
      "Epoch 41/50\n",
      "60000/60000 [==============================] - 15s - loss: 0.1061 - val_loss: 0.1026\n",
      "Epoch 42/50\n",
      "60000/60000 [==============================] - 15s - loss: 0.1057 - val_loss: 0.1057\n",
      "Epoch 43/50\n",
      "60000/60000 [==============================] - 15s - loss: 0.1060 - val_loss: 0.1049\n",
      "Epoch 44/50\n",
      "60000/60000 [==============================] - 15s - loss: 0.1054 - val_loss: 0.1062\n",
      "Epoch 45/50\n",
      "60000/60000 [==============================] - 15s - loss: 0.1052 - val_loss: 0.1029\n",
      "Epoch 46/50\n",
      "60000/60000 [==============================] - 15s - loss: 0.1050 - val_loss: 0.1052s: 0\n",
      "Epoch 47/50\n",
      "60000/60000 [==============================] - 15s - loss: 0.1044 - val_loss: 0.1028s: 0 - ETA: 0s - loss: 0.104 - ETA: 0s - loss: 0.104\n",
      "Epoch 48/50\n",
      "60000/60000 [==============================] - 15s - loss: 0.1040 - val_loss: 0.1035\n",
      "Epoch 49/50\n",
      "60000/60000 [==============================] - 15s - loss: 0.1037 - val_loss: 0.1022\n",
      "Epoch 50/50\n",
      "60000/60000 [==============================] - 15s - loss: 0.1032 - val_loss: 0.1018\n"
     ]
    }
   ],
   "source": [
    "_ = autoencoder.fit(x_train, x_train,\n",
    "                epochs=50,\n",
    "                batch_size=128,\n",
    "                shuffle=True,\n",
    "                validation_data=(x_test, x_test))"
   ]
  },
  {
   "cell_type": "markdown",
   "metadata": {},
   "source": [
    "In the Keras blog the model converges to a loss of 0.094, significantly better than our previous models (this is in large part due to the higher entropic capacity of the encoded representation, 128 dimensions vs. 32 previously). Let's take a look at the reconstructed digits:"
   ]
  },
  {
   "cell_type": "code",
   "execution_count": 19,
   "metadata": {},
   "outputs": [
    {
     "data": {
      "image/png": "[encoded data removed]",
      "text/plain": [
       "<matplotlib.figure.Figure at 0x1c97fbbe940>"
      ]
     },
     "metadata": {},
     "output_type": "display_data"
    }
   ],
   "source": [
    "import matplotlib.pyplot as plt\n",
    "%matplotlib inline \n",
    "fig, axes = plt.subplots(nrows=2, ncols=10, sharex=True, sharey=True, figsize=(20,4))\n",
    "in_imgs = x_test[:10]\n",
    "reconstructed = autoencoder.predict(x_test)\n",
    "\n",
    "for images, row in zip([in_imgs, reconstructed], axes):\n",
    "    for img, ax in zip(images, row):\n",
    "        ax.imshow(img.reshape((28, 28)), cmap='Greys_r')\n",
    "        ax.get_xaxis().set_visible(False)\n",
    "        ax.get_yaxis().set_visible(False)\n",
    "\n",
    "fig.tight_layout(pad=0.1)"
   ]
  },
  {
   "cell_type": "markdown",
   "metadata": {},
   "source": [
    "## Application to Image Denoising\n",
    "\n",
    "Autoencoders like the ones we've built so far aren't too useful in practive. However, they can be used to denoise images quite successfully just by training the network on noisy images. We can create the noisy images ourselves by adding Gaussian noise to the training images, then clipping the values to be between 0 and 1. We'll use noisy images as input and the original, clean images as targets. Here's an example of the noisy images generated and the denoised images."
   ]
  },
  {
   "cell_type": "code",
   "execution_count": 20,
   "metadata": {
    "collapsed": true
   },
   "outputs": [],
   "source": [
    "from keras.datasets import mnist\n",
    "import numpy as np\n",
    "\n",
    "(x_train, _), (x_test, _) = mnist.load_data()\n",
    "\n",
    "x_train = x_train.astype('float32') / 255.\n",
    "x_test = x_test.astype('float32') / 255.\n",
    "x_train = np.reshape(x_train, (len(x_train), 28, 28, 1))  # adapt this if using `channels_first` image data format\n",
    "x_test = np.reshape(x_test, (len(x_test), 28, 28, 1))  # adapt this if using `channels_first` image data format\n",
    "\n",
    "noise_factor = 0.5\n",
    "x_train_noisy = x_train + noise_factor * np.random.normal(loc=0.0, scale=1.0, size=x_train.shape) \n",
    "x_test_noisy = x_test + noise_factor * np.random.normal(loc=0.0, scale=1.0, size=x_test.shape) \n",
    "\n",
    "x_train_noisy = np.clip(x_train_noisy, 0., 1.) # random noise may introduce values < 0 or > 1, so clip\n",
    "x_test_noisy = np.clip(x_test_noisy, 0., 1.)"
   ]
  },
  {
   "cell_type": "code",
   "execution_count": 21,
   "metadata": {},
   "outputs": [
    {
     "data": {
      "image/png": "[encoded data removed]",
      "text/plain": [
       "<matplotlib.figure.Figure at 0x1c8802a26d8>"
      ]
     },
     "metadata": {},
     "output_type": "display_data"
    }
   ],
   "source": [
    "fig, axes = plt.subplots(nrows=1, ncols=10, sharex=True, sharey=True, figsize=(20,2))\n",
    "in_imgs = x_test_noisy[:10]\n",
    "\n",
    "for img, ax in zip(in_imgs, axes):\n",
    "    ax.imshow(img.reshape((28, 28)), cmap='Greys_r')\n",
    "    ax.get_xaxis().set_visible(False)\n",
    "    ax.get_yaxis().set_visible(False)\n",
    "\n",
    "fig.tight_layout(pad=0.1)"
   ]
  },
  {
   "cell_type": "markdown",
   "metadata": {},
   "source": [
    "If we squint we can still recognize them, but barely. Can our autoencoder learn to recover the original digits? Let's find out.\n",
    "\n",
    "Compared to the previous convolutional autoencoder, in order to improve the quality of the reconstructed, we'll use a slightly different model with more filters per layer:"
   ]
  },
  {
   "cell_type": "code",
   "execution_count": 22,
   "metadata": {
    "collapsed": true
   },
   "outputs": [],
   "source": [
    "input_img = Input(shape=(28, 28, 1))  # adapt this if using `channels_first` image data format\n",
    "\n",
    "x = Conv2D(32, (3, 3), activation='relu', padding='same')(input_img)\n",
    "x = MaxPooling2D((2, 2), padding='same')(x)\n",
    "x = Conv2D(32, (3, 3), activation='relu', padding='same')(x)\n",
    "encoded = MaxPooling2D((2, 2), padding='same')(x)\n",
    "\n",
    "# at this point the representation is (7, 7, 32)\n",
    "\n",
    "x = Conv2D(32, (3, 3), activation='relu', padding='same')(encoded)\n",
    "x = UpSampling2D((2, 2))(x)\n",
    "x = Conv2D(32, (3, 3), activation='relu', padding='same')(x)\n",
    "x = UpSampling2D((2, 2))(x)\n",
    "decoded = Conv2D(1, (3, 3), activation='sigmoid', padding='same')(x)\n",
    "\n",
    "autoencoder = Model(input_img, decoded)"
   ]
  },
  {
   "cell_type": "code",
   "execution_count": 23,
   "metadata": {
    "collapsed": true
   },
   "outputs": [],
   "source": [
    "autoencoder.compile(optimizer='adadelta', loss='binary_crossentropy')"
   ]
  },
  {
   "cell_type": "code",
   "execution_count": 24,
   "metadata": {
    "scrolled": false
   },
   "outputs": [
    {
     "name": "stdout",
     "output_type": "stream",
     "text": [
      "Train on 60000 samples, validate on 10000 samples\n",
      "Epoch 1/100\n",
      "60000/60000 [==============================] - 22s - loss: 0.1959 - val_loss: 0.1315\n",
      "Epoch 2/100\n",
      "60000/60000 [==============================] - 21s - loss: 0.1249 - val_loss: 0.1164\n",
      "Epoch 3/100\n",
      "60000/60000 [==============================] - 21s - loss: 0.1157 - val_loss: 0.1103\n",
      "Epoch 4/100\n",
      "60000/60000 [==============================] - 21s - loss: 0.1115 - val_loss: 0.1080\n",
      "Epoch 5/100\n",
      "60000/60000 [==============================] - 21s - loss: 0.1089 - val_loss: 0.1082\n",
      "Epoch 6/100\n",
      "60000/60000 [==============================] - 21s - loss: 0.1068 - val_loss: 0.1040\n",
      "Epoch 7/100\n",
      "60000/60000 [==============================] - 21s - loss: 0.1053 - val_loss: 0.1029\n",
      "Epoch 8/100\n",
      "60000/60000 [==============================] - 21s - loss: 0.1041 - val_loss: 0.1020\n",
      "Epoch 9/100\n",
      "60000/60000 [==============================] - 21s - loss: 0.1032 - val_loss: 0.1015\n",
      "Epoch 10/100\n",
      "60000/60000 [==============================] - 21s - loss: 0.1025 - val_loss: 0.1008\n",
      "Epoch 11/100\n",
      "60000/60000 [==============================] - 21s - loss: 0.1019 - val_loss: 0.1003\n",
      "Epoch 12/100\n",
      "60000/60000 [==============================] - 21s - loss: 0.1013 - val_loss: 0.1009\n",
      "Epoch 13/100\n",
      "60000/60000 [==============================] - 21s - loss: 0.1010 - val_loss: 0.1016\n",
      "Epoch 14/100\n",
      "60000/60000 [==============================] - 21s - loss: 0.1005 - val_loss: 0.0994\n",
      "Epoch 15/100\n",
      "60000/60000 [==============================] - 21s - loss: 0.1001 - val_loss: 0.0988\n",
      "Epoch 16/100\n",
      "60000/60000 [==============================] - 21s - loss: 0.0998 - val_loss: 0.0993\n",
      "Epoch 17/100\n",
      "60000/60000 [==============================] - 21s - loss: 0.0995 - val_loss: 0.0987\n",
      "Epoch 18/100\n",
      "60000/60000 [==============================] - 21s - loss: 0.0993 - val_loss: 0.0982\n",
      "Epoch 19/100\n",
      "60000/60000 [==============================] - 21s - loss: 0.0990 - val_loss: 0.0989\n",
      "Epoch 20/100\n",
      "60000/60000 [==============================] - 21s - loss: 0.0988 - val_loss: 0.0978\n",
      "Epoch 21/100\n",
      "60000/60000 [==============================] - 21s - loss: 0.0986 - val_loss: 0.0978\n",
      "Epoch 22/100\n",
      "60000/60000 [==============================] - 21s - loss: 0.0983 - val_loss: 0.0975\n",
      "Epoch 23/100\n",
      "60000/60000 [==============================] - 21s - loss: 0.0983 - val_loss: 0.0972\n",
      "Epoch 24/100\n",
      "60000/60000 [==============================] - 21s - loss: 0.0981 - val_loss: 0.0974\n",
      "Epoch 25/100\n",
      "60000/60000 [==============================] - 21s - loss: 0.0979 - val_loss: 0.0969\n",
      "Epoch 26/100\n",
      "60000/60000 [==============================] - 21s - loss: 0.0978 - val_loss: 0.0977\n",
      "Epoch 27/100\n",
      "60000/60000 [==============================] - 21s - loss: 0.0978 - val_loss: 0.0965\n",
      "Epoch 28/100\n",
      "60000/60000 [==============================] - 21s - loss: 0.0975 - val_loss: 0.0964\n",
      "Epoch 29/100\n",
      "60000/60000 [==============================] - 21s - loss: 0.0973 - val_loss: 0.0965\n",
      "Epoch 30/100\n",
      "60000/60000 [==============================] - 21s - loss: 0.0972 - val_loss: 0.0970\n",
      "Epoch 31/100\n",
      "60000/60000 [==============================] - 21s - loss: 0.0972 - val_loss: 0.0961\n",
      "Epoch 32/100\n",
      "60000/60000 [==============================] - 21s - loss: 0.0970 - val_loss: 0.0967\n",
      "Epoch 33/100\n",
      "60000/60000 [==============================] - 21s - loss: 0.0969 - val_loss: 0.0961\n",
      "Epoch 34/100\n",
      "60000/60000 [==============================] - 21s - loss: 0.0969 - val_loss: 0.0959\n",
      "Epoch 35/100\n",
      "60000/60000 [==============================] - 21s - loss: 0.0967 - val_loss: 0.0960\n",
      "Epoch 36/100\n",
      "60000/60000 [==============================] - 21s - loss: 0.0967 - val_loss: 0.0958\n",
      "Epoch 37/100\n",
      "60000/60000 [==============================] - 21s - loss: 0.0965 - val_loss: 0.0957\n",
      "Epoch 38/100\n",
      "60000/60000 [==============================] - 21s - loss: 0.0965 - val_loss: 0.0961\n",
      "Epoch 39/100\n",
      "60000/60000 [==============================] - 21s - loss: 0.0964 - val_loss: 0.0955\n",
      "Epoch 40/100\n",
      "60000/60000 [==============================] - 21s - loss: 0.0963 - val_loss: 0.0967\n",
      "Epoch 41/100\n",
      "60000/60000 [==============================] - 21s - loss: 0.0962 - val_loss: 0.0961\n",
      "Epoch 42/100\n",
      "60000/60000 [==============================] - 21s - loss: 0.0962 - val_loss: 0.0965\n",
      "Epoch 43/100\n",
      "60000/60000 [==============================] - 21s - loss: 0.0961 - val_loss: 0.0956\n",
      "Epoch 44/100\n",
      "60000/60000 [==============================] - 21s - loss: 0.0960 - val_loss: 0.0956\n",
      "Epoch 45/100\n",
      "60000/60000 [==============================] - 21s - loss: 0.0960 - val_loss: 0.0953\n",
      "Epoch 46/100\n",
      "60000/60000 [==============================] - 21s - loss: 0.0959 - val_loss: 0.0956\n",
      "Epoch 47/100\n",
      "60000/60000 [==============================] - 21s - loss: 0.0959 - val_loss: 0.0951\n",
      "Epoch 48/100\n",
      "60000/60000 [==============================] - 21s - loss: 0.0958 - val_loss: 0.0951\n",
      "Epoch 49/100\n",
      "60000/60000 [==============================] - 21s - loss: 0.0958 - val_loss: 0.0951\n",
      "Epoch 50/100\n",
      "60000/60000 [==============================] - 21s - loss: 0.0957 - val_loss: 0.0950\n",
      "Epoch 51/100\n",
      "60000/60000 [==============================] - 21s - loss: 0.0957 - val_loss: 0.0949\n",
      "Epoch 52/100\n",
      "60000/60000 [==============================] - 21s - loss: 0.0956 - val_loss: 0.0950\n",
      "Epoch 53/100\n",
      "60000/60000 [==============================] - 21s - loss: 0.0956 - val_loss: 0.0949\n",
      "Epoch 54/100\n",
      "60000/60000 [==============================] - 21s - loss: 0.0956 - val_loss: 0.0951\n",
      "Epoch 55/100\n",
      "60000/60000 [==============================] - 21s - loss: 0.0956 - val_loss: 0.0950\n",
      "Epoch 56/100\n",
      "60000/60000 [==============================] - 21s - loss: 0.0955 - val_loss: 0.0957\n",
      "Epoch 57/100\n",
      "60000/60000 [==============================] - 21s - loss: 0.0955 - val_loss: 0.0947\n",
      "Epoch 58/100\n",
      "60000/60000 [==============================] - 21s - loss: 0.0954 - val_loss: 0.0946\n",
      "Epoch 59/100\n",
      "60000/60000 [==============================] - 21s - loss: 0.0954 - val_loss: 0.0952\n",
      "Epoch 60/100\n",
      "60000/60000 [==============================] - 21s - loss: 0.0953 - val_loss: 0.0948\n",
      "Epoch 61/100\n",
      "60000/60000 [==============================] - 21s - loss: 0.0952 - val_loss: 0.0952\n",
      "Epoch 62/100\n",
      "60000/60000 [==============================] - 21s - loss: 0.0952 - val_loss: 0.0946\n",
      "Epoch 63/100\n",
      "60000/60000 [==============================] - 21s - loss: 0.0952 - val_loss: 0.0947\n",
      "Epoch 64/100\n",
      "60000/60000 [==============================] - 21s - loss: 0.0951 - val_loss: 0.0946\n",
      "Epoch 65/100\n",
      "60000/60000 [==============================] - 21s - loss: 0.0951 - val_loss: 0.0945\n",
      "Epoch 66/100\n",
      "60000/60000 [==============================] - 21s - loss: 0.0950 - val_loss: 0.0946\n",
      "Epoch 67/100\n",
      "60000/60000 [==============================] - 21s - loss: 0.0951 - val_loss: 0.0945\n",
      "Epoch 68/100\n",
      "60000/60000 [==============================] - 21s - loss: 0.0952 - val_loss: 0.0952\n",
      "Epoch 69/100\n",
      "60000/60000 [==============================] - 21s - loss: 0.0950 - val_loss: 0.0943\n",
      "Epoch 70/100\n",
      "60000/60000 [==============================] - 21s - loss: 0.0950 - val_loss: 0.0950\n",
      "Epoch 71/100\n",
      "60000/60000 [==============================] - 21s - loss: 0.0949 - val_loss: 0.0945\n",
      "Epoch 72/100\n",
      "60000/60000 [==============================] - 21s - loss: 0.0949 - val_loss: 0.0958\n",
      "Epoch 73/100\n",
      "60000/60000 [==============================] - 21s - loss: 0.0948 - val_loss: 0.0943\n",
      "Epoch 74/100\n",
      "60000/60000 [==============================] - 21s - loss: 0.0948 - val_loss: 0.0943\n",
      "Epoch 75/100\n",
      "60000/60000 [==============================] - 21s - loss: 0.0948 - val_loss: 0.0943\n",
      "Epoch 76/100\n",
      "60000/60000 [==============================] - 21s - loss: 0.0948 - val_loss: 0.0943\n",
      "Epoch 77/100\n",
      "60000/60000 [==============================] - 21s - loss: 0.0948 - val_loss: 0.0943\n",
      "Epoch 78/100\n",
      "60000/60000 [==============================] - 21s - loss: 0.0948 - val_loss: 0.0944\n",
      "Epoch 79/100\n",
      "60000/60000 [==============================] - 21s - loss: 0.0947 - val_loss: 0.0942\n",
      "Epoch 80/100\n",
      "60000/60000 [==============================] - 21s - loss: 0.0947 - val_loss: 0.0942\n",
      "Epoch 81/100\n",
      "60000/60000 [==============================] - 21s - loss: 0.0947 - val_loss: 0.0947\n",
      "Epoch 82/100\n",
      "60000/60000 [==============================] - 21s - loss: 0.0946 - val_loss: 0.0941\n",
      "Epoch 83/100\n",
      "60000/60000 [==============================] - 21s - loss: 0.0946 - val_loss: 0.0942\n",
      "Epoch 84/100\n",
      "60000/60000 [==============================] - 21s - loss: 0.0946 - val_loss: 0.0946\n",
      "Epoch 85/100\n",
      "60000/60000 [==============================] - 21s - loss: 0.0946 - val_loss: 0.0944\n",
      "Epoch 86/100\n",
      "60000/60000 [==============================] - 21s - loss: 0.0945 - val_loss: 0.0942\n",
      "Epoch 87/100\n",
      "60000/60000 [==============================] - 21s - loss: 0.0946 - val_loss: 0.0939\n",
      "Epoch 88/100\n",
      "60000/60000 [==============================] - 21s - loss: 0.0946 - val_loss: 0.0944\n",
      "Epoch 89/100\n",
      "60000/60000 [==============================] - 21s - loss: 0.0945 - val_loss: 0.0939\n",
      "Epoch 90/100\n",
      "60000/60000 [==============================] - 21s - loss: 0.0944 - val_loss: 0.0940\n",
      "Epoch 91/100\n",
      "60000/60000 [==============================] - 21s - loss: 0.0944 - val_loss: 0.0939\n",
      "Epoch 92/100\n",
      "60000/60000 [==============================] - 21s - loss: 0.0944 - val_loss: 0.0948\n",
      "Epoch 93/100\n",
      "60000/60000 [==============================] - 21s - loss: 0.0944 - val_loss: 0.0942\n",
      "Epoch 94/100\n",
      "60000/60000 [==============================] - 21s - loss: 0.0944 - val_loss: 0.0942\n",
      "Epoch 95/100\n",
      "60000/60000 [==============================] - 21s - loss: 0.0944 - val_loss: 0.0939\n",
      "Epoch 96/100\n",
      "60000/60000 [==============================] - 21s - loss: 0.0943 - val_loss: 0.0939\n",
      "Epoch 97/100\n",
      "60000/60000 [==============================] - 21s - loss: 0.0944 - val_loss: 0.0939\n",
      "Epoch 98/100\n",
      "60000/60000 [==============================] - 21s - loss: 0.0944 - val_loss: 0.0938\n",
      "Epoch 99/100\n",
      "60000/60000 [==============================] - 21s - loss: 0.0943 - val_loss: 0.0938\n",
      "Epoch 100/100\n",
      "60000/60000 [==============================] - 21s - loss: 0.0943 - val_loss: 0.0938\n"
     ]
    }
   ],
   "source": [
    "_ = autoencoder.fit(x_train_noisy, x_train,\n",
    "                epochs=100,\n",
    "                batch_size=128,\n",
    "                shuffle=True,\n",
    "                validation_data=(x_test_noisy, x_test))"
   ]
  },
  {
   "cell_type": "markdown",
   "metadata": {},
   "source": [
    "It seems to work pretty well after adding noise to the test images and passing them through the autoencoder. It does a suprising great job of removing the noise, even though it's sometimes difficult to tell what the original number is."
   ]
  },
  {
   "cell_type": "code",
   "execution_count": 25,
   "metadata": {},
   "outputs": [
    {
     "data": {
      "image/png": "[encoded data removed]",
      "text/plain": [
       "<matplotlib.figure.Figure at 0x1c8ecf12588>"
      ]
     },
     "metadata": {},
     "output_type": "display_data"
    }
   ],
   "source": [
    "fig, axes = plt.subplots(nrows=2, ncols=10, sharex=True, sharey=True, figsize=(20,4))\n",
    "in_imgs = x_test_noisy[:10]\n",
    "reconstructed = autoencoder.predict(x_test_noisy)\n",
    "\n",
    "for images, row in zip([in_imgs, reconstructed], axes):\n",
    "    for img, ax in zip(images, row):\n",
    "        ax.imshow(img.reshape((28, 28)), cmap='Greys_r')\n",
    "        ax.get_xaxis().set_visible(False)\n",
    "        ax.get_yaxis().set_visible(False)\n",
    "\n",
    "fig.tight_layout(pad=0.1)"
   ]
  },
  {
   "cell_type": "code",
   "execution_count": null,
   "metadata": {
    "collapsed": true
   },
   "outputs": [],
   "source": []
  }
 ],
 "metadata": {
  "kernelspec": {
   "display_name": "Python 3",
   "language": "python",
   "name": "python3"
  },
  "language_info": {
   "codemirror_mode": {
    "name": "ipython",
    "version": 3
   },
   "file_extension": ".py",
   "mimetype": "text/x-python",
   "name": "python",
   "nbconvert_exporter": "python",
   "pygments_lexer": "ipython3",
   "version": "3.5.3"
  }
 },
 "nbformat": 4,
 "nbformat_minor": 2
}
